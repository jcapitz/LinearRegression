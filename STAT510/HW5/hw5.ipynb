{
 "cells": [
  {
   "cell_type": "markdown",
   "metadata": {},
   "source": [
    "# Juan Carlos Apitz\n",
    "# STAT510 Homework 5"
   ]
  },
  {
   "cell_type": "markdown",
   "metadata": {},
   "source": [
    "## 1. The Two Sample Problem\n",
    "\n",
    "#### For this problem we have a model:\n",
    "\n",
    "$$Y = Xb+\\epsilon$$\n",
    "\n",
    "#### Where:\n",
    "\n",
    "$$\n",
    "Y =\n",
    "\\begin{pmatrix}\n",
    "Y_1\\\\\n",
    "\\vdots\\\\\n",
    "Y_m\\\\\n",
    "Y_{m+1}\\\\\n",
    "\\vdots\\\\\n",
    "Y_{m+n}\n",
    "\\end{pmatrix}\n",
    ",\\ \\ X =\n",
    "\\begin{pmatrix}\n",
    "1 & 0\\\\\n",
    "\\vdots & \\vdots\\\\\n",
    "1 & 0\\\\\n",
    "0 & 1\\\\\n",
    "\\vdots & \\vdots\\\\\n",
    "0 & 1\n",
    "\\end{pmatrix}\n",
    ",\\ \\ b =\n",
    "\\begin{pmatrix}\n",
    "b_1\\\\\n",
    "b_2\n",
    "\\end{pmatrix}\n",
    "$$\n",
    "\n",
    "#### Then we can calculate:\n",
    "\n",
    "$$\n",
    "\\left(X^T X\\right)^{-1} =\n",
    "\\begin{pmatrix}\n",
    "\\frac{1}{m} & 0\\\\\n",
    "0 & \\frac{1}{n}\n",
    "\\end{pmatrix}\n",
    "$$\n",
    "\n",
    "#### Thus b is given by:\n",
    "\n",
    "$$\n",
    "b = \\left(X^T X\\right)^{-1} X^T Y =\n",
    "\\begin{pmatrix}\n",
    "\\frac{1}{m}\\sum_{i=1}^m Y_i\\\\\n",
    "\\frac{1}{n}\\sum_{i=1}^n Y_i\n",
    "\\end{pmatrix}\n",
    "$$\n",
    "\n",
    "#### Now calculate $V\\left(b\\right)$:\n",
    "\n",
    "$$\n",
    "V\\left(b\\right) = \\left(X^T X\\right)^{-1} \\sigma^2 =\n",
    "\\begin{pmatrix}\n",
    "\\frac{\\sigma^2}{m} & 0\\\\\n",
    "0 & \\frac{\\sigma^2}{n}\n",
    "\\end{pmatrix}\n",
    "$$"
   ]
  },
  {
   "cell_type": "markdown",
   "metadata": {},
   "source": [
    "## Python Conquers the Universe"
   ]
  },
  {
   "cell_type": "code",
   "execution_count": 1,
   "metadata": {
    "collapsed": true
   },
   "outputs": [],
   "source": [
    "#PANDAS\n",
    "import pandas as pd\n",
    "from pandas import DataFrame, Series\n",
    "\n",
    "#NUMPY\n",
    "import numpy as np\n",
    "\n",
    "#SCIPY t and F distributions\n",
    "from scipy.stats import t\n",
    "from scipy.stats import f\n",
    "from scipy.stats import norm\n",
    "from scipy.stats import chi2\n",
    "from scipy.stats import probplot\n",
    "\n",
    "#STATMODELS\n",
    "import statsmodels.api as sm\n",
    "from statsmodels.formula.api import ols\n",
    "\n",
    "#SEABORN plotting\n",
    "import seaborn as sns\n",
    "\n",
    "#MATPLOTLIB plotting\n",
    "import matplotlib.pyplot as plt\n",
    "%matplotlib inline"
   ]
  },
  {
   "cell_type": "markdown",
   "metadata": {},
   "source": [
    "## 2. Problems"
   ]
  },
  {
   "cell_type": "markdown",
   "metadata": {},
   "source": [
    "## 8.4"
   ]
  },
  {
   "cell_type": "code",
   "execution_count": 2,
   "metadata": {
    "collapsed": false
   },
   "outputs": [
    {
     "data": {
      "text/html": [
       "<div>\n",
       "<table border=\"1\" class=\"dataframe\">\n",
       "  <thead>\n",
       "    <tr style=\"text-align: right;\">\n",
       "      <th></th>\n",
       "      <th>Y</th>\n",
       "      <th>X</th>\n",
       "      <th>Xsq</th>\n",
       "      <th>x</th>\n",
       "      <th>xsq</th>\n",
       "    </tr>\n",
       "  </thead>\n",
       "  <tbody>\n",
       "    <tr>\n",
       "      <th>0</th>\n",
       "      <td>106</td>\n",
       "      <td>43</td>\n",
       "      <td>1849</td>\n",
       "      <td>-16.983333</td>\n",
       "      <td>288.433611</td>\n",
       "    </tr>\n",
       "    <tr>\n",
       "      <th>1</th>\n",
       "      <td>106</td>\n",
       "      <td>41</td>\n",
       "      <td>1681</td>\n",
       "      <td>-18.983333</td>\n",
       "      <td>360.366944</td>\n",
       "    </tr>\n",
       "    <tr>\n",
       "      <th>2</th>\n",
       "      <td>97</td>\n",
       "      <td>47</td>\n",
       "      <td>2209</td>\n",
       "      <td>-12.983333</td>\n",
       "      <td>168.566944</td>\n",
       "    </tr>\n",
       "    <tr>\n",
       "      <th>3</th>\n",
       "      <td>113</td>\n",
       "      <td>46</td>\n",
       "      <td>2116</td>\n",
       "      <td>-13.983333</td>\n",
       "      <td>195.533611</td>\n",
       "    </tr>\n",
       "    <tr>\n",
       "      <th>4</th>\n",
       "      <td>96</td>\n",
       "      <td>45</td>\n",
       "      <td>2025</td>\n",
       "      <td>-14.983333</td>\n",
       "      <td>224.500278</td>\n",
       "    </tr>\n",
       "  </tbody>\n",
       "</table>\n",
       "</div>"
      ],
      "text/plain": [
       "     Y   X   Xsq          x         xsq\n",
       "0  106  43  1849 -16.983333  288.433611\n",
       "1  106  41  1681 -18.983333  360.366944\n",
       "2   97  47  2209 -12.983333  168.566944\n",
       "3  113  46  2116 -13.983333  195.533611\n",
       "4   96  45  2025 -14.983333  224.500278"
      ]
     },
     "execution_count": 2,
     "metadata": {},
     "output_type": "execute_result"
    }
   ],
   "source": [
    "filename = '~/Documents/LinearRegression/STAT510/Kutner/CH1DS/CH01PR27.txt'\n",
    "\n",
    "muscle = pd.read_table(filename, delim_whitespace=True, names=['Y','X'])\n",
    "Xbar = np.mean(muscle['X'])\n",
    "muscle['Xsq'] = muscle['X']**2\n",
    "muscle['x'] = muscle['X']-Xbar\n",
    "muscle['xsq'] = muscle['x']**2\n",
    "muscle.head()"
   ]
  },
  {
   "cell_type": "markdown",
   "metadata": {},
   "source": [
    "### a.\n",
    "\n",
    "The model is $Y = \\beta_0 + \\beta_1 x +\\beta_2 x^2 + \\epsilon$"
   ]
  },
  {
   "cell_type": "code",
   "execution_count": 3,
   "metadata": {
    "collapsed": false
   },
   "outputs": [
    {
     "name": "stdout",
     "output_type": "stream",
     "text": [
      "Intercept    82.935749\n",
      "x            -1.183958\n",
      "xsq           0.014840\n",
      "dtype: float64\n",
      "\n",
      "R squared: 0.763\n"
     ]
    }
   ],
   "source": [
    "model = ols(formula=\"Y ~ x + xsq\", data=muscle).fit()\n",
    "b0 = model.params[0]\n",
    "b1 = model.params[1]\n",
    "b2 = model.params[2]\n",
    "\n",
    "print model.params\n",
    "print ''\n",
    "print 'R squared: %0.3f' %model.rsquared"
   ]
  },
  {
   "cell_type": "markdown",
   "metadata": {},
   "source": [
    "#### The regression function is:\n",
    "\n",
    "$$\\hat{Y} = 82.9357 - 1.184 x +0.015 x^2$$"
   ]
  },
  {
   "cell_type": "markdown",
   "metadata": {},
   "source": [
    "#### Regression plot:"
   ]
  },
  {
   "cell_type": "code",
   "execution_count": 4,
   "metadata": {
    "collapsed": false
   },
   "outputs": [
    {
     "data": {
      "image/png": "[encoded data removed]",
      "text/plain": [
       "<matplotlib.figure.Figure at 0x7f2cdeacb210>"
      ]
     },
     "metadata": {},
     "output_type": "display_data"
    }
   ],
   "source": [
    "plt.plot(muscle['x'],model.predict())\n",
    "plt.scatter(muscle['x'],muscle['Y'])\n",
    "plt.title('Regression Plot', fontsize = 13)\n",
    "plt.ylabel('muscle mass')\n",
    "plt.xlabel('centered age')\n",
    "plt.text(3,105,r'$R^2 = 0.763$',fontsize = 14)\n",
    "plt.show()"
   ]
  },
  {
   "cell_type": "markdown",
   "metadata": {},
   "source": [
    "Based on the regression plot and a $R^2 = 0.763$, we can conclude that the model appears to be a good fit for the data."
   ]
  },
  {
   "cell_type": "markdown",
   "metadata": {},
   "source": [
    "### b.\n",
    "\n",
    "Test the following hypothesis:\n",
    "$$H_o: \\beta_1 = \\beta_2 = 0$$\n",
    "$$H_a: \\text{at least one } \\beta_i \\neq 0$$\n",
    "\n",
    "The p-value corresponding to the F-statistic  from the model is:"
   ]
  },
  {
   "cell_type": "code",
   "execution_count": 5,
   "metadata": {
    "collapsed": false
   },
   "outputs": [
    {
     "name": "stdout",
     "output_type": "stream",
     "text": [
      "0.000000000000000001\n"
     ]
    }
   ],
   "source": [
    "print '%0.18f' %model.f_pvalue"
   ]
  },
  {
   "cell_type": "markdown",
   "metadata": {},
   "source": [
    "Given that this p-value is basically zero, we reject $H_0$ and conclude that there exist a regression relation given $\\alpha = 0.05$."
   ]
  },
  {
   "cell_type": "markdown",
   "metadata": {},
   "source": [
    "### e.\n",
    "\n",
    "#### Test the following hypothesis:\n",
    "$$H_o: \\beta_2 = 0$$\n",
    "$$H_a: \\beta_2 \\neq 0$$\n",
    "\n",
    "#### Fit the full and reduced model:"
   ]
  },
  {
   "cell_type": "code",
   "execution_count": 6,
   "metadata": {
    "collapsed": true
   },
   "outputs": [],
   "source": [
    "model1 = ols(formula=\"Y ~ x\", data=muscle).fit()\n",
    "\n",
    "model2 = ols(formula=\"Y ~ x + xsq\", data=muscle).fit()"
   ]
  },
  {
   "cell_type": "markdown",
   "metadata": {},
   "source": [
    "#### These are the SSR reduced and SSR full:"
   ]
  },
  {
   "cell_type": "code",
   "execution_count": 7,
   "metadata": {
    "collapsed": false
   },
   "outputs": [
    {
     "name": "stdout",
     "output_type": "stream",
     "text": [
      "SSR reduced: 11627.49\n",
      "SSR full:    11830.62\n"
     ]
    }
   ],
   "source": [
    "print 'SSR reduced: %0.2f' %model1.ess\n",
    "print 'SSR full:    %0.2f' %model2.ess"
   ]
  },
  {
   "cell_type": "markdown",
   "metadata": {},
   "source": [
    "#### Now calculate the F-statistic:"
   ]
  },
  {
   "cell_type": "code",
   "execution_count": 8,
   "metadata": {
    "collapsed": false
   },
   "outputs": [
    {
     "name": "stdout",
     "output_type": "stream",
     "text": [
      "3.15\n"
     ]
    }
   ],
   "source": [
    "print '%0.2f' %(((model2.ess-model1.ess)/(model2.df_model-model1.df_model))/model2.mse_resid)"
   ]
  },
  {
   "cell_type": "markdown",
   "metadata": {},
   "source": [
    "#### Calculate the critical F-value, $F_{(0.95,1,57)}$"
   ]
  },
  {
   "cell_type": "code",
   "execution_count": 9,
   "metadata": {
    "collapsed": false
   },
   "outputs": [
    {
     "name": "stdout",
     "output_type": "stream",
     "text": [
      "4.01\n"
     ]
    }
   ],
   "source": [
    "print '%0.2f' %f.ppf(0.95,model2.df_model-model1.df_model,model2.df_resid)"
   ]
  },
  {
   "cell_type": "markdown",
   "metadata": {},
   "source": [
    "Since the F-statistic is less than the critical value , fail to reject $H_0$. Thus we can drop the quadratic term from the model."
   ]
  },
  {
   "cell_type": "markdown",
   "metadata": {},
   "source": [
    "### f.\n",
    "\n",
    "#### Calculate the parameters for the regression function in terms of the uncentered X values:"
   ]
  },
  {
   "cell_type": "code",
   "execution_count": 10,
   "metadata": {
    "collapsed": false
   },
   "outputs": [
    {
     "data": {
      "text/plain": [
       "{'b_prime0': 207.34960798354365,\n",
       " 'b_prime1': -2.9643229423033732,\n",
       " 'b_prime2': 0.014840496897854981}"
      ]
     },
     "execution_count": 10,
     "metadata": {},
     "output_type": "execute_result"
    }
   ],
   "source": [
    "b_prime0 = b0 - b1*Xbar + b2*Xbar**2\n",
    "b_prime1 = b1 - 2*b2*Xbar\n",
    "b_prime2 = b2\n",
    "\n",
    "{'b_prime0':b_prime0,'b_prime1':b_prime1,'b_prime2':b_prime2} "
   ]
  },
  {
   "cell_type": "markdown",
   "metadata": {},
   "source": [
    "The regression function in terms of X is:\n",
    "$$\\hat{Y} = 207.350 - 2.964 X + 0.015 X^2$$"
   ]
  },
  {
   "cell_type": "markdown",
   "metadata": {},
   "source": [
    "### g.\n",
    "\n",
    "#### Calculate the correlation coefficients for $(X,X^2)$ and $(x,x^2):$"
   ]
  },
  {
   "cell_type": "code",
   "execution_count": 11,
   "metadata": {
    "collapsed": false
   },
   "outputs": [
    {
     "data": {
      "text/plain": [
       "array([[ 1.        ,  0.99609392],\n",
       "       [ 0.99609392,  1.        ]])"
      ]
     },
     "execution_count": 11,
     "metadata": {},
     "output_type": "execute_result"
    }
   ],
   "source": [
    "np.corrcoef(muscle['X'],muscle['Xsq'])"
   ]
  },
  {
   "cell_type": "code",
   "execution_count": 12,
   "metadata": {
    "collapsed": false
   },
   "outputs": [
    {
     "data": {
      "text/plain": [
       "array([[ 1.        , -0.03835694],\n",
       "       [-0.03835694,  1.        ]])"
      ]
     },
     "execution_count": 12,
     "metadata": {},
     "output_type": "execute_result"
    }
   ],
   "source": [
    "np.corrcoef(muscle['x'],muscle['xsq'])"
   ]
  },
  {
   "cell_type": "markdown",
   "metadata": {},
   "source": [
    "Given that the correlation for $(x,x^2)$ is much lower than for $(X,X^2)$, the use of the centered variable is useful here. It significantly reduces the correlation between the explanatory variables."
   ]
  },
  {
   "cell_type": "markdown",
   "metadata": {},
   "source": [
    "## 8.11"
   ]
  },
  {
   "cell_type": "code",
   "execution_count": 13,
   "metadata": {
    "collapsed": false
   },
   "outputs": [
    {
     "data": {
      "text/html": [
       "<div>\n",
       "<table border=\"1\" class=\"dataframe\">\n",
       "  <thead>\n",
       "    <tr style=\"text-align: right;\">\n",
       "      <th></th>\n",
       "      <th>Y</th>\n",
       "      <th>X1</th>\n",
       "      <th>X2</th>\n",
       "      <th>X1X2</th>\n",
       "    </tr>\n",
       "  </thead>\n",
       "  <tbody>\n",
       "    <tr>\n",
       "      <th>0</th>\n",
       "      <td>64</td>\n",
       "      <td>4</td>\n",
       "      <td>2</td>\n",
       "      <td>8</td>\n",
       "    </tr>\n",
       "    <tr>\n",
       "      <th>1</th>\n",
       "      <td>73</td>\n",
       "      <td>4</td>\n",
       "      <td>4</td>\n",
       "      <td>16</td>\n",
       "    </tr>\n",
       "    <tr>\n",
       "      <th>2</th>\n",
       "      <td>61</td>\n",
       "      <td>4</td>\n",
       "      <td>2</td>\n",
       "      <td>8</td>\n",
       "    </tr>\n",
       "    <tr>\n",
       "      <th>3</th>\n",
       "      <td>76</td>\n",
       "      <td>4</td>\n",
       "      <td>4</td>\n",
       "      <td>16</td>\n",
       "    </tr>\n",
       "    <tr>\n",
       "      <th>4</th>\n",
       "      <td>72</td>\n",
       "      <td>6</td>\n",
       "      <td>2</td>\n",
       "      <td>12</td>\n",
       "    </tr>\n",
       "  </tbody>\n",
       "</table>\n",
       "</div>"
      ],
      "text/plain": [
       "    Y  X1  X2  X1X2\n",
       "0  64   4   2     8\n",
       "1  73   4   4    16\n",
       "2  61   4   2     8\n",
       "3  76   4   4    16\n",
       "4  72   6   2    12"
      ]
     },
     "execution_count": 13,
     "metadata": {},
     "output_type": "execute_result"
    }
   ],
   "source": [
    "filename = '~/Documents/LinearRegression/STAT510/Kutner/CH6DS/CH06PR05.txt'\n",
    "\n",
    "preferences = pd.read_table(filename, delim_whitespace=True, names=['Y','X1','X2'])\n",
    "preferences['X1X2'] = preferences['X1']*preferences['X2']\n",
    "\n",
    "preferences.head()"
   ]
  },
  {
   "cell_type": "markdown",
   "metadata": {},
   "source": [
    "The model is $Y = \\beta_0 + \\beta_1 X_1 +\\beta_2 X_2 + \\beta_3 X_1X_2 + \\epsilon$"
   ]
  },
  {
   "cell_type": "markdown",
   "metadata": {},
   "source": [
    "## a.\n",
    "\n",
    "#### Fit the full model:"
   ]
  },
  {
   "cell_type": "code",
   "execution_count": 14,
   "metadata": {
    "collapsed": false
   },
   "outputs": [
    {
     "name": "stdout",
     "output_type": "stream",
     "text": [
      "Intercept    27.150\n",
      "X1            5.925\n",
      "X2            7.875\n",
      "X1X2         -0.500\n",
      "dtype: float64\n"
     ]
    }
   ],
   "source": [
    "modelf = ols(formula=\"Y ~ X1 + X2 + X1X2\", data=preferences).fit()\n",
    "print modelf.params"
   ]
  },
  {
   "cell_type": "markdown",
   "metadata": {},
   "source": [
    "#### The regression function is:\n",
    "\n",
    "$$\\hat{Y} = 27.150 + 5.925 X_1 + 7.875 X_2 - 0.500 X_1X_2$$"
   ]
  },
  {
   "cell_type": "markdown",
   "metadata": {},
   "source": [
    "#### Fit the reduced models:"
   ]
  },
  {
   "cell_type": "code",
   "execution_count": 15,
   "metadata": {
    "collapsed": true
   },
   "outputs": [],
   "source": [
    "modelr = ols(formula=\"Y ~ X1 + X2\", data=preferences).fit()"
   ]
  },
  {
   "cell_type": "markdown",
   "metadata": {},
   "source": [
    "#### These are the SSR reduced and SSR full:"
   ]
  },
  {
   "cell_type": "code",
   "execution_count": 16,
   "metadata": {
    "collapsed": false
   },
   "outputs": [
    {
     "name": "stdout",
     "output_type": "stream",
     "text": [
      "SSR reduced: 1872.70\n",
      "SSR full:    1892.70\n"
     ]
    }
   ],
   "source": [
    "print 'SSR reduced: %0.2f' %modelr.ess\n",
    "print 'SSR full:    %0.2f' %modelf.ess"
   ]
  },
  {
   "cell_type": "markdown",
   "metadata": {},
   "source": [
    "#### Now calculate the F-statistic:"
   ]
  },
  {
   "cell_type": "code",
   "execution_count": 17,
   "metadata": {
    "collapsed": false
   },
   "outputs": [
    {
     "name": "stdout",
     "output_type": "stream",
     "text": [
      "3.23\n"
     ]
    }
   ],
   "source": [
    "print '%0.2f' %(((modelf.ess-modelr.ess)/(modelf.df_model-modelr.df_model))/modelf.mse_resid)"
   ]
  },
  {
   "cell_type": "markdown",
   "metadata": {},
   "source": [
    "#### Calculate the critical F-value, $F_{(0.95,1,12)}$"
   ]
  },
  {
   "cell_type": "code",
   "execution_count": 18,
   "metadata": {
    "collapsed": false
   },
   "outputs": [
    {
     "name": "stdout",
     "output_type": "stream",
     "text": [
      "4.75\n"
     ]
    }
   ],
   "source": [
    "print '%0.2f' %f.ppf(0.95,modelf.df_model-modelr.df_model,modelf.df_resid)"
   ]
  },
  {
   "cell_type": "markdown",
   "metadata": {},
   "source": [
    "Since the F-statistic is less than the critical value , fail to reject $H_0$. Thus we can drop the interaction term from the model."
   ]
  },
  {
   "cell_type": "markdown",
   "metadata": {},
   "source": [
    "## 8.24"
   ]
  },
  {
   "cell_type": "code",
   "execution_count": 19,
   "metadata": {
    "collapsed": false
   },
   "outputs": [
    {
     "data": {
      "text/html": [
       "<div>\n",
       "<table border=\"1\" class=\"dataframe\">\n",
       "  <thead>\n",
       "    <tr style=\"text-align: right;\">\n",
       "      <th></th>\n",
       "      <th>Y</th>\n",
       "      <th>X1</th>\n",
       "      <th>X2</th>\n",
       "      <th>X1X2</th>\n",
       "    </tr>\n",
       "  </thead>\n",
       "  <tbody>\n",
       "    <tr>\n",
       "      <th>0</th>\n",
       "      <td>78.8</td>\n",
       "      <td>76.4</td>\n",
       "      <td>0</td>\n",
       "      <td>0</td>\n",
       "    </tr>\n",
       "    <tr>\n",
       "      <th>1</th>\n",
       "      <td>73.8</td>\n",
       "      <td>74.3</td>\n",
       "      <td>0</td>\n",
       "      <td>0</td>\n",
       "    </tr>\n",
       "    <tr>\n",
       "      <th>2</th>\n",
       "      <td>64.6</td>\n",
       "      <td>69.6</td>\n",
       "      <td>0</td>\n",
       "      <td>0</td>\n",
       "    </tr>\n",
       "    <tr>\n",
       "      <th>3</th>\n",
       "      <td>76.2</td>\n",
       "      <td>73.6</td>\n",
       "      <td>0</td>\n",
       "      <td>0</td>\n",
       "    </tr>\n",
       "    <tr>\n",
       "      <th>4</th>\n",
       "      <td>87.2</td>\n",
       "      <td>76.8</td>\n",
       "      <td>0</td>\n",
       "      <td>0</td>\n",
       "    </tr>\n",
       "  </tbody>\n",
       "</table>\n",
       "</div>"
      ],
      "text/plain": [
       "      Y    X1  X2  X1X2\n",
       "0  78.8  76.4   0     0\n",
       "1  73.8  74.3   0     0\n",
       "2  64.6  69.6   0     0\n",
       "3  76.2  73.6   0     0\n",
       "4  87.2  76.8   0     0"
      ]
     },
     "execution_count": 19,
     "metadata": {},
     "output_type": "execute_result"
    }
   ],
   "source": [
    "filename = '~/Documents/LinearRegression/STAT510/Kutner/CH8DS/CH08PR24.txt'\n",
    "\n",
    "valuation = pd.read_table(filename, delim_whitespace=True, names=['Y','X1','X2'])\n",
    "valuation['X1X2'] = valuation['X1'] * valuation['X2']\n",
    "\n",
    "valuation.head()"
   ]
  },
  {
   "cell_type": "markdown",
   "metadata": {},
   "source": [
    "#### We consider the model $Y_i = \\beta_0 + \\beta_1 X_{i1} + \\beta_2 X_{i2} + \\beta_3 X_{i1}X_{i2} + \\epsilon_i$\n",
    "\n",
    "#### Fit linear models:"
   ]
  },
  {
   "cell_type": "code",
   "execution_count": 20,
   "metadata": {
    "collapsed": false
   },
   "outputs": [],
   "source": [
    "n_corner = valuation[valuation['X2']==0]\n",
    "y_corner = valuation[valuation['X2']==1]\n",
    "\n",
    "model = ols(formula = 'Y ~ X1 + X2 + X1X2', data = valuation).fit()\n",
    "n_model = ols(formula = 'Y ~ X1', data = n_corner).fit()\n",
    "y_model = ols(formula = 'Y ~ X1', data = y_corner).fit()"
   ]
  },
  {
   "cell_type": "markdown",
   "metadata": {},
   "source": [
    "## a.\n",
    "\n",
    "#### Produce symbolic scatter plot:"
   ]
  },
  {
   "cell_type": "code",
   "execution_count": 21,
   "metadata": {
    "collapsed": false
   },
   "outputs": [
    {
     "data": {
      "image/png": "[encoded data removed]",
      "text/plain": [
       "<matplotlib.figure.Figure at 0x7f2cde94af90>"
      ]
     },
     "metadata": {},
     "output_type": "display_data"
    }
   ],
   "source": [
    "plt.plot(n_corner['X1'],n_model.predict())\n",
    "plt.plot(y_corner['X1'],y_model.predict())\n",
    "plt.scatter(n_corner['X1'],n_corner['Y'], label = 'corner lot: no', marker = '*', s = 45)\n",
    "plt.scatter(y_corner['X1'],y_corner['Y'], color = 'green', label = 'corner lot: yes', s = 40)\n",
    "plt.title('Symbolic Scatter Plot', fontsize = 13)\n",
    "plt.ylabel('selling price')\n",
    "plt.xlabel('assesed valuation')\n",
    "plt.legend(loc = 4, frameon = True).get_frame().set_edgecolor('b')\n",
    "plt.show()"
   ]
  },
  {
   "cell_type": "markdown",
   "metadata": {},
   "source": [
    "The symbolic scatter plot indicates that the regression relation might be different for the two polpulations."
   ]
  },
  {
   "cell_type": "markdown",
   "metadata": {},
   "source": [
    "## b.\n",
    "\n",
    "Test the following hypothesis:\n",
    "$$H_o: \\beta_2 = \\beta_3 = 0$$\n",
    "$$H_a: \\text{at least one } \\beta_i \\neq 0$$"
   ]
  },
  {
   "cell_type": "code",
   "execution_count": 22,
   "metadata": {
    "collapsed": true
   },
   "outputs": [],
   "source": [
    "model_r1 = ols(formula = 'Y ~ X1', data = valuation).fit()\n",
    "model_r2 = ols(formula = 'Y ~ X1 + X2', data = valuation).fit()"
   ]
  },
  {
   "cell_type": "markdown",
   "metadata": {
    "collapsed": true
   },
   "source": [
    "#### Create the ANOVA table to break the sum of squares:"
   ]
  },
  {
   "cell_type": "code",
   "execution_count": 23,
   "metadata": {
    "collapsed": false
   },
   "outputs": [
    {
     "data": {
      "text/html": [
       "<div>\n",
       "<table border=\"1\" class=\"dataframe\">\n",
       "  <thead>\n",
       "    <tr style=\"text-align: right;\">\n",
       "      <th></th>\n",
       "      <th>SS</th>\n",
       "      <th>df</th>\n",
       "      <th>MS</th>\n",
       "      <th>F</th>\n",
       "    </tr>\n",
       "  </thead>\n",
       "  <tbody>\n",
       "    <tr>\n",
       "      <th>Full Model</th>\n",
       "      <td>4237.050215</td>\n",
       "      <td>3</td>\n",
       "      <td>1412.35</td>\n",
       "      <td>93.2137</td>\n",
       "    </tr>\n",
       "    <tr>\n",
       "      <th>X1</th>\n",
       "      <td>3670.904250</td>\n",
       "      <td>1</td>\n",
       "      <td>3670.904</td>\n",
       "      <td>242.276</td>\n",
       "    </tr>\n",
       "    <tr>\n",
       "      <th>X2|X1</th>\n",
       "      <td>453.147444</td>\n",
       "      <td>1</td>\n",
       "      <td>453.1474</td>\n",
       "      <td>29.90728</td>\n",
       "    </tr>\n",
       "    <tr>\n",
       "      <th>X1X2|X2,X1</th>\n",
       "      <td>112.998521</td>\n",
       "      <td>1</td>\n",
       "      <td>112.9985</td>\n",
       "      <td>7.45779</td>\n",
       "    </tr>\n",
       "    <tr>\n",
       "      <th>Error</th>\n",
       "      <td>909.104629</td>\n",
       "      <td>60</td>\n",
       "      <td>15.15174</td>\n",
       "      <td>NA</td>\n",
       "    </tr>\n",
       "    <tr>\n",
       "      <th>Total</th>\n",
       "      <td>5146.154844</td>\n",
       "      <td>63</td>\n",
       "      <td>NA</td>\n",
       "      <td>NA</td>\n",
       "    </tr>\n",
       "  </tbody>\n",
       "</table>\n",
       "</div>"
      ],
      "text/plain": [
       "                     SS  df        MS         F\n",
       "Full Model  4237.050215   3   1412.35   93.2137\n",
       "X1          3670.904250   1  3670.904   242.276\n",
       "X2|X1        453.147444   1  453.1474  29.90728\n",
       "X1X2|X2,X1   112.998521   1  112.9985   7.45779\n",
       "Error        909.104629  60  15.15174        NA\n",
       "Total       5146.154844  63        NA        NA"
      ]
     },
     "execution_count": 23,
     "metadata": {},
     "output_type": "execute_result"
    }
   ],
   "source": [
    "SSRF = model.ess\n",
    "SSRX1 = model_r1.ess\n",
    "SSRX2GX1 = model_r2.ess - model_r1.ess\n",
    "SSRX1X2GX1X2 = model.ess - model_r2.ess\n",
    "SSE = model.ssr\n",
    "SST = model.centered_tss\n",
    "\n",
    "SS = Series([SSRF, SSRX1, SSRX2GX1, SSRX1X2GX1X2, SSE, SST])\n",
    "DF = Series([model.df_model, 1, 1, 1, model.df_resid, model.df_model + model.df_resid ])\n",
    "\n",
    "aovtbl = DataFrame()\n",
    "aovtbl['SS'] = SS\n",
    "aovtbl['df'] = DF\n",
    "aovtbl['MS'] = SS/DF\n",
    "\n",
    "aovtbl.index = ['Full Model', 'X1', 'X2|X1', 'X1X2|X2,X1', 'Error', 'Total']\n",
    "\n",
    "aovtbl['F'] = aovtbl['MS']/aovtbl.loc['Error','MS']\n",
    "\n",
    "aovtbl.loc['Total',['MS','F']] = 'NA'\n",
    "aovtbl.loc['Error','F'] = 'NA'\n",
    "\n",
    "aovtbl"
   ]
  },
  {
   "cell_type": "markdown",
   "metadata": {},
   "source": [
    "#### Now calculate the F-statistic:"
   ]
  },
  {
   "cell_type": "code",
   "execution_count": 24,
   "metadata": {
    "collapsed": false
   },
   "outputs": [
    {
     "name": "stdout",
     "output_type": "stream",
     "text": [
      "18.68\n"
     ]
    }
   ],
   "source": [
    "print '%0.2f' %(((SSRX2GX1 + SSRX1X2GX1X2)/2)/model.mse_resid)"
   ]
  },
  {
   "cell_type": "markdown",
   "metadata": {},
   "source": [
    "#### Calculate the F-critical value:"
   ]
  },
  {
   "cell_type": "code",
   "execution_count": 25,
   "metadata": {
    "collapsed": false
   },
   "outputs": [
    {
     "name": "stdout",
     "output_type": "stream",
     "text": [
      "3.15\n"
     ]
    }
   ],
   "source": [
    "print '%0.2f' %f.ppf(0.95,2,model.df_resid)"
   ]
  },
  {
   "cell_type": "markdown",
   "metadata": {
    "collapsed": false
   },
   "source": [
    "Since the F-statistic is greter than the F-critical value, we reject $H_0$. The regression functions for the two populations are not identical."
   ]
  },
  {
   "cell_type": "markdown",
   "metadata": {},
   "source": [
    "## c."
   ]
  },
  {
   "cell_type": "code",
   "execution_count": 26,
   "metadata": {
    "collapsed": false
   },
   "outputs": [
    {
     "data": {
      "image/png": "[encoded data removed]",
      "text/plain": [
       "<matplotlib.figure.Figure at 0x7f2cde850310>"
      ]
     },
     "metadata": {},
     "output_type": "display_data"
    }
   ],
   "source": [
    "plt.plot(n_corner['X1'],n_model.predict(), label = 'corner lot: no', linestyle = ':')\n",
    "plt.plot(y_corner['X1'],y_model.predict(), label = 'corner lot: yes')\n",
    "plt.title('Estimated Regression Functions', fontsize = 13)\n",
    "plt.ylabel('selling price')\n",
    "plt.xlabel('assesed valuation')\n",
    "plt.legend(loc = 4, frameon = True)\n",
    "plt.show()"
   ]
  },
  {
   "cell_type": "markdown",
   "metadata": {
    "collapsed": false
   },
   "source": [
    "The estimated regression plot indicate that the two population models have different slopes and do not intersect. This is an indication of \"ordinal\" interaction."
   ]
  },
  {
   "cell_type": "markdown",
   "metadata": {},
   "source": [
    "## 3.3"
   ]
  },
  {
   "cell_type": "code",
   "execution_count": 27,
   "metadata": {
    "collapsed": false
   },
   "outputs": [
    {
     "name": "stdout",
     "output_type": "stream",
     "text": [
      "(120, 2)\n"
     ]
    },
    {
     "data": {
      "text/html": [
       "<div>\n",
       "<table border=\"1\" class=\"dataframe\">\n",
       "  <thead>\n",
       "    <tr style=\"text-align: right;\">\n",
       "      <th></th>\n",
       "      <th>Y</th>\n",
       "      <th>X</th>\n",
       "    </tr>\n",
       "  </thead>\n",
       "  <tbody>\n",
       "    <tr>\n",
       "      <th>0</th>\n",
       "      <td>3.897</td>\n",
       "      <td>21</td>\n",
       "    </tr>\n",
       "    <tr>\n",
       "      <th>1</th>\n",
       "      <td>3.885</td>\n",
       "      <td>14</td>\n",
       "    </tr>\n",
       "    <tr>\n",
       "      <th>2</th>\n",
       "      <td>3.778</td>\n",
       "      <td>28</td>\n",
       "    </tr>\n",
       "    <tr>\n",
       "      <th>3</th>\n",
       "      <td>2.540</td>\n",
       "      <td>22</td>\n",
       "    </tr>\n",
       "    <tr>\n",
       "      <th>4</th>\n",
       "      <td>3.028</td>\n",
       "      <td>21</td>\n",
       "    </tr>\n",
       "  </tbody>\n",
       "</table>\n",
       "</div>"
      ],
      "text/plain": [
       "       Y   X\n",
       "0  3.897  21\n",
       "1  3.885  14\n",
       "2  3.778  28\n",
       "3  2.540  22\n",
       "4  3.028  21"
      ]
     },
     "execution_count": 27,
     "metadata": {},
     "output_type": "execute_result"
    }
   ],
   "source": [
    "filename = '~/Documents/LinearRegression/STAT510/Kutner/CH1DS/CH01PR19.txt'\n",
    "\n",
    "gpa = pd.read_table(filename, delim_whitespace=True, names=['Y','X'])\n",
    "\n",
    "print gpa.shape\n",
    "gpa.head()"
   ]
  },
  {
   "cell_type": "markdown",
   "metadata": {},
   "source": [
    "### c."
   ]
  },
  {
   "cell_type": "code",
   "execution_count": 28,
   "metadata": {
    "collapsed": false
   },
   "outputs": [
    {
     "data": {
      "image/png": "[encoded data removed]",
      "text/plain": [
       "<matplotlib.figure.Figure at 0x7f2cde943610>"
      ]
     },
     "metadata": {},
     "output_type": "display_data"
    }
   ],
   "source": [
    "model = ols(formula = 'Y ~ X', data = gpa).fit()\n",
    "plt.scatter(model.predict(),model.resid)\n",
    "plt.show()"
   ]
  },
  {
   "cell_type": "markdown",
   "metadata": {},
   "source": [
    "Based on the above plot, I don't see much evidence of departure from the simple regression model. The only thing is that we see some large residuals which might be an indication of fatter tails. This implies that the response variable may follow a t-distribution instead of a normal distribution. Also, the plot has a bit of a cone shape, which indicates possible hetroscedasticity."
   ]
  },
  {
   "cell_type": "markdown",
   "metadata": {},
   "source": [
    "### d."
   ]
  },
  {
   "cell_type": "code",
   "execution_count": 29,
   "metadata": {
    "collapsed": false
   },
   "outputs": [
    {
     "data": {
      "image/png": "[encoded data removed]",
      "text/plain": [
       "<matplotlib.figure.Figure at 0x7f2cde655d10>"
      ]
     },
     "metadata": {},
     "output_type": "display_data"
    }
   ],
   "source": [
    "import pylab\n",
    "probplot(model.resid, plot = pylab)\n",
    "pylab.show()"
   ]
  },
  {
   "cell_type": "markdown",
   "metadata": {},
   "source": [
    "#### Calculate the coefficient of correlation:"
   ]
  },
  {
   "cell_type": "code",
   "execution_count": 30,
   "metadata": {
    "collapsed": false
   },
   "outputs": [
    {
     "name": "stdout",
     "output_type": "stream",
     "text": [
      "0.973\n"
     ]
    }
   ],
   "source": [
    "e1 = probplot(model.resid)[0][0]\n",
    "e2 = probplot(model.resid)[0][1]\n",
    "print '%0.3f' %np.corrcoef(e1,e2)[0][1]"
   ]
  },
  {
   "cell_type": "markdown",
   "metadata": {},
   "source": [
    "The critical value from table B.6 is 0.987 at $\\alpha = 0.05$ with $n = 100$. Since this value is greater than the calculated correlation coefficient, $\\rho = 0.973$, we conclude that the normality of the residuals assumption is violated."
   ]
  },
  {
   "cell_type": "markdown",
   "metadata": {},
   "source": [
    "### e.\n",
    "\n",
    "The Brown-Frosythe test:\n",
    "\n",
    "$$H_0: \\sigma^2_1 = \\sigma^2_2$$\n",
    "$$H_a: \\sigma^2_1 \\neq \\sigma^2_2$$"
   ]
  },
  {
   "cell_type": "code",
   "execution_count": 31,
   "metadata": {
    "collapsed": false
   },
   "outputs": [],
   "source": [
    "# this gives actual indexes\n",
    "resid1 = np.where(gpa['X'] < 26)[0]\n",
    "resid2 = np.where(gpa['X'] >= 26)[0]"
   ]
  },
  {
   "cell_type": "code",
   "execution_count": 32,
   "metadata": {
    "collapsed": true
   },
   "outputs": [],
   "source": [
    "resid1 = model.resid[resid1]\n",
    "resid2 = model.resid[resid2]"
   ]
  },
  {
   "cell_type": "code",
   "execution_count": 33,
   "metadata": {
    "collapsed": false
   },
   "outputs": [],
   "source": [
    "d1 = np.abs(resid1 - np.median(resid1))\n",
    "d2 = np.abs(resid2 - np.median(resid2))\n",
    "\n",
    "n= len(gpa)\n",
    "n1 = len(resid1)\n",
    "n2 = len(resid2)\n",
    "\n",
    "v = (np.sum((d1 - np.mean(d1))**2) + np.sum((d2 - np.mean(d2))**2))/(n - 2)\n",
    "\n",
    "numer = np.mean(d1) - np.mean(d2)\n",
    "denom = np.sqrt(v*((1./n1)+(1./n2)))\n",
    "\n",
    "t_bf = numer/denom"
   ]
  },
  {
   "cell_type": "markdown",
   "metadata": {},
   "source": [
    "The $\\left|t_{BF}\\right|$ is:"
   ]
  },
  {
   "cell_type": "code",
   "execution_count": 34,
   "metadata": {
    "collapsed": false
   },
   "outputs": [
    {
     "name": "stdout",
     "output_type": "stream",
     "text": [
      "0.90\n"
     ]
    }
   ],
   "source": [
    "print '%0.2f' %np.abs(t_bf)"
   ]
  },
  {
   "cell_type": "markdown",
   "metadata": {},
   "source": [
    "The $t_{0.995,118}$ is:"
   ]
  },
  {
   "cell_type": "code",
   "execution_count": 35,
   "metadata": {
    "collapsed": false
   },
   "outputs": [
    {
     "name": "stdout",
     "output_type": "stream",
     "text": [
      "2.62\n"
     ]
    }
   ],
   "source": [
    "print '%0.2f' %t.ppf(0.995, n - 2)"
   ]
  },
  {
   "cell_type": "markdown",
   "metadata": {},
   "source": [
    "Since $\\left|t_{BF}\\right|<t_{0.995,118}$, fail to reject $H_0$. The variances are equal."
   ]
  },
  {
   "cell_type": "markdown",
   "metadata": {},
   "source": [
    "## 3.6"
   ]
  },
  {
   "cell_type": "code",
   "execution_count": 36,
   "metadata": {
    "collapsed": false
   },
   "outputs": [
    {
     "name": "stdout",
     "output_type": "stream",
     "text": [
      "(16, 2)\n"
     ]
    },
    {
     "data": {
      "text/html": [
       "<div>\n",
       "<table border=\"1\" class=\"dataframe\">\n",
       "  <thead>\n",
       "    <tr style=\"text-align: right;\">\n",
       "      <th></th>\n",
       "      <th>Y</th>\n",
       "      <th>X</th>\n",
       "    </tr>\n",
       "  </thead>\n",
       "  <tbody>\n",
       "    <tr>\n",
       "      <th>0</th>\n",
       "      <td>199</td>\n",
       "      <td>16</td>\n",
       "    </tr>\n",
       "    <tr>\n",
       "      <th>1</th>\n",
       "      <td>205</td>\n",
       "      <td>16</td>\n",
       "    </tr>\n",
       "    <tr>\n",
       "      <th>2</th>\n",
       "      <td>196</td>\n",
       "      <td>16</td>\n",
       "    </tr>\n",
       "    <tr>\n",
       "      <th>3</th>\n",
       "      <td>200</td>\n",
       "      <td>16</td>\n",
       "    </tr>\n",
       "    <tr>\n",
       "      <th>4</th>\n",
       "      <td>218</td>\n",
       "      <td>24</td>\n",
       "    </tr>\n",
       "  </tbody>\n",
       "</table>\n",
       "</div>"
      ],
      "text/plain": [
       "     Y   X\n",
       "0  199  16\n",
       "1  205  16\n",
       "2  196  16\n",
       "3  200  16\n",
       "4  218  24"
      ]
     },
     "execution_count": 36,
     "metadata": {},
     "output_type": "execute_result"
    }
   ],
   "source": [
    "filename = '~/Documents/LinearRegression/STAT510/Kutner/CH1DS/CH01PR22.txt'\n",
    "\n",
    "hardness = pd.read_table(filename, delim_whitespace=True, names=['Y','X'])\n",
    "\n",
    "print hardness.shape\n",
    "hardness.head()"
   ]
  },
  {
   "cell_type": "markdown",
   "metadata": {},
   "source": [
    "### b."
   ]
  },
  {
   "cell_type": "code",
   "execution_count": 37,
   "metadata": {
    "collapsed": false
   },
   "outputs": [
    {
     "data": {
      "image/png": "[encoded data removed]",
      "text/plain": [
       "<matplotlib.figure.Figure at 0x7f2cde79de10>"
      ]
     },
     "metadata": {},
     "output_type": "display_data"
    }
   ],
   "source": [
    "model = ols(formula = 'Y ~ X', data = hardness).fit()\n",
    "plt.scatter(model.predict(),model.resid)\n",
    "plt.show()"
   ]
  },
  {
   "cell_type": "markdown",
   "metadata": {},
   "source": [
    "### c."
   ]
  },
  {
   "cell_type": "code",
   "execution_count": 38,
   "metadata": {
    "collapsed": false
   },
   "outputs": [
    {
     "data": {
      "image/png": "[encoded data removed]",
      "text/plain": [
       "<matplotlib.figure.Figure at 0x7f2cde5b4c10>"
      ]
     },
     "metadata": {},
     "output_type": "display_data"
    }
   ],
   "source": [
    "probplot(model.resid, plot = pylab)\n",
    "pylab.show()"
   ]
  },
  {
   "cell_type": "markdown",
   "metadata": {},
   "source": [
    "#### Calculate the coefficient of correlation:"
   ]
  },
  {
   "cell_type": "code",
   "execution_count": 39,
   "metadata": {
    "collapsed": false
   },
   "outputs": [
    {
     "name": "stdout",
     "output_type": "stream",
     "text": [
      "0.992\n"
     ]
    }
   ],
   "source": [
    "e1 = probplot(model.resid)[0][0]\n",
    "e2 = probplot(model.resid)[0][1]\n",
    "print '%0.3f' %np.corrcoef(e1,e2)[0][1]"
   ]
  },
  {
   "cell_type": "markdown",
   "metadata": {},
   "source": [
    "The critical value from table B.6 is 0.941 at $\\alpha = 0.05$ with $n = 16$. Since this value is less than the calculated correlation coefficient, $\\rho = 0.992$, we conclude that the normality of the residuals assumption is not violated."
   ]
  },
  {
   "cell_type": "markdown",
   "metadata": {},
   "source": [
    "### e."
   ]
  },
  {
   "cell_type": "markdown",
   "metadata": {},
   "source": [
    "The Brown-Frosythe test:\n",
    "\n",
    "$$H_0: \\sigma^2_1 = \\sigma^2_2$$\n",
    "$$H_a: \\sigma^2_1 \\neq \\sigma^2_2$$"
   ]
  },
  {
   "cell_type": "code",
   "execution_count": 40,
   "metadata": {
    "collapsed": true
   },
   "outputs": [],
   "source": [
    "# this gives actual indexes\n",
    "resid1 = np.where(hardness['X'] < 24)[0]\n",
    "resid2 = np.where(hardness['X'] >= 24)[0]"
   ]
  },
  {
   "cell_type": "code",
   "execution_count": 41,
   "metadata": {
    "collapsed": true
   },
   "outputs": [],
   "source": [
    "resid1 = model.resid[resid1]\n",
    "resid2 = model.resid[resid2]"
   ]
  },
  {
   "cell_type": "code",
   "execution_count": 42,
   "metadata": {
    "collapsed": false
   },
   "outputs": [],
   "source": [
    "d1 = np.abs(resid1 - np.median(resid1))\n",
    "d2 = np.abs(resid2 - np.median(resid2))\n",
    "\n",
    "n= len(hardness)\n",
    "n1 = len(resid1)\n",
    "n2 = len(resid2)\n",
    "\n",
    "v = (np.sum((d1 - np.mean(d1))**2) + np.sum((d2 - np.mean(d2))**2))/(n - 2)\n",
    "\n",
    "numer = np.mean(d1) - np.mean(d2)\n",
    "denom = np.sqrt(v*((1./n1)+(1./n2)))\n",
    "\n",
    "t_bf = numer/denom"
   ]
  },
  {
   "cell_type": "markdown",
   "metadata": {},
   "source": [
    "The $\\left|t_{BF}\\right|$ is:"
   ]
  },
  {
   "cell_type": "code",
   "execution_count": 43,
   "metadata": {
    "collapsed": false
   },
   "outputs": [
    {
     "name": "stdout",
     "output_type": "stream",
     "text": [
      "0.15\n"
     ]
    }
   ],
   "source": [
    "print '%0.2f' %np.abs(t_bf)"
   ]
  },
  {
   "cell_type": "markdown",
   "metadata": {},
   "source": [
    "The $t_{0.975,14}$ is:"
   ]
  },
  {
   "cell_type": "code",
   "execution_count": 44,
   "metadata": {
    "collapsed": false
   },
   "outputs": [
    {
     "name": "stdout",
     "output_type": "stream",
     "text": [
      "2.14\n"
     ]
    }
   ],
   "source": [
    "print '%0.2f' %t.ppf(0.975, n - 2)"
   ]
  },
  {
   "cell_type": "markdown",
   "metadata": {},
   "source": [
    "Since $\\left|t_{BF}\\right|<t_{0.995,118}$, fail to reject $H_0$. The variances are equal."
   ]
  },
  {
   "cell_type": "markdown",
   "metadata": {},
   "source": [
    "## 10.6"
   ]
  },
  {
   "cell_type": "code",
   "execution_count": 45,
   "metadata": {
    "collapsed": false
   },
   "outputs": [
    {
     "name": "stdout",
     "output_type": "stream",
     "text": [
      "(52, 4)\n"
     ]
    },
    {
     "data": {
      "text/html": [
       "<div>\n",
       "<table border=\"1\" class=\"dataframe\">\n",
       "  <thead>\n",
       "    <tr style=\"text-align: right;\">\n",
       "      <th></th>\n",
       "      <th>Y</th>\n",
       "      <th>X1</th>\n",
       "      <th>X2</th>\n",
       "      <th>X3</th>\n",
       "    </tr>\n",
       "  </thead>\n",
       "  <tbody>\n",
       "    <tr>\n",
       "      <th>0</th>\n",
       "      <td>4264</td>\n",
       "      <td>305657</td>\n",
       "      <td>7.17</td>\n",
       "      <td>0</td>\n",
       "    </tr>\n",
       "    <tr>\n",
       "      <th>1</th>\n",
       "      <td>4496</td>\n",
       "      <td>328476</td>\n",
       "      <td>6.20</td>\n",
       "      <td>0</td>\n",
       "    </tr>\n",
       "    <tr>\n",
       "      <th>2</th>\n",
       "      <td>4317</td>\n",
       "      <td>317164</td>\n",
       "      <td>4.61</td>\n",
       "      <td>0</td>\n",
       "    </tr>\n",
       "    <tr>\n",
       "      <th>3</th>\n",
       "      <td>4292</td>\n",
       "      <td>366745</td>\n",
       "      <td>7.02</td>\n",
       "      <td>0</td>\n",
       "    </tr>\n",
       "    <tr>\n",
       "      <th>4</th>\n",
       "      <td>4945</td>\n",
       "      <td>265518</td>\n",
       "      <td>8.61</td>\n",
       "      <td>1</td>\n",
       "    </tr>\n",
       "  </tbody>\n",
       "</table>\n",
       "</div>"
      ],
      "text/plain": [
       "      Y      X1    X2  X3\n",
       "0  4264  305657  7.17   0\n",
       "1  4496  328476  6.20   0\n",
       "2  4317  317164  4.61   0\n",
       "3  4292  366745  7.02   0\n",
       "4  4945  265518  8.61   1"
      ]
     },
     "execution_count": 45,
     "metadata": {},
     "output_type": "execute_result"
    }
   ],
   "source": [
    "filename = '~/Documents/LinearRegression/STAT510/Kutner/CH6DS/CH06PR09.txt'\n",
    "\n",
    "grocery = pd.read_table(filename, delim_whitespace=True, names=['Y','X1','X2','X3'])\n",
    "\n",
    "print grocery.shape\n",
    "grocery.head()"
   ]
  },
  {
   "cell_type": "markdown",
   "metadata": {
    "collapsed": true
   },
   "source": [
    "## a. \n",
    "\n",
    "#### Fit the model $Y = \\beta_0 + \\beta_1 X_1 + \\beta_2 X_2 + \\epsilon$"
   ]
  },
  {
   "cell_type": "code",
   "execution_count": 46,
   "metadata": {
    "collapsed": false
   },
   "outputs": [
    {
     "data": {
      "text/html": [
       "<div>\n",
       "<table border=\"1\" class=\"dataframe\">\n",
       "  <thead>\n",
       "    <tr style=\"text-align: right;\">\n",
       "      <th></th>\n",
       "      <th>parameters</th>\n",
       "      <th>pvalues</th>\n",
       "    </tr>\n",
       "  </thead>\n",
       "  <tbody>\n",
       "    <tr>\n",
       "      <th>Intercept</th>\n",
       "      <td>3995.478668</td>\n",
       "      <td>5.720203e-16</td>\n",
       "    </tr>\n",
       "    <tr>\n",
       "      <th>X1</th>\n",
       "      <td>0.000919</td>\n",
       "      <td>1.517121e-01</td>\n",
       "    </tr>\n",
       "    <tr>\n",
       "      <th>X2</th>\n",
       "      <td>12.120517</td>\n",
       "      <td>7.618098e-01</td>\n",
       "    </tr>\n",
       "  </tbody>\n",
       "</table>\n",
       "</div>"
      ],
      "text/plain": [
       "            parameters       pvalues\n",
       "Intercept  3995.478668  5.720203e-16\n",
       "X1            0.000919  1.517121e-01\n",
       "X2           12.120517  7.618098e-01"
      ]
     },
     "execution_count": 46,
     "metadata": {},
     "output_type": "execute_result"
    }
   ],
   "source": [
    "model = ols(formula = 'Y ~ X1 + X2', data = grocery).fit()\n",
    "\n",
    "DataFrame({'parameters': model.params, 'pvalues': model.pvalues})"
   ]
  },
  {
   "cell_type": "markdown",
   "metadata": {},
   "source": [
    "## b."
   ]
  },
  {
   "cell_type": "code",
   "execution_count": 47,
   "metadata": {
    "collapsed": true
   },
   "outputs": [],
   "source": [
    "modely1 = ols(formula = 'Y ~ X2', data = grocery).fit()\n",
    "modelx1 = ols(formula = 'X1 ~ X2', data = grocery).fit()\n",
    "modely2 = ols(formula = 'Y ~ X1', data = grocery).fit()\n",
    "modelx2 = ols(formula = 'X2 ~ X1', data = grocery).fit()"
   ]
  },
  {
   "cell_type": "markdown",
   "metadata": {},
   "source": [
    "#### Added variable plot for $X_1$ when $X_2$ is already in the model:"
   ]
  },
  {
   "cell_type": "code",
   "execution_count": 48,
   "metadata": {
    "collapsed": false
   },
   "outputs": [
    {
     "data": {
      "image/png": "[encoded data removed]",
      "text/plain": [
       "<matplotlib.figure.Figure at 0x7f2cde413f90>"
      ]
     },
     "metadata": {},
     "output_type": "display_data"
    }
   ],
   "source": [
    "x, y = Series(modelx1.resid, name = 'e(X1|X2)'), Series(modely1.resid, name = 'e(Y|X2)')\n",
    "sns.regplot(x,y)\n",
    "plt.show()"
   ]
  },
  {
   "cell_type": "markdown",
   "metadata": {},
   "source": [
    "#### Added variable plot for $X_2$ when $X_1$ is already in the model:"
   ]
  },
  {
   "cell_type": "code",
   "execution_count": 49,
   "metadata": {
    "collapsed": false
   },
   "outputs": [
    {
     "data": {
      "image/png": "[encoded data removed]",
      "text/plain": [
       "<matplotlib.figure.Figure at 0x7f2cde573210>"
      ]
     },
     "metadata": {},
     "output_type": "display_data"
    }
   ],
   "source": [
    "x, y = Series(modelx2.resid, name = 'e(X2|X1)'), Series(modely2.resid, name = 'e(Y|X1)')\n",
    "sns.regplot(x,y)\n",
    "plt.show()"
   ]
  },
  {
   "cell_type": "markdown",
   "metadata": {},
   "source": [
    "## c.\n",
    "\n",
    "The added variable plots in part b. suggest that the regression relation is not appropriate."
   ]
  },
  {
   "cell_type": "markdown",
   "metadata": {},
   "source": [
    "## d."
   ]
  },
  {
   "cell_type": "markdown",
   "metadata": {},
   "source": [
    "#### Fit the model:\n",
    "$$e\\left(Y|X_1\\right) = \\gamma_0 + \\gamma_1 e\\left(X_2|X_1\\right) + \\epsilon$$"
   ]
  },
  {
   "cell_type": "code",
   "execution_count": 50,
   "metadata": {
    "collapsed": true
   },
   "outputs": [],
   "source": [
    "residuals = DataFrame({'eX2X1': modelx2.resid, 'eYX1': modely2.resid})\n",
    "model = ols(formula = 'eYX1 ~ eX2X1', data = residuals).fit()"
   ]
  },
  {
   "cell_type": "markdown",
   "metadata": {},
   "source": [
    "We find that $\\hat{\\gamma_1} = \\hat{\\beta_1}$, where $\\hat{\\beta_1}$ is the coefficient in the model fit in part a."
   ]
  },
  {
   "cell_type": "code",
   "execution_count": 51,
   "metadata": {
    "collapsed": false
   },
   "outputs": [
    {
     "name": "stdout",
     "output_type": "stream",
     "text": [
      "12.1205\n"
     ]
    }
   ],
   "source": [
    "print '%0.4f' %model.params[1]"
   ]
  },
  {
   "cell_type": "markdown",
   "metadata": {},
   "source": [
    "## 10.13"
   ]
  },
  {
   "cell_type": "code",
   "execution_count": 52,
   "metadata": {
    "collapsed": false
   },
   "outputs": [
    {
     "name": "stdout",
     "output_type": "stream",
     "text": [
      "(44, 4)\n"
     ]
    },
    {
     "data": {
      "text/html": [
       "<div>\n",
       "<table border=\"1\" class=\"dataframe\">\n",
       "  <thead>\n",
       "    <tr style=\"text-align: right;\">\n",
       "      <th></th>\n",
       "      <th>Y</th>\n",
       "      <th>X1</th>\n",
       "      <th>X2</th>\n",
       "      <th>X3</th>\n",
       "    </tr>\n",
       "  </thead>\n",
       "  <tbody>\n",
       "    <tr>\n",
       "      <th>0</th>\n",
       "      <td>12.85</td>\n",
       "      <td>5.6</td>\n",
       "      <td>5.6</td>\n",
       "      <td>3.8</td>\n",
       "    </tr>\n",
       "    <tr>\n",
       "      <th>1</th>\n",
       "      <td>11.55</td>\n",
       "      <td>4.1</td>\n",
       "      <td>4.8</td>\n",
       "      <td>4.8</td>\n",
       "    </tr>\n",
       "    <tr>\n",
       "      <th>2</th>\n",
       "      <td>12.78</td>\n",
       "      <td>3.7</td>\n",
       "      <td>3.5</td>\n",
       "      <td>3.6</td>\n",
       "    </tr>\n",
       "    <tr>\n",
       "      <th>3</th>\n",
       "      <td>11.19</td>\n",
       "      <td>4.8</td>\n",
       "      <td>4.5</td>\n",
       "      <td>5.2</td>\n",
       "    </tr>\n",
       "    <tr>\n",
       "      <th>4</th>\n",
       "      <td>9.00</td>\n",
       "      <td>3.4</td>\n",
       "      <td>3.7</td>\n",
       "      <td>2.9</td>\n",
       "    </tr>\n",
       "  </tbody>\n",
       "</table>\n",
       "</div>"
      ],
      "text/plain": [
       "       Y   X1   X2   X3\n",
       "0  12.85  5.6  5.6  3.8\n",
       "1  11.55  4.1  4.8  4.8\n",
       "2  12.78  3.7  3.5  3.6\n",
       "3  11.19  4.8  4.5  5.2\n",
       "4   9.00  3.4  3.7  2.9"
      ]
     },
     "execution_count": 52,
     "metadata": {},
     "output_type": "execute_result"
    }
   ],
   "source": [
    "filename = '~/Documents/LinearRegression/STAT510/Kutner/CH10DS/CH10PR13.txt'\n",
    "\n",
    "cosmetic = pd.read_table(filename, delim_whitespace=True, names=['Y','X1','X2','X3'])\n",
    "\n",
    "print cosmetic.shape\n",
    "cosmetic.head()"
   ]
  },
  {
   "cell_type": "markdown",
   "metadata": {},
   "source": [
    "## a.\n",
    "\n",
    "#### Fit the model $Y = \\beta_0 + \\beta_1 X_1 + \\beta_2 X_2 + \\beta_3 X_3 + \\epsilon$"
   ]
  },
  {
   "cell_type": "code",
   "execution_count": 53,
   "metadata": {
    "collapsed": false
   },
   "outputs": [
    {
     "data": {
      "text/html": [
       "<table class=\"simpletable\">\n",
       "<caption>OLS Regression Results</caption>\n",
       "<tr>\n",
       "  <th>Dep. Variable:</th>            <td>Y</td>        <th>  R-squared:         </th> <td>   0.742</td>\n",
       "</tr>\n",
       "<tr>\n",
       "  <th>Model:</th>                   <td>OLS</td>       <th>  Adj. R-squared:    </th> <td>   0.722</td>\n",
       "</tr>\n",
       "<tr>\n",
       "  <th>Method:</th>             <td>Least Squares</td>  <th>  F-statistic:       </th> <td>   38.28</td>\n",
       "</tr>\n",
       "<tr>\n",
       "  <th>Date:</th>             <td>Sat, 21 Nov 2015</td> <th>  Prob (F-statistic):</th> <td>7.82e-12</td>\n",
       "</tr>\n",
       "<tr>\n",
       "  <th>Time:</th>                 <td>08:54:38</td>     <th>  Log-Likelihood:    </th> <td> -86.816</td>\n",
       "</tr>\n",
       "<tr>\n",
       "  <th>No. Observations:</th>      <td>    44</td>      <th>  AIC:               </th> <td>   181.6</td>\n",
       "</tr>\n",
       "<tr>\n",
       "  <th>Df Residuals:</th>          <td>    40</td>      <th>  BIC:               </th> <td>   188.8</td>\n",
       "</tr>\n",
       "<tr>\n",
       "  <th>Df Model:</th>              <td>     3</td>      <th>                     </th>     <td> </td>   \n",
       "</tr>\n",
       "<tr>\n",
       "  <th>Covariance Type:</th>      <td>nonrobust</td>    <th>                     </th>     <td> </td>   \n",
       "</tr>\n",
       "</table>\n",
       "<table class=\"simpletable\">\n",
       "<tr>\n",
       "      <td></td>         <th>coef</th>     <th>std err</th>      <th>t</th>      <th>P>|t|</th> <th>[95.0% Conf. Int.]</th> \n",
       "</tr>\n",
       "<tr>\n",
       "  <th>Intercept</th> <td>    1.0233</td> <td>    1.203</td> <td>    0.851</td> <td> 0.400</td> <td>   -1.408     3.454</td>\n",
       "</tr>\n",
       "<tr>\n",
       "  <th>X1</th>        <td>    0.9657</td> <td>    0.709</td> <td>    1.362</td> <td> 0.181</td> <td>   -0.468     2.399</td>\n",
       "</tr>\n",
       "<tr>\n",
       "  <th>X2</th>        <td>    0.6292</td> <td>    0.778</td> <td>    0.808</td> <td> 0.424</td> <td>   -0.944     2.202</td>\n",
       "</tr>\n",
       "<tr>\n",
       "  <th>X3</th>        <td>    0.6760</td> <td>    0.356</td> <td>    1.900</td> <td> 0.065</td> <td>   -0.043     1.395</td>\n",
       "</tr>\n",
       "</table>\n",
       "<table class=\"simpletable\">\n",
       "<tr>\n",
       "  <th>Omnibus:</th>       <td> 3.728</td> <th>  Durbin-Watson:     </th> <td>   1.946</td>\n",
       "</tr>\n",
       "<tr>\n",
       "  <th>Prob(Omnibus):</th> <td> 0.155</td> <th>  Jarque-Bera (JB):  </th> <td>   2.683</td>\n",
       "</tr>\n",
       "<tr>\n",
       "  <th>Skew:</th>          <td>-0.377</td> <th>  Prob(JB):          </th> <td>   0.261</td>\n",
       "</tr>\n",
       "<tr>\n",
       "  <th>Kurtosis:</th>      <td> 3.946</td> <th>  Cond. No.          </th> <td>    30.4</td>\n",
       "</tr>\n",
       "</table>"
      ],
      "text/plain": [
       "<class 'statsmodels.iolib.summary.Summary'>\n",
       "\"\"\"\n",
       "                            OLS Regression Results                            \n",
       "==============================================================================\n",
       "Dep. Variable:                      Y   R-squared:                       0.742\n",
       "Model:                            OLS   Adj. R-squared:                  0.722\n",
       "Method:                 Least Squares   F-statistic:                     38.28\n",
       "Date:                Sat, 21 Nov 2015   Prob (F-statistic):           7.82e-12\n",
       "Time:                        08:54:38   Log-Likelihood:                -86.816\n",
       "No. Observations:                  44   AIC:                             181.6\n",
       "Df Residuals:                      40   BIC:                             188.8\n",
       "Df Model:                           3                                         \n",
       "Covariance Type:            nonrobust                                         \n",
       "==============================================================================\n",
       "                 coef    std err          t      P>|t|      [95.0% Conf. Int.]\n",
       "------------------------------------------------------------------------------\n",
       "Intercept      1.0233      1.203      0.851      0.400        -1.408     3.454\n",
       "X1             0.9657      0.709      1.362      0.181        -0.468     2.399\n",
       "X2             0.6292      0.778      0.808      0.424        -0.944     2.202\n",
       "X3             0.6760      0.356      1.900      0.065        -0.043     1.395\n",
       "==============================================================================\n",
       "Omnibus:                        3.728   Durbin-Watson:                   1.946\n",
       "Prob(Omnibus):                  0.155   Jarque-Bera (JB):                2.683\n",
       "Skew:                          -0.377   Prob(JB):                        0.261\n",
       "Kurtosis:                       3.946   Cond. No.                         30.4\n",
       "==============================================================================\n",
       "\n",
       "Warnings:\n",
       "[1] Standard Errors assume that the covariance matrix of the errors is correctly specified.\n",
       "\"\"\""
      ]
     },
     "execution_count": 53,
     "metadata": {},
     "output_type": "execute_result"
    }
   ],
   "source": [
    "model = ols(formula = 'Y ~ X1 + X2 + X3', data = cosmetic).fit()\n",
    "model.summary()"
   ]
  },
  {
   "cell_type": "markdown",
   "metadata": {},
   "source": [
    "## b.\n",
    "\n",
    "Test the following hypothesis:\n",
    "$$H_o: \\beta_1 = \\beta_2 = \\beta_3 = 0$$\n",
    "$$H_a: \\text{at least one } \\beta_i \\neq 0$$\n",
    "\n",
    "The results of the regression model in a. show a p-value of nearly zero corresponding to the F-statistic from the model. Based on this we reject $H_0$ and conclude there is a regression relation."
   ]
  },
  {
   "cell_type": "markdown",
   "metadata": {},
   "source": [
    "## c.\n",
    "\n",
    "The results of the regression model in b. show that the p-values corresponding to the t-statistic for each parameter estimate are all greater than $\\alpha =  0.05$, hence we would conclude that each parameter indidually is not significant. This contradicts our conclusion in b. "
   ]
  },
  {
   "cell_type": "markdown",
   "metadata": {},
   "source": [
    "## d."
   ]
  },
  {
   "cell_type": "code",
   "execution_count": 54,
   "metadata": {
    "collapsed": false
   },
   "outputs": [
    {
     "data": {
      "text/html": [
       "<div>\n",
       "<table border=\"1\" class=\"dataframe\">\n",
       "  <thead>\n",
       "    <tr style=\"text-align: right;\">\n",
       "      <th></th>\n",
       "      <th>X1</th>\n",
       "      <th>X2</th>\n",
       "      <th>X3</th>\n",
       "    </tr>\n",
       "  </thead>\n",
       "  <tbody>\n",
       "    <tr>\n",
       "      <th>X1</th>\n",
       "      <td>1.000000</td>\n",
       "      <td>0.974431</td>\n",
       "      <td>0.375951</td>\n",
       "    </tr>\n",
       "    <tr>\n",
       "      <th>X2</th>\n",
       "      <td>0.974431</td>\n",
       "      <td>1.000000</td>\n",
       "      <td>0.409921</td>\n",
       "    </tr>\n",
       "    <tr>\n",
       "      <th>X3</th>\n",
       "      <td>0.375951</td>\n",
       "      <td>0.409921</td>\n",
       "      <td>1.000000</td>\n",
       "    </tr>\n",
       "  </tbody>\n",
       "</table>\n",
       "</div>"
      ],
      "text/plain": [
       "          X1        X2        X3\n",
       "X1  1.000000  0.974431  0.375951\n",
       "X2  0.974431  1.000000  0.409921\n",
       "X3  0.375951  0.409921  1.000000"
      ]
     },
     "execution_count": 54,
     "metadata": {},
     "output_type": "execute_result"
    }
   ],
   "source": [
    "X = cosmetic.iloc[:,1::]\n",
    "r = DataFrame(np.corrcoef(X.T), index = ['X1','X2','X3'], columns = ['X1','X2','X3'])\n",
    "r"
   ]
  },
  {
   "cell_type": "markdown",
   "metadata": {},
   "source": [
    "## e.\n",
    "\n",
    "Based on the inconsistency of the results and the fact that the explanaory variables exhibit significant correlation (as evidenced by the results in d.) the data is not suitable for the model used. "
   ]
  },
  {
   "cell_type": "markdown",
   "metadata": {},
   "source": [
    "## 10.14"
   ]
  },
  {
   "cell_type": "markdown",
   "metadata": {},
   "source": [
    "## a."
   ]
  },
  {
   "cell_type": "code",
   "execution_count": 55,
   "metadata": {
    "collapsed": false
   },
   "outputs": [
    {
     "data": {
      "text/html": [
       "<div>\n",
       "<table border=\"1\" class=\"dataframe\">\n",
       "  <thead>\n",
       "    <tr style=\"text-align: right;\">\n",
       "      <th></th>\n",
       "      <th>VIF</th>\n",
       "    </tr>\n",
       "  </thead>\n",
       "  <tbody>\n",
       "    <tr>\n",
       "      <th>X1</th>\n",
       "      <td>20.072031</td>\n",
       "    </tr>\n",
       "    <tr>\n",
       "      <th>X2</th>\n",
       "      <td>20.716101</td>\n",
       "    </tr>\n",
       "    <tr>\n",
       "      <th>X3</th>\n",
       "      <td>1.217973</td>\n",
       "    </tr>\n",
       "    <tr>\n",
       "      <th>mean</th>\n",
       "      <td>14.002035</td>\n",
       "    </tr>\n",
       "  </tbody>\n",
       "</table>\n",
       "</div>"
      ],
      "text/plain": [
       "            VIF\n",
       "X1    20.072031\n",
       "X2    20.716101\n",
       "X3     1.217973\n",
       "mean  14.002035"
      ]
     },
     "execution_count": 55,
     "metadata": {},
     "output_type": "execute_result"
    }
   ],
   "source": [
    "vif = DataFrame(np.linalg.inv(r).diagonal(), columns = ['VIF'], index = ['X1','X2','X3'])\n",
    "vif.loc[3] = vif.mean()\n",
    "vif.index = ['X1','X2','X3','mean']\n",
    "vif"
   ]
  },
  {
   "cell_type": "markdown",
   "metadata": {},
   "source": [
    "Since the mean VIF is 14.002 (much greater than 1), there is a serious multicollinearity problem."
   ]
  },
  {
   "cell_type": "markdown",
   "metadata": {},
   "source": [
    "## b."
   ]
  },
  {
   "cell_type": "code",
   "execution_count": 56,
   "metadata": {
    "collapsed": false
   },
   "outputs": [
    {
     "data": {
      "text/html": [
       "<table class=\"simpletable\">\n",
       "<caption>OLS Regression Results</caption>\n",
       "<tr>\n",
       "  <th>Dep. Variable:</th>            <td>Y</td>        <th>  R-squared:         </th> <td>   0.709</td>\n",
       "</tr>\n",
       "<tr>\n",
       "  <th>Model:</th>                   <td>OLS</td>       <th>  Adj. R-squared:    </th> <td>   0.702</td>\n",
       "</tr>\n",
       "<tr>\n",
       "  <th>Method:</th>             <td>Least Squares</td>  <th>  F-statistic:       </th> <td>   102.1</td>\n",
       "</tr>\n",
       "<tr>\n",
       "  <th>Date:</th>             <td>Sat, 21 Nov 2015</td> <th>  Prob (F-statistic):</th> <td>8.23e-13</td>\n",
       "</tr>\n",
       "<tr>\n",
       "  <th>Time:</th>                 <td>08:54:39</td>     <th>  Log-Likelihood:    </th> <td> -89.472</td>\n",
       "</tr>\n",
       "<tr>\n",
       "  <th>No. Observations:</th>      <td>    44</td>      <th>  AIC:               </th> <td>   182.9</td>\n",
       "</tr>\n",
       "<tr>\n",
       "  <th>Df Residuals:</th>          <td>    42</td>      <th>  BIC:               </th> <td>   186.5</td>\n",
       "</tr>\n",
       "<tr>\n",
       "  <th>Df Model:</th>              <td>     1</td>      <th>                     </th>     <td> </td>   \n",
       "</tr>\n",
       "<tr>\n",
       "  <th>Covariance Type:</th>      <td>nonrobust</td>    <th>                     </th>     <td> </td>   \n",
       "</tr>\n",
       "</table>\n",
       "<table class=\"simpletable\">\n",
       "<tr>\n",
       "      <td></td>         <th>coef</th>     <th>std err</th>      <th>t</th>      <th>P>|t|</th> <th>[95.0% Conf. Int.]</th> \n",
       "</tr>\n",
       "<tr>\n",
       "  <th>Intercept</th> <td>    3.1628</td> <td>    0.671</td> <td>    4.712</td> <td> 0.000</td> <td>    1.808     4.517</td>\n",
       "</tr>\n",
       "<tr>\n",
       "  <th>X1</th>        <td>    1.6581</td> <td>    0.164</td> <td>   10.104</td> <td> 0.000</td> <td>    1.327     1.989</td>\n",
       "</tr>\n",
       "</table>\n",
       "<table class=\"simpletable\">\n",
       "<tr>\n",
       "  <th>Omnibus:</th>       <td> 7.184</td> <th>  Durbin-Watson:     </th> <td>   1.899</td>\n",
       "</tr>\n",
       "<tr>\n",
       "  <th>Prob(Omnibus):</th> <td> 0.028</td> <th>  Jarque-Bera (JB):  </th> <td>   6.236</td>\n",
       "</tr>\n",
       "<tr>\n",
       "  <th>Skew:</th>          <td>-0.699</td> <th>  Prob(JB):          </th> <td>  0.0442</td>\n",
       "</tr>\n",
       "<tr>\n",
       "  <th>Kurtosis:</th>      <td> 4.202</td> <th>  Cond. No.          </th> <td>    10.1</td>\n",
       "</tr>\n",
       "</table>"
      ],
      "text/plain": [
       "<class 'statsmodels.iolib.summary.Summary'>\n",
       "\"\"\"\n",
       "                            OLS Regression Results                            \n",
       "==============================================================================\n",
       "Dep. Variable:                      Y   R-squared:                       0.709\n",
       "Model:                            OLS   Adj. R-squared:                  0.702\n",
       "Method:                 Least Squares   F-statistic:                     102.1\n",
       "Date:                Sat, 21 Nov 2015   Prob (F-statistic):           8.23e-13\n",
       "Time:                        08:54:39   Log-Likelihood:                -89.472\n",
       "No. Observations:                  44   AIC:                             182.9\n",
       "Df Residuals:                      42   BIC:                             186.5\n",
       "Df Model:                           1                                         \n",
       "Covariance Type:            nonrobust                                         \n",
       "==============================================================================\n",
       "                 coef    std err          t      P>|t|      [95.0% Conf. Int.]\n",
       "------------------------------------------------------------------------------\n",
       "Intercept      3.1628      0.671      4.712      0.000         1.808     4.517\n",
       "X1             1.6581      0.164     10.104      0.000         1.327     1.989\n",
       "==============================================================================\n",
       "Omnibus:                        7.184   Durbin-Watson:                   1.899\n",
       "Prob(Omnibus):                  0.028   Jarque-Bera (JB):                6.236\n",
       "Skew:                          -0.699   Prob(JB):                       0.0442\n",
       "Kurtosis:                       4.202   Cond. No.                         10.1\n",
       "==============================================================================\n",
       "\n",
       "Warnings:\n",
       "[1] Standard Errors assume that the covariance matrix of the errors is correctly specified.\n",
       "\"\"\""
      ]
     },
     "execution_count": 56,
     "metadata": {},
     "output_type": "execute_result"
    }
   ],
   "source": [
    "model = ols(formula = 'Y ~ X1', data = cosmetic).fit()\n",
    "model.summary()"
   ]
  },
  {
   "cell_type": "markdown",
   "metadata": {},
   "source": [
    "The model obtain is now a good fit, with the explanatory variable $X_1$ now being highly significant (p-value = 0.000). So, with all else remaining equal, a \\$1000 change in expenditures for point-of-sale advertising is expected to increase sales by \\$1,658 approximately. However, this does not differentiate the influence that $X_2$ and $X_3$ have on sales, thus the result might not be reliable."
   ]
  },
  {
   "cell_type": "markdown",
   "metadata": {},
   "source": [
    "## c.\n",
    "\n",
    "An experiment would be better because then we could control for the effects of $X_2$ and $X_3$. A possible design would be to divide the 44 territories into two groups, hold $X_2$ and $X_3$ constant,then increase point-of-sale expenditures in one of the groups and not the other. After the sales data is gathered we could perform ANOVA to determine significant differences between the two groups. "
   ]
  },
  {
   "cell_type": "markdown",
   "metadata": {
    "collapsed": true
   },
   "source": [
    "## 10.16"
   ]
  },
  {
   "cell_type": "code",
   "execution_count": 57,
   "metadata": {
    "collapsed": false
   },
   "outputs": [
    {
     "data": {
      "text/html": [
       "<div>\n",
       "<table border=\"1\" class=\"dataframe\">\n",
       "  <thead>\n",
       "    <tr style=\"text-align: right;\">\n",
       "      <th></th>\n",
       "      <th>Y</th>\n",
       "      <th>X1</th>\n",
       "      <th>X2</th>\n",
       "      <th>X3</th>\n",
       "    </tr>\n",
       "  </thead>\n",
       "  <tbody>\n",
       "    <tr>\n",
       "      <th>0</th>\n",
       "      <td>4264</td>\n",
       "      <td>305657</td>\n",
       "      <td>7.17</td>\n",
       "      <td>0</td>\n",
       "    </tr>\n",
       "    <tr>\n",
       "      <th>1</th>\n",
       "      <td>4496</td>\n",
       "      <td>328476</td>\n",
       "      <td>6.20</td>\n",
       "      <td>0</td>\n",
       "    </tr>\n",
       "    <tr>\n",
       "      <th>2</th>\n",
       "      <td>4317</td>\n",
       "      <td>317164</td>\n",
       "      <td>4.61</td>\n",
       "      <td>0</td>\n",
       "    </tr>\n",
       "    <tr>\n",
       "      <th>3</th>\n",
       "      <td>4292</td>\n",
       "      <td>366745</td>\n",
       "      <td>7.02</td>\n",
       "      <td>0</td>\n",
       "    </tr>\n",
       "    <tr>\n",
       "      <th>4</th>\n",
       "      <td>4945</td>\n",
       "      <td>265518</td>\n",
       "      <td>8.61</td>\n",
       "      <td>1</td>\n",
       "    </tr>\n",
       "  </tbody>\n",
       "</table>\n",
       "</div>"
      ],
      "text/plain": [
       "      Y      X1    X2  X3\n",
       "0  4264  305657  7.17   0\n",
       "1  4496  328476  6.20   0\n",
       "2  4317  317164  4.61   0\n",
       "3  4292  366745  7.02   0\n",
       "4  4945  265518  8.61   1"
      ]
     },
     "execution_count": 57,
     "metadata": {},
     "output_type": "execute_result"
    }
   ],
   "source": [
    "grocery.head()"
   ]
  },
  {
   "cell_type": "markdown",
   "metadata": {},
   "source": [
    "## a."
   ]
  },
  {
   "cell_type": "code",
   "execution_count": 58,
   "metadata": {
    "collapsed": false
   },
   "outputs": [
    {
     "data": {
      "image/png": "[encoded data removed]",
      "text/plain": [
       "<matplotlib.figure.Figure at 0x7f2cde7dced0>"
      ]
     },
     "metadata": {},
     "output_type": "display_data"
    }
   ],
   "source": [
    "X = grocery.iloc[:,1::]\n",
    "\n",
    "plt.figure(figsize = (16,4))\n",
    "plt.subplot(1,3,1)\n",
    "plt.scatter(grocery['X2'],grocery['X1'])\n",
    "plt.title('$X_1$ vs. $X_2$')\n",
    "plt.xlabel('$X_2$')\n",
    "plt.ylabel('$X_1$')\n",
    "plt.subplot(1,3,2)\n",
    "plt.scatter(grocery['X3'],grocery['X1'])\n",
    "plt.title('$X_1$ vs. $X_3$')\n",
    "plt.xlabel('$X_3$')\n",
    "plt.ylabel('$X_1$')\n",
    "plt.subplot(1,3,3)\n",
    "plt.scatter(grocery['X3'],grocery['X2'])\n",
    "plt.title('$X_2$ vs. $X_3$')\n",
    "plt.xlabel('$X_3$')\n",
    "plt.ylabel('$X_2$')\n",
    "plt.show()"
   ]
  },
  {
   "cell_type": "code",
   "execution_count": 59,
   "metadata": {
    "collapsed": false
   },
   "outputs": [
    {
     "data": {
      "text/html": [
       "<div>\n",
       "<table border=\"1\" class=\"dataframe\">\n",
       "  <thead>\n",
       "    <tr style=\"text-align: right;\">\n",
       "      <th></th>\n",
       "      <th>X1</th>\n",
       "      <th>X2</th>\n",
       "      <th>X3</th>\n",
       "    </tr>\n",
       "  </thead>\n",
       "  <tbody>\n",
       "    <tr>\n",
       "      <th>X1</th>\n",
       "      <td>1.000000</td>\n",
       "      <td>0.084896</td>\n",
       "      <td>0.045657</td>\n",
       "    </tr>\n",
       "    <tr>\n",
       "      <th>X2</th>\n",
       "      <td>0.084896</td>\n",
       "      <td>1.000000</td>\n",
       "      <td>0.113371</td>\n",
       "    </tr>\n",
       "    <tr>\n",
       "      <th>X3</th>\n",
       "      <td>0.045657</td>\n",
       "      <td>0.113371</td>\n",
       "      <td>1.000000</td>\n",
       "    </tr>\n",
       "  </tbody>\n",
       "</table>\n",
       "</div>"
      ],
      "text/plain": [
       "          X1        X2        X3\n",
       "X1  1.000000  0.084896  0.045657\n",
       "X2  0.084896  1.000000  0.113371\n",
       "X3  0.045657  0.113371  1.000000"
      ]
     },
     "execution_count": 59,
     "metadata": {},
     "output_type": "execute_result"
    }
   ],
   "source": [
    "r = DataFrame(np.corrcoef(X.T), index = ['X1','X2','X3'], columns = ['X1','X2','X3'])\n",
    "r"
   ]
  },
  {
   "cell_type": "markdown",
   "metadata": {},
   "source": [
    "The scatter plots and correlation matrix show that although there appears to be some correlation among the explanatory variables, the correlation is not necessarily high. Multicollinearity is not a serious problem."
   ]
  },
  {
   "cell_type": "markdown",
   "metadata": {},
   "source": [
    "## b."
   ]
  },
  {
   "cell_type": "code",
   "execution_count": 60,
   "metadata": {
    "collapsed": false
   },
   "outputs": [
    {
     "data": {
      "text/html": [
       "<div>\n",
       "<table border=\"1\" class=\"dataframe\">\n",
       "  <thead>\n",
       "    <tr style=\"text-align: right;\">\n",
       "      <th></th>\n",
       "      <th>VIF</th>\n",
       "    </tr>\n",
       "  </thead>\n",
       "  <tbody>\n",
       "    <tr>\n",
       "      <th>X1</th>\n",
       "      <td>1.008596</td>\n",
       "    </tr>\n",
       "    <tr>\n",
       "      <th>X2</th>\n",
       "      <td>1.019598</td>\n",
       "    </tr>\n",
       "    <tr>\n",
       "      <th>X3</th>\n",
       "      <td>1.014364</td>\n",
       "    </tr>\n",
       "    <tr>\n",
       "      <th>mean</th>\n",
       "      <td>1.014186</td>\n",
       "    </tr>\n",
       "  </tbody>\n",
       "</table>\n",
       "</div>"
      ],
      "text/plain": [
       "           VIF\n",
       "X1    1.008596\n",
       "X2    1.019598\n",
       "X3    1.014364\n",
       "mean  1.014186"
      ]
     },
     "execution_count": 60,
     "metadata": {},
     "output_type": "execute_result"
    }
   ],
   "source": [
    "vif = DataFrame(np.linalg.inv(r).diagonal(), columns = ['VIF'], index = ['X1','X2','X3'])\n",
    "vif.loc[3] = vif.mean()\n",
    "vif.index = ['X1','X2','X3','mean']\n",
    "vif"
   ]
  },
  {
   "cell_type": "markdown",
   "metadata": {
    "collapsed": true
   },
   "source": [
    "The mean VIF is just over 1. This is an indication that multicollinearity is not a serious problem. "
   ]
  }
 ],
 "metadata": {
  "kernelspec": {
   "display_name": "Python 2",
   "language": "python",
   "name": "python2"
  },
  "language_info": {
   "codemirror_mode": {
    "name": "ipython",
    "version": 2
   },
   "file_extension": ".py",
   "mimetype": "text/x-python",
   "name": "python",
   "nbconvert_exporter": "python",
   "pygments_lexer": "ipython2",
   "version": "2.7.10"
  }
 },
 "nbformat": 4,
 "nbformat_minor": 0
}

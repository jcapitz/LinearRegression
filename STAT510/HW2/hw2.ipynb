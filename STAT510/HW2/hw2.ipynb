{
 "cells": [
  {
   "cell_type": "markdown",
   "metadata": {},
   "source": [
    "#Juan Carlos Apitz\n",
    "#STAT510 Homework 2"
   ]
  },
  {
   "cell_type": "code",
   "execution_count": 25,
   "metadata": {
    "collapsed": false
   },
   "outputs": [],
   "source": [
    "import pandas as pd\n",
    "from pandas import DataFrame, Series\n",
    "import numpy as np\n",
    "\n",
    "import statsmodels.formula.api as sm\n",
    "\n",
    "import seaborn as sns\n",
    "\n",
    "import matplotlib.pyplot as plt\n",
    "%matplotlib inline"
   ]
  },
  {
   "cell_type": "markdown",
   "metadata": {},
   "source": [
    "##Problem 1.22\n",
    "\n",
    "First load the data set for the plastic hardness data"
   ]
  },
  {
   "cell_type": "code",
   "execution_count": 26,
   "metadata": {
    "collapsed": false
   },
   "outputs": [],
   "source": [
    "df = pd.read_table('~/Documents/LinearRegression/STAT510/Kutner/CH1DS/CH01PR22.txt',\n",
    "                   delim_whitespace=True, names=['hardness','hours'])"
   ]
  },
  {
   "cell_type": "code",
   "execution_count": 27,
   "metadata": {
    "collapsed": false
   },
   "outputs": [
    {
     "data": {
      "text/html": [
       "<div>\n",
       "<table border=\"1\" class=\"dataframe\">\n",
       "  <thead>\n",
       "    <tr style=\"text-align: right;\">\n",
       "      <th></th>\n",
       "      <th>hardness</th>\n",
       "      <th>hours</th>\n",
       "    </tr>\n",
       "  </thead>\n",
       "  <tbody>\n",
       "    <tr>\n",
       "      <th>0</th>\n",
       "      <td>199</td>\n",
       "      <td>16</td>\n",
       "    </tr>\n",
       "    <tr>\n",
       "      <th>1</th>\n",
       "      <td>205</td>\n",
       "      <td>16</td>\n",
       "    </tr>\n",
       "    <tr>\n",
       "      <th>2</th>\n",
       "      <td>196</td>\n",
       "      <td>16</td>\n",
       "    </tr>\n",
       "    <tr>\n",
       "      <th>3</th>\n",
       "      <td>200</td>\n",
       "      <td>16</td>\n",
       "    </tr>\n",
       "    <tr>\n",
       "      <th>4</th>\n",
       "      <td>218</td>\n",
       "      <td>24</td>\n",
       "    </tr>\n",
       "  </tbody>\n",
       "</table>\n",
       "</div>"
      ],
      "text/plain": [
       "   hardness  hours\n",
       "0       199     16\n",
       "1       205     16\n",
       "2       196     16\n",
       "3       200     16\n",
       "4       218     24"
      ]
     },
     "execution_count": 27,
     "metadata": {},
     "output_type": "execute_result"
    }
   ],
   "source": [
    "df.head()"
   ]
  },
  {
   "cell_type": "markdown",
   "metadata": {},
   "source": [
    "Next we fit the model"
   ]
  },
  {
   "cell_type": "code",
   "execution_count": 28,
   "metadata": {
    "collapsed": false
   },
   "outputs": [],
   "source": [
    "model = sm.ols(formula=\"hardness ~ hours\", data=df).fit()"
   ]
  },
  {
   "cell_type": "markdown",
   "metadata": {},
   "source": [
    "###Part a.\n",
    "\n",
    "The table below summarizes the results of fitting the model to plastic hardness data:"
   ]
  },
  {
   "cell_type": "code",
   "execution_count": 29,
   "metadata": {
    "collapsed": false
   },
   "outputs": [
    {
     "name": "stdout",
     "output_type": "stream",
     "text": [
      "                            OLS Regression Results                            \n",
      "==============================================================================\n",
      "Dep. Variable:               hardness   R-squared:                       0.973\n",
      "Model:                            OLS   Adj. R-squared:                  0.971\n",
      "Method:                 Least Squares   F-statistic:                     506.5\n",
      "Date:                Thu, 17 Sep 2015   Prob (F-statistic):           2.16e-12\n",
      "Time:                        18:35:21   Log-Likelihood:                -40.414\n",
      "No. Observations:                  16   AIC:                             84.83\n",
      "Df Residuals:                      14   BIC:                             86.37\n",
      "Df Model:                           1                                         \n",
      "Covariance Type:            nonrobust                                         \n",
      "==============================================================================\n",
      "                 coef    std err          t      P>|t|      [95.0% Conf. Int.]\n",
      "------------------------------------------------------------------------------\n",
      "Intercept    168.6000      2.657     63.454      0.000       162.901   174.299\n",
      "hours          2.0344      0.090     22.506      0.000         1.840     2.228\n",
      "==============================================================================\n",
      "Omnibus:                        0.955   Durbin-Watson:                   2.466\n",
      "Prob(Omnibus):                  0.620   Jarque-Bera (JB):                0.711\n",
      "Skew:                           0.068   Prob(JB):                        0.701\n",
      "Kurtosis:                       1.976   Cond. No.                         96.7\n",
      "==============================================================================\n",
      "\n",
      "Warnings:\n",
      "[1] Standard Errors assume that the covariance matrix of the errors is correctly specified.\n"
     ]
    }
   ],
   "source": [
    "print model.summary()"
   ]
  },
  {
   "cell_type": "markdown",
   "metadata": {},
   "source": [
    "#####The estimated regression function is:\n",
    "\n",
    "$\\hat{y} = 168.6 + 2.0344x$\n",
    "\n",
    "Where $\\hat{y}$ represents the estimated hardness and $x$ represents the elapsed time in hours."
   ]
  },
  {
   "cell_type": "markdown",
   "metadata": {},
   "source": [
    "#####Plot of the estimated regression function and the data:\n",
    "\n",
    "The plot indicates that the data fits reasonably well the linear model represented by the regression function."
   ]
  },
  {
   "cell_type": "code",
   "execution_count": 30,
   "metadata": {
    "collapsed": false
   },
   "outputs": [
    {
     "data": {
      "image/png": "[encoded data removed]",
      "text/plain": [
       "<matplotlib.figure.Figure at 0x7f28952e9250>"
      ]
     },
     "metadata": {},
     "output_type": "display_data"
    }
   ],
   "source": [
    "ax = sns.regplot(x=\"hours\", y=\"hardness\", data=df)"
   ]
  },
  {
   "cell_type": "markdown",
   "metadata": {},
   "source": [
    "###Part b.\n",
    "\n",
    "To obtain a point estimate of the mean hardness when X = 40 hours, we simply let X = 40 be the input into the estimated regression function:"
   ]
  },
  {
   "cell_type": "code",
   "execution_count": 31,
   "metadata": {
    "collapsed": false
   },
   "outputs": [
    {
     "name": "stdout",
     "output_type": "stream",
     "text": [
      "249.975\n"
     ]
    }
   ],
   "source": [
    "x = DataFrame({'hours':40}, index = range(1))\n",
    "\n",
    "print model.predict(x)[0]"
   ]
  },
  {
   "cell_type": "markdown",
   "metadata": {},
   "source": [
    "###Part c.\n",
    "\n",
    "The point estimate of the change in mean hadness when X is increased by one hour is simply the estimated coefficient for the X variable (hours) from the estimated regression function:"
   ]
  },
  {
   "cell_type": "code",
   "execution_count": 32,
   "metadata": {
    "collapsed": false
   },
   "outputs": [
    {
     "name": "stdout",
     "output_type": "stream",
     "text": [
      "2.034375\n"
     ]
    }
   ],
   "source": [
    "print model.params['hours']"
   ]
  },
  {
   "cell_type": "markdown",
   "metadata": {
    "collapsed": true
   },
   "source": [
    "##Problem 1.26"
   ]
  },
  {
   "cell_type": "markdown",
   "metadata": {},
   "source": [
    "###Part a.\n",
    "\n",
    "Obtain resisuals and check wether the sum adds to 0:"
   ]
  },
  {
   "cell_type": "code",
   "execution_count": 33,
   "metadata": {
    "collapsed": false
   },
   "outputs": [
    {
     "data": {
      "text/plain": [
       "0    -2.150\n",
       "1     3.850\n",
       "2    -5.150\n",
       "3    -1.150\n",
       "4     0.575\n",
       "5     2.575\n",
       "6    -2.425\n",
       "7     5.575\n",
       "8     3.300\n",
       "9     0.300\n",
       "10    1.300\n",
       "11   -3.700\n",
       "12    0.025\n",
       "13   -1.975\n",
       "14    3.025\n",
       "15   -3.975\n",
       "dtype: float64"
      ]
     },
     "execution_count": 33,
     "metadata": {},
     "output_type": "execute_result"
    }
   ],
   "source": [
    "model.resid"
   ]
  },
  {
   "cell_type": "markdown",
   "metadata": {},
   "source": [
    "Below we can see that the sum of the residuals is nearly zero:"
   ]
  },
  {
   "cell_type": "code",
   "execution_count": 34,
   "metadata": {
    "collapsed": false
   },
   "outputs": [
    {
     "name": "stdout",
     "output_type": "stream",
     "text": [
      "4.54747350886e-13\n"
     ]
    }
   ],
   "source": [
    "print sum(model.resid)"
   ]
  },
  {
   "cell_type": "markdown",
   "metadata": {},
   "source": [
    "###Part b.\n",
    "\n",
    "A point estimate of the variance is given by:\n",
    "$$\\hat{\\sigma}^2 = \\frac{\\sum \\left( y_i - \\hat{y}_i \\right)^2}{n-2}$$\n",
    "\n",
    "The point estimate of the variance is calculated below:"
   ]
  },
  {
   "cell_type": "code",
   "execution_count": 35,
   "metadata": {
    "collapsed": false
   },
   "outputs": [
    {
     "name": "stdout",
     "output_type": "stream",
     "text": [
      "10.4589285714\n"
     ]
    }
   ],
   "source": [
    "variance = sum(model.resid**2)/14\n",
    "\n",
    "print variance"
   ]
  },
  {
   "cell_type": "markdown",
   "metadata": {},
   "source": [
    "The estimate for sigma is given by:\n",
    "\n",
    "$$\\hat{\\sigma} = \\sqrt{\\frac{\\sum \\left( y_i - \\hat{y}_i \\right)^2}{n-2}}$$\n",
    "\n",
    "Sigma is expressed in Brinell units and is calculated below:"
   ]
  },
  {
   "cell_type": "code",
   "execution_count": 36,
   "metadata": {
    "collapsed": false
   },
   "outputs": [
    {
     "name": "stdout",
     "output_type": "stream",
     "text": [
      "3.23402668069\n"
     ]
    }
   ],
   "source": [
    "stdev = np.sqrt(variance)\n",
    "\n",
    "print stdev"
   ]
  },
  {
   "cell_type": "markdown",
   "metadata": {},
   "source": [
    "##Problem 1.31"
   ]
  },
  {
   "cell_type": "code",
   "execution_count": null,
   "metadata": {
    "collapsed": true
   },
   "outputs": [],
   "source": []
  },
  {
   "cell_type": "markdown",
   "metadata": {},
   "source": [
    "##Question 2\n",
    "\n",
    "To show $\\sum K_i^2 = \\frac{1}{S_{xx}}$ we recognize that:\n",
    "\n",
    "$$K_i^2 = \\frac{\\left(x_i-\\bar{x}\\right)^2}{\\left(S_{xx}\\right)^2}$$\n",
    "\n",
    "then:\n",
    "\n",
    "$$\\sum K_i^2 = \\sum \\frac{\\left(x_i-\\bar{x}\\right)^2}{\\left(S_{xx}\\right)^2}$$\n",
    "\n",
    "$$ = \\frac{1}{\\left(S_{xx}\\right)^2}\\sum \\left(x_i - \\bar{x}\\right)^2$$\n",
    "\n",
    "$$ = \\frac{S_{xx}}{\\left(S_{xx}\\right)^2}$$\n",
    "\n",
    "$$ = \\frac{1}{S_{xx}}$$"
   ]
  },
  {
   "cell_type": "markdown",
   "metadata": {
    "collapsed": true
   },
   "source": [
    "##Question 3\n",
    "\n",
    "$$b_0 = \\bar{Y} - b_1\\bar{X}$$\n",
    "\n",
    "$$V\\left(b_0\\right) = V\\left(\\bar{Y} - b_1\\bar{X}\\right)$$\n",
    "\n",
    "$$ = V\\left(\\bar{Y}\\right) - 2 \\bar{X}Cov\\left(\\bar{Y},b_1\\right)+ \\bar{X}^2 V\\left(b_1\\right)$$\n",
    "\n",
    "$$ = \\frac{\\sigma^2}{n} - 2 \\bar{X}Cov\\left(\\bar{Y},b_1\\right)+ \\bar{X}^2 \\frac{\\sigma^2}{S_{xx}}$$\n",
    "\n",
    "$$\\text{since }Cov\\left(\\bar{Y},b_1\\right) = 0 \\text{ by independence of the }Y_i \\text{ then:}$$\n",
    "\n",
    "$$ V\\left(b_0\\right) = \\frac{\\sigma^2}{n} + \\bar{X}^2 \\frac{ \\sigma^2}{S_{xx}}$$\n",
    "\n",
    "$$ = \\sigma^2 \\left[\\frac{1}{n} + \\frac{\\bar{X}^2}{S_{xx}}\\right]$$"
   ]
  },
  {
   "cell_type": "markdown",
   "metadata": {},
   "source": [
    "##Problem 2.7"
   ]
  },
  {
   "cell_type": "markdown",
   "metadata": {},
   "source": [
    "We can calculate the standard error of the $b_1$ coefficient or read it of the summary table.\n",
    "\n",
    "$$SE(b_1)=\\frac{\\hat{\\sigma}}{\\sqrt{\\sum\\left(x_i - \\bar{x}\\right)^2}}$$"
   ]
  },
  {
   "cell_type": "code",
   "execution_count": 37,
   "metadata": {
    "collapsed": false
   },
   "outputs": [
    {
     "name": "stdout",
     "output_type": "stream",
     "text": [
      "0.0903937937384\n"
     ]
    }
   ],
   "source": [
    "stderr_beta1 = np.sqrt(variance/sum((df['hours']-np.mean(df['hours']))**2))\n",
    "\n",
    "print stderr_beta1"
   ]
  },
  {
   "cell_type": "markdown",
   "metadata": {},
   "source": [
    "###Part a.\n",
    "\n",
    "Now we obtain the critical value $t_{\\alpha/2,n-2}$ by finding the inverse $\\alpha/2=CDF = 0.005$ value from the t-distribution with $14$ degrees of freedom:"
   ]
  },
  {
   "cell_type": "code",
   "execution_count": 38,
   "metadata": {
    "collapsed": false
   },
   "outputs": [
    {
     "name": "stdout",
     "output_type": "stream",
     "text": [
      "2.97684273411\n"
     ]
    }
   ],
   "source": [
    "from scipy.stats import t\n",
    "\n",
    "tcrit = abs(t.ppf(0.005, 14, loc=0, scale=1))\n",
    "\n",
    "print tcrit"
   ]
  },
  {
   "cell_type": "markdown",
   "metadata": {},
   "source": [
    "Now we can construct an 99% interval for $b_1$. This interval is given by:\n",
    "\n",
    "$$b_1 \\pm t_{0.005,14}SE(b_1)$$"
   ]
  },
  {
   "cell_type": "code",
   "execution_count": 39,
   "metadata": {
    "collapsed": false
   },
   "outputs": [
    {
     "name": "stdout",
     "output_type": "stream",
     "text": [
      "[1.7652868919008251, 2.3034631080991628]\n"
     ]
    }
   ],
   "source": [
    "print [model.params[1]-tcrit*stderr_beta1, model.params[1]+tcrit*stderr_beta1]"
   ]
  },
  {
   "cell_type": "markdown",
   "metadata": {
    "collapsed": true
   },
   "source": [
    "###Part b.\n",
    "\n",
    "The hypothesis test is as follows:\n",
    "\n",
    "$H_o: \\beta_1 = 2$\n",
    "\n",
    "$H_a: \\beta_1 \\neq 2$"
   ]
  },
  {
   "cell_type": "markdown",
   "metadata": {},
   "source": [
    "The decision rule is that if $\\left|t_{stat}\\right|>\\left|t_{0.005,14}\\right|$, we would reject the null hypothesis $H_o$ and fail to reject $H_o$ otherwise. We calculate $t_{stat}$ below:\n",
    "\n",
    "$$t_{stat}=\\frac{b_1-\\beta_1^{null}}{SE(b_1)}\\approx\\frac{2.03-2}{0.09}\\approx 0.38$$\n",
    "\n",
    "A better approximation is computed below:"
   ]
  },
  {
   "cell_type": "code",
   "execution_count": 40,
   "metadata": {
    "collapsed": false
   },
   "outputs": [
    {
     "name": "stdout",
     "output_type": "stream",
     "text": [
      "0.380280532306\n"
     ]
    }
   ],
   "source": [
    "tstat = (model.params[1]-2)/stderr_beta1\n",
    "\n",
    "print tstat"
   ]
  },
  {
   "cell_type": "markdown",
   "metadata": {},
   "source": [
    "Since $\\left|t_{stat}\\right|<\\left|t_{0.005,14}\\right|$ we fail to reject $H_o$."
   ]
  },
  {
   "cell_type": "markdown",
   "metadata": {},
   "source": [
    "The p-value is given below:"
   ]
  },
  {
   "cell_type": "code",
   "execution_count": 41,
   "metadata": {
    "collapsed": false
   },
   "outputs": [
    {
     "name": "stdout",
     "output_type": "stream",
     "text": [
      "0.70944445577\n"
     ]
    }
   ],
   "source": [
    "pval = 2*(1-t.cdf(tstat,14))\n",
    "\n",
    "print pval"
   ]
  }
 ],
 "metadata": {
  "kernelspec": {
   "display_name": "Python 2",
   "language": "python",
   "name": "python2"
  },
  "language_info": {
   "codemirror_mode": {
    "name": "ipython",
    "version": 2
   },
   "file_extension": ".py",
   "mimetype": "text/x-python",
   "name": "python",
   "nbconvert_exporter": "python",
   "pygments_lexer": "ipython2",
   "version": "2.7.10"
  }
 },
 "nbformat": 4,
 "nbformat_minor": 0
}

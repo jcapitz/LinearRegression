{
 "cells": [
  {
   "cell_type": "markdown",
   "metadata": {},
   "source": [
    "# Analysis of Cancer Gene Expression Data\n",
    "\n",
    "##### Python main module imports for data analysis\n",
    "\n",
    "The purpose of this analysis is to implement elastic net regularization on logistic regression to perform feature selection and classication tasks on genetic data"
   ]
  },
  {
   "cell_type": "code",
   "execution_count": 50,
   "metadata": {
    "collapsed": false
   },
   "outputs": [],
   "source": [
    "# Data Imports\n",
    "import numpy as np\n",
    "import pandas as pd\n",
    "from pandas import Series,DataFrame\n",
    "from scipy.stats import norm\n",
    "\n",
    "\n",
    "# Math\n",
    "import math\n",
    "\n",
    "# Plot imports\n",
    "import matplotlib.pyplot as plt\n",
    "import seaborn as sns\n",
    "sns.set_style('whitegrid')\n",
    "%matplotlib inline\n",
    "\n",
    "# Preprocessing Imports\n",
    "from sklearn.preprocessing import normalize\n",
    "\n",
    "# Machine Learning Imports\n",
    "from sklearn.linear_model import LogisticRegression\n",
    "from sklearn.linear_model import SGDClassifier\n",
    "from sklearn.preprocessing import StandardScaler\n",
    "from sklearn.ensemble import RandomForestClassifier\n",
    "\n",
    "\n",
    "from sklearn.linear_model import RandomizedLogisticRegression\n",
    "from sklearn.cross_validation import train_test_split\n",
    "\n",
    "# For evaluating our ML results\n",
    "from sklearn import metrics\n",
    "from sklearn.metrics import roc_auc_score, confusion_matrix, roc_curve, auc\n",
    "\n",
    "# For Spectral Clustering algorithms\n",
    "from sklearn import cluster\n",
    "from sklearn.neighbors import kneighbors_graph\n",
    "\n",
    "# network imports\n",
    "import networkx as nx\n",
    "import igraph as ig"
   ]
  },
  {
   "cell_type": "markdown",
   "metadata": {},
   "source": [
    "### Data Cleaning\n",
    "\n",
    "##### Choose the data set:"
   ]
  },
  {
   "cell_type": "code",
   "execution_count": 51,
   "metadata": {
    "collapsed": false
   },
   "outputs": [],
   "source": [
    "# read data file\n",
    "datafile = '~/Documents/THESIS/project/ICOS_DATA/breast_preprocessed.txt'\n",
    "data = pd.read_table(datafile, delim_whitespace = True, \n",
    "                     dtype={'a': np.float64}, header = None)"
   ]
  },
  {
   "cell_type": "code",
   "execution_count": 52,
   "metadata": {
    "collapsed": false
   },
   "outputs": [
    {
     "name": "stdout",
     "output_type": "stream",
     "text": [
      "(47294, 129)\n"
     ]
    },
    {
     "data": {
      "text/html": [
       "<div>\n",
       "<table border=\"1\" class=\"dataframe\">\n",
       "  <thead>\n",
       "    <tr style=\"text-align: right;\">\n",
       "      <th></th>\n",
       "      <th>0</th>\n",
       "      <th>1</th>\n",
       "      <th>2</th>\n",
       "      <th>3</th>\n",
       "      <th>4</th>\n",
       "      <th>5</th>\n",
       "      <th>6</th>\n",
       "      <th>7</th>\n",
       "      <th>8</th>\n",
       "      <th>9</th>\n",
       "      <th>...</th>\n",
       "      <th>119</th>\n",
       "      <th>120</th>\n",
       "      <th>121</th>\n",
       "      <th>122</th>\n",
       "      <th>123</th>\n",
       "      <th>124</th>\n",
       "      <th>125</th>\n",
       "      <th>126</th>\n",
       "      <th>127</th>\n",
       "      <th>128</th>\n",
       "    </tr>\n",
       "  </thead>\n",
       "  <tbody>\n",
       "    <tr>\n",
       "      <th>47289</th>\n",
       "      <td>lysA</td>\n",
       "      <td>5.68</td>\n",
       "      <td>5.7194</td>\n",
       "      <td>5.7592</td>\n",
       "      <td>5.6898</td>\n",
       "      <td>5.7236</td>\n",
       "      <td>5.662</td>\n",
       "      <td>5.6684</td>\n",
       "      <td>5.6742</td>\n",
       "      <td>5.6669</td>\n",
       "      <td>...</td>\n",
       "      <td>5.7164</td>\n",
       "      <td>5.7175</td>\n",
       "      <td>5.7133</td>\n",
       "      <td>5.7133</td>\n",
       "      <td>5.6753</td>\n",
       "      <td>5.6679</td>\n",
       "      <td>5.6692</td>\n",
       "      <td>5.7666</td>\n",
       "      <td>5.72</td>\n",
       "      <td>5.75</td>\n",
       "    </tr>\n",
       "    <tr>\n",
       "      <th>47290</th>\n",
       "      <td>pheA</td>\n",
       "      <td>5.705</td>\n",
       "      <td>5.6142</td>\n",
       "      <td>5.6955</td>\n",
       "      <td>5.6227</td>\n",
       "      <td>5.6727</td>\n",
       "      <td>5.5995</td>\n",
       "      <td>5.633</td>\n",
       "      <td>5.6539</td>\n",
       "      <td>5.6511</td>\n",
       "      <td>...</td>\n",
       "      <td>5.6595</td>\n",
       "      <td>5.6292</td>\n",
       "      <td>5.6042</td>\n",
       "      <td>5.6266</td>\n",
       "      <td>5.6022</td>\n",
       "      <td>5.6709</td>\n",
       "      <td>5.6136</td>\n",
       "      <td>5.6038</td>\n",
       "      <td>5.6693</td>\n",
       "      <td>5.5818</td>\n",
       "    </tr>\n",
       "    <tr>\n",
       "      <th>47291</th>\n",
       "      <td>thrB</td>\n",
       "      <td>5.7077</td>\n",
       "      <td>5.7586</td>\n",
       "      <td>5.7279</td>\n",
       "      <td>5.6777</td>\n",
       "      <td>5.6761</td>\n",
       "      <td>5.7091</td>\n",
       "      <td>5.6777</td>\n",
       "      <td>5.68</td>\n",
       "      <td>5.6763</td>\n",
       "      <td>...</td>\n",
       "      <td>5.6918</td>\n",
       "      <td>5.6501</td>\n",
       "      <td>5.5772</td>\n",
       "      <td>5.6637</td>\n",
       "      <td>5.6556</td>\n",
       "      <td>5.6587</td>\n",
       "      <td>5.6987</td>\n",
       "      <td>5.6933</td>\n",
       "      <td>5.6775</td>\n",
       "      <td>5.68</td>\n",
       "    </tr>\n",
       "    <tr>\n",
       "      <th>47292</th>\n",
       "      <td>trpF</td>\n",
       "      <td>5.6684</td>\n",
       "      <td>5.6585</td>\n",
       "      <td>5.6337</td>\n",
       "      <td>5.6427</td>\n",
       "      <td>5.6371</td>\n",
       "      <td>5.6691</td>\n",
       "      <td>5.62</td>\n",
       "      <td>5.6199</td>\n",
       "      <td>5.6608</td>\n",
       "      <td>...</td>\n",
       "      <td>5.6392</td>\n",
       "      <td>5.6451</td>\n",
       "      <td>5.6149</td>\n",
       "      <td>5.551</td>\n",
       "      <td>5.605</td>\n",
       "      <td>5.6246</td>\n",
       "      <td>5.5404</td>\n",
       "      <td>5.6206</td>\n",
       "      <td>5.6552</td>\n",
       "      <td>5.6141</td>\n",
       "    </tr>\n",
       "    <tr>\n",
       "      <th>47293</th>\n",
       "      <td>y</td>\n",
       "      <td>luminal</td>\n",
       "      <td>luminal</td>\n",
       "      <td>luminal</td>\n",
       "      <td>luminal</td>\n",
       "      <td>luminal</td>\n",
       "      <td>non-luminal</td>\n",
       "      <td>non-luminal</td>\n",
       "      <td>luminal</td>\n",
       "      <td>luminal</td>\n",
       "      <td>...</td>\n",
       "      <td>luminal</td>\n",
       "      <td>luminal</td>\n",
       "      <td>luminal</td>\n",
       "      <td>non-luminal</td>\n",
       "      <td>non-luminal</td>\n",
       "      <td>luminal</td>\n",
       "      <td>luminal</td>\n",
       "      <td>luminal</td>\n",
       "      <td>non-luminal</td>\n",
       "      <td>luminal</td>\n",
       "    </tr>\n",
       "  </tbody>\n",
       "</table>\n",
       "<p>5 rows × 129 columns</p>\n",
       "</div>"
      ],
      "text/plain": [
       "        0        1        2        3        4        5            6    \\\n",
       "47289  lysA     5.68   5.7194   5.7592   5.6898   5.7236        5.662   \n",
       "47290  pheA    5.705   5.6142   5.6955   5.6227   5.6727       5.5995   \n",
       "47291  thrB   5.7077   5.7586   5.7279   5.6777   5.6761       5.7091   \n",
       "47292  trpF   5.6684   5.6585   5.6337   5.6427   5.6371       5.6691   \n",
       "47293     y  luminal  luminal  luminal  luminal  luminal  non-luminal   \n",
       "\n",
       "               7        8        9     ...         119      120      121  \\\n",
       "47289       5.6684   5.6742   5.6669   ...      5.7164   5.7175   5.7133   \n",
       "47290        5.633   5.6539   5.6511   ...      5.6595   5.6292   5.6042   \n",
       "47291       5.6777     5.68   5.6763   ...      5.6918   5.6501   5.5772   \n",
       "47292         5.62   5.6199   5.6608   ...      5.6392   5.6451   5.6149   \n",
       "47293  non-luminal  luminal  luminal   ...     luminal  luminal  luminal   \n",
       "\n",
       "               122          123      124      125      126          127  \\\n",
       "47289       5.7133       5.6753   5.6679   5.6692   5.7666         5.72   \n",
       "47290       5.6266       5.6022   5.6709   5.6136   5.6038       5.6693   \n",
       "47291       5.6637       5.6556   5.6587   5.6987   5.6933       5.6775   \n",
       "47292        5.551        5.605   5.6246   5.5404   5.6206       5.6552   \n",
       "47293  non-luminal  non-luminal  luminal  luminal  luminal  non-luminal   \n",
       "\n",
       "           128  \n",
       "47289     5.75  \n",
       "47290   5.5818  \n",
       "47291     5.68  \n",
       "47292   5.6141  \n",
       "47293  luminal  \n",
       "\n",
       "[5 rows x 129 columns]"
      ]
     },
     "execution_count": 52,
     "metadata": {},
     "output_type": "execute_result"
    }
   ],
   "source": [
    "# data dimension\n",
    "print data.shape\n",
    "# last 5 rows of the data\n",
    "data.tail()"
   ]
  },
  {
   "cell_type": "code",
   "execution_count": 53,
   "metadata": {
    "collapsed": false
   },
   "outputs": [],
   "source": [
    "# extract colum names (all but last one are gene names).\n",
    "colNames = data[0]\n",
    "colNames = list(colNames)"
   ]
  },
  {
   "cell_type": "code",
   "execution_count": 54,
   "metadata": {
    "collapsed": false
   },
   "outputs": [
    {
     "data": {
      "text/html": [
       "<div>\n",
       "<table border=\"1\" class=\"dataframe\">\n",
       "  <thead>\n",
       "    <tr style=\"text-align: right;\">\n",
       "      <th></th>\n",
       "      <th>GI_10047089-S</th>\n",
       "      <th>GI_10047091-S</th>\n",
       "      <th>GI_10047093-S</th>\n",
       "      <th>GI_10047099-S</th>\n",
       "      <th>GI_10047103-S</th>\n",
       "      <th>GI_10047105-S</th>\n",
       "      <th>GI_10047121-S</th>\n",
       "      <th>GI_10047123-S</th>\n",
       "      <th>GI_10047133-A</th>\n",
       "      <th>GI_10047133-I</th>\n",
       "      <th>...</th>\n",
       "      <th>hmm9738-S</th>\n",
       "      <th>hmm974-S</th>\n",
       "      <th>hmm9750-S</th>\n",
       "      <th>hmm9917-S</th>\n",
       "      <th>hmm9988-S</th>\n",
       "      <th>lysA</th>\n",
       "      <th>pheA</th>\n",
       "      <th>thrB</th>\n",
       "      <th>trpF</th>\n",
       "      <th>y</th>\n",
       "    </tr>\n",
       "  </thead>\n",
       "  <tbody>\n",
       "    <tr>\n",
       "      <th>0</th>\n",
       "      <td>5.3416</td>\n",
       "      <td>5.846</td>\n",
       "      <td>6.7052</td>\n",
       "      <td>6.4184</td>\n",
       "      <td>8.6651</td>\n",
       "      <td>5.7238</td>\n",
       "      <td>5.7566</td>\n",
       "      <td>6.8052</td>\n",
       "      <td>5.6885</td>\n",
       "      <td>5.8921</td>\n",
       "      <td>...</td>\n",
       "      <td>5.5959</td>\n",
       "      <td>5.8873</td>\n",
       "      <td>5.8005</td>\n",
       "      <td>5.5931</td>\n",
       "      <td>5.746</td>\n",
       "      <td>5.68</td>\n",
       "      <td>5.705</td>\n",
       "      <td>5.7077</td>\n",
       "      <td>5.6684</td>\n",
       "      <td>luminal</td>\n",
       "    </tr>\n",
       "    <tr>\n",
       "      <th>1</th>\n",
       "      <td>5.6259</td>\n",
       "      <td>5.8742</td>\n",
       "      <td>6.8089</td>\n",
       "      <td>6.6955</td>\n",
       "      <td>8.6113</td>\n",
       "      <td>5.8368</td>\n",
       "      <td>5.6288</td>\n",
       "      <td>7.7121</td>\n",
       "      <td>5.6911</td>\n",
       "      <td>6.0818</td>\n",
       "      <td>...</td>\n",
       "      <td>5.5832</td>\n",
       "      <td>5.7613</td>\n",
       "      <td>5.6705</td>\n",
       "      <td>5.7903</td>\n",
       "      <td>5.6111</td>\n",
       "      <td>5.7194</td>\n",
       "      <td>5.6142</td>\n",
       "      <td>5.7586</td>\n",
       "      <td>5.6585</td>\n",
       "      <td>luminal</td>\n",
       "    </tr>\n",
       "    <tr>\n",
       "      <th>2</th>\n",
       "      <td>5.6181</td>\n",
       "      <td>5.8026</td>\n",
       "      <td>6.6975</td>\n",
       "      <td>6.5851</td>\n",
       "      <td>8.3808</td>\n",
       "      <td>5.7835</td>\n",
       "      <td>5.8264</td>\n",
       "      <td>7.1011</td>\n",
       "      <td>5.6057</td>\n",
       "      <td>5.4915</td>\n",
       "      <td>...</td>\n",
       "      <td>5.5109</td>\n",
       "      <td>5.6742</td>\n",
       "      <td>5.7253</td>\n",
       "      <td>5.6365</td>\n",
       "      <td>5.4889</td>\n",
       "      <td>5.7592</td>\n",
       "      <td>5.6955</td>\n",
       "      <td>5.7279</td>\n",
       "      <td>5.6337</td>\n",
       "      <td>luminal</td>\n",
       "    </tr>\n",
       "    <tr>\n",
       "      <th>3</th>\n",
       "      <td>5.5602</td>\n",
       "      <td>5.8394</td>\n",
       "      <td>6.8386</td>\n",
       "      <td>6.7055</td>\n",
       "      <td>8.4486</td>\n",
       "      <td>5.5497</td>\n",
       "      <td>5.8045</td>\n",
       "      <td>7.6032</td>\n",
       "      <td>5.5867</td>\n",
       "      <td>5.7122</td>\n",
       "      <td>...</td>\n",
       "      <td>5.6254</td>\n",
       "      <td>5.8001</td>\n",
       "      <td>5.7344</td>\n",
       "      <td>5.6971</td>\n",
       "      <td>5.4883</td>\n",
       "      <td>5.6898</td>\n",
       "      <td>5.6227</td>\n",
       "      <td>5.6777</td>\n",
       "      <td>5.6427</td>\n",
       "      <td>luminal</td>\n",
       "    </tr>\n",
       "    <tr>\n",
       "      <th>4</th>\n",
       "      <td>5.5385</td>\n",
       "      <td>5.8876</td>\n",
       "      <td>6.572</td>\n",
       "      <td>6.1651</td>\n",
       "      <td>8.8246</td>\n",
       "      <td>5.7474</td>\n",
       "      <td>5.821</td>\n",
       "      <td>7.4015</td>\n",
       "      <td>5.6479</td>\n",
       "      <td>5.8412</td>\n",
       "      <td>...</td>\n",
       "      <td>5.7101</td>\n",
       "      <td>5.8066</td>\n",
       "      <td>5.6583</td>\n",
       "      <td>5.7032</td>\n",
       "      <td>5.58</td>\n",
       "      <td>5.7236</td>\n",
       "      <td>5.6727</td>\n",
       "      <td>5.6761</td>\n",
       "      <td>5.6371</td>\n",
       "      <td>luminal</td>\n",
       "    </tr>\n",
       "  </tbody>\n",
       "</table>\n",
       "<p>5 rows × 47294 columns</p>\n",
       "</div>"
      ],
      "text/plain": [
       "  GI_10047089-S GI_10047091-S GI_10047093-S GI_10047099-S GI_10047103-S  \\\n",
       "0        5.3416         5.846        6.7052        6.4184        8.6651   \n",
       "1        5.6259        5.8742        6.8089        6.6955        8.6113   \n",
       "2        5.6181        5.8026        6.6975        6.5851        8.3808   \n",
       "3        5.5602        5.8394        6.8386        6.7055        8.4486   \n",
       "4        5.5385        5.8876         6.572        6.1651        8.8246   \n",
       "\n",
       "  GI_10047105-S GI_10047121-S GI_10047123-S GI_10047133-A GI_10047133-I  \\\n",
       "0        5.7238        5.7566        6.8052        5.6885        5.8921   \n",
       "1        5.8368        5.6288        7.7121        5.6911        6.0818   \n",
       "2        5.7835        5.8264        7.1011        5.6057        5.4915   \n",
       "3        5.5497        5.8045        7.6032        5.5867        5.7122   \n",
       "4        5.7474         5.821        7.4015        5.6479        5.8412   \n",
       "\n",
       "    ...    hmm9738-S hmm974-S hmm9750-S hmm9917-S hmm9988-S    lysA    pheA  \\\n",
       "0   ...       5.5959   5.8873    5.8005    5.5931     5.746    5.68   5.705   \n",
       "1   ...       5.5832   5.7613    5.6705    5.7903    5.6111  5.7194  5.6142   \n",
       "2   ...       5.5109   5.6742    5.7253    5.6365    5.4889  5.7592  5.6955   \n",
       "3   ...       5.6254   5.8001    5.7344    5.6971    5.4883  5.6898  5.6227   \n",
       "4   ...       5.7101   5.8066    5.6583    5.7032      5.58  5.7236  5.6727   \n",
       "\n",
       "     thrB    trpF        y  \n",
       "0  5.7077  5.6684  luminal  \n",
       "1  5.7586  5.6585  luminal  \n",
       "2  5.7279  5.6337  luminal  \n",
       "3  5.6777  5.6427  luminal  \n",
       "4  5.6761  5.6371  luminal  \n",
       "\n",
       "[5 rows x 47294 columns]"
      ]
     },
     "execution_count": 54,
     "metadata": {},
     "output_type": "execute_result"
    }
   ],
   "source": [
    "# tranpose the data to have genes as columns and microarray experiment as rows\n",
    "data2 = data.T.ix[1:]\n",
    "\n",
    "# reset the index to satrt at 0\n",
    "data2 = data2.reset_index(drop=True)\n",
    "\n",
    "# add colum labels\n",
    "data2.columns=colNames\n",
    "data2.head()"
   ]
  },
  {
   "cell_type": "code",
   "execution_count": 55,
   "metadata": {
    "collapsed": false
   },
   "outputs": [
    {
     "data": {
      "text/html": [
       "<div>\n",
       "<table border=\"1\" class=\"dataframe\">\n",
       "  <thead>\n",
       "    <tr style=\"text-align: right;\">\n",
       "      <th></th>\n",
       "      <th>GI_10047089-S</th>\n",
       "      <th>GI_10047091-S</th>\n",
       "      <th>GI_10047093-S</th>\n",
       "      <th>GI_10047099-S</th>\n",
       "      <th>GI_10047103-S</th>\n",
       "      <th>GI_10047105-S</th>\n",
       "      <th>GI_10047121-S</th>\n",
       "      <th>GI_10047123-S</th>\n",
       "      <th>GI_10047133-A</th>\n",
       "      <th>GI_10047133-I</th>\n",
       "      <th>...</th>\n",
       "      <th>hmm9738-S</th>\n",
       "      <th>hmm974-S</th>\n",
       "      <th>hmm9750-S</th>\n",
       "      <th>hmm9917-S</th>\n",
       "      <th>hmm9988-S</th>\n",
       "      <th>lysA</th>\n",
       "      <th>pheA</th>\n",
       "      <th>thrB</th>\n",
       "      <th>trpF</th>\n",
       "      <th>y</th>\n",
       "    </tr>\n",
       "  </thead>\n",
       "  <tbody>\n",
       "    <tr>\n",
       "      <th>count</th>\n",
       "      <td>128.0000</td>\n",
       "      <td>128.0000</td>\n",
       "      <td>128.0000</td>\n",
       "      <td>128.0000</td>\n",
       "      <td>128.000</td>\n",
       "      <td>128.0000</td>\n",
       "      <td>128.0000</td>\n",
       "      <td>128.0000</td>\n",
       "      <td>128.0000</td>\n",
       "      <td>128.0000</td>\n",
       "      <td>...</td>\n",
       "      <td>128</td>\n",
       "      <td>128</td>\n",
       "      <td>128</td>\n",
       "      <td>128</td>\n",
       "      <td>128</td>\n",
       "      <td>128</td>\n",
       "      <td>128</td>\n",
       "      <td>128</td>\n",
       "      <td>128</td>\n",
       "      <td>128</td>\n",
       "    </tr>\n",
       "    <tr>\n",
       "      <th>unique</th>\n",
       "      <td>127.0000</td>\n",
       "      <td>125.0000</td>\n",
       "      <td>124.0000</td>\n",
       "      <td>127.0000</td>\n",
       "      <td>126.000</td>\n",
       "      <td>125.0000</td>\n",
       "      <td>127.0000</td>\n",
       "      <td>126.0000</td>\n",
       "      <td>127.0000</td>\n",
       "      <td>127.0000</td>\n",
       "      <td>...</td>\n",
       "      <td>126</td>\n",
       "      <td>128</td>\n",
       "      <td>127</td>\n",
       "      <td>125</td>\n",
       "      <td>126</td>\n",
       "      <td>121</td>\n",
       "      <td>121</td>\n",
       "      <td>121</td>\n",
       "      <td>123</td>\n",
       "      <td>2</td>\n",
       "    </tr>\n",
       "    <tr>\n",
       "      <th>top</th>\n",
       "      <td>5.5094</td>\n",
       "      <td>5.8394</td>\n",
       "      <td>6.7812</td>\n",
       "      <td>5.9103</td>\n",
       "      <td>8.632</td>\n",
       "      <td>5.8066</td>\n",
       "      <td>5.8408</td>\n",
       "      <td>7.5101</td>\n",
       "      <td>5.3875</td>\n",
       "      <td>5.7857</td>\n",
       "      <td>...</td>\n",
       "      <td>5.7259</td>\n",
       "      <td>5.6567</td>\n",
       "      <td>6.1477</td>\n",
       "      <td>5.8009</td>\n",
       "      <td>5.4501</td>\n",
       "      <td>5.7032</td>\n",
       "      <td>5.6022</td>\n",
       "      <td>5.6775</td>\n",
       "      <td>5.63</td>\n",
       "      <td>luminal</td>\n",
       "    </tr>\n",
       "    <tr>\n",
       "      <th>freq</th>\n",
       "      <td>2.0000</td>\n",
       "      <td>2.0000</td>\n",
       "      <td>2.0000</td>\n",
       "      <td>2.0000</td>\n",
       "      <td>2.000</td>\n",
       "      <td>2.0000</td>\n",
       "      <td>2.0000</td>\n",
       "      <td>2.0000</td>\n",
       "      <td>2.0000</td>\n",
       "      <td>2.0000</td>\n",
       "      <td>...</td>\n",
       "      <td>2</td>\n",
       "      <td>1</td>\n",
       "      <td>2</td>\n",
       "      <td>2</td>\n",
       "      <td>2</td>\n",
       "      <td>2</td>\n",
       "      <td>2</td>\n",
       "      <td>3</td>\n",
       "      <td>2</td>\n",
       "      <td>84</td>\n",
       "    </tr>\n",
       "  </tbody>\n",
       "</table>\n",
       "<p>4 rows × 47294 columns</p>\n",
       "</div>"
      ],
      "text/plain": [
       "        GI_10047089-S  GI_10047091-S  GI_10047093-S  GI_10047099-S  \\\n",
       "count        128.0000       128.0000       128.0000       128.0000   \n",
       "unique       127.0000       125.0000       124.0000       127.0000   \n",
       "top            5.5094         5.8394         6.7812         5.9103   \n",
       "freq           2.0000         2.0000         2.0000         2.0000   \n",
       "\n",
       "        GI_10047103-S  GI_10047105-S  GI_10047121-S  GI_10047123-S  \\\n",
       "count         128.000       128.0000       128.0000       128.0000   \n",
       "unique        126.000       125.0000       127.0000       126.0000   \n",
       "top             8.632         5.8066         5.8408         7.5101   \n",
       "freq            2.000         2.0000         2.0000         2.0000   \n",
       "\n",
       "        GI_10047133-A  GI_10047133-I   ...     hmm9738-S  hmm974-S  hmm9750-S  \\\n",
       "count        128.0000       128.0000   ...           128       128        128   \n",
       "unique       127.0000       127.0000   ...           126       128        127   \n",
       "top            5.3875         5.7857   ...        5.7259    5.6567     6.1477   \n",
       "freq           2.0000         2.0000   ...             2         1          2   \n",
       "\n",
       "        hmm9917-S  hmm9988-S    lysA    pheA    thrB  trpF        y  \n",
       "count         128        128     128     128     128   128      128  \n",
       "unique        125        126     121     121     121   123        2  \n",
       "top        5.8009     5.4501  5.7032  5.6022  5.6775  5.63  luminal  \n",
       "freq            2          2       2       2       3     2       84  \n",
       "\n",
       "[4 rows x 47294 columns]"
      ]
     },
     "execution_count": 55,
     "metadata": {},
     "output_type": "execute_result"
    }
   ],
   "source": [
    "data2.describe()"
   ]
  },
  {
   "cell_type": "code",
   "execution_count": 56,
   "metadata": {
    "collapsed": false
   },
   "outputs": [
    {
     "name": "stdout",
     "output_type": "stream",
     "text": [
      "(128, 47293)\n"
     ]
    }
   ],
   "source": [
    "# create date set with genes only. This is the features matrix\n",
    "X = data2[range(data.shape[0]-1)]\n",
    "print X.shape\n",
    "\n",
    "# make sure data type is float and not string.\n",
    "X = X.astype(float)"
   ]
  },
  {
   "cell_type": "code",
   "execution_count": 57,
   "metadata": {
    "collapsed": true
   },
   "outputs": [],
   "source": [
    "# store the gene names/ids\n",
    "geneNames = X.columns"
   ]
  },
  {
   "cell_type": "code",
   "execution_count": 58,
   "metadata": {
    "collapsed": false
   },
   "outputs": [
    {
     "data": {
      "text/html": [
       "<div>\n",
       "<table border=\"1\" class=\"dataframe\">\n",
       "  <thead>\n",
       "    <tr style=\"text-align: right;\">\n",
       "      <th></th>\n",
       "      <th>GI_10047089-S</th>\n",
       "      <th>GI_10047091-S</th>\n",
       "      <th>GI_10047093-S</th>\n",
       "      <th>GI_10047099-S</th>\n",
       "      <th>GI_10047103-S</th>\n",
       "      <th>GI_10047105-S</th>\n",
       "      <th>GI_10047121-S</th>\n",
       "      <th>GI_10047123-S</th>\n",
       "      <th>GI_10047133-A</th>\n",
       "      <th>GI_10047133-I</th>\n",
       "      <th>...</th>\n",
       "      <th>hmm9715-S</th>\n",
       "      <th>hmm9738-S</th>\n",
       "      <th>hmm974-S</th>\n",
       "      <th>hmm9750-S</th>\n",
       "      <th>hmm9917-S</th>\n",
       "      <th>hmm9988-S</th>\n",
       "      <th>lysA</th>\n",
       "      <th>pheA</th>\n",
       "      <th>thrB</th>\n",
       "      <th>trpF</th>\n",
       "    </tr>\n",
       "  </thead>\n",
       "  <tbody>\n",
       "    <tr>\n",
       "      <th>0</th>\n",
       "      <td>5.3416</td>\n",
       "      <td>5.8460</td>\n",
       "      <td>6.7052</td>\n",
       "      <td>6.4184</td>\n",
       "      <td>8.6651</td>\n",
       "      <td>5.7238</td>\n",
       "      <td>5.7566</td>\n",
       "      <td>6.8052</td>\n",
       "      <td>5.6885</td>\n",
       "      <td>5.8921</td>\n",
       "      <td>...</td>\n",
       "      <td>5.7645</td>\n",
       "      <td>5.5959</td>\n",
       "      <td>5.8873</td>\n",
       "      <td>5.8005</td>\n",
       "      <td>5.5931</td>\n",
       "      <td>5.7460</td>\n",
       "      <td>5.6800</td>\n",
       "      <td>5.7050</td>\n",
       "      <td>5.7077</td>\n",
       "      <td>5.6684</td>\n",
       "    </tr>\n",
       "    <tr>\n",
       "      <th>1</th>\n",
       "      <td>5.6259</td>\n",
       "      <td>5.8742</td>\n",
       "      <td>6.8089</td>\n",
       "      <td>6.6955</td>\n",
       "      <td>8.6113</td>\n",
       "      <td>5.8368</td>\n",
       "      <td>5.6288</td>\n",
       "      <td>7.7121</td>\n",
       "      <td>5.6911</td>\n",
       "      <td>6.0818</td>\n",
       "      <td>...</td>\n",
       "      <td>5.8293</td>\n",
       "      <td>5.5832</td>\n",
       "      <td>5.7613</td>\n",
       "      <td>5.6705</td>\n",
       "      <td>5.7903</td>\n",
       "      <td>5.6111</td>\n",
       "      <td>5.7194</td>\n",
       "      <td>5.6142</td>\n",
       "      <td>5.7586</td>\n",
       "      <td>5.6585</td>\n",
       "    </tr>\n",
       "    <tr>\n",
       "      <th>2</th>\n",
       "      <td>5.6181</td>\n",
       "      <td>5.8026</td>\n",
       "      <td>6.6975</td>\n",
       "      <td>6.5851</td>\n",
       "      <td>8.3808</td>\n",
       "      <td>5.7835</td>\n",
       "      <td>5.8264</td>\n",
       "      <td>7.1011</td>\n",
       "      <td>5.6057</td>\n",
       "      <td>5.4915</td>\n",
       "      <td>...</td>\n",
       "      <td>5.6392</td>\n",
       "      <td>5.5109</td>\n",
       "      <td>5.6742</td>\n",
       "      <td>5.7253</td>\n",
       "      <td>5.6365</td>\n",
       "      <td>5.4889</td>\n",
       "      <td>5.7592</td>\n",
       "      <td>5.6955</td>\n",
       "      <td>5.7279</td>\n",
       "      <td>5.6337</td>\n",
       "    </tr>\n",
       "    <tr>\n",
       "      <th>3</th>\n",
       "      <td>5.5602</td>\n",
       "      <td>5.8394</td>\n",
       "      <td>6.8386</td>\n",
       "      <td>6.7055</td>\n",
       "      <td>8.4486</td>\n",
       "      <td>5.5497</td>\n",
       "      <td>5.8045</td>\n",
       "      <td>7.6032</td>\n",
       "      <td>5.5867</td>\n",
       "      <td>5.7122</td>\n",
       "      <td>...</td>\n",
       "      <td>5.7021</td>\n",
       "      <td>5.6254</td>\n",
       "      <td>5.8001</td>\n",
       "      <td>5.7344</td>\n",
       "      <td>5.6971</td>\n",
       "      <td>5.4883</td>\n",
       "      <td>5.6898</td>\n",
       "      <td>5.6227</td>\n",
       "      <td>5.6777</td>\n",
       "      <td>5.6427</td>\n",
       "    </tr>\n",
       "    <tr>\n",
       "      <th>4</th>\n",
       "      <td>5.5385</td>\n",
       "      <td>5.8876</td>\n",
       "      <td>6.5720</td>\n",
       "      <td>6.1651</td>\n",
       "      <td>8.8246</td>\n",
       "      <td>5.7474</td>\n",
       "      <td>5.8210</td>\n",
       "      <td>7.4015</td>\n",
       "      <td>5.6479</td>\n",
       "      <td>5.8412</td>\n",
       "      <td>...</td>\n",
       "      <td>5.8150</td>\n",
       "      <td>5.7101</td>\n",
       "      <td>5.8066</td>\n",
       "      <td>5.6583</td>\n",
       "      <td>5.7032</td>\n",
       "      <td>5.5800</td>\n",
       "      <td>5.7236</td>\n",
       "      <td>5.6727</td>\n",
       "      <td>5.6761</td>\n",
       "      <td>5.6371</td>\n",
       "    </tr>\n",
       "  </tbody>\n",
       "</table>\n",
       "<p>5 rows × 47293 columns</p>\n",
       "</div>"
      ],
      "text/plain": [
       "   GI_10047089-S  GI_10047091-S  GI_10047093-S  GI_10047099-S  GI_10047103-S  \\\n",
       "0         5.3416         5.8460         6.7052         6.4184         8.6651   \n",
       "1         5.6259         5.8742         6.8089         6.6955         8.6113   \n",
       "2         5.6181         5.8026         6.6975         6.5851         8.3808   \n",
       "3         5.5602         5.8394         6.8386         6.7055         8.4486   \n",
       "4         5.5385         5.8876         6.5720         6.1651         8.8246   \n",
       "\n",
       "   GI_10047105-S  GI_10047121-S  GI_10047123-S  GI_10047133-A  GI_10047133-I  \\\n",
       "0         5.7238         5.7566         6.8052         5.6885         5.8921   \n",
       "1         5.8368         5.6288         7.7121         5.6911         6.0818   \n",
       "2         5.7835         5.8264         7.1011         5.6057         5.4915   \n",
       "3         5.5497         5.8045         7.6032         5.5867         5.7122   \n",
       "4         5.7474         5.8210         7.4015         5.6479         5.8412   \n",
       "\n",
       "    ...    hmm9715-S  hmm9738-S  hmm974-S  hmm9750-S  hmm9917-S  hmm9988-S  \\\n",
       "0   ...       5.7645     5.5959    5.8873     5.8005     5.5931     5.7460   \n",
       "1   ...       5.8293     5.5832    5.7613     5.6705     5.7903     5.6111   \n",
       "2   ...       5.6392     5.5109    5.6742     5.7253     5.6365     5.4889   \n",
       "3   ...       5.7021     5.6254    5.8001     5.7344     5.6971     5.4883   \n",
       "4   ...       5.8150     5.7101    5.8066     5.6583     5.7032     5.5800   \n",
       "\n",
       "     lysA    pheA    thrB    trpF  \n",
       "0  5.6800  5.7050  5.7077  5.6684  \n",
       "1  5.7194  5.6142  5.7586  5.6585  \n",
       "2  5.7592  5.6955  5.7279  5.6337  \n",
       "3  5.6898  5.6227  5.6777  5.6427  \n",
       "4  5.7236  5.6727  5.6761  5.6371  \n",
       "\n",
       "[5 rows x 47293 columns]"
      ]
     },
     "execution_count": 58,
     "metadata": {},
     "output_type": "execute_result"
    }
   ],
   "source": [
    "X.head()"
   ]
  },
  {
   "cell_type": "code",
   "execution_count": 59,
   "metadata": {
    "collapsed": false
   },
   "outputs": [
    {
     "data": {
      "text/plain": [
       "y    object\n",
       "dtype: object"
      ]
     },
     "execution_count": 59,
     "metadata": {},
     "output_type": "execute_result"
    }
   ],
   "source": [
    "# create vector with response variable\n",
    "Y = data2[[-1]]\n",
    "Y.head().dtypes"
   ]
  },
  {
   "cell_type": "code",
   "execution_count": 60,
   "metadata": {
    "collapsed": false
   },
   "outputs": [
    {
     "data": {
      "text/html": [
       "<div>\n",
       "<table border=\"1\" class=\"dataframe\">\n",
       "  <thead>\n",
       "    <tr style=\"text-align: right;\">\n",
       "      <th></th>\n",
       "      <th>y_luminal</th>\n",
       "      <th>y_non-luminal</th>\n",
       "    </tr>\n",
       "  </thead>\n",
       "  <tbody>\n",
       "    <tr>\n",
       "      <th>0</th>\n",
       "      <td>1</td>\n",
       "      <td>0</td>\n",
       "    </tr>\n",
       "    <tr>\n",
       "      <th>1</th>\n",
       "      <td>1</td>\n",
       "      <td>0</td>\n",
       "    </tr>\n",
       "    <tr>\n",
       "      <th>2</th>\n",
       "      <td>1</td>\n",
       "      <td>0</td>\n",
       "    </tr>\n",
       "    <tr>\n",
       "      <th>3</th>\n",
       "      <td>1</td>\n",
       "      <td>0</td>\n",
       "    </tr>\n",
       "    <tr>\n",
       "      <th>4</th>\n",
       "      <td>1</td>\n",
       "      <td>0</td>\n",
       "    </tr>\n",
       "    <tr>\n",
       "      <th>5</th>\n",
       "      <td>0</td>\n",
       "      <td>1</td>\n",
       "    </tr>\n",
       "  </tbody>\n",
       "</table>\n",
       "</div>"
      ],
      "text/plain": [
       "   y_luminal  y_non-luminal\n",
       "0          1              0\n",
       "1          1              0\n",
       "2          1              0\n",
       "3          1              0\n",
       "4          1              0\n",
       "5          0              1"
      ]
     },
     "execution_count": 60,
     "metadata": {},
     "output_type": "execute_result"
    }
   ],
   "source": [
    "# make sure response vector is binary 0, 1.\n",
    "Y = pd.get_dummies(Y)\n",
    "Y.head(6)"
   ]
  },
  {
   "cell_type": "code",
   "execution_count": 61,
   "metadata": {
    "collapsed": false
   },
   "outputs": [],
   "source": [
    "# choose one of the equivalent response vectors.\n",
    "Y = Y.ix[:,0]"
   ]
  },
  {
   "cell_type": "code",
   "execution_count": 62,
   "metadata": {
    "collapsed": false
   },
   "outputs": [
    {
     "data": {
      "text/plain": [
       "0.65625"
      ]
     },
     "execution_count": 62,
     "metadata": {},
     "output_type": "execute_result"
    }
   ],
   "source": [
    "#Percent of cancer positive\n",
    "np.mean(Y)"
   ]
  },
  {
   "cell_type": "code",
   "execution_count": 63,
   "metadata": {
    "collapsed": false
   },
   "outputs": [
    {
     "data": {
      "text/plain": [
       "0.82144745622309201"
      ]
     },
     "execution_count": 63,
     "metadata": {},
     "output_type": "execute_result"
    }
   ],
   "source": [
    "np.std(np.ravel(X))"
   ]
  },
  {
   "cell_type": "code",
   "execution_count": 64,
   "metadata": {
    "collapsed": true
   },
   "outputs": [],
   "source": [
    "#Y = np.ravel(Y)"
   ]
  },
  {
   "cell_type": "markdown",
   "metadata": {
    "collapsed": true
   },
   "source": [
    "## Classification with Penalized Logistic Model"
   ]
  },
  {
   "cell_type": "markdown",
   "metadata": {},
   "source": [
    "### The Sigmoid"
   ]
  },
  {
   "cell_type": "code",
   "execution_count": 65,
   "metadata": {
    "collapsed": false
   },
   "outputs": [
    {
     "data": {
      "image/png": "[encoded data removed]",
      "text/plain": [
       "<matplotlib.figure.Figure at 0x7fcbcb55ce90>"
      ]
     },
     "metadata": {},
     "output_type": "display_data"
    }
   ],
   "source": [
    "def sigmoid(z):\n",
    "    return 1.0 / (1.0 + np.exp(-z))\n",
    "z = np.arange(-7, 7, 0.1)\n",
    "phi_z = sigmoid(z)\n",
    "plt.figure(figsize=(7,5))\n",
    "plt.plot(z, phi_z)\n",
    "plt.axvline(0.0, color='k')\n",
    "plt.axhspan(0.0, 1.0, facecolor='1.0', alpha=1.0, ls='dotted')\n",
    "plt.axhline(y=0.5, ls='dotted', color='k')\n",
    "plt.yticks([0.0, 0.5, 1.0])\n",
    "plt.ylim(-0.1, 1.1)\n",
    "plt.xlabel('$x_i$')\n",
    "plt.ylabel('$\\pi_i (x)$')\n",
    "plt.savefig('sigmoid')\n",
    "plt.show()"
   ]
  },
  {
   "cell_type": "code",
   "execution_count": 66,
   "metadata": {
    "collapsed": false
   },
   "outputs": [],
   "source": [
    "# model definition\n",
    "# logistic regression with elasticnet regularization\n",
    "# l1_ratio refers to alpha and alpha refers to lamba in Hastie\n",
    "log_model = SGDClassifier(loss = 'log', penalty = 'elasticnet', alpha = 0.175, \n",
    "                                l1_ratio = 0.5, fit_intercept = True)"
   ]
  },
  {
   "cell_type": "markdown",
   "metadata": {},
   "source": [
    "### Significant Gene Selection Cross-Validation"
   ]
  },
  {
   "cell_type": "code",
   "execution_count": 67,
   "metadata": {
    "collapsed": false
   },
   "outputs": [],
   "source": [
    "#initialize the dataframes for ranking genes\n",
    "selected_genes = {'col1':'gene1'}\n",
    "gene_names = DataFrame(geneNames)\n",
    "gene_names.columns = ['trial0']\n",
    "\n",
    "# Initial trial column \n",
    "gene_select_count = gene_names.isin(selected_genes)\n",
    "gene_coeff = DataFrame()\n",
    "\n",
    "# Number of trials\n",
    "M = 400\n",
    "\n",
    "# IN THE LOOP\n",
    "for i in range(M):\n",
    "    # Split the data\n",
    "\n",
    "    X_train, X_test, Y_train, Y_test = train_test_split(X, Y)\n",
    "\n",
    "\n",
    "    # Fit model and select significant genes\n",
    "\n",
    "    fit_log_model = log_model.fit(X_train, Y_train)\n",
    "    X_selected = fit_log_model.transform(X_test)\n",
    "\n",
    "\n",
    "    # Find the indexes of significant genes\n",
    "\n",
    "    # these are the index of the features selected by the l1 regularized logistic model\n",
    "    selected_index = np.where(log_model.coef_!=0)[-1]\n",
    "    # Selected genes in ith trial\n",
    "    selected_genes = gene_names.loc[selected_index]\n",
    "\n",
    "    gene_select_count['trial' + str(i)] = gene_names.isin(selected_genes)\n",
    "    gene_coeff['trial' + str(i)] = Series(log_model.coef_[0])\n",
    "    "
   ]
  },
  {
   "cell_type": "code",
   "execution_count": 68,
   "metadata": {
    "collapsed": false
   },
   "outputs": [],
   "source": [
    "beta_coeff = gene_coeff.mean(axis = 1)\n",
    "beta_sterror = gene_coeff.std(axis = 1)\n",
    "gene_imp_score = gene_coeff.mean(axis = 1).abs()\n",
    "pvalue = 1-norm.cdf(np.abs(beta_coeff/beta_sterror))"
   ]
  },
  {
   "cell_type": "code",
   "execution_count": 69,
   "metadata": {
    "collapsed": false
   },
   "outputs": [],
   "source": [
    "# this creates a pandas Series with the sum of how many times a gene was selected\n",
    "gene_select_summary = gene_select_count.sum(axis = 1)"
   ]
  },
  {
   "cell_type": "code",
   "execution_count": 70,
   "metadata": {
    "collapsed": true
   },
   "outputs": [],
   "source": [
    "# this data frame has the values for all genes\n",
    "result = DataFrame([geneNames, gene_select_summary, gene_imp_score, beta_coeff, beta_sterror, pvalue], index = \n",
    "          ['Gene', 'Frequency', 'Score', 'Coefficient', 'Std Error', 'pvalue']).T.sort(['Frequency', 'Score'], \n",
    "                                                            ascending = False)"
   ]
  },
  {
   "cell_type": "code",
   "execution_count": 71,
   "metadata": {
    "collapsed": false
   },
   "outputs": [
    {
     "data": {
      "text/html": [
       "<div>\n",
       "<table border=\"1\" class=\"dataframe\">\n",
       "  <thead>\n",
       "    <tr style=\"text-align: right;\">\n",
       "      <th></th>\n",
       "      <th>Gene</th>\n",
       "      <th>Frequency</th>\n",
       "      <th>Coefficient</th>\n",
       "      <th>Std Error</th>\n",
       "      <th>pvalue</th>\n",
       "    </tr>\n",
       "  </thead>\n",
       "  <tbody>\n",
       "    <tr>\n",
       "      <th>22089</th>\n",
       "      <td>GI_4503602-S</td>\n",
       "      <td>400</td>\n",
       "      <td>3.073594</td>\n",
       "      <td>0.7283768</td>\n",
       "      <td>1.222673e-05</td>\n",
       "    </tr>\n",
       "    <tr>\n",
       "      <th>5644</th>\n",
       "      <td>GI_21614543-S</td>\n",
       "      <td>400</td>\n",
       "      <td>-2.002927</td>\n",
       "      <td>0.5968818</td>\n",
       "      <td>0.000395892</td>\n",
       "    </tr>\n",
       "    <tr>\n",
       "      <th>17275</th>\n",
       "      <td>GI_38455428-S</td>\n",
       "      <td>400</td>\n",
       "      <td>1.96534</td>\n",
       "      <td>0.6581828</td>\n",
       "      <td>0.001413219</td>\n",
       "    </tr>\n",
       "    <tr>\n",
       "      <th>22149</th>\n",
       "      <td>GI_4503928-S</td>\n",
       "      <td>400</td>\n",
       "      <td>1.580763</td>\n",
       "      <td>0.5672953</td>\n",
       "      <td>0.002664108</td>\n",
       "    </tr>\n",
       "    <tr>\n",
       "      <th>10064</th>\n",
       "      <td>GI_29738585-S</td>\n",
       "      <td>400</td>\n",
       "      <td>1.461232</td>\n",
       "      <td>0.4833238</td>\n",
       "      <td>0.001250181</td>\n",
       "    </tr>\n",
       "  </tbody>\n",
       "</table>\n",
       "</div>"
      ],
      "text/plain": [
       "                Gene Frequency Coefficient  Std Error        pvalue\n",
       "22089   GI_4503602-S       400    3.073594  0.7283768  1.222673e-05\n",
       "5644   GI_21614543-S       400   -2.002927  0.5968818   0.000395892\n",
       "17275  GI_38455428-S       400     1.96534  0.6581828   0.001413219\n",
       "22149   GI_4503928-S       400    1.580763  0.5672953   0.002664108\n",
       "10064  GI_29738585-S       400    1.461232  0.4833238   0.001250181"
      ]
     },
     "execution_count": 71,
     "metadata": {},
     "output_type": "execute_result"
    }
   ],
   "source": [
    "result[['Gene', 'Frequency', 'Coefficient', 'Std Error', 'pvalue']].head()"
   ]
  },
  {
   "cell_type": "code",
   "execution_count": 72,
   "metadata": {
    "collapsed": true
   },
   "outputs": [],
   "source": [
    "GI_4503602_S = X['GI_4503602-S']\n",
    "GI_21614543_S = X['GI_21614543-S']"
   ]
  },
  {
   "cell_type": "code",
   "execution_count": 73,
   "metadata": {
    "collapsed": false
   },
   "outputs": [
    {
     "data": {
      "image/png": "[encoded data removed]",
      "text/plain": [
       "<matplotlib.figure.Figure at 0x7fcbcbd79710>"
      ]
     },
     "metadata": {},
     "output_type": "display_data"
    }
   ],
   "source": [
    "#plt.scatter(range(128),GI_4503602_S)\n",
    "plt.scatter(GI_21614543_S,GI_4503602_S)\n",
    "plt.show()"
   ]
  },
  {
   "cell_type": "code",
   "execution_count": 74,
   "metadata": {
    "collapsed": false
   },
   "outputs": [
    {
     "data": {
      "text/plain": [
       "array([[ 1.        ,  0.80972455,  0.73625334, -0.59823435,  0.83457833],\n",
       "       [ 0.80972455,  1.        ,  0.64928769, -0.54427371,  0.74263589],\n",
       "       [ 0.73625334,  0.64928769,  1.        , -0.569731  ,  0.69178296],\n",
       "       [-0.59823435, -0.54427371, -0.569731  ,  1.        , -0.5111184 ],\n",
       "       [ 0.83457833,  0.74263589,  0.69178296, -0.5111184 ,  1.        ]])"
      ]
     },
     "execution_count": 74,
     "metadata": {},
     "output_type": "execute_result"
    }
   ],
   "source": [
    "#correlation\n",
    "submat = X[['GI_4503602-S','GI_38455428-S','GI_29738585-S','GI_21614543-S','GI_9951924-S']].T\n",
    "\n",
    "np.corrcoef(submat)"
   ]
  },
  {
   "cell_type": "code",
   "execution_count": 75,
   "metadata": {
    "collapsed": false
   },
   "outputs": [
    {
     "data": {
      "image/png": "[encoded data removed]",
      "text/plain": [
       "<matplotlib.figure.Figure at 0x7fcbc4330890>"
      ]
     },
     "metadata": {},
     "output_type": "display_data"
    }
   ],
   "source": [
    "submat = X[['GI_4503602-S','GI_38455428-S','GI_29738585-S','GI_21614543-S']]\n",
    "\n",
    "sns_plot = sns.pairplot(submat,kind='reg',diag_kind='kde')\n",
    "sns_plot.savefig(\"snscorr.png\")"
   ]
  },
  {
   "cell_type": "code",
   "execution_count": 76,
   "metadata": {
    "collapsed": true
   },
   "outputs": [],
   "source": [
    "# this gives the indices of selected genes according to some threshold. can use the importance score\n",
    "# or the number of times selected.\n",
    "selected_genes_index = gene_select_summary[gene_imp_score >= 0.0001].index"
   ]
  },
  {
   "cell_type": "code",
   "execution_count": 77,
   "metadata": {
    "collapsed": true
   },
   "outputs": [],
   "source": [
    "result = DataFrame([geneNames[selected_genes_index], gene_select_summary[selected_genes_index], \n",
    "           gene_imp_score[selected_genes_index], beta_coeff[selected_genes_index], beta_sterror[selected_genes_index],\n",
    "           pvalue[selected_genes_index]], index = ['Gene', 'Frequency', 'Score','Coefficient', 'Std Error', \n",
    "                                                   'pvalue']).T.sort(['Frequency', 'Score'], \n",
    "                                                                     ascending = False)"
   ]
  },
  {
   "cell_type": "code",
   "execution_count": 78,
   "metadata": {
    "collapsed": false
   },
   "outputs": [
    {
     "name": "stdout",
     "output_type": "stream",
     "text": [
      "1635\n"
     ]
    }
   ],
   "source": [
    "print len(selected_genes_index)"
   ]
  },
  {
   "cell_type": "code",
   "execution_count": 79,
   "metadata": {
    "collapsed": false
   },
   "outputs": [
    {
     "data": {
      "text/html": [
       "<div>\n",
       "<table border=\"1\" class=\"dataframe\">\n",
       "  <thead>\n",
       "    <tr style=\"text-align: right;\">\n",
       "      <th></th>\n",
       "      <th>Gene</th>\n",
       "      <th>Frequency</th>\n",
       "      <th>Coefficient</th>\n",
       "      <th>Std Error</th>\n",
       "      <th>pvalue</th>\n",
       "    </tr>\n",
       "  </thead>\n",
       "  <tbody>\n",
       "    <tr>\n",
       "      <th>1212</th>\n",
       "      <td>GI_4503602-S</td>\n",
       "      <td>400</td>\n",
       "      <td>3.073594</td>\n",
       "      <td>0.7283768</td>\n",
       "      <td>1.222673e-05</td>\n",
       "    </tr>\n",
       "    <tr>\n",
       "      <th>406</th>\n",
       "      <td>GI_21614543-S</td>\n",
       "      <td>400</td>\n",
       "      <td>-2.002927</td>\n",
       "      <td>0.5968818</td>\n",
       "      <td>0.000395892</td>\n",
       "    </tr>\n",
       "    <tr>\n",
       "      <th>1000</th>\n",
       "      <td>GI_38455428-S</td>\n",
       "      <td>400</td>\n",
       "      <td>1.96534</td>\n",
       "      <td>0.6581828</td>\n",
       "      <td>0.001413219</td>\n",
       "    </tr>\n",
       "    <tr>\n",
       "      <th>1220</th>\n",
       "      <td>GI_4503928-S</td>\n",
       "      <td>400</td>\n",
       "      <td>1.580763</td>\n",
       "      <td>0.5672953</td>\n",
       "      <td>0.002664108</td>\n",
       "    </tr>\n",
       "    <tr>\n",
       "      <th>649</th>\n",
       "      <td>GI_29738585-S</td>\n",
       "      <td>400</td>\n",
       "      <td>1.461232</td>\n",
       "      <td>0.4833238</td>\n",
       "      <td>0.001250181</td>\n",
       "    </tr>\n",
       "    <tr>\n",
       "      <th>1576</th>\n",
       "      <td>GI_9951924-S</td>\n",
       "      <td>399</td>\n",
       "      <td>1.618243</td>\n",
       "      <td>0.5628423</td>\n",
       "      <td>0.00201933</td>\n",
       "    </tr>\n",
       "    <tr>\n",
       "      <th>691</th>\n",
       "      <td>GI_31341936-S</td>\n",
       "      <td>399</td>\n",
       "      <td>1.348721</td>\n",
       "      <td>0.5547718</td>\n",
       "      <td>0.007525961</td>\n",
       "    </tr>\n",
       "    <tr>\n",
       "      <th>1140</th>\n",
       "      <td>GI_42659459-S</td>\n",
       "      <td>399</td>\n",
       "      <td>1.328747</td>\n",
       "      <td>0.5693807</td>\n",
       "      <td>0.009806489</td>\n",
       "    </tr>\n",
       "    <tr>\n",
       "      <th>1237</th>\n",
       "      <td>GI_4504700-S</td>\n",
       "      <td>398</td>\n",
       "      <td>-0.9983627</td>\n",
       "      <td>0.4052952</td>\n",
       "      <td>0.006883279</td>\n",
       "    </tr>\n",
       "    <tr>\n",
       "      <th>710</th>\n",
       "      <td>GI_31542212-S</td>\n",
       "      <td>395</td>\n",
       "      <td>-1.209061</td>\n",
       "      <td>0.5445656</td>\n",
       "      <td>0.01320158</td>\n",
       "    </tr>\n",
       "    <tr>\n",
       "      <th>433</th>\n",
       "      <td>GI_22035691-A</td>\n",
       "      <td>395</td>\n",
       "      <td>0.9567225</td>\n",
       "      <td>0.4350406</td>\n",
       "      <td>0.01393339</td>\n",
       "    </tr>\n",
       "    <tr>\n",
       "      <th>120</th>\n",
       "      <td>GI_14249703-S</td>\n",
       "      <td>395</td>\n",
       "      <td>0.7177713</td>\n",
       "      <td>0.3372423</td>\n",
       "      <td>0.01665383</td>\n",
       "    </tr>\n",
       "    <tr>\n",
       "      <th>61</th>\n",
       "      <td>GI_12751474-S</td>\n",
       "      <td>392</td>\n",
       "      <td>0.8710797</td>\n",
       "      <td>0.4212859</td>\n",
       "      <td>0.01933558</td>\n",
       "    </tr>\n",
       "    <tr>\n",
       "      <th>466</th>\n",
       "      <td>GI_22748948-S</td>\n",
       "      <td>391</td>\n",
       "      <td>0.7745655</td>\n",
       "      <td>0.3811592</td>\n",
       "      <td>0.02107019</td>\n",
       "    </tr>\n",
       "    <tr>\n",
       "      <th>1571</th>\n",
       "      <td>GI_9845520-S</td>\n",
       "      <td>390</td>\n",
       "      <td>-0.8874244</td>\n",
       "      <td>0.4255582</td>\n",
       "      <td>0.0185202</td>\n",
       "    </tr>\n",
       "    <tr>\n",
       "      <th>1254</th>\n",
       "      <td>GI_4505186-S</td>\n",
       "      <td>389</td>\n",
       "      <td>-0.7964717</td>\n",
       "      <td>0.3899033</td>\n",
       "      <td>0.020539</td>\n",
       "    </tr>\n",
       "    <tr>\n",
       "      <th>645</th>\n",
       "      <td>GI_29728071-S</td>\n",
       "      <td>387</td>\n",
       "      <td>0.8276684</td>\n",
       "      <td>0.4335869</td>\n",
       "      <td>0.02813834</td>\n",
       "    </tr>\n",
       "    <tr>\n",
       "      <th>1289</th>\n",
       "      <td>GI_4507450-S</td>\n",
       "      <td>386</td>\n",
       "      <td>1.618323</td>\n",
       "      <td>0.8291579</td>\n",
       "      <td>0.02548296</td>\n",
       "    </tr>\n",
       "    <tr>\n",
       "      <th>1162</th>\n",
       "      <td>GI_42741670-S</td>\n",
       "      <td>386</td>\n",
       "      <td>1.172411</td>\n",
       "      <td>0.625492</td>\n",
       "      <td>0.03043892</td>\n",
       "    </tr>\n",
       "    <tr>\n",
       "      <th>860</th>\n",
       "      <td>GI_34222365-S</td>\n",
       "      <td>385</td>\n",
       "      <td>0.8043622</td>\n",
       "      <td>0.4780027</td>\n",
       "      <td>0.04621109</td>\n",
       "    </tr>\n",
       "    <tr>\n",
       "      <th>898</th>\n",
       "      <td>GI_36054052-S</td>\n",
       "      <td>384</td>\n",
       "      <td>-1.039005</td>\n",
       "      <td>0.5880988</td>\n",
       "      <td>0.03863769</td>\n",
       "    </tr>\n",
       "    <tr>\n",
       "      <th>542</th>\n",
       "      <td>GI_24497500-S</td>\n",
       "      <td>384</td>\n",
       "      <td>0.7703785</td>\n",
       "      <td>0.4439273</td>\n",
       "      <td>0.04133759</td>\n",
       "    </tr>\n",
       "    <tr>\n",
       "      <th>245</th>\n",
       "      <td>GI_18584419-S</td>\n",
       "      <td>383</td>\n",
       "      <td>0.6678793</td>\n",
       "      <td>0.3985799</td>\n",
       "      <td>0.04690366</td>\n",
       "    </tr>\n",
       "    <tr>\n",
       "      <th>1150</th>\n",
       "      <td>GI_42660596-S</td>\n",
       "      <td>382</td>\n",
       "      <td>0.604647</td>\n",
       "      <td>0.3469972</td>\n",
       "      <td>0.04070937</td>\n",
       "    </tr>\n",
       "    <tr>\n",
       "      <th>984</th>\n",
       "      <td>GI_38327636-S</td>\n",
       "      <td>381</td>\n",
       "      <td>-1.456093</td>\n",
       "      <td>0.7173041</td>\n",
       "      <td>0.02118073</td>\n",
       "    </tr>\n",
       "    <tr>\n",
       "      <th>1319</th>\n",
       "      <td>GI_4557436-S</td>\n",
       "      <td>377</td>\n",
       "      <td>-0.7324878</td>\n",
       "      <td>0.411563</td>\n",
       "      <td>0.03755674</td>\n",
       "    </tr>\n",
       "    <tr>\n",
       "      <th>180</th>\n",
       "      <td>GI_16507967-S</td>\n",
       "      <td>377</td>\n",
       "      <td>0.5454479</td>\n",
       "      <td>0.3196277</td>\n",
       "      <td>0.04395658</td>\n",
       "    </tr>\n",
       "    <tr>\n",
       "      <th>495</th>\n",
       "      <td>GI_23308576-S</td>\n",
       "      <td>375</td>\n",
       "      <td>-0.7958901</td>\n",
       "      <td>0.4593245</td>\n",
       "      <td>0.0415709</td>\n",
       "    </tr>\n",
       "    <tr>\n",
       "      <th>834</th>\n",
       "      <td>GI_34147571-S</td>\n",
       "      <td>375</td>\n",
       "      <td>-0.526237</td>\n",
       "      <td>0.3106561</td>\n",
       "      <td>0.04513705</td>\n",
       "    </tr>\n",
       "    <tr>\n",
       "      <th>1116</th>\n",
       "      <td>GI_41406092-I</td>\n",
       "      <td>373</td>\n",
       "      <td>0.6602593</td>\n",
       "      <td>0.4271035</td>\n",
       "      <td>0.06106438</td>\n",
       "    </tr>\n",
       "    <tr>\n",
       "      <th>...</th>\n",
       "      <td>...</td>\n",
       "      <td>...</td>\n",
       "      <td>...</td>\n",
       "      <td>...</td>\n",
       "      <td>...</td>\n",
       "    </tr>\n",
       "    <tr>\n",
       "      <th>1581</th>\n",
       "      <td>Hs.167793-S</td>\n",
       "      <td>1</td>\n",
       "      <td>0.000134925</td>\n",
       "      <td>0.002698499</td>\n",
       "      <td>0.4800612</td>\n",
       "    </tr>\n",
       "    <tr>\n",
       "      <th>476</th>\n",
       "      <td>GI_23110938-A</td>\n",
       "      <td>1</td>\n",
       "      <td>-0.0001333341</td>\n",
       "      <td>0.002666681</td>\n",
       "      <td>0.4800612</td>\n",
       "    </tr>\n",
       "    <tr>\n",
       "      <th>1592</th>\n",
       "      <td>Hs.397082-S</td>\n",
       "      <td>1</td>\n",
       "      <td>-0.0001327305</td>\n",
       "      <td>0.00265461</td>\n",
       "      <td>0.4800612</td>\n",
       "    </tr>\n",
       "    <tr>\n",
       "      <th>697</th>\n",
       "      <td>GI_31377617-S</td>\n",
       "      <td>1</td>\n",
       "      <td>-0.0001320926</td>\n",
       "      <td>0.002641852</td>\n",
       "      <td>0.4800612</td>\n",
       "    </tr>\n",
       "    <tr>\n",
       "      <th>417</th>\n",
       "      <td>GI_21735623-A</td>\n",
       "      <td>1</td>\n",
       "      <td>-0.0001276809</td>\n",
       "      <td>0.002553618</td>\n",
       "      <td>0.4800612</td>\n",
       "    </tr>\n",
       "    <tr>\n",
       "      <th>717</th>\n",
       "      <td>GI_31542839-S</td>\n",
       "      <td>1</td>\n",
       "      <td>-0.0001275294</td>\n",
       "      <td>0.002550589</td>\n",
       "      <td>0.4800612</td>\n",
       "    </tr>\n",
       "    <tr>\n",
       "      <th>1596</th>\n",
       "      <td>Hs.444414-S</td>\n",
       "      <td>1</td>\n",
       "      <td>0.0001254156</td>\n",
       "      <td>0.002508312</td>\n",
       "      <td>0.4800612</td>\n",
       "    </tr>\n",
       "    <tr>\n",
       "      <th>114</th>\n",
       "      <td>GI_14149984-S</td>\n",
       "      <td>1</td>\n",
       "      <td>-0.0001249384</td>\n",
       "      <td>0.002498767</td>\n",
       "      <td>0.4800612</td>\n",
       "    </tr>\n",
       "    <tr>\n",
       "      <th>1261</th>\n",
       "      <td>GI_4505414-S</td>\n",
       "      <td>1</td>\n",
       "      <td>0.0001199837</td>\n",
       "      <td>0.002399674</td>\n",
       "      <td>0.4800612</td>\n",
       "    </tr>\n",
       "    <tr>\n",
       "      <th>474</th>\n",
       "      <td>GI_23110923-S</td>\n",
       "      <td>1</td>\n",
       "      <td>-0.00011815</td>\n",
       "      <td>0.002363</td>\n",
       "      <td>0.4800612</td>\n",
       "    </tr>\n",
       "    <tr>\n",
       "      <th>299</th>\n",
       "      <td>GI_20143950-I</td>\n",
       "      <td>1</td>\n",
       "      <td>-0.0001174152</td>\n",
       "      <td>0.002348304</td>\n",
       "      <td>0.4800612</td>\n",
       "    </tr>\n",
       "    <tr>\n",
       "      <th>960</th>\n",
       "      <td>GI_37622354-S</td>\n",
       "      <td>1</td>\n",
       "      <td>0.0001163989</td>\n",
       "      <td>0.002327979</td>\n",
       "      <td>0.4800612</td>\n",
       "    </tr>\n",
       "    <tr>\n",
       "      <th>1014</th>\n",
       "      <td>GI_38788468-S</td>\n",
       "      <td>1</td>\n",
       "      <td>0.0001163599</td>\n",
       "      <td>0.002327199</td>\n",
       "      <td>0.4800612</td>\n",
       "    </tr>\n",
       "    <tr>\n",
       "      <th>1463</th>\n",
       "      <td>GI_6912711-S</td>\n",
       "      <td>1</td>\n",
       "      <td>-0.0001144546</td>\n",
       "      <td>0.002289091</td>\n",
       "      <td>0.4800612</td>\n",
       "    </tr>\n",
       "    <tr>\n",
       "      <th>1487</th>\n",
       "      <td>GI_7657070-S</td>\n",
       "      <td>1</td>\n",
       "      <td>-0.000112746</td>\n",
       "      <td>0.002254919</td>\n",
       "      <td>0.4800612</td>\n",
       "    </tr>\n",
       "    <tr>\n",
       "      <th>477</th>\n",
       "      <td>GI_23110941-S</td>\n",
       "      <td>1</td>\n",
       "      <td>-0.000112619</td>\n",
       "      <td>0.002252381</td>\n",
       "      <td>0.4800612</td>\n",
       "    </tr>\n",
       "    <tr>\n",
       "      <th>767</th>\n",
       "      <td>GI_32698727-S</td>\n",
       "      <td>1</td>\n",
       "      <td>-0.0001124496</td>\n",
       "      <td>0.002248992</td>\n",
       "      <td>0.4800612</td>\n",
       "    </tr>\n",
       "    <tr>\n",
       "      <th>694</th>\n",
       "      <td>GI_31342325-S</td>\n",
       "      <td>1</td>\n",
       "      <td>0.0001124314</td>\n",
       "      <td>0.002248628</td>\n",
       "      <td>0.4800612</td>\n",
       "    </tr>\n",
       "    <tr>\n",
       "      <th>1265</th>\n",
       "      <td>GI_4505788-S</td>\n",
       "      <td>1</td>\n",
       "      <td>-0.0001123904</td>\n",
       "      <td>0.002247807</td>\n",
       "      <td>0.4800612</td>\n",
       "    </tr>\n",
       "    <tr>\n",
       "      <th>980</th>\n",
       "      <td>GI_38202242-S</td>\n",
       "      <td>1</td>\n",
       "      <td>-0.000110613</td>\n",
       "      <td>0.00221226</td>\n",
       "      <td>0.4800612</td>\n",
       "    </tr>\n",
       "    <tr>\n",
       "      <th>830</th>\n",
       "      <td>GI_34147515-S</td>\n",
       "      <td>1</td>\n",
       "      <td>-0.0001102775</td>\n",
       "      <td>0.00220555</td>\n",
       "      <td>0.4800612</td>\n",
       "    </tr>\n",
       "    <tr>\n",
       "      <th>1399</th>\n",
       "      <td>GI_5032212-S</td>\n",
       "      <td>1</td>\n",
       "      <td>-0.0001096405</td>\n",
       "      <td>0.002192811</td>\n",
       "      <td>0.4800612</td>\n",
       "    </tr>\n",
       "    <tr>\n",
       "      <th>1607</th>\n",
       "      <td>Hs.491052-S</td>\n",
       "      <td>1</td>\n",
       "      <td>-0.0001093773</td>\n",
       "      <td>0.002187545</td>\n",
       "      <td>0.4800612</td>\n",
       "    </tr>\n",
       "    <tr>\n",
       "      <th>320</th>\n",
       "      <td>GI_21040319-A</td>\n",
       "      <td>1</td>\n",
       "      <td>-0.0001068527</td>\n",
       "      <td>0.002137055</td>\n",
       "      <td>0.4800612</td>\n",
       "    </tr>\n",
       "    <tr>\n",
       "      <th>757</th>\n",
       "      <td>GI_32307179-S</td>\n",
       "      <td>1</td>\n",
       "      <td>-0.0001061983</td>\n",
       "      <td>0.002123965</td>\n",
       "      <td>0.4800612</td>\n",
       "    </tr>\n",
       "    <tr>\n",
       "      <th>1017</th>\n",
       "      <td>GI_39725651-S</td>\n",
       "      <td>1</td>\n",
       "      <td>0.0001060121</td>\n",
       "      <td>0.002120242</td>\n",
       "      <td>0.4800612</td>\n",
       "    </tr>\n",
       "    <tr>\n",
       "      <th>758</th>\n",
       "      <td>GI_32307182-S</td>\n",
       "      <td>1</td>\n",
       "      <td>0.0001041585</td>\n",
       "      <td>0.00208317</td>\n",
       "      <td>0.4800612</td>\n",
       "    </tr>\n",
       "    <tr>\n",
       "      <th>1083</th>\n",
       "      <td>GI_41151340-S</td>\n",
       "      <td>1</td>\n",
       "      <td>0.0001033309</td>\n",
       "      <td>0.002066619</td>\n",
       "      <td>0.4800612</td>\n",
       "    </tr>\n",
       "    <tr>\n",
       "      <th>1624</th>\n",
       "      <td>hmm23423-S</td>\n",
       "      <td>1</td>\n",
       "      <td>-0.0001032871</td>\n",
       "      <td>0.002065741</td>\n",
       "      <td>0.4800612</td>\n",
       "    </tr>\n",
       "    <tr>\n",
       "      <th>459</th>\n",
       "      <td>GI_22547181-S</td>\n",
       "      <td>1</td>\n",
       "      <td>-0.0001009888</td>\n",
       "      <td>0.002019776</td>\n",
       "      <td>0.4800612</td>\n",
       "    </tr>\n",
       "  </tbody>\n",
       "</table>\n",
       "<p>1635 rows × 5 columns</p>\n",
       "</div>"
      ],
      "text/plain": [
       "               Gene Frequency   Coefficient    Std Error        pvalue\n",
       "1212   GI_4503602-S       400      3.073594    0.7283768  1.222673e-05\n",
       "406   GI_21614543-S       400     -2.002927    0.5968818   0.000395892\n",
       "1000  GI_38455428-S       400       1.96534    0.6581828   0.001413219\n",
       "1220   GI_4503928-S       400      1.580763    0.5672953   0.002664108\n",
       "649   GI_29738585-S       400      1.461232    0.4833238   0.001250181\n",
       "1576   GI_9951924-S       399      1.618243    0.5628423    0.00201933\n",
       "691   GI_31341936-S       399      1.348721    0.5547718   0.007525961\n",
       "1140  GI_42659459-S       399      1.328747    0.5693807   0.009806489\n",
       "1237   GI_4504700-S       398    -0.9983627    0.4052952   0.006883279\n",
       "710   GI_31542212-S       395     -1.209061    0.5445656    0.01320158\n",
       "433   GI_22035691-A       395     0.9567225    0.4350406    0.01393339\n",
       "120   GI_14249703-S       395     0.7177713    0.3372423    0.01665383\n",
       "61    GI_12751474-S       392     0.8710797    0.4212859    0.01933558\n",
       "466   GI_22748948-S       391     0.7745655    0.3811592    0.02107019\n",
       "1571   GI_9845520-S       390    -0.8874244    0.4255582     0.0185202\n",
       "1254   GI_4505186-S       389    -0.7964717    0.3899033      0.020539\n",
       "645   GI_29728071-S       387     0.8276684    0.4335869    0.02813834\n",
       "1289   GI_4507450-S       386      1.618323    0.8291579    0.02548296\n",
       "1162  GI_42741670-S       386      1.172411     0.625492    0.03043892\n",
       "860   GI_34222365-S       385     0.8043622    0.4780027    0.04621109\n",
       "898   GI_36054052-S       384     -1.039005    0.5880988    0.03863769\n",
       "542   GI_24497500-S       384     0.7703785    0.4439273    0.04133759\n",
       "245   GI_18584419-S       383     0.6678793    0.3985799    0.04690366\n",
       "1150  GI_42660596-S       382      0.604647    0.3469972    0.04070937\n",
       "984   GI_38327636-S       381     -1.456093    0.7173041    0.02118073\n",
       "1319   GI_4557436-S       377    -0.7324878     0.411563    0.03755674\n",
       "180   GI_16507967-S       377     0.5454479    0.3196277    0.04395658\n",
       "495   GI_23308576-S       375    -0.7958901    0.4593245     0.0415709\n",
       "834   GI_34147571-S       375     -0.526237    0.3106561    0.04513705\n",
       "1116  GI_41406092-I       373     0.6602593    0.4271035    0.06106438\n",
       "...             ...       ...           ...          ...           ...\n",
       "1581    Hs.167793-S         1   0.000134925  0.002698499     0.4800612\n",
       "476   GI_23110938-A         1 -0.0001333341  0.002666681     0.4800612\n",
       "1592    Hs.397082-S         1 -0.0001327305   0.00265461     0.4800612\n",
       "697   GI_31377617-S         1 -0.0001320926  0.002641852     0.4800612\n",
       "417   GI_21735623-A         1 -0.0001276809  0.002553618     0.4800612\n",
       "717   GI_31542839-S         1 -0.0001275294  0.002550589     0.4800612\n",
       "1596    Hs.444414-S         1  0.0001254156  0.002508312     0.4800612\n",
       "114   GI_14149984-S         1 -0.0001249384  0.002498767     0.4800612\n",
       "1261   GI_4505414-S         1  0.0001199837  0.002399674     0.4800612\n",
       "474   GI_23110923-S         1   -0.00011815     0.002363     0.4800612\n",
       "299   GI_20143950-I         1 -0.0001174152  0.002348304     0.4800612\n",
       "960   GI_37622354-S         1  0.0001163989  0.002327979     0.4800612\n",
       "1014  GI_38788468-S         1  0.0001163599  0.002327199     0.4800612\n",
       "1463   GI_6912711-S         1 -0.0001144546  0.002289091     0.4800612\n",
       "1487   GI_7657070-S         1  -0.000112746  0.002254919     0.4800612\n",
       "477   GI_23110941-S         1  -0.000112619  0.002252381     0.4800612\n",
       "767   GI_32698727-S         1 -0.0001124496  0.002248992     0.4800612\n",
       "694   GI_31342325-S         1  0.0001124314  0.002248628     0.4800612\n",
       "1265   GI_4505788-S         1 -0.0001123904  0.002247807     0.4800612\n",
       "980   GI_38202242-S         1  -0.000110613   0.00221226     0.4800612\n",
       "830   GI_34147515-S         1 -0.0001102775   0.00220555     0.4800612\n",
       "1399   GI_5032212-S         1 -0.0001096405  0.002192811     0.4800612\n",
       "1607    Hs.491052-S         1 -0.0001093773  0.002187545     0.4800612\n",
       "320   GI_21040319-A         1 -0.0001068527  0.002137055     0.4800612\n",
       "757   GI_32307179-S         1 -0.0001061983  0.002123965     0.4800612\n",
       "1017  GI_39725651-S         1  0.0001060121  0.002120242     0.4800612\n",
       "758   GI_32307182-S         1  0.0001041585   0.00208317     0.4800612\n",
       "1083  GI_41151340-S         1  0.0001033309  0.002066619     0.4800612\n",
       "1624     hmm23423-S         1 -0.0001032871  0.002065741     0.4800612\n",
       "459   GI_22547181-S         1 -0.0001009888  0.002019776     0.4800612\n",
       "\n",
       "[1635 rows x 5 columns]"
      ]
     },
     "execution_count": 79,
     "metadata": {},
     "output_type": "execute_result"
    }
   ],
   "source": [
    "result[['Gene', 'Frequency', 'Coefficient', 'Std Error', 'pvalue']]"
   ]
  },
  {
   "cell_type": "code",
   "execution_count": 80,
   "metadata": {
    "collapsed": false
   },
   "outputs": [
    {
     "data": {
      "text/plain": [
       "1635"
      ]
     },
     "execution_count": 80,
     "metadata": {},
     "output_type": "execute_result"
    }
   ],
   "source": [
    "# these are the names of the selected genes\n",
    "DataFrame(geneNames[selected_genes_index], columns = ['Selected Genes'], index = selected_genes_index).head()\n",
    "len(DataFrame(geneNames[selected_genes_index], columns = ['Selected Genes'], index = selected_genes_index))"
   ]
  },
  {
   "cell_type": "code",
   "execution_count": 81,
   "metadata": {
    "collapsed": false
   },
   "outputs": [
    {
     "data": {
      "text/plain": [
       "(128, 1635)"
      ]
     },
     "execution_count": 81,
     "metadata": {},
     "output_type": "execute_result"
    }
   ],
   "source": [
    "#Need to create X_sel\n",
    "\n",
    "X_sel = X[selected_genes_index]\n",
    "\n",
    "X_sel.shape"
   ]
  },
  {
   "cell_type": "code",
   "execution_count": 82,
   "metadata": {
    "collapsed": false
   },
   "outputs": [
    {
     "name": "stdout",
     "output_type": "stream",
     "text": [
      "0.8984375\n"
     ]
    }
   ],
   "source": [
    "# this gives the model's score\n",
    "log_model.fit(X_sel,Y)\n",
    "print log_model.score(X_sel,Y)"
   ]
  },
  {
   "cell_type": "code",
   "execution_count": 83,
   "metadata": {
    "collapsed": false
   },
   "outputs": [],
   "source": [
    "class_prob = log_model.predict_proba(X_sel)"
   ]
  },
  {
   "cell_type": "code",
   "execution_count": 84,
   "metadata": {
    "collapsed": false
   },
   "outputs": [
    {
     "data": {
      "text/plain": [
       "(128, 2)"
      ]
     },
     "execution_count": 84,
     "metadata": {},
     "output_type": "execute_result"
    }
   ],
   "source": [
    "class_prob.shape"
   ]
  },
  {
   "cell_type": "code",
   "execution_count": 85,
   "metadata": {
    "collapsed": false
   },
   "outputs": [
    {
     "name": "stdout",
     "output_type": "stream",
     "text": [
      "0    0.273437\n",
      "1    0.726563\n",
      "dtype: float64\n"
     ]
    }
   ],
   "source": [
    "dfprob = DataFrame(class_prob)\n",
    "print dfprob.mean()"
   ]
  },
  {
   "cell_type": "markdown",
   "metadata": {},
   "source": [
    "### Cross Validation"
   ]
  },
  {
   "cell_type": "code",
   "execution_count": 139,
   "metadata": {
    "collapsed": false
   },
   "outputs": [],
   "source": [
    "# Make a new log_model\n",
    "#log_model2 = LogisticRegression()\n",
    "log_model2 = LogisticRegression(dual = False, fit_intercept = True)\n",
    "\n",
    "xvalacc = []\n",
    "xvalROC = []\n",
    "M = 100\n",
    "\n",
    "for i in range(M):\n",
    "\n",
    "    # Split the data\n",
    "    X_train, X_test, Y_train, Y_test = train_test_split(X_sel, Y)\n",
    "\n",
    "    # Now fit the new model\n",
    "    log_model2.fit(X_train, Y_train)\n",
    "\n",
    "    # Predict the classes of the testing data set\n",
    "    class_predict = log_model2.predict(X_test)\n",
    "\n",
    "    # Compare the predicted classes to the actual test classes\n",
    "    xvalacc.append(metrics.accuracy_score(Y_test,class_predict))\n",
    "    try:\n",
    "        xvalROC.append(roc_auc_score(Y_test,class_predict))\n",
    "    except ValueError:\n",
    "        pass"
   ]
  },
  {
   "cell_type": "code",
   "execution_count": 140,
   "metadata": {
    "collapsed": false
   },
   "outputs": [
    {
     "data": {
      "text/plain": [
       "0.052585495861501595"
      ]
     },
     "execution_count": 140,
     "metadata": {},
     "output_type": "execute_result"
    }
   ],
   "source": [
    "np.std(xvalacc)"
   ]
  },
  {
   "cell_type": "code",
   "execution_count": 141,
   "metadata": {
    "collapsed": false
   },
   "outputs": [
    {
     "data": {
      "text/plain": [
       "0.86812500000000004"
      ]
     },
     "execution_count": 141,
     "metadata": {},
     "output_type": "execute_result"
    }
   ],
   "source": [
    "np.mean(xvalacc)"
   ]
  },
  {
   "cell_type": "code",
   "execution_count": 142,
   "metadata": {
    "collapsed": false
   },
   "outputs": [
    {
     "data": {
      "text/plain": [
       "0.062132810462303657"
      ]
     },
     "execution_count": 142,
     "metadata": {},
     "output_type": "execute_result"
    }
   ],
   "source": [
    "np.std(xvalROC)"
   ]
  },
  {
   "cell_type": "code",
   "execution_count": 143,
   "metadata": {
    "collapsed": false
   },
   "outputs": [
    {
     "data": {
      "text/plain": [
       "0.84261146077472138"
      ]
     },
     "execution_count": 143,
     "metadata": {},
     "output_type": "execute_result"
    }
   ],
   "source": [
    "np.mean(xvalROC)"
   ]
  },
  {
   "cell_type": "code",
   "execution_count": 144,
   "metadata": {
    "collapsed": false
   },
   "outputs": [
    {
     "data": {
      "text/plain": [
       "array([ 1.,  1.,  1.,  1.,  1.,  0.,  0.,  1.,  1.,  1.,  0.,  0.,  0.,\n",
       "        1.,  1.,  0.,  1.,  0.,  0.,  0.,  1.,  0.,  1.,  0.,  1.,  0.,\n",
       "        1.,  1.,  0.,  0.,  1.,  1.])"
      ]
     },
     "execution_count": 144,
     "metadata": {},
     "output_type": "execute_result"
    }
   ],
   "source": [
    "class_predict"
   ]
  },
  {
   "cell_type": "code",
   "execution_count": 145,
   "metadata": {
    "collapsed": false
   },
   "outputs": [
    {
     "data": {
      "text/plain": [
       "0.84412955465587047"
      ]
     },
     "execution_count": 145,
     "metadata": {},
     "output_type": "execute_result"
    }
   ],
   "source": [
    "roc_auc_score(Y_test,class_predict)"
   ]
  },
  {
   "cell_type": "code",
   "execution_count": 146,
   "metadata": {
    "collapsed": false
   },
   "outputs": [
    {
     "data": {
      "text/plain": [
       "array([[11,  2],\n",
       "       [ 3, 16]])"
      ]
     },
     "execution_count": 146,
     "metadata": {},
     "output_type": "execute_result"
    }
   ],
   "source": [
    "confusion_matrix(Y_test,class_predict)"
   ]
  },
  {
   "cell_type": "code",
   "execution_count": 147,
   "metadata": {
    "collapsed": false
   },
   "outputs": [],
   "source": [
    "false_positive_rate, true_positive_rate, thresholds = roc_curve(Y_test,class_predict)\n",
    "roc_auc = auc(false_positive_rate, true_positive_rate)"
   ]
  },
  {
   "cell_type": "code",
   "execution_count": 149,
   "metadata": {
    "collapsed": false
   },
   "outputs": [
    {
     "data": {
      "image/png": "[encoded data removed]",
      "text/plain": [
       "<matplotlib.figure.Figure at 0x7fcbbf2cd350>"
      ]
     },
     "metadata": {},
     "output_type": "display_data"
    }
   ],
   "source": [
    "plt.figure(figsize=(8,6))\n",
    "plt.title('Receiver Operating Characteristic for Logistic Classifier')\n",
    "plt.plot(false_positive_rate, true_positive_rate,'b',label='AUC = %0.2f'% roc_auc) #roc_auc)\n",
    "plt.legend(loc='lower right')\n",
    "plt.plot([0,1],[0,1],'r--')\n",
    "plt.xlim([-0.1,1.2])\n",
    "plt.ylim([-0.1,1.2])\n",
    "plt.ylabel('True Positive Rate')\n",
    "plt.xlabel('False Positive Rate')\n",
    "#plt.savefig('roc.png')\n",
    "plt.show()"
   ]
  },
  {
   "cell_type": "code",
   "execution_count": 96,
   "metadata": {
    "collapsed": false
   },
   "outputs": [
    {
     "data": {
      "text/plain": [
       "array([[ 1.        ,  0.82463071,  0.80116816, ...,  0.68569935,\n",
       "         0.61969134,  0.72109683],\n",
       "       [ 0.82463071,  1.        ,  0.86963994, ...,  0.67153189,\n",
       "         0.67910512,  0.80953069],\n",
       "       [ 0.80116816,  0.86963994,  1.        , ...,  0.65910091,\n",
       "         0.68548216,  0.8514004 ],\n",
       "       ..., \n",
       "       [ 0.68569935,  0.67153189,  0.65910091, ...,  1.        ,\n",
       "         0.7615854 ,  0.70160083],\n",
       "       [ 0.61969134,  0.67910512,  0.68548216, ...,  0.7615854 ,\n",
       "         1.        ,  0.66404635],\n",
       "       [ 0.72109683,  0.80953069,  0.8514004 , ...,  0.70160083,\n",
       "         0.66404635,  1.        ]])"
      ]
     },
     "execution_count": 96,
     "metadata": {},
     "output_type": "execute_result"
    }
   ],
   "source": [
    "np.corrcoef(X_sel)"
   ]
  },
  {
   "cell_type": "code",
   "execution_count": 97,
   "metadata": {
    "collapsed": false
   },
   "outputs": [
    {
     "data": {
      "text/plain": [
       "4.9282000000000004"
      ]
     },
     "execution_count": 97,
     "metadata": {},
     "output_type": "execute_result"
    }
   ],
   "source": [
    "np.min(np.min(X))"
   ]
  },
  {
   "cell_type": "code",
   "execution_count": 98,
   "metadata": {
    "collapsed": false
   },
   "outputs": [
    {
     "data": {
      "text/plain": [
       "5.4221000000000004"
      ]
     },
     "execution_count": 98,
     "metadata": {},
     "output_type": "execute_result"
    }
   ],
   "source": [
    "np.min(np.max(X))"
   ]
  },
  {
   "cell_type": "code",
   "execution_count": null,
   "metadata": {
    "collapsed": true
   },
   "outputs": [],
   "source": []
  },
  {
   "cell_type": "code",
   "execution_count": null,
   "metadata": {
    "collapsed": true
   },
   "outputs": [],
   "source": []
  },
  {
   "cell_type": "code",
   "execution_count": null,
   "metadata": {
    "collapsed": true
   },
   "outputs": [],
   "source": []
  }
 ],
 "metadata": {
  "kernelspec": {
   "display_name": "Python 2",
   "language": "python",
   "name": "python2"
  },
  "language_info": {
   "codemirror_mode": {
    "name": "ipython",
    "version": 2
   },
   "file_extension": ".py",
   "mimetype": "text/x-python",
   "name": "python",
   "nbconvert_exporter": "python",
   "pygments_lexer": "ipython2",
   "version": "2.7.11"
  }
 },
 "nbformat": 4,
 "nbformat_minor": 0
}

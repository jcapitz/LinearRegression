{
 "cells": [
  {
   "cell_type": "markdown",
   "metadata": {},
   "source": [
    "# Analysis of Cancer Gene Expression Data\n",
    "\n",
    "##### Python main module imports for data analysis\n",
    "\n",
    "The purpose of this analysis is to implement elastic net regularization on logistic regression to perform feature selection and classication tasks on genetic data"
   ]
  },
  {
   "cell_type": "code",
   "execution_count": 62,
   "metadata": {
    "collapsed": false
   },
   "outputs": [],
   "source": [
    "# Data Imports\n",
    "import numpy as np\n",
    "import pandas as pd\n",
    "from pandas import Series,DataFrame\n",
    "from scipy.stats import norm\n",
    "\n",
    "\n",
    "# Math\n",
    "import math\n",
    "\n",
    "# Plot imports\n",
    "import matplotlib.pyplot as plt\n",
    "import seaborn as sns\n",
    "sns.set_style('whitegrid')\n",
    "%matplotlib inline\n",
    "\n",
    "# Preprocessing Imports\n",
    "from sklearn.preprocessing import normalize\n",
    "\n",
    "# Machine Learning Imports\n",
    "from sklearn.linear_model import LogisticRegression\n",
    "from sklearn.linear_model import SGDClassifier\n",
    "from sklearn.preprocessing import StandardScaler\n",
    "from sklearn.ensemble import RandomForestClassifier\n",
    "\n",
    "\n",
    "from sklearn.linear_model import RandomizedLogisticRegression\n",
    "from sklearn.cross_validation import train_test_split\n",
    "\n",
    "# For evaluating our ML results\n",
    "from sklearn import metrics\n",
    "from sklearn.metrics import roc_auc_score, confusion_matrix, roc_curve, auc\n",
    "\n",
    "# For Spectral Clustering algorithms\n",
    "from sklearn import cluster\n",
    "from sklearn.neighbors import kneighbors_graph\n",
    "\n",
    "# network imports\n",
    "import networkx as nx\n",
    "import igraph as ig"
   ]
  },
  {
   "cell_type": "markdown",
   "metadata": {},
   "source": [
    "### Data Cleaning\n",
    "\n",
    "##### Choose the data set:"
   ]
  },
  {
   "cell_type": "code",
   "execution_count": 63,
   "metadata": {
    "collapsed": false
   },
   "outputs": [],
   "source": [
    "# read data file\n",
    "datafile = '~/Documents/THESIS/project/ICOS_DATA/breast_preprocessed.txt'\n",
    "data = pd.read_table(datafile, delim_whitespace = True, \n",
    "                     dtype={'a': np.float64}, header = None)"
   ]
  },
  {
   "cell_type": "code",
   "execution_count": 64,
   "metadata": {
    "collapsed": false
   },
   "outputs": [
    {
     "name": "stdout",
     "output_type": "stream",
     "text": [
      "(47294, 129)\n"
     ]
    },
    {
     "data": {
      "text/html": [
       "<div>\n",
       "<table border=\"1\" class=\"dataframe\">\n",
       "  <thead>\n",
       "    <tr style=\"text-align: right;\">\n",
       "      <th></th>\n",
       "      <th>0</th>\n",
       "      <th>1</th>\n",
       "      <th>2</th>\n",
       "      <th>3</th>\n",
       "      <th>4</th>\n",
       "      <th>5</th>\n",
       "      <th>6</th>\n",
       "      <th>7</th>\n",
       "      <th>8</th>\n",
       "      <th>9</th>\n",
       "      <th>...</th>\n",
       "      <th>119</th>\n",
       "      <th>120</th>\n",
       "      <th>121</th>\n",
       "      <th>122</th>\n",
       "      <th>123</th>\n",
       "      <th>124</th>\n",
       "      <th>125</th>\n",
       "      <th>126</th>\n",
       "      <th>127</th>\n",
       "      <th>128</th>\n",
       "    </tr>\n",
       "  </thead>\n",
       "  <tbody>\n",
       "    <tr>\n",
       "      <th>47289</th>\n",
       "      <td>lysA</td>\n",
       "      <td>5.68</td>\n",
       "      <td>5.7194</td>\n",
       "      <td>5.7592</td>\n",
       "      <td>5.6898</td>\n",
       "      <td>5.7236</td>\n",
       "      <td>5.662</td>\n",
       "      <td>5.6684</td>\n",
       "      <td>5.6742</td>\n",
       "      <td>5.6669</td>\n",
       "      <td>...</td>\n",
       "      <td>5.7164</td>\n",
       "      <td>5.7175</td>\n",
       "      <td>5.7133</td>\n",
       "      <td>5.7133</td>\n",
       "      <td>5.6753</td>\n",
       "      <td>5.6679</td>\n",
       "      <td>5.6692</td>\n",
       "      <td>5.7666</td>\n",
       "      <td>5.72</td>\n",
       "      <td>5.75</td>\n",
       "    </tr>\n",
       "    <tr>\n",
       "      <th>47290</th>\n",
       "      <td>pheA</td>\n",
       "      <td>5.705</td>\n",
       "      <td>5.6142</td>\n",
       "      <td>5.6955</td>\n",
       "      <td>5.6227</td>\n",
       "      <td>5.6727</td>\n",
       "      <td>5.5995</td>\n",
       "      <td>5.633</td>\n",
       "      <td>5.6539</td>\n",
       "      <td>5.6511</td>\n",
       "      <td>...</td>\n",
       "      <td>5.6595</td>\n",
       "      <td>5.6292</td>\n",
       "      <td>5.6042</td>\n",
       "      <td>5.6266</td>\n",
       "      <td>5.6022</td>\n",
       "      <td>5.6709</td>\n",
       "      <td>5.6136</td>\n",
       "      <td>5.6038</td>\n",
       "      <td>5.6693</td>\n",
       "      <td>5.5818</td>\n",
       "    </tr>\n",
       "    <tr>\n",
       "      <th>47291</th>\n",
       "      <td>thrB</td>\n",
       "      <td>5.7077</td>\n",
       "      <td>5.7586</td>\n",
       "      <td>5.7279</td>\n",
       "      <td>5.6777</td>\n",
       "      <td>5.6761</td>\n",
       "      <td>5.7091</td>\n",
       "      <td>5.6777</td>\n",
       "      <td>5.68</td>\n",
       "      <td>5.6763</td>\n",
       "      <td>...</td>\n",
       "      <td>5.6918</td>\n",
       "      <td>5.6501</td>\n",
       "      <td>5.5772</td>\n",
       "      <td>5.6637</td>\n",
       "      <td>5.6556</td>\n",
       "      <td>5.6587</td>\n",
       "      <td>5.6987</td>\n",
       "      <td>5.6933</td>\n",
       "      <td>5.6775</td>\n",
       "      <td>5.68</td>\n",
       "    </tr>\n",
       "    <tr>\n",
       "      <th>47292</th>\n",
       "      <td>trpF</td>\n",
       "      <td>5.6684</td>\n",
       "      <td>5.6585</td>\n",
       "      <td>5.6337</td>\n",
       "      <td>5.6427</td>\n",
       "      <td>5.6371</td>\n",
       "      <td>5.6691</td>\n",
       "      <td>5.62</td>\n",
       "      <td>5.6199</td>\n",
       "      <td>5.6608</td>\n",
       "      <td>...</td>\n",
       "      <td>5.6392</td>\n",
       "      <td>5.6451</td>\n",
       "      <td>5.6149</td>\n",
       "      <td>5.551</td>\n",
       "      <td>5.605</td>\n",
       "      <td>5.6246</td>\n",
       "      <td>5.5404</td>\n",
       "      <td>5.6206</td>\n",
       "      <td>5.6552</td>\n",
       "      <td>5.6141</td>\n",
       "    </tr>\n",
       "    <tr>\n",
       "      <th>47293</th>\n",
       "      <td>y</td>\n",
       "      <td>luminal</td>\n",
       "      <td>luminal</td>\n",
       "      <td>luminal</td>\n",
       "      <td>luminal</td>\n",
       "      <td>luminal</td>\n",
       "      <td>non-luminal</td>\n",
       "      <td>non-luminal</td>\n",
       "      <td>luminal</td>\n",
       "      <td>luminal</td>\n",
       "      <td>...</td>\n",
       "      <td>luminal</td>\n",
       "      <td>luminal</td>\n",
       "      <td>luminal</td>\n",
       "      <td>non-luminal</td>\n",
       "      <td>non-luminal</td>\n",
       "      <td>luminal</td>\n",
       "      <td>luminal</td>\n",
       "      <td>luminal</td>\n",
       "      <td>non-luminal</td>\n",
       "      <td>luminal</td>\n",
       "    </tr>\n",
       "  </tbody>\n",
       "</table>\n",
       "<p>5 rows × 129 columns</p>\n",
       "</div>"
      ],
      "text/plain": [
       "        0        1        2        3        4        5            6    \\\n",
       "47289  lysA     5.68   5.7194   5.7592   5.6898   5.7236        5.662   \n",
       "47290  pheA    5.705   5.6142   5.6955   5.6227   5.6727       5.5995   \n",
       "47291  thrB   5.7077   5.7586   5.7279   5.6777   5.6761       5.7091   \n",
       "47292  trpF   5.6684   5.6585   5.6337   5.6427   5.6371       5.6691   \n",
       "47293     y  luminal  luminal  luminal  luminal  luminal  non-luminal   \n",
       "\n",
       "               7        8        9     ...         119      120      121  \\\n",
       "47289       5.6684   5.6742   5.6669   ...      5.7164   5.7175   5.7133   \n",
       "47290        5.633   5.6539   5.6511   ...      5.6595   5.6292   5.6042   \n",
       "47291       5.6777     5.68   5.6763   ...      5.6918   5.6501   5.5772   \n",
       "47292         5.62   5.6199   5.6608   ...      5.6392   5.6451   5.6149   \n",
       "47293  non-luminal  luminal  luminal   ...     luminal  luminal  luminal   \n",
       "\n",
       "               122          123      124      125      126          127  \\\n",
       "47289       5.7133       5.6753   5.6679   5.6692   5.7666         5.72   \n",
       "47290       5.6266       5.6022   5.6709   5.6136   5.6038       5.6693   \n",
       "47291       5.6637       5.6556   5.6587   5.6987   5.6933       5.6775   \n",
       "47292        5.551        5.605   5.6246   5.5404   5.6206       5.6552   \n",
       "47293  non-luminal  non-luminal  luminal  luminal  luminal  non-luminal   \n",
       "\n",
       "           128  \n",
       "47289     5.75  \n",
       "47290   5.5818  \n",
       "47291     5.68  \n",
       "47292   5.6141  \n",
       "47293  luminal  \n",
       "\n",
       "[5 rows x 129 columns]"
      ]
     },
     "execution_count": 64,
     "metadata": {},
     "output_type": "execute_result"
    }
   ],
   "source": [
    "# data dimension\n",
    "print data.shape\n",
    "# last 5 rows of the data\n",
    "data.tail()"
   ]
  },
  {
   "cell_type": "code",
   "execution_count": 65,
   "metadata": {
    "collapsed": false
   },
   "outputs": [],
   "source": [
    "# extract colum names (all but last one are gene names).\n",
    "colNames = data[0]\n",
    "colNames = list(colNames)"
   ]
  },
  {
   "cell_type": "code",
   "execution_count": 66,
   "metadata": {
    "collapsed": false
   },
   "outputs": [
    {
     "data": {
      "text/html": [
       "<div>\n",
       "<table border=\"1\" class=\"dataframe\">\n",
       "  <thead>\n",
       "    <tr style=\"text-align: right;\">\n",
       "      <th></th>\n",
       "      <th>GI_10047089-S</th>\n",
       "      <th>GI_10047091-S</th>\n",
       "      <th>GI_10047093-S</th>\n",
       "      <th>GI_10047099-S</th>\n",
       "      <th>GI_10047103-S</th>\n",
       "      <th>GI_10047105-S</th>\n",
       "      <th>GI_10047121-S</th>\n",
       "      <th>GI_10047123-S</th>\n",
       "      <th>GI_10047133-A</th>\n",
       "      <th>GI_10047133-I</th>\n",
       "      <th>...</th>\n",
       "      <th>hmm9738-S</th>\n",
       "      <th>hmm974-S</th>\n",
       "      <th>hmm9750-S</th>\n",
       "      <th>hmm9917-S</th>\n",
       "      <th>hmm9988-S</th>\n",
       "      <th>lysA</th>\n",
       "      <th>pheA</th>\n",
       "      <th>thrB</th>\n",
       "      <th>trpF</th>\n",
       "      <th>y</th>\n",
       "    </tr>\n",
       "  </thead>\n",
       "  <tbody>\n",
       "    <tr>\n",
       "      <th>0</th>\n",
       "      <td>5.3416</td>\n",
       "      <td>5.846</td>\n",
       "      <td>6.7052</td>\n",
       "      <td>6.4184</td>\n",
       "      <td>8.6651</td>\n",
       "      <td>5.7238</td>\n",
       "      <td>5.7566</td>\n",
       "      <td>6.8052</td>\n",
       "      <td>5.6885</td>\n",
       "      <td>5.8921</td>\n",
       "      <td>...</td>\n",
       "      <td>5.5959</td>\n",
       "      <td>5.8873</td>\n",
       "      <td>5.8005</td>\n",
       "      <td>5.5931</td>\n",
       "      <td>5.746</td>\n",
       "      <td>5.68</td>\n",
       "      <td>5.705</td>\n",
       "      <td>5.7077</td>\n",
       "      <td>5.6684</td>\n",
       "      <td>luminal</td>\n",
       "    </tr>\n",
       "    <tr>\n",
       "      <th>1</th>\n",
       "      <td>5.6259</td>\n",
       "      <td>5.8742</td>\n",
       "      <td>6.8089</td>\n",
       "      <td>6.6955</td>\n",
       "      <td>8.6113</td>\n",
       "      <td>5.8368</td>\n",
       "      <td>5.6288</td>\n",
       "      <td>7.7121</td>\n",
       "      <td>5.6911</td>\n",
       "      <td>6.0818</td>\n",
       "      <td>...</td>\n",
       "      <td>5.5832</td>\n",
       "      <td>5.7613</td>\n",
       "      <td>5.6705</td>\n",
       "      <td>5.7903</td>\n",
       "      <td>5.6111</td>\n",
       "      <td>5.7194</td>\n",
       "      <td>5.6142</td>\n",
       "      <td>5.7586</td>\n",
       "      <td>5.6585</td>\n",
       "      <td>luminal</td>\n",
       "    </tr>\n",
       "    <tr>\n",
       "      <th>2</th>\n",
       "      <td>5.6181</td>\n",
       "      <td>5.8026</td>\n",
       "      <td>6.6975</td>\n",
       "      <td>6.5851</td>\n",
       "      <td>8.3808</td>\n",
       "      <td>5.7835</td>\n",
       "      <td>5.8264</td>\n",
       "      <td>7.1011</td>\n",
       "      <td>5.6057</td>\n",
       "      <td>5.4915</td>\n",
       "      <td>...</td>\n",
       "      <td>5.5109</td>\n",
       "      <td>5.6742</td>\n",
       "      <td>5.7253</td>\n",
       "      <td>5.6365</td>\n",
       "      <td>5.4889</td>\n",
       "      <td>5.7592</td>\n",
       "      <td>5.6955</td>\n",
       "      <td>5.7279</td>\n",
       "      <td>5.6337</td>\n",
       "      <td>luminal</td>\n",
       "    </tr>\n",
       "    <tr>\n",
       "      <th>3</th>\n",
       "      <td>5.5602</td>\n",
       "      <td>5.8394</td>\n",
       "      <td>6.8386</td>\n",
       "      <td>6.7055</td>\n",
       "      <td>8.4486</td>\n",
       "      <td>5.5497</td>\n",
       "      <td>5.8045</td>\n",
       "      <td>7.6032</td>\n",
       "      <td>5.5867</td>\n",
       "      <td>5.7122</td>\n",
       "      <td>...</td>\n",
       "      <td>5.6254</td>\n",
       "      <td>5.8001</td>\n",
       "      <td>5.7344</td>\n",
       "      <td>5.6971</td>\n",
       "      <td>5.4883</td>\n",
       "      <td>5.6898</td>\n",
       "      <td>5.6227</td>\n",
       "      <td>5.6777</td>\n",
       "      <td>5.6427</td>\n",
       "      <td>luminal</td>\n",
       "    </tr>\n",
       "    <tr>\n",
       "      <th>4</th>\n",
       "      <td>5.5385</td>\n",
       "      <td>5.8876</td>\n",
       "      <td>6.572</td>\n",
       "      <td>6.1651</td>\n",
       "      <td>8.8246</td>\n",
       "      <td>5.7474</td>\n",
       "      <td>5.821</td>\n",
       "      <td>7.4015</td>\n",
       "      <td>5.6479</td>\n",
       "      <td>5.8412</td>\n",
       "      <td>...</td>\n",
       "      <td>5.7101</td>\n",
       "      <td>5.8066</td>\n",
       "      <td>5.6583</td>\n",
       "      <td>5.7032</td>\n",
       "      <td>5.58</td>\n",
       "      <td>5.7236</td>\n",
       "      <td>5.6727</td>\n",
       "      <td>5.6761</td>\n",
       "      <td>5.6371</td>\n",
       "      <td>luminal</td>\n",
       "    </tr>\n",
       "  </tbody>\n",
       "</table>\n",
       "<p>5 rows × 47294 columns</p>\n",
       "</div>"
      ],
      "text/plain": [
       "  GI_10047089-S GI_10047091-S GI_10047093-S GI_10047099-S GI_10047103-S  \\\n",
       "0        5.3416         5.846        6.7052        6.4184        8.6651   \n",
       "1        5.6259        5.8742        6.8089        6.6955        8.6113   \n",
       "2        5.6181        5.8026        6.6975        6.5851        8.3808   \n",
       "3        5.5602        5.8394        6.8386        6.7055        8.4486   \n",
       "4        5.5385        5.8876         6.572        6.1651        8.8246   \n",
       "\n",
       "  GI_10047105-S GI_10047121-S GI_10047123-S GI_10047133-A GI_10047133-I  \\\n",
       "0        5.7238        5.7566        6.8052        5.6885        5.8921   \n",
       "1        5.8368        5.6288        7.7121        5.6911        6.0818   \n",
       "2        5.7835        5.8264        7.1011        5.6057        5.4915   \n",
       "3        5.5497        5.8045        7.6032        5.5867        5.7122   \n",
       "4        5.7474         5.821        7.4015        5.6479        5.8412   \n",
       "\n",
       "    ...    hmm9738-S hmm974-S hmm9750-S hmm9917-S hmm9988-S    lysA    pheA  \\\n",
       "0   ...       5.5959   5.8873    5.8005    5.5931     5.746    5.68   5.705   \n",
       "1   ...       5.5832   5.7613    5.6705    5.7903    5.6111  5.7194  5.6142   \n",
       "2   ...       5.5109   5.6742    5.7253    5.6365    5.4889  5.7592  5.6955   \n",
       "3   ...       5.6254   5.8001    5.7344    5.6971    5.4883  5.6898  5.6227   \n",
       "4   ...       5.7101   5.8066    5.6583    5.7032      5.58  5.7236  5.6727   \n",
       "\n",
       "     thrB    trpF        y  \n",
       "0  5.7077  5.6684  luminal  \n",
       "1  5.7586  5.6585  luminal  \n",
       "2  5.7279  5.6337  luminal  \n",
       "3  5.6777  5.6427  luminal  \n",
       "4  5.6761  5.6371  luminal  \n",
       "\n",
       "[5 rows x 47294 columns]"
      ]
     },
     "execution_count": 66,
     "metadata": {},
     "output_type": "execute_result"
    }
   ],
   "source": [
    "# tranpose the data to have genes as columns and microarray experiment as rows\n",
    "data2 = data.T.ix[1:]\n",
    "\n",
    "# reset the index to satrt at 0\n",
    "data2 = data2.reset_index(drop=True)\n",
    "\n",
    "# add colum labels\n",
    "data2.columns=colNames\n",
    "data2.head()"
   ]
  },
  {
   "cell_type": "code",
   "execution_count": 67,
   "metadata": {
    "collapsed": false
   },
   "outputs": [
    {
     "data": {
      "text/html": [
       "<div>\n",
       "<table border=\"1\" class=\"dataframe\">\n",
       "  <thead>\n",
       "    <tr style=\"text-align: right;\">\n",
       "      <th></th>\n",
       "      <th>GI_10047089-S</th>\n",
       "      <th>GI_10047091-S</th>\n",
       "      <th>GI_10047093-S</th>\n",
       "      <th>GI_10047099-S</th>\n",
       "      <th>GI_10047103-S</th>\n",
       "      <th>GI_10047105-S</th>\n",
       "      <th>GI_10047121-S</th>\n",
       "      <th>GI_10047123-S</th>\n",
       "      <th>GI_10047133-A</th>\n",
       "      <th>GI_10047133-I</th>\n",
       "      <th>...</th>\n",
       "      <th>hmm9738-S</th>\n",
       "      <th>hmm974-S</th>\n",
       "      <th>hmm9750-S</th>\n",
       "      <th>hmm9917-S</th>\n",
       "      <th>hmm9988-S</th>\n",
       "      <th>lysA</th>\n",
       "      <th>pheA</th>\n",
       "      <th>thrB</th>\n",
       "      <th>trpF</th>\n",
       "      <th>y</th>\n",
       "    </tr>\n",
       "  </thead>\n",
       "  <tbody>\n",
       "    <tr>\n",
       "      <th>count</th>\n",
       "      <td>128.0000</td>\n",
       "      <td>128.0000</td>\n",
       "      <td>128.0000</td>\n",
       "      <td>128.0000</td>\n",
       "      <td>128.000</td>\n",
       "      <td>128.0000</td>\n",
       "      <td>128.0000</td>\n",
       "      <td>128.0000</td>\n",
       "      <td>128.0000</td>\n",
       "      <td>128.0000</td>\n",
       "      <td>...</td>\n",
       "      <td>128</td>\n",
       "      <td>128</td>\n",
       "      <td>128</td>\n",
       "      <td>128</td>\n",
       "      <td>128</td>\n",
       "      <td>128</td>\n",
       "      <td>128</td>\n",
       "      <td>128</td>\n",
       "      <td>128</td>\n",
       "      <td>128</td>\n",
       "    </tr>\n",
       "    <tr>\n",
       "      <th>unique</th>\n",
       "      <td>127.0000</td>\n",
       "      <td>125.0000</td>\n",
       "      <td>124.0000</td>\n",
       "      <td>127.0000</td>\n",
       "      <td>126.000</td>\n",
       "      <td>125.0000</td>\n",
       "      <td>127.0000</td>\n",
       "      <td>126.0000</td>\n",
       "      <td>127.0000</td>\n",
       "      <td>127.0000</td>\n",
       "      <td>...</td>\n",
       "      <td>126</td>\n",
       "      <td>128</td>\n",
       "      <td>127</td>\n",
       "      <td>125</td>\n",
       "      <td>126</td>\n",
       "      <td>121</td>\n",
       "      <td>121</td>\n",
       "      <td>121</td>\n",
       "      <td>123</td>\n",
       "      <td>2</td>\n",
       "    </tr>\n",
       "    <tr>\n",
       "      <th>top</th>\n",
       "      <td>5.5094</td>\n",
       "      <td>5.8394</td>\n",
       "      <td>6.7812</td>\n",
       "      <td>5.9103</td>\n",
       "      <td>8.632</td>\n",
       "      <td>5.8066</td>\n",
       "      <td>5.8408</td>\n",
       "      <td>7.5101</td>\n",
       "      <td>5.3875</td>\n",
       "      <td>5.7857</td>\n",
       "      <td>...</td>\n",
       "      <td>5.7259</td>\n",
       "      <td>5.6567</td>\n",
       "      <td>6.1477</td>\n",
       "      <td>5.8009</td>\n",
       "      <td>5.4501</td>\n",
       "      <td>5.7032</td>\n",
       "      <td>5.6022</td>\n",
       "      <td>5.6775</td>\n",
       "      <td>5.63</td>\n",
       "      <td>luminal</td>\n",
       "    </tr>\n",
       "    <tr>\n",
       "      <th>freq</th>\n",
       "      <td>2.0000</td>\n",
       "      <td>2.0000</td>\n",
       "      <td>2.0000</td>\n",
       "      <td>2.0000</td>\n",
       "      <td>2.000</td>\n",
       "      <td>2.0000</td>\n",
       "      <td>2.0000</td>\n",
       "      <td>2.0000</td>\n",
       "      <td>2.0000</td>\n",
       "      <td>2.0000</td>\n",
       "      <td>...</td>\n",
       "      <td>2</td>\n",
       "      <td>1</td>\n",
       "      <td>2</td>\n",
       "      <td>2</td>\n",
       "      <td>2</td>\n",
       "      <td>2</td>\n",
       "      <td>2</td>\n",
       "      <td>3</td>\n",
       "      <td>2</td>\n",
       "      <td>84</td>\n",
       "    </tr>\n",
       "  </tbody>\n",
       "</table>\n",
       "<p>4 rows × 47294 columns</p>\n",
       "</div>"
      ],
      "text/plain": [
       "        GI_10047089-S  GI_10047091-S  GI_10047093-S  GI_10047099-S  \\\n",
       "count        128.0000       128.0000       128.0000       128.0000   \n",
       "unique       127.0000       125.0000       124.0000       127.0000   \n",
       "top            5.5094         5.8394         6.7812         5.9103   \n",
       "freq           2.0000         2.0000         2.0000         2.0000   \n",
       "\n",
       "        GI_10047103-S  GI_10047105-S  GI_10047121-S  GI_10047123-S  \\\n",
       "count         128.000       128.0000       128.0000       128.0000   \n",
       "unique        126.000       125.0000       127.0000       126.0000   \n",
       "top             8.632         5.8066         5.8408         7.5101   \n",
       "freq            2.000         2.0000         2.0000         2.0000   \n",
       "\n",
       "        GI_10047133-A  GI_10047133-I   ...     hmm9738-S  hmm974-S  hmm9750-S  \\\n",
       "count        128.0000       128.0000   ...           128       128        128   \n",
       "unique       127.0000       127.0000   ...           126       128        127   \n",
       "top            5.3875         5.7857   ...        5.7259    5.6567     6.1477   \n",
       "freq           2.0000         2.0000   ...             2         1          2   \n",
       "\n",
       "        hmm9917-S  hmm9988-S    lysA    pheA    thrB  trpF        y  \n",
       "count         128        128     128     128     128   128      128  \n",
       "unique        125        126     121     121     121   123        2  \n",
       "top        5.8009     5.4501  5.7032  5.6022  5.6775  5.63  luminal  \n",
       "freq            2          2       2       2       3     2       84  \n",
       "\n",
       "[4 rows x 47294 columns]"
      ]
     },
     "execution_count": 67,
     "metadata": {},
     "output_type": "execute_result"
    }
   ],
   "source": [
    "data2.describe()"
   ]
  },
  {
   "cell_type": "code",
   "execution_count": 68,
   "metadata": {
    "collapsed": false
   },
   "outputs": [
    {
     "name": "stdout",
     "output_type": "stream",
     "text": [
      "(128, 47293)\n"
     ]
    }
   ],
   "source": [
    "# create date set with genes only. This is the features matrix\n",
    "X = data2[range(data.shape[0]-1)]\n",
    "print X.shape\n",
    "\n",
    "# make sure data type is float and not string.\n",
    "X = X.astype(float)"
   ]
  },
  {
   "cell_type": "code",
   "execution_count": 69,
   "metadata": {
    "collapsed": true
   },
   "outputs": [],
   "source": [
    "# store the gene names/ids\n",
    "geneNames = X.columns"
   ]
  },
  {
   "cell_type": "code",
   "execution_count": 70,
   "metadata": {
    "collapsed": false
   },
   "outputs": [
    {
     "data": {
      "text/html": [
       "<div>\n",
       "<table border=\"1\" class=\"dataframe\">\n",
       "  <thead>\n",
       "    <tr style=\"text-align: right;\">\n",
       "      <th></th>\n",
       "      <th>GI_10047089-S</th>\n",
       "      <th>GI_10047091-S</th>\n",
       "      <th>GI_10047093-S</th>\n",
       "      <th>GI_10047099-S</th>\n",
       "      <th>GI_10047103-S</th>\n",
       "      <th>GI_10047105-S</th>\n",
       "      <th>GI_10047121-S</th>\n",
       "      <th>GI_10047123-S</th>\n",
       "      <th>GI_10047133-A</th>\n",
       "      <th>GI_10047133-I</th>\n",
       "      <th>...</th>\n",
       "      <th>hmm9715-S</th>\n",
       "      <th>hmm9738-S</th>\n",
       "      <th>hmm974-S</th>\n",
       "      <th>hmm9750-S</th>\n",
       "      <th>hmm9917-S</th>\n",
       "      <th>hmm9988-S</th>\n",
       "      <th>lysA</th>\n",
       "      <th>pheA</th>\n",
       "      <th>thrB</th>\n",
       "      <th>trpF</th>\n",
       "    </tr>\n",
       "  </thead>\n",
       "  <tbody>\n",
       "    <tr>\n",
       "      <th>0</th>\n",
       "      <td>5.3416</td>\n",
       "      <td>5.8460</td>\n",
       "      <td>6.7052</td>\n",
       "      <td>6.4184</td>\n",
       "      <td>8.6651</td>\n",
       "      <td>5.7238</td>\n",
       "      <td>5.7566</td>\n",
       "      <td>6.8052</td>\n",
       "      <td>5.6885</td>\n",
       "      <td>5.8921</td>\n",
       "      <td>...</td>\n",
       "      <td>5.7645</td>\n",
       "      <td>5.5959</td>\n",
       "      <td>5.8873</td>\n",
       "      <td>5.8005</td>\n",
       "      <td>5.5931</td>\n",
       "      <td>5.7460</td>\n",
       "      <td>5.6800</td>\n",
       "      <td>5.7050</td>\n",
       "      <td>5.7077</td>\n",
       "      <td>5.6684</td>\n",
       "    </tr>\n",
       "    <tr>\n",
       "      <th>1</th>\n",
       "      <td>5.6259</td>\n",
       "      <td>5.8742</td>\n",
       "      <td>6.8089</td>\n",
       "      <td>6.6955</td>\n",
       "      <td>8.6113</td>\n",
       "      <td>5.8368</td>\n",
       "      <td>5.6288</td>\n",
       "      <td>7.7121</td>\n",
       "      <td>5.6911</td>\n",
       "      <td>6.0818</td>\n",
       "      <td>...</td>\n",
       "      <td>5.8293</td>\n",
       "      <td>5.5832</td>\n",
       "      <td>5.7613</td>\n",
       "      <td>5.6705</td>\n",
       "      <td>5.7903</td>\n",
       "      <td>5.6111</td>\n",
       "      <td>5.7194</td>\n",
       "      <td>5.6142</td>\n",
       "      <td>5.7586</td>\n",
       "      <td>5.6585</td>\n",
       "    </tr>\n",
       "    <tr>\n",
       "      <th>2</th>\n",
       "      <td>5.6181</td>\n",
       "      <td>5.8026</td>\n",
       "      <td>6.6975</td>\n",
       "      <td>6.5851</td>\n",
       "      <td>8.3808</td>\n",
       "      <td>5.7835</td>\n",
       "      <td>5.8264</td>\n",
       "      <td>7.1011</td>\n",
       "      <td>5.6057</td>\n",
       "      <td>5.4915</td>\n",
       "      <td>...</td>\n",
       "      <td>5.6392</td>\n",
       "      <td>5.5109</td>\n",
       "      <td>5.6742</td>\n",
       "      <td>5.7253</td>\n",
       "      <td>5.6365</td>\n",
       "      <td>5.4889</td>\n",
       "      <td>5.7592</td>\n",
       "      <td>5.6955</td>\n",
       "      <td>5.7279</td>\n",
       "      <td>5.6337</td>\n",
       "    </tr>\n",
       "    <tr>\n",
       "      <th>3</th>\n",
       "      <td>5.5602</td>\n",
       "      <td>5.8394</td>\n",
       "      <td>6.8386</td>\n",
       "      <td>6.7055</td>\n",
       "      <td>8.4486</td>\n",
       "      <td>5.5497</td>\n",
       "      <td>5.8045</td>\n",
       "      <td>7.6032</td>\n",
       "      <td>5.5867</td>\n",
       "      <td>5.7122</td>\n",
       "      <td>...</td>\n",
       "      <td>5.7021</td>\n",
       "      <td>5.6254</td>\n",
       "      <td>5.8001</td>\n",
       "      <td>5.7344</td>\n",
       "      <td>5.6971</td>\n",
       "      <td>5.4883</td>\n",
       "      <td>5.6898</td>\n",
       "      <td>5.6227</td>\n",
       "      <td>5.6777</td>\n",
       "      <td>5.6427</td>\n",
       "    </tr>\n",
       "    <tr>\n",
       "      <th>4</th>\n",
       "      <td>5.5385</td>\n",
       "      <td>5.8876</td>\n",
       "      <td>6.5720</td>\n",
       "      <td>6.1651</td>\n",
       "      <td>8.8246</td>\n",
       "      <td>5.7474</td>\n",
       "      <td>5.8210</td>\n",
       "      <td>7.4015</td>\n",
       "      <td>5.6479</td>\n",
       "      <td>5.8412</td>\n",
       "      <td>...</td>\n",
       "      <td>5.8150</td>\n",
       "      <td>5.7101</td>\n",
       "      <td>5.8066</td>\n",
       "      <td>5.6583</td>\n",
       "      <td>5.7032</td>\n",
       "      <td>5.5800</td>\n",
       "      <td>5.7236</td>\n",
       "      <td>5.6727</td>\n",
       "      <td>5.6761</td>\n",
       "      <td>5.6371</td>\n",
       "    </tr>\n",
       "  </tbody>\n",
       "</table>\n",
       "<p>5 rows × 47293 columns</p>\n",
       "</div>"
      ],
      "text/plain": [
       "   GI_10047089-S  GI_10047091-S  GI_10047093-S  GI_10047099-S  GI_10047103-S  \\\n",
       "0         5.3416         5.8460         6.7052         6.4184         8.6651   \n",
       "1         5.6259         5.8742         6.8089         6.6955         8.6113   \n",
       "2         5.6181         5.8026         6.6975         6.5851         8.3808   \n",
       "3         5.5602         5.8394         6.8386         6.7055         8.4486   \n",
       "4         5.5385         5.8876         6.5720         6.1651         8.8246   \n",
       "\n",
       "   GI_10047105-S  GI_10047121-S  GI_10047123-S  GI_10047133-A  GI_10047133-I  \\\n",
       "0         5.7238         5.7566         6.8052         5.6885         5.8921   \n",
       "1         5.8368         5.6288         7.7121         5.6911         6.0818   \n",
       "2         5.7835         5.8264         7.1011         5.6057         5.4915   \n",
       "3         5.5497         5.8045         7.6032         5.5867         5.7122   \n",
       "4         5.7474         5.8210         7.4015         5.6479         5.8412   \n",
       "\n",
       "    ...    hmm9715-S  hmm9738-S  hmm974-S  hmm9750-S  hmm9917-S  hmm9988-S  \\\n",
       "0   ...       5.7645     5.5959    5.8873     5.8005     5.5931     5.7460   \n",
       "1   ...       5.8293     5.5832    5.7613     5.6705     5.7903     5.6111   \n",
       "2   ...       5.6392     5.5109    5.6742     5.7253     5.6365     5.4889   \n",
       "3   ...       5.7021     5.6254    5.8001     5.7344     5.6971     5.4883   \n",
       "4   ...       5.8150     5.7101    5.8066     5.6583     5.7032     5.5800   \n",
       "\n",
       "     lysA    pheA    thrB    trpF  \n",
       "0  5.6800  5.7050  5.7077  5.6684  \n",
       "1  5.7194  5.6142  5.7586  5.6585  \n",
       "2  5.7592  5.6955  5.7279  5.6337  \n",
       "3  5.6898  5.6227  5.6777  5.6427  \n",
       "4  5.7236  5.6727  5.6761  5.6371  \n",
       "\n",
       "[5 rows x 47293 columns]"
      ]
     },
     "execution_count": 70,
     "metadata": {},
     "output_type": "execute_result"
    }
   ],
   "source": [
    "X.head()"
   ]
  },
  {
   "cell_type": "code",
   "execution_count": 71,
   "metadata": {
    "collapsed": false
   },
   "outputs": [
    {
     "data": {
      "text/plain": [
       "y    object\n",
       "dtype: object"
      ]
     },
     "execution_count": 71,
     "metadata": {},
     "output_type": "execute_result"
    }
   ],
   "source": [
    "# create vector with response variable\n",
    "Y = data2[[-1]]\n",
    "Y.head().dtypes"
   ]
  },
  {
   "cell_type": "code",
   "execution_count": 72,
   "metadata": {
    "collapsed": false
   },
   "outputs": [
    {
     "data": {
      "text/html": [
       "<div>\n",
       "<table border=\"1\" class=\"dataframe\">\n",
       "  <thead>\n",
       "    <tr style=\"text-align: right;\">\n",
       "      <th></th>\n",
       "      <th>y_luminal</th>\n",
       "      <th>y_non-luminal</th>\n",
       "    </tr>\n",
       "  </thead>\n",
       "  <tbody>\n",
       "    <tr>\n",
       "      <th>0</th>\n",
       "      <td>1</td>\n",
       "      <td>0</td>\n",
       "    </tr>\n",
       "    <tr>\n",
       "      <th>1</th>\n",
       "      <td>1</td>\n",
       "      <td>0</td>\n",
       "    </tr>\n",
       "    <tr>\n",
       "      <th>2</th>\n",
       "      <td>1</td>\n",
       "      <td>0</td>\n",
       "    </tr>\n",
       "    <tr>\n",
       "      <th>3</th>\n",
       "      <td>1</td>\n",
       "      <td>0</td>\n",
       "    </tr>\n",
       "    <tr>\n",
       "      <th>4</th>\n",
       "      <td>1</td>\n",
       "      <td>0</td>\n",
       "    </tr>\n",
       "    <tr>\n",
       "      <th>5</th>\n",
       "      <td>0</td>\n",
       "      <td>1</td>\n",
       "    </tr>\n",
       "  </tbody>\n",
       "</table>\n",
       "</div>"
      ],
      "text/plain": [
       "   y_luminal  y_non-luminal\n",
       "0          1              0\n",
       "1          1              0\n",
       "2          1              0\n",
       "3          1              0\n",
       "4          1              0\n",
       "5          0              1"
      ]
     },
     "execution_count": 72,
     "metadata": {},
     "output_type": "execute_result"
    }
   ],
   "source": [
    "# make sure response vector is binary 0, 1.\n",
    "Y = pd.get_dummies(Y)\n",
    "Y.head(6)"
   ]
  },
  {
   "cell_type": "code",
   "execution_count": 73,
   "metadata": {
    "collapsed": false
   },
   "outputs": [],
   "source": [
    "# choose one of the equivalent response vectors.\n",
    "Y = Y.ix[:,0]"
   ]
  },
  {
   "cell_type": "code",
   "execution_count": 74,
   "metadata": {
    "collapsed": false
   },
   "outputs": [
    {
     "data": {
      "text/plain": [
       "0.47495887979908324"
      ]
     },
     "execution_count": 74,
     "metadata": {},
     "output_type": "execute_result"
    }
   ],
   "source": [
    "#Percent of cancer positive\n",
    "np.mean(Y)"
   ]
  },
  {
   "cell_type": "code",
   "execution_count": 75,
   "metadata": {
    "collapsed": false
   },
   "outputs": [
    {
     "data": {
      "text/plain": [
       "0.82144745622309201"
      ]
     },
     "execution_count": 75,
     "metadata": {},
     "output_type": "execute_result"
    }
   ],
   "source": [
    "np.std(np.ravel(X))"
   ]
  },
  {
   "cell_type": "code",
   "execution_count": 76,
   "metadata": {
    "collapsed": true
   },
   "outputs": [],
   "source": [
    "#Y = np.ravel(Y)"
   ]
  },
  {
   "cell_type": "markdown",
   "metadata": {
    "collapsed": true
   },
   "source": [
    "## Classification with Penalized Logistic Model"
   ]
  },
  {
   "cell_type": "markdown",
   "metadata": {},
   "source": [
    "### The Sigmoid"
   ]
  },
  {
   "cell_type": "code",
   "execution_count": 77,
   "metadata": {
    "collapsed": false
   },
   "outputs": [
    {
     "data": {
      "image/png": "[encoded data removed]",
      "text/plain": [
       "<matplotlib.figure.Figure at 0x7f2f3c1ef410>"
      ]
     },
     "metadata": {},
     "output_type": "display_data"
    }
   ],
   "source": [
    "def sigmoid(z):\n",
    "    return 1.0 / (1.0 + np.exp(-z))\n",
    "z = np.arange(-7, 7, 0.1)\n",
    "phi_z = sigmoid(z)\n",
    "plt.figure(figsize=(7,5))\n",
    "plt.plot(z, phi_z)\n",
    "plt.axvline(0.0, color='k')\n",
    "plt.axhspan(0.0, 1.0, facecolor='1.0', alpha=1.0, ls='dotted')\n",
    "plt.axhline(y=0.5, ls='dotted', color='k')\n",
    "plt.yticks([0.0, 0.5, 1.0])\n",
    "plt.ylim(-0.1, 1.1)\n",
    "plt.xlabel('$x_i$')\n",
    "plt.ylabel('$\\pi_i (x)$')\n",
    "plt.savefig('sigmoid')\n",
    "plt.show()"
   ]
  },
  {
   "cell_type": "code",
   "execution_count": 227,
   "metadata": {
    "collapsed": false
   },
   "outputs": [],
   "source": [
    "# model definition\n",
    "# logistic regression with elasticnet regularization\n",
    "# l1_ratio refers to alpha and alpha refers to lamba in Hastie\n",
    "log_model = SGDClassifier(loss = 'log', penalty = 'elasticnet', alpha = 0.175, \n",
    "                                l1_ratio = 0.5, fit_intercept = True)"
   ]
  },
  {
   "cell_type": "markdown",
   "metadata": {},
   "source": [
    "### Significant Gene Selection Cross-Validation"
   ]
  },
  {
   "cell_type": "code",
   "execution_count": 228,
   "metadata": {
    "collapsed": false
   },
   "outputs": [],
   "source": [
    "#initialize the dataframes for ranking genes\n",
    "selected_genes = {'col1':'gene1'}\n",
    "gene_names = DataFrame(geneNames)\n",
    "gene_names.columns = ['trial0']\n",
    "\n",
    "# Initial trial column \n",
    "gene_select_count = gene_names.isin(selected_genes)\n",
    "gene_coeff = DataFrame()\n",
    "\n",
    "# Number of trials\n",
    "M = 400\n",
    "\n",
    "# IN THE LOOP\n",
    "for i in range(M):\n",
    "    # Split the data\n",
    "\n",
    "    X_train, X_test, Y_train, Y_test = train_test_split(X, Y)\n",
    "\n",
    "\n",
    "    # Fit model and select significant genes\n",
    "\n",
    "    fit_log_model = log_model.fit(X_train, Y_train)\n",
    "    X_selected = fit_log_model.transform(X_test)\n",
    "\n",
    "\n",
    "    # Find the indexes of significant genes\n",
    "\n",
    "    # these are the index of the features selected by the l1 regularized logistic model\n",
    "    selected_index = np.where(log_model.coef_!=0)[-1]\n",
    "    # Selected genes in ith trial\n",
    "    selected_genes = gene_names.loc[selected_index]\n",
    "\n",
    "    gene_select_count['trial' + str(i)] = gene_names.isin(selected_genes)\n",
    "    gene_coeff['trial' + str(i)] = Series(log_model.coef_[0])\n",
    "    "
   ]
  },
  {
   "cell_type": "code",
   "execution_count": 229,
   "metadata": {
    "collapsed": false
   },
   "outputs": [],
   "source": [
    "beta_coeff = gene_coeff.mean(axis = 1)\n",
    "beta_sterror = gene_coeff.std(axis = 1)\n",
    "gene_imp_score = gene_coeff.mean(axis = 1).abs()\n",
    "pvalue = 1-norm.cdf(np.abs(beta_coeff/beta_sterror))"
   ]
  },
  {
   "cell_type": "code",
   "execution_count": 230,
   "metadata": {
    "collapsed": false
   },
   "outputs": [],
   "source": [
    "# this creates a pandas Series with the sum of how many times a gene was selected\n",
    "gene_select_summary = gene_select_count.sum(axis = 1)"
   ]
  },
  {
   "cell_type": "code",
   "execution_count": 231,
   "metadata": {
    "collapsed": true
   },
   "outputs": [],
   "source": [
    "# this data frame has the values for all genes\n",
    "result = DataFrame([geneNames, gene_select_summary, gene_imp_score, beta_coeff, beta_sterror, pvalue], index = \n",
    "          ['Gene', 'Frequency', 'Score', 'Coefficient', 'Std Error', 'pvalue']).T.sort(['Frequency', 'Score'], \n",
    "                                                            ascending = False)"
   ]
  },
  {
   "cell_type": "code",
   "execution_count": 232,
   "metadata": {
    "collapsed": false
   },
   "outputs": [
    {
     "data": {
      "text/html": [
       "<div>\n",
       "<table border=\"1\" class=\"dataframe\">\n",
       "  <thead>\n",
       "    <tr style=\"text-align: right;\">\n",
       "      <th></th>\n",
       "      <th>Gene</th>\n",
       "      <th>Frequency</th>\n",
       "      <th>Coefficient</th>\n",
       "      <th>Std Error</th>\n",
       "      <th>pvalue</th>\n",
       "    </tr>\n",
       "  </thead>\n",
       "  <tbody>\n",
       "    <tr>\n",
       "      <th>22089</th>\n",
       "      <td>GI_4503602-S</td>\n",
       "      <td>400</td>\n",
       "      <td>2.993167</td>\n",
       "      <td>0.7286791</td>\n",
       "      <td>1.998432e-05</td>\n",
       "    </tr>\n",
       "    <tr>\n",
       "      <th>17275</th>\n",
       "      <td>GI_38455428-S</td>\n",
       "      <td>400</td>\n",
       "      <td>1.925685</td>\n",
       "      <td>0.6528698</td>\n",
       "      <td>0.001591082</td>\n",
       "    </tr>\n",
       "    <tr>\n",
       "      <th>10064</th>\n",
       "      <td>GI_29738585-S</td>\n",
       "      <td>400</td>\n",
       "      <td>1.416221</td>\n",
       "      <td>0.4814823</td>\n",
       "      <td>0.001633779</td>\n",
       "    </tr>\n",
       "    <tr>\n",
       "      <th>5644</th>\n",
       "      <td>GI_21614543-S</td>\n",
       "      <td>399</td>\n",
       "      <td>-1.942821</td>\n",
       "      <td>0.6122178</td>\n",
       "      <td>0.0007532845</td>\n",
       "    </tr>\n",
       "    <tr>\n",
       "      <th>26033</th>\n",
       "      <td>GI_9951924-S</td>\n",
       "      <td>399</td>\n",
       "      <td>1.555703</td>\n",
       "      <td>0.5557352</td>\n",
       "      <td>0.002560192</td>\n",
       "    </tr>\n",
       "  </tbody>\n",
       "</table>\n",
       "</div>"
      ],
      "text/plain": [
       "                Gene Frequency Coefficient  Std Error        pvalue\n",
       "22089   GI_4503602-S       400    2.993167  0.7286791  1.998432e-05\n",
       "17275  GI_38455428-S       400    1.925685  0.6528698   0.001591082\n",
       "10064  GI_29738585-S       400    1.416221  0.4814823   0.001633779\n",
       "5644   GI_21614543-S       399   -1.942821  0.6122178  0.0007532845\n",
       "26033   GI_9951924-S       399    1.555703  0.5557352   0.002560192"
      ]
     },
     "execution_count": 232,
     "metadata": {},
     "output_type": "execute_result"
    }
   ],
   "source": [
    "result[['Gene', 'Frequency', 'Coefficient', 'Std Error', 'pvalue']].head()"
   ]
  },
  {
   "cell_type": "code",
   "execution_count": 233,
   "metadata": {
    "collapsed": true
   },
   "outputs": [],
   "source": [
    "GI_4503602_S = X['GI_4503602-S']\n",
    "GI_21614543_S = X['GI_21614543-S']"
   ]
  },
  {
   "cell_type": "code",
   "execution_count": 234,
   "metadata": {
    "collapsed": false
   },
   "outputs": [
    {
     "data": {
      "image/png": "[encoded data removed]",
      "text/plain": [
       "<matplotlib.figure.Figure at 0x7f2f3c864f10>"
      ]
     },
     "metadata": {},
     "output_type": "display_data"
    }
   ],
   "source": [
    "#plt.scatter(range(128),GI_4503602_S)\n",
    "plt.scatter(GI_21614543_S,GI_4503602_S)\n",
    "plt.show()"
   ]
  },
  {
   "cell_type": "code",
   "execution_count": 265,
   "metadata": {
    "collapsed": false
   },
   "outputs": [
    {
     "data": {
      "text/plain": [
       "array([[ 1.        ,  0.80972455,  0.73625334, -0.59823435,  0.83457833],\n",
       "       [ 0.80972455,  1.        ,  0.64928769, -0.54427371,  0.74263589],\n",
       "       [ 0.73625334,  0.64928769,  1.        , -0.569731  ,  0.69178296],\n",
       "       [-0.59823435, -0.54427371, -0.569731  ,  1.        , -0.5111184 ],\n",
       "       [ 0.83457833,  0.74263589,  0.69178296, -0.5111184 ,  1.        ]])"
      ]
     },
     "execution_count": 265,
     "metadata": {},
     "output_type": "execute_result"
    }
   ],
   "source": [
    "#correlation\n",
    "submat = X[['GI_4503602-S','GI_38455428-S','GI_29738585-S','GI_21614543-S','GI_9951924-S']].T\n",
    "\n",
    "np.corrcoef(submat)\n"
   ]
  },
  {
   "cell_type": "code",
   "execution_count": null,
   "metadata": {
    "collapsed": true
   },
   "outputs": [],
   "source": [
    "sns.pairplot(submat)"
   ]
  },
  {
   "cell_type": "code",
   "execution_count": 235,
   "metadata": {
    "collapsed": true
   },
   "outputs": [],
   "source": [
    "# this gives the indices of selected genes according to some threshold. can use the importance score\n",
    "# or the number of times selected.\n",
    "selected_genes_index = gene_select_summary[gene_imp_score >= 0.0000001].index"
   ]
  },
  {
   "cell_type": "code",
   "execution_count": 236,
   "metadata": {
    "collapsed": true
   },
   "outputs": [],
   "source": [
    "result = DataFrame([geneNames[selected_genes_index], gene_select_summary[selected_genes_index], \n",
    "           gene_imp_score[selected_genes_index], beta_coeff[selected_genes_index], beta_sterror[selected_genes_index],\n",
    "           pvalue[selected_genes_index]], index = ['Gene', 'Frequency', 'Score','Coefficient', 'Std Error', \n",
    "                                                   'pvalue']).T.sort(['Frequency', 'Score'], \n",
    "                                                                     ascending = False)"
   ]
  },
  {
   "cell_type": "code",
   "execution_count": 237,
   "metadata": {
    "collapsed": false
   },
   "outputs": [
    {
     "name": "stdout",
     "output_type": "stream",
     "text": [
      "1802\n"
     ]
    }
   ],
   "source": [
    "print len(selected_genes_index)"
   ]
  },
  {
   "cell_type": "code",
   "execution_count": 238,
   "metadata": {
    "collapsed": false
   },
   "outputs": [
    {
     "data": {
      "text/html": [
       "<div>\n",
       "<table border=\"1\" class=\"dataframe\">\n",
       "  <thead>\n",
       "    <tr style=\"text-align: right;\">\n",
       "      <th></th>\n",
       "      <th>Gene</th>\n",
       "      <th>Frequency</th>\n",
       "      <th>Coefficient</th>\n",
       "      <th>Std Error</th>\n",
       "      <th>pvalue</th>\n",
       "    </tr>\n",
       "  </thead>\n",
       "  <tbody>\n",
       "    <tr>\n",
       "      <th>1317</th>\n",
       "      <td>GI_4503602-S</td>\n",
       "      <td>400</td>\n",
       "      <td>2.993167</td>\n",
       "      <td>0.7286791</td>\n",
       "      <td>1.998432e-05</td>\n",
       "    </tr>\n",
       "    <tr>\n",
       "      <th>1085</th>\n",
       "      <td>GI_38455428-S</td>\n",
       "      <td>400</td>\n",
       "      <td>1.925685</td>\n",
       "      <td>0.6528698</td>\n",
       "      <td>0.001591082</td>\n",
       "    </tr>\n",
       "    <tr>\n",
       "      <th>694</th>\n",
       "      <td>GI_29738585-S</td>\n",
       "      <td>400</td>\n",
       "      <td>1.416221</td>\n",
       "      <td>0.4814823</td>\n",
       "      <td>0.001633779</td>\n",
       "    </tr>\n",
       "    <tr>\n",
       "      <th>443</th>\n",
       "      <td>GI_21614543-S</td>\n",
       "      <td>399</td>\n",
       "      <td>-1.942821</td>\n",
       "      <td>0.6122178</td>\n",
       "      <td>0.0007532845</td>\n",
       "    </tr>\n",
       "    <tr>\n",
       "      <th>1736</th>\n",
       "      <td>GI_9951924-S</td>\n",
       "      <td>399</td>\n",
       "      <td>1.555703</td>\n",
       "      <td>0.5557352</td>\n",
       "      <td>0.002560192</td>\n",
       "    </tr>\n",
       "    <tr>\n",
       "      <th>1328</th>\n",
       "      <td>GI_4503928-S</td>\n",
       "      <td>398</td>\n",
       "      <td>1.532174</td>\n",
       "      <td>0.6067648</td>\n",
       "      <td>0.005782383</td>\n",
       "    </tr>\n",
       "    <tr>\n",
       "      <th>134</th>\n",
       "      <td>GI_14249703-S</td>\n",
       "      <td>398</td>\n",
       "      <td>0.703042</td>\n",
       "      <td>0.3116254</td>\n",
       "      <td>0.01203381</td>\n",
       "    </tr>\n",
       "    <tr>\n",
       "      <th>468</th>\n",
       "      <td>GI_22035691-A</td>\n",
       "      <td>397</td>\n",
       "      <td>0.9149037</td>\n",
       "      <td>0.441376</td>\n",
       "      <td>0.01909338</td>\n",
       "    </tr>\n",
       "    <tr>\n",
       "      <th>741</th>\n",
       "      <td>GI_31341936-S</td>\n",
       "      <td>396</td>\n",
       "      <td>1.313133</td>\n",
       "      <td>0.5732425</td>\n",
       "      <td>0.01099005</td>\n",
       "    </tr>\n",
       "    <tr>\n",
       "      <th>62</th>\n",
       "      <td>GI_12751474-S</td>\n",
       "      <td>396</td>\n",
       "      <td>0.853389</td>\n",
       "      <td>0.4395223</td>\n",
       "      <td>0.02609104</td>\n",
       "    </tr>\n",
       "    <tr>\n",
       "      <th>760</th>\n",
       "      <td>GI_31542212-S</td>\n",
       "      <td>395</td>\n",
       "      <td>-1.175315</td>\n",
       "      <td>0.5256956</td>\n",
       "      <td>0.01268465</td>\n",
       "    </tr>\n",
       "    <tr>\n",
       "      <th>1238</th>\n",
       "      <td>GI_42659459-S</td>\n",
       "      <td>394</td>\n",
       "      <td>1.282657</td>\n",
       "      <td>0.5939535</td>\n",
       "      <td>0.01540473</td>\n",
       "    </tr>\n",
       "    <tr>\n",
       "      <th>980</th>\n",
       "      <td>GI_36054052-S</td>\n",
       "      <td>390</td>\n",
       "      <td>-1.029111</td>\n",
       "      <td>0.526452</td>\n",
       "      <td>0.02530302</td>\n",
       "    </tr>\n",
       "    <tr>\n",
       "      <th>1348</th>\n",
       "      <td>GI_4504700-S</td>\n",
       "      <td>390</td>\n",
       "      <td>-0.9520242</td>\n",
       "      <td>0.4159716</td>\n",
       "      <td>0.0110491</td>\n",
       "    </tr>\n",
       "    <tr>\n",
       "      <th>690</th>\n",
       "      <td>GI_29728071-S</td>\n",
       "      <td>390</td>\n",
       "      <td>0.7763586</td>\n",
       "      <td>0.4383076</td>\n",
       "      <td>0.03825838</td>\n",
       "    </tr>\n",
       "    <tr>\n",
       "      <th>1261</th>\n",
       "      <td>GI_42741670-S</td>\n",
       "      <td>389</td>\n",
       "      <td>1.198536</td>\n",
       "      <td>0.6347</td>\n",
       "      <td>0.02948946</td>\n",
       "    </tr>\n",
       "    <tr>\n",
       "      <th>501</th>\n",
       "      <td>GI_22748948-S</td>\n",
       "      <td>389</td>\n",
       "      <td>0.7344234</td>\n",
       "      <td>0.3816504</td>\n",
       "      <td>0.02715628</td>\n",
       "    </tr>\n",
       "    <tr>\n",
       "      <th>1731</th>\n",
       "      <td>GI_9845520-S</td>\n",
       "      <td>388</td>\n",
       "      <td>-0.8398759</td>\n",
       "      <td>0.4465336</td>\n",
       "      <td>0.02999415</td>\n",
       "    </tr>\n",
       "    <tr>\n",
       "      <th>1405</th>\n",
       "      <td>GI_4507450-S</td>\n",
       "      <td>386</td>\n",
       "      <td>1.560852</td>\n",
       "      <td>0.8283939</td>\n",
       "      <td>0.02976957</td>\n",
       "    </tr>\n",
       "    <tr>\n",
       "      <th>1070</th>\n",
       "      <td>GI_38327636-S</td>\n",
       "      <td>381</td>\n",
       "      <td>-1.358175</td>\n",
       "      <td>0.6874902</td>\n",
       "      <td>0.02410258</td>\n",
       "    </tr>\n",
       "    <tr>\n",
       "      <th>1365</th>\n",
       "      <td>GI_4505186-S</td>\n",
       "      <td>379</td>\n",
       "      <td>-0.7283705</td>\n",
       "      <td>0.3980737</td>\n",
       "      <td>0.03364458</td>\n",
       "    </tr>\n",
       "    <tr>\n",
       "      <th>935</th>\n",
       "      <td>GI_34222365-S</td>\n",
       "      <td>378</td>\n",
       "      <td>0.7825334</td>\n",
       "      <td>0.4983917</td>\n",
       "      <td>0.05819391</td>\n",
       "    </tr>\n",
       "    <tr>\n",
       "      <th>536</th>\n",
       "      <td>GI_23308576-S</td>\n",
       "      <td>378</td>\n",
       "      <td>-0.7555192</td>\n",
       "      <td>0.442471</td>\n",
       "      <td>0.04386459</td>\n",
       "    </tr>\n",
       "    <tr>\n",
       "      <th>1518</th>\n",
       "      <td>GI_5031970-S</td>\n",
       "      <td>378</td>\n",
       "      <td>0.5324775</td>\n",
       "      <td>0.3365683</td>\n",
       "      <td>0.05681584</td>\n",
       "    </tr>\n",
       "    <tr>\n",
       "      <th>586</th>\n",
       "      <td>GI_24497500-S</td>\n",
       "      <td>377</td>\n",
       "      <td>0.747736</td>\n",
       "      <td>0.4788738</td>\n",
       "      <td>0.05920915</td>\n",
       "    </tr>\n",
       "    <tr>\n",
       "      <th>1247</th>\n",
       "      <td>GI_42660596-S</td>\n",
       "      <td>377</td>\n",
       "      <td>0.577377</td>\n",
       "      <td>0.3560593</td>\n",
       "      <td>0.05244717</td>\n",
       "    </tr>\n",
       "    <tr>\n",
       "      <th>983</th>\n",
       "      <td>GI_37059752-S</td>\n",
       "      <td>374</td>\n",
       "      <td>0.7263751</td>\n",
       "      <td>0.4613382</td>\n",
       "      <td>0.05768641</td>\n",
       "    </tr>\n",
       "    <tr>\n",
       "      <th>1440</th>\n",
       "      <td>GI_4557436-S</td>\n",
       "      <td>374</td>\n",
       "      <td>-0.6961454</td>\n",
       "      <td>0.3992406</td>\n",
       "      <td>0.04060799</td>\n",
       "    </tr>\n",
       "    <tr>\n",
       "      <th>1207</th>\n",
       "      <td>GI_41406092-I</td>\n",
       "      <td>373</td>\n",
       "      <td>0.6429633</td>\n",
       "      <td>0.4234225</td>\n",
       "      <td>0.06444533</td>\n",
       "    </tr>\n",
       "    <tr>\n",
       "      <th>198</th>\n",
       "      <td>GI_16507967-S</td>\n",
       "      <td>373</td>\n",
       "      <td>0.5021379</td>\n",
       "      <td>0.3055959</td>\n",
       "      <td>0.05017666</td>\n",
       "    </tr>\n",
       "    <tr>\n",
       "      <th>...</th>\n",
       "      <td>...</td>\n",
       "      <td>...</td>\n",
       "      <td>...</td>\n",
       "      <td>...</td>\n",
       "      <td>...</td>\n",
       "    </tr>\n",
       "    <tr>\n",
       "      <th>661</th>\n",
       "      <td>GI_28416948-S</td>\n",
       "      <td>1</td>\n",
       "      <td>-1.623064e-05</td>\n",
       "      <td>0.0003246128</td>\n",
       "      <td>0.4800612</td>\n",
       "    </tr>\n",
       "    <tr>\n",
       "      <th>382</th>\n",
       "      <td>GI_21359839-S</td>\n",
       "      <td>1</td>\n",
       "      <td>-1.561229e-05</td>\n",
       "      <td>0.0003122457</td>\n",
       "      <td>0.4800612</td>\n",
       "    </tr>\n",
       "    <tr>\n",
       "      <th>1397</th>\n",
       "      <td>GI_4507170-S</td>\n",
       "      <td>1</td>\n",
       "      <td>1.47798e-05</td>\n",
       "      <td>0.000295596</td>\n",
       "      <td>0.4800612</td>\n",
       "    </tr>\n",
       "    <tr>\n",
       "      <th>144</th>\n",
       "      <td>GI_14591911-S</td>\n",
       "      <td>1</td>\n",
       "      <td>-1.367197e-05</td>\n",
       "      <td>0.0002734394</td>\n",
       "      <td>0.4800612</td>\n",
       "    </tr>\n",
       "    <tr>\n",
       "      <th>1025</th>\n",
       "      <td>GI_37550007-S</td>\n",
       "      <td>1</td>\n",
       "      <td>-1.348357e-05</td>\n",
       "      <td>0.0002696714</td>\n",
       "      <td>0.4800612</td>\n",
       "    </tr>\n",
       "    <tr>\n",
       "      <th>609</th>\n",
       "      <td>GI_26051239-S</td>\n",
       "      <td>1</td>\n",
       "      <td>-1.18039e-05</td>\n",
       "      <td>0.000236078</td>\n",
       "      <td>0.4800612</td>\n",
       "    </tr>\n",
       "    <tr>\n",
       "      <th>1794</th>\n",
       "      <td>hmm29415-S</td>\n",
       "      <td>1</td>\n",
       "      <td>-1.162944e-05</td>\n",
       "      <td>0.0002325888</td>\n",
       "      <td>0.4800612</td>\n",
       "    </tr>\n",
       "    <tr>\n",
       "      <th>88</th>\n",
       "      <td>GI_13376590-S</td>\n",
       "      <td>1</td>\n",
       "      <td>1.153013e-05</td>\n",
       "      <td>0.0002306026</td>\n",
       "      <td>0.4800612</td>\n",
       "    </tr>\n",
       "    <tr>\n",
       "      <th>1716</th>\n",
       "      <td>GI_9506670-S</td>\n",
       "      <td>1</td>\n",
       "      <td>1.068552e-05</td>\n",
       "      <td>0.0002137104</td>\n",
       "      <td>0.4800612</td>\n",
       "    </tr>\n",
       "    <tr>\n",
       "      <th>284</th>\n",
       "      <td>GI_19718745-A</td>\n",
       "      <td>1</td>\n",
       "      <td>1.049331e-05</td>\n",
       "      <td>0.0002098661</td>\n",
       "      <td>0.4800612</td>\n",
       "    </tr>\n",
       "    <tr>\n",
       "      <th>994</th>\n",
       "      <td>GI_37540838-S</td>\n",
       "      <td>1</td>\n",
       "      <td>-1.006213e-05</td>\n",
       "      <td>0.0002012425</td>\n",
       "      <td>0.4800612</td>\n",
       "    </tr>\n",
       "    <tr>\n",
       "      <th>523</th>\n",
       "      <td>GI_23110985-S</td>\n",
       "      <td>1</td>\n",
       "      <td>1.001835e-05</td>\n",
       "      <td>0.000200367</td>\n",
       "      <td>0.4800612</td>\n",
       "    </tr>\n",
       "    <tr>\n",
       "      <th>451</th>\n",
       "      <td>GI_21735619-S</td>\n",
       "      <td>1</td>\n",
       "      <td>-9.775413e-06</td>\n",
       "      <td>0.0001955083</td>\n",
       "      <td>0.4800612</td>\n",
       "    </tr>\n",
       "    <tr>\n",
       "      <th>1250</th>\n",
       "      <td>GI_42661575-S</td>\n",
       "      <td>1</td>\n",
       "      <td>9.103237e-06</td>\n",
       "      <td>0.0001820647</td>\n",
       "      <td>0.4800612</td>\n",
       "    </tr>\n",
       "    <tr>\n",
       "      <th>1230</th>\n",
       "      <td>GI_42656857-S</td>\n",
       "      <td>1</td>\n",
       "      <td>-8.777928e-06</td>\n",
       "      <td>0.0001755586</td>\n",
       "      <td>0.4800612</td>\n",
       "    </tr>\n",
       "    <tr>\n",
       "      <th>1253</th>\n",
       "      <td>GI_42662043-S</td>\n",
       "      <td>1</td>\n",
       "      <td>8.402246e-06</td>\n",
       "      <td>0.0001680449</td>\n",
       "      <td>0.4800612</td>\n",
       "    </tr>\n",
       "    <tr>\n",
       "      <th>186</th>\n",
       "      <td>GI_16306531-A</td>\n",
       "      <td>1</td>\n",
       "      <td>8.292717e-06</td>\n",
       "      <td>0.0001658543</td>\n",
       "      <td>0.4800612</td>\n",
       "    </tr>\n",
       "    <tr>\n",
       "      <th>1290</th>\n",
       "      <td>GI_4502356-S</td>\n",
       "      <td>1</td>\n",
       "      <td>7.479053e-06</td>\n",
       "      <td>0.0001495811</td>\n",
       "      <td>0.4800612</td>\n",
       "    </tr>\n",
       "    <tr>\n",
       "      <th>1381</th>\n",
       "      <td>GI_4505870-S</td>\n",
       "      <td>1</td>\n",
       "      <td>-7.018673e-06</td>\n",
       "      <td>0.0001403735</td>\n",
       "      <td>0.4800612</td>\n",
       "    </tr>\n",
       "    <tr>\n",
       "      <th>502</th>\n",
       "      <td>GI_22749016-S</td>\n",
       "      <td>1</td>\n",
       "      <td>6.004021e-06</td>\n",
       "      <td>0.0001200804</td>\n",
       "      <td>0.4800612</td>\n",
       "    </tr>\n",
       "    <tr>\n",
       "      <th>493</th>\n",
       "      <td>GI_22547133-S</td>\n",
       "      <td>1</td>\n",
       "      <td>-3.682077e-06</td>\n",
       "      <td>7.364154e-05</td>\n",
       "      <td>0.4800612</td>\n",
       "    </tr>\n",
       "    <tr>\n",
       "      <th>480</th>\n",
       "      <td>GI_22507396-S</td>\n",
       "      <td>1</td>\n",
       "      <td>-3.533362e-06</td>\n",
       "      <td>7.066724e-05</td>\n",
       "      <td>0.4800612</td>\n",
       "    </tr>\n",
       "    <tr>\n",
       "      <th>580</th>\n",
       "      <td>GI_24475622-S</td>\n",
       "      <td>1</td>\n",
       "      <td>-3.486931e-06</td>\n",
       "      <td>6.973861e-05</td>\n",
       "      <td>0.4800612</td>\n",
       "    </tr>\n",
       "    <tr>\n",
       "      <th>1424</th>\n",
       "      <td>GI_45359861-S</td>\n",
       "      <td>1</td>\n",
       "      <td>-3.08073e-06</td>\n",
       "      <td>6.161461e-05</td>\n",
       "      <td>0.4800612</td>\n",
       "    </tr>\n",
       "    <tr>\n",
       "      <th>1131</th>\n",
       "      <td>GI_40254845-S</td>\n",
       "      <td>1</td>\n",
       "      <td>-2.318444e-06</td>\n",
       "      <td>4.636889e-05</td>\n",
       "      <td>0.4800612</td>\n",
       "    </tr>\n",
       "    <tr>\n",
       "      <th>1759</th>\n",
       "      <td>Hs.444414-S</td>\n",
       "      <td>1</td>\n",
       "      <td>2.28136e-06</td>\n",
       "      <td>4.56272e-05</td>\n",
       "      <td>0.4800612</td>\n",
       "    </tr>\n",
       "    <tr>\n",
       "      <th>1408</th>\n",
       "      <td>GI_4507470-S</td>\n",
       "      <td>1</td>\n",
       "      <td>2.141429e-06</td>\n",
       "      <td>4.282859e-05</td>\n",
       "      <td>0.4800612</td>\n",
       "    </tr>\n",
       "    <tr>\n",
       "      <th>1023</th>\n",
       "      <td>GI_37549681-S</td>\n",
       "      <td>1</td>\n",
       "      <td>-1.538591e-06</td>\n",
       "      <td>3.077181e-05</td>\n",
       "      <td>0.4800612</td>\n",
       "    </tr>\n",
       "    <tr>\n",
       "      <th>240</th>\n",
       "      <td>GI_17978501-A</td>\n",
       "      <td>1</td>\n",
       "      <td>-9.387712e-07</td>\n",
       "      <td>1.877542e-05</td>\n",
       "      <td>0.4800612</td>\n",
       "    </tr>\n",
       "    <tr>\n",
       "      <th>665</th>\n",
       "      <td>GI_28559087-S</td>\n",
       "      <td>1</td>\n",
       "      <td>5.241563e-07</td>\n",
       "      <td>1.048313e-05</td>\n",
       "      <td>0.4800612</td>\n",
       "    </tr>\n",
       "  </tbody>\n",
       "</table>\n",
       "<p>1802 rows × 5 columns</p>\n",
       "</div>"
      ],
      "text/plain": [
       "               Gene Frequency   Coefficient     Std Error        pvalue\n",
       "1317   GI_4503602-S       400      2.993167     0.7286791  1.998432e-05\n",
       "1085  GI_38455428-S       400      1.925685     0.6528698   0.001591082\n",
       "694   GI_29738585-S       400      1.416221     0.4814823   0.001633779\n",
       "443   GI_21614543-S       399     -1.942821     0.6122178  0.0007532845\n",
       "1736   GI_9951924-S       399      1.555703     0.5557352   0.002560192\n",
       "1328   GI_4503928-S       398      1.532174     0.6067648   0.005782383\n",
       "134   GI_14249703-S       398      0.703042     0.3116254    0.01203381\n",
       "468   GI_22035691-A       397     0.9149037      0.441376    0.01909338\n",
       "741   GI_31341936-S       396      1.313133     0.5732425    0.01099005\n",
       "62    GI_12751474-S       396      0.853389     0.4395223    0.02609104\n",
       "760   GI_31542212-S       395     -1.175315     0.5256956    0.01268465\n",
       "1238  GI_42659459-S       394      1.282657     0.5939535    0.01540473\n",
       "980   GI_36054052-S       390     -1.029111      0.526452    0.02530302\n",
       "1348   GI_4504700-S       390    -0.9520242     0.4159716     0.0110491\n",
       "690   GI_29728071-S       390     0.7763586     0.4383076    0.03825838\n",
       "1261  GI_42741670-S       389      1.198536        0.6347    0.02948946\n",
       "501   GI_22748948-S       389     0.7344234     0.3816504    0.02715628\n",
       "1731   GI_9845520-S       388    -0.8398759     0.4465336    0.02999415\n",
       "1405   GI_4507450-S       386      1.560852     0.8283939    0.02976957\n",
       "1070  GI_38327636-S       381     -1.358175     0.6874902    0.02410258\n",
       "1365   GI_4505186-S       379    -0.7283705     0.3980737    0.03364458\n",
       "935   GI_34222365-S       378     0.7825334     0.4983917    0.05819391\n",
       "536   GI_23308576-S       378    -0.7555192      0.442471    0.04386459\n",
       "1518   GI_5031970-S       378     0.5324775     0.3365683    0.05681584\n",
       "586   GI_24497500-S       377      0.747736     0.4788738    0.05920915\n",
       "1247  GI_42660596-S       377      0.577377     0.3560593    0.05244717\n",
       "983   GI_37059752-S       374     0.7263751     0.4613382    0.05768641\n",
       "1440   GI_4557436-S       374    -0.6961454     0.3992406    0.04060799\n",
       "1207  GI_41406092-I       373     0.6429633     0.4234225    0.06444533\n",
       "198   GI_16507967-S       373     0.5021379     0.3055959    0.05017666\n",
       "...             ...       ...           ...           ...           ...\n",
       "661   GI_28416948-S         1 -1.623064e-05  0.0003246128     0.4800612\n",
       "382   GI_21359839-S         1 -1.561229e-05  0.0003122457     0.4800612\n",
       "1397   GI_4507170-S         1   1.47798e-05   0.000295596     0.4800612\n",
       "144   GI_14591911-S         1 -1.367197e-05  0.0002734394     0.4800612\n",
       "1025  GI_37550007-S         1 -1.348357e-05  0.0002696714     0.4800612\n",
       "609   GI_26051239-S         1  -1.18039e-05   0.000236078     0.4800612\n",
       "1794     hmm29415-S         1 -1.162944e-05  0.0002325888     0.4800612\n",
       "88    GI_13376590-S         1  1.153013e-05  0.0002306026     0.4800612\n",
       "1716   GI_9506670-S         1  1.068552e-05  0.0002137104     0.4800612\n",
       "284   GI_19718745-A         1  1.049331e-05  0.0002098661     0.4800612\n",
       "994   GI_37540838-S         1 -1.006213e-05  0.0002012425     0.4800612\n",
       "523   GI_23110985-S         1  1.001835e-05   0.000200367     0.4800612\n",
       "451   GI_21735619-S         1 -9.775413e-06  0.0001955083     0.4800612\n",
       "1250  GI_42661575-S         1  9.103237e-06  0.0001820647     0.4800612\n",
       "1230  GI_42656857-S         1 -8.777928e-06  0.0001755586     0.4800612\n",
       "1253  GI_42662043-S         1  8.402246e-06  0.0001680449     0.4800612\n",
       "186   GI_16306531-A         1  8.292717e-06  0.0001658543     0.4800612\n",
       "1290   GI_4502356-S         1  7.479053e-06  0.0001495811     0.4800612\n",
       "1381   GI_4505870-S         1 -7.018673e-06  0.0001403735     0.4800612\n",
       "502   GI_22749016-S         1  6.004021e-06  0.0001200804     0.4800612\n",
       "493   GI_22547133-S         1 -3.682077e-06  7.364154e-05     0.4800612\n",
       "480   GI_22507396-S         1 -3.533362e-06  7.066724e-05     0.4800612\n",
       "580   GI_24475622-S         1 -3.486931e-06  6.973861e-05     0.4800612\n",
       "1424  GI_45359861-S         1  -3.08073e-06  6.161461e-05     0.4800612\n",
       "1131  GI_40254845-S         1 -2.318444e-06  4.636889e-05     0.4800612\n",
       "1759    Hs.444414-S         1   2.28136e-06   4.56272e-05     0.4800612\n",
       "1408   GI_4507470-S         1  2.141429e-06  4.282859e-05     0.4800612\n",
       "1023  GI_37549681-S         1 -1.538591e-06  3.077181e-05     0.4800612\n",
       "240   GI_17978501-A         1 -9.387712e-07  1.877542e-05     0.4800612\n",
       "665   GI_28559087-S         1  5.241563e-07  1.048313e-05     0.4800612\n",
       "\n",
       "[1802 rows x 5 columns]"
      ]
     },
     "execution_count": 238,
     "metadata": {},
     "output_type": "execute_result"
    }
   ],
   "source": [
    "result[['Gene', 'Frequency', 'Coefficient', 'Std Error', 'pvalue']]"
   ]
  },
  {
   "cell_type": "code",
   "execution_count": 239,
   "metadata": {
    "collapsed": false
   },
   "outputs": [
    {
     "data": {
      "text/plain": [
       "1802"
      ]
     },
     "execution_count": 239,
     "metadata": {},
     "output_type": "execute_result"
    }
   ],
   "source": [
    "# these are the names of the selected genes\n",
    "DataFrame(geneNames[selected_genes_index], columns = ['Selected Genes'], index = selected_genes_index).head()\n",
    "len(DataFrame(geneNames[selected_genes_index], columns = ['Selected Genes'], index = selected_genes_index))"
   ]
  },
  {
   "cell_type": "code",
   "execution_count": 240,
   "metadata": {
    "collapsed": false
   },
   "outputs": [
    {
     "data": {
      "text/plain": [
       "(128, 1802)"
      ]
     },
     "execution_count": 240,
     "metadata": {},
     "output_type": "execute_result"
    }
   ],
   "source": [
    "#Need to create X_sel\n",
    "\n",
    "X_sel = X[selected_genes_index]\n",
    "\n",
    "X_sel.shape"
   ]
  },
  {
   "cell_type": "code",
   "execution_count": 241,
   "metadata": {
    "collapsed": false
   },
   "outputs": [
    {
     "name": "stdout",
     "output_type": "stream",
     "text": [
      "0.8515625\n"
     ]
    }
   ],
   "source": [
    "# this gives the model's score\n",
    "log_model.fit(X_sel,Y)\n",
    "print log_model.score(X_sel,Y)"
   ]
  },
  {
   "cell_type": "code",
   "execution_count": 242,
   "metadata": {
    "collapsed": false
   },
   "outputs": [],
   "source": [
    "class_prob = log_model.predict_proba(X_sel)"
   ]
  },
  {
   "cell_type": "code",
   "execution_count": 243,
   "metadata": {
    "collapsed": false
   },
   "outputs": [
    {
     "data": {
      "text/plain": [
       "(128, 2)"
      ]
     },
     "execution_count": 243,
     "metadata": {},
     "output_type": "execute_result"
    }
   ],
   "source": [
    "class_prob.shape"
   ]
  },
  {
   "cell_type": "code",
   "execution_count": 244,
   "metadata": {
    "collapsed": false
   },
   "outputs": [
    {
     "name": "stdout",
     "output_type": "stream",
     "text": [
      "0    0.21092\n",
      "1    0.78908\n",
      "dtype: float64\n"
     ]
    }
   ],
   "source": [
    "dfprob = DataFrame(class_prob)\n",
    "print dfprob.mean()"
   ]
  },
  {
   "cell_type": "markdown",
   "metadata": {},
   "source": [
    "### Cross Validation"
   ]
  },
  {
   "cell_type": "code",
   "execution_count": 245,
   "metadata": {
    "collapsed": false
   },
   "outputs": [],
   "source": [
    "# Make a new log_model\n",
    "#log_model2 = LogisticRegression()\n",
    "log_model2 = LogisticRegression(dual = False, fit_intercept = True)\n",
    "\n",
    "xvalacc = []\n",
    "xvalROC = []\n",
    "M = 400\n",
    "\n",
    "for i in range(M):\n",
    "\n",
    "    # Split the data\n",
    "    X_train, X_test, Y_train, Y_test = train_test_split(X_sel, Y)\n",
    "\n",
    "    # Now fit the new model\n",
    "    log_model2.fit(X_train, Y_train)\n",
    "\n",
    "    # Predict the classes of the testing data set\n",
    "    class_predict = log_model2.predict(X_test)\n",
    "\n",
    "    # Compare the predicted classes to the actual test classes\n",
    "    xvalacc.append(metrics.accuracy_score(Y_test,class_predict))\n",
    "    try:\n",
    "        xvalROC.append(roc_auc_score(Y_test,class_predict))\n",
    "    except ValueError:\n",
    "        pass"
   ]
  },
  {
   "cell_type": "code",
   "execution_count": 246,
   "metadata": {
    "collapsed": false
   },
   "outputs": [
    {
     "data": {
      "text/plain": [
       "0.052079264163958534"
      ]
     },
     "execution_count": 246,
     "metadata": {},
     "output_type": "execute_result"
    }
   ],
   "source": [
    "np.std(xvalacc)"
   ]
  },
  {
   "cell_type": "code",
   "execution_count": 247,
   "metadata": {
    "collapsed": false
   },
   "outputs": [
    {
     "data": {
      "text/plain": [
       "0.87460937500000002"
      ]
     },
     "execution_count": 247,
     "metadata": {},
     "output_type": "execute_result"
    }
   ],
   "source": [
    "np.mean(xvalacc)"
   ]
  },
  {
   "cell_type": "code",
   "execution_count": 248,
   "metadata": {
    "collapsed": false
   },
   "outputs": [
    {
     "data": {
      "text/plain": [
       "0.068116364115992381"
      ]
     },
     "execution_count": 248,
     "metadata": {},
     "output_type": "execute_result"
    }
   ],
   "source": [
    "np.std(xvalROC)"
   ]
  },
  {
   "cell_type": "code",
   "execution_count": 249,
   "metadata": {
    "collapsed": false
   },
   "outputs": [
    {
     "data": {
      "text/plain": [
       "0.84600477187096512"
      ]
     },
     "execution_count": 249,
     "metadata": {},
     "output_type": "execute_result"
    }
   ],
   "source": [
    "np.mean(xvalROC)"
   ]
  },
  {
   "cell_type": "code",
   "execution_count": 250,
   "metadata": {
    "collapsed": false
   },
   "outputs": [
    {
     "data": {
      "text/plain": [
       "array([ 1.,  0.,  0.,  1.,  1.,  1.,  1.,  1.,  0.,  1.,  0.,  1.,  1.,\n",
       "        0.,  1.,  1.,  1.,  0.,  1.,  0.,  1.,  1.,  0.,  1.,  1.,  0.,\n",
       "        1.,  1.,  1.,  1.,  1.,  0.])"
      ]
     },
     "execution_count": 250,
     "metadata": {},
     "output_type": "execute_result"
    }
   ],
   "source": [
    "class_predict"
   ]
  },
  {
   "cell_type": "code",
   "execution_count": 251,
   "metadata": {
    "collapsed": false
   },
   "outputs": [
    {
     "data": {
      "text/plain": [
       "0.81601731601731597"
      ]
     },
     "execution_count": 251,
     "metadata": {},
     "output_type": "execute_result"
    }
   ],
   "source": [
    "roc_auc_score(Y_test,class_predict)"
   ]
  },
  {
   "cell_type": "code",
   "execution_count": 252,
   "metadata": {
    "collapsed": false
   },
   "outputs": [
    {
     "data": {
      "text/plain": [
       "array([[ 8,  3],\n",
       "       [ 2, 19]])"
      ]
     },
     "execution_count": 252,
     "metadata": {},
     "output_type": "execute_result"
    }
   ],
   "source": [
    "confusion_matrix(Y_test,class_predict)"
   ]
  },
  {
   "cell_type": "code",
   "execution_count": 253,
   "metadata": {
    "collapsed": true
   },
   "outputs": [],
   "source": [
    "false_positive_rate, true_positive_rate, thresholds = roc_curve(Y_test,class_predict)"
   ]
  },
  {
   "cell_type": "code",
   "execution_count": 254,
   "metadata": {
    "collapsed": false
   },
   "outputs": [
    {
     "data": {
      "image/png": "[encoded data removed]",
      "text/plain": [
       "<matplotlib.figure.Figure at 0x7f2f3c62e4d0>"
      ]
     },
     "metadata": {},
     "output_type": "display_data"
    }
   ],
   "source": [
    "plt.title('Receiver Operating Characteristic')\n",
    "plt.plot(false_positive_rate, true_positive_rate)\n",
    "plt.legend(loc='lower right')\n",
    "plt.plot([0,1],[0,1],'r--')\n",
    "plt.xlim([-0.1,1.2])\n",
    "plt.ylim([-0.1,1.2])\n",
    "plt.ylabel('True Positive Rate')\n",
    "plt.xlabel('False Positive Rate')\n",
    "plt.show()"
   ]
  },
  {
   "cell_type": "code",
   "execution_count": 255,
   "metadata": {
    "collapsed": false
   },
   "outputs": [
    {
     "data": {
      "text/plain": [
       "array([[ 1.        ,  0.82690508,  0.80488717, ...,  0.68040076,\n",
       "         0.62259067,  0.71804691],\n",
       "       [ 0.82690508,  1.        ,  0.87188692, ...,  0.67287048,\n",
       "         0.68499846,  0.80849223],\n",
       "       [ 0.80488717,  0.87188692,  1.        , ...,  0.66383666,\n",
       "         0.69122918,  0.8478449 ],\n",
       "       ..., \n",
       "       [ 0.68040076,  0.67287048,  0.66383666, ...,  1.        ,\n",
       "         0.76741994,  0.7086639 ],\n",
       "       [ 0.62259067,  0.68499846,  0.69122918, ...,  0.76741994,\n",
       "         1.        ,  0.67619516],\n",
       "       [ 0.71804691,  0.80849223,  0.8478449 , ...,  0.7086639 ,\n",
       "         0.67619516,  1.        ]])"
      ]
     },
     "execution_count": 255,
     "metadata": {},
     "output_type": "execute_result"
    }
   ],
   "source": [
    "np.corrcoef(X_sel)"
   ]
  },
  {
   "cell_type": "code",
   "execution_count": 256,
   "metadata": {
    "collapsed": false
   },
   "outputs": [
    {
     "data": {
      "text/plain": [
       "4.9282000000000004"
      ]
     },
     "execution_count": 256,
     "metadata": {},
     "output_type": "execute_result"
    }
   ],
   "source": [
    "np.min(np.min(X))"
   ]
  },
  {
   "cell_type": "code",
   "execution_count": 257,
   "metadata": {
    "collapsed": false
   },
   "outputs": [
    {
     "data": {
      "text/plain": [
       "5.4221000000000004"
      ]
     },
     "execution_count": 257,
     "metadata": {},
     "output_type": "execute_result"
    }
   ],
   "source": [
    "np.min(np.max(X))"
   ]
  },
  {
   "cell_type": "code",
   "execution_count": null,
   "metadata": {
    "collapsed": true
   },
   "outputs": [],
   "source": []
  },
  {
   "cell_type": "code",
   "execution_count": null,
   "metadata": {
    "collapsed": true
   },
   "outputs": [],
   "source": []
  },
  {
   "cell_type": "code",
   "execution_count": null,
   "metadata": {
    "collapsed": true
   },
   "outputs": [],
   "source": []
  }
 ],
 "metadata": {
  "kernelspec": {
   "display_name": "Python 2",
   "language": "python",
   "name": "python2"
  },
  "language_info": {
   "codemirror_mode": {
    "name": "ipython",
    "version": 2
   },
   "file_extension": ".py",
   "mimetype": "text/x-python",
   "name": "python",
   "nbconvert_exporter": "python",
   "pygments_lexer": "ipython2",
   "version": "2.7.11"
  }
 },
 "nbformat": 4,
 "nbformat_minor": 0
}

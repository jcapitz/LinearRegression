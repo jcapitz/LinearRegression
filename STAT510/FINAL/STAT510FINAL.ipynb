{
 "cells": [
  {
   "cell_type": "markdown",
   "metadata": {},
   "source": [
    "#Analysis of Cancer Gene Expression Data\n",
    "\n",
    "#####Python main module imports for data analysis\n",
    "\n",
    "The purpose of this analysis is to implement elastic net regularization on logistic regression to perform feature selection and classication tasks on genetic data"
   ]
  },
  {
   "cell_type": "code",
   "execution_count": 1,
   "metadata": {
    "collapsed": false
   },
   "outputs": [
    {
     "name": "stdout",
     "output_type": "stream",
     "text": [
      "Couldn't import dot_parser, loading of dot files will not be possible.\n"
     ]
    }
   ],
   "source": [
    "# Data Imports\n",
    "import numpy as np\n",
    "import pandas as pd\n",
    "from pandas import Series,DataFrame\n",
    "from scipy.stats import norm\n",
    "\n",
    "\n",
    "# Math\n",
    "import math\n",
    "\n",
    "# Plot imports\n",
    "import matplotlib.pyplot as plt\n",
    "import seaborn as sns\n",
    "sns.set_style('whitegrid')\n",
    "%matplotlib inline\n",
    "\n",
    "# Preprocessing Imports\n",
    "from sklearn.preprocessing import normalize\n",
    "\n",
    "# Machine Learning Imports\n",
    "from sklearn.linear_model import LogisticRegression\n",
    "from sklearn.linear_model import SGDClassifier\n",
    "from sklearn.preprocessing import StandardScaler\n",
    "from sklearn.ensemble import RandomForestClassifier\n",
    "\n",
    "\n",
    "from sklearn.linear_model import RandomizedLogisticRegression\n",
    "from sklearn.cross_validation import train_test_split\n",
    "\n",
    "# For evaluating our ML results\n",
    "from sklearn import metrics\n",
    "from sklearn.metrics import roc_auc_score, confusion_matrix\n",
    "\n",
    "# For Spectral Clustering algorithms\n",
    "from sklearn import cluster\n",
    "from sklearn.neighbors import kneighbors_graph\n",
    "\n",
    "# network imports\n",
    "import networkx as nx\n",
    "import igraph as ig"
   ]
  },
  {
   "cell_type": "markdown",
   "metadata": {},
   "source": [
    "###Data Cleaning\n",
    "\n",
    "#####Choose the data set:"
   ]
  },
  {
   "cell_type": "code",
   "execution_count": 3,
   "metadata": {
    "collapsed": false
   },
   "outputs": [
    {
     "name": "stderr",
     "output_type": "stream",
     "text": [
      "/home/jcapitz/anaconda/lib/python2.7/site-packages/pandas/io/parsers.py:1170: DtypeWarning: Columns (1,2,3,4,5,6,7,8,9,10,11,12,13,14,15,16,17,18,19,20,21,22,23,24,25,26,27,28,29,30,31,32,33,34,35,36,37,38,39,40,41,42,43,44,45,46,47,48,49,50,51,52,53,54,55,56,57,58,59,60,61,62,63,64,65,66,67,68,69,70,71,72,73,74,75,76,77,78,79,80,81,82,83,84,85,86,87,88,89,90,91,92,93,94,95,96,97,98,99,100,101,102,103,104,105,106,107,108,109,110,111,112,113,114,115,116,117,118,119,120,121,122,123,124,125,126,127,128) have mixed types. Specify dtype option on import or set low_memory=False.\n",
      "  data = self._reader.read(nrows)\n"
     ]
    }
   ],
   "source": [
    "# read data file\n",
    "datafile = '~/Documents/THESIS/data/ICOS_DATA/breast_preprocessed.txt'\n",
    "data = pd.read_table(datafile, delim_whitespace = True, \n",
    "                     dtype={'a': np.float64}, header = None)"
   ]
  },
  {
   "cell_type": "code",
   "execution_count": 4,
   "metadata": {
    "collapsed": false
   },
   "outputs": [
    {
     "name": "stdout",
     "output_type": "stream",
     "text": [
      "(47294, 129)\n"
     ]
    },
    {
     "data": {
      "text/html": [
       "<div>\n",
       "<table border=\"1\" class=\"dataframe\">\n",
       "  <thead>\n",
       "    <tr style=\"text-align: right;\">\n",
       "      <th></th>\n",
       "      <th>0</th>\n",
       "      <th>1</th>\n",
       "      <th>2</th>\n",
       "      <th>3</th>\n",
       "      <th>4</th>\n",
       "      <th>5</th>\n",
       "      <th>6</th>\n",
       "      <th>7</th>\n",
       "      <th>8</th>\n",
       "      <th>9</th>\n",
       "      <th>...</th>\n",
       "      <th>119</th>\n",
       "      <th>120</th>\n",
       "      <th>121</th>\n",
       "      <th>122</th>\n",
       "      <th>123</th>\n",
       "      <th>124</th>\n",
       "      <th>125</th>\n",
       "      <th>126</th>\n",
       "      <th>127</th>\n",
       "      <th>128</th>\n",
       "    </tr>\n",
       "  </thead>\n",
       "  <tbody>\n",
       "    <tr>\n",
       "      <th>47289</th>\n",
       "      <td>lysA</td>\n",
       "      <td>5.68</td>\n",
       "      <td>5.7194</td>\n",
       "      <td>5.7592</td>\n",
       "      <td>5.6898</td>\n",
       "      <td>5.7236</td>\n",
       "      <td>5.662</td>\n",
       "      <td>5.6684</td>\n",
       "      <td>5.6742</td>\n",
       "      <td>5.6669</td>\n",
       "      <td>...</td>\n",
       "      <td>5.7164</td>\n",
       "      <td>5.7175</td>\n",
       "      <td>5.7133</td>\n",
       "      <td>5.7133</td>\n",
       "      <td>5.6753</td>\n",
       "      <td>5.6679</td>\n",
       "      <td>5.6692</td>\n",
       "      <td>5.7666</td>\n",
       "      <td>5.72</td>\n",
       "      <td>5.75</td>\n",
       "    </tr>\n",
       "    <tr>\n",
       "      <th>47290</th>\n",
       "      <td>pheA</td>\n",
       "      <td>5.705</td>\n",
       "      <td>5.6142</td>\n",
       "      <td>5.6955</td>\n",
       "      <td>5.6227</td>\n",
       "      <td>5.6727</td>\n",
       "      <td>5.5995</td>\n",
       "      <td>5.633</td>\n",
       "      <td>5.6539</td>\n",
       "      <td>5.6511</td>\n",
       "      <td>...</td>\n",
       "      <td>5.6595</td>\n",
       "      <td>5.6292</td>\n",
       "      <td>5.6042</td>\n",
       "      <td>5.6266</td>\n",
       "      <td>5.6022</td>\n",
       "      <td>5.6709</td>\n",
       "      <td>5.6136</td>\n",
       "      <td>5.6038</td>\n",
       "      <td>5.6693</td>\n",
       "      <td>5.5818</td>\n",
       "    </tr>\n",
       "    <tr>\n",
       "      <th>47291</th>\n",
       "      <td>thrB</td>\n",
       "      <td>5.7077</td>\n",
       "      <td>5.7586</td>\n",
       "      <td>5.7279</td>\n",
       "      <td>5.6777</td>\n",
       "      <td>5.6761</td>\n",
       "      <td>5.7091</td>\n",
       "      <td>5.6777</td>\n",
       "      <td>5.68</td>\n",
       "      <td>5.6763</td>\n",
       "      <td>...</td>\n",
       "      <td>5.6918</td>\n",
       "      <td>5.6501</td>\n",
       "      <td>5.5772</td>\n",
       "      <td>5.6637</td>\n",
       "      <td>5.6556</td>\n",
       "      <td>5.6587</td>\n",
       "      <td>5.6987</td>\n",
       "      <td>5.6933</td>\n",
       "      <td>5.6775</td>\n",
       "      <td>5.68</td>\n",
       "    </tr>\n",
       "    <tr>\n",
       "      <th>47292</th>\n",
       "      <td>trpF</td>\n",
       "      <td>5.6684</td>\n",
       "      <td>5.6585</td>\n",
       "      <td>5.6337</td>\n",
       "      <td>5.6427</td>\n",
       "      <td>5.6371</td>\n",
       "      <td>5.6691</td>\n",
       "      <td>5.62</td>\n",
       "      <td>5.6199</td>\n",
       "      <td>5.6608</td>\n",
       "      <td>...</td>\n",
       "      <td>5.6392</td>\n",
       "      <td>5.6451</td>\n",
       "      <td>5.6149</td>\n",
       "      <td>5.551</td>\n",
       "      <td>5.605</td>\n",
       "      <td>5.6246</td>\n",
       "      <td>5.5404</td>\n",
       "      <td>5.6206</td>\n",
       "      <td>5.6552</td>\n",
       "      <td>5.6141</td>\n",
       "    </tr>\n",
       "    <tr>\n",
       "      <th>47293</th>\n",
       "      <td>y</td>\n",
       "      <td>luminal</td>\n",
       "      <td>luminal</td>\n",
       "      <td>luminal</td>\n",
       "      <td>luminal</td>\n",
       "      <td>luminal</td>\n",
       "      <td>non-luminal</td>\n",
       "      <td>non-luminal</td>\n",
       "      <td>luminal</td>\n",
       "      <td>luminal</td>\n",
       "      <td>...</td>\n",
       "      <td>luminal</td>\n",
       "      <td>luminal</td>\n",
       "      <td>luminal</td>\n",
       "      <td>non-luminal</td>\n",
       "      <td>non-luminal</td>\n",
       "      <td>luminal</td>\n",
       "      <td>luminal</td>\n",
       "      <td>luminal</td>\n",
       "      <td>non-luminal</td>\n",
       "      <td>luminal</td>\n",
       "    </tr>\n",
       "  </tbody>\n",
       "</table>\n",
       "<p>5 rows × 129 columns</p>\n",
       "</div>"
      ],
      "text/plain": [
       "        0        1        2        3        4        5            6    \\\n",
       "47289  lysA     5.68   5.7194   5.7592   5.6898   5.7236        5.662   \n",
       "47290  pheA    5.705   5.6142   5.6955   5.6227   5.6727       5.5995   \n",
       "47291  thrB   5.7077   5.7586   5.7279   5.6777   5.6761       5.7091   \n",
       "47292  trpF   5.6684   5.6585   5.6337   5.6427   5.6371       5.6691   \n",
       "47293     y  luminal  luminal  luminal  luminal  luminal  non-luminal   \n",
       "\n",
       "               7        8        9     ...         119      120      121  \\\n",
       "47289       5.6684   5.6742   5.6669   ...      5.7164   5.7175   5.7133   \n",
       "47290        5.633   5.6539   5.6511   ...      5.6595   5.6292   5.6042   \n",
       "47291       5.6777     5.68   5.6763   ...      5.6918   5.6501   5.5772   \n",
       "47292         5.62   5.6199   5.6608   ...      5.6392   5.6451   5.6149   \n",
       "47293  non-luminal  luminal  luminal   ...     luminal  luminal  luminal   \n",
       "\n",
       "               122          123      124      125      126          127  \\\n",
       "47289       5.7133       5.6753   5.6679   5.6692   5.7666         5.72   \n",
       "47290       5.6266       5.6022   5.6709   5.6136   5.6038       5.6693   \n",
       "47291       5.6637       5.6556   5.6587   5.6987   5.6933       5.6775   \n",
       "47292        5.551        5.605   5.6246   5.5404   5.6206       5.6552   \n",
       "47293  non-luminal  non-luminal  luminal  luminal  luminal  non-luminal   \n",
       "\n",
       "           128  \n",
       "47289     5.75  \n",
       "47290   5.5818  \n",
       "47291     5.68  \n",
       "47292   5.6141  \n",
       "47293  luminal  \n",
       "\n",
       "[5 rows x 129 columns]"
      ]
     },
     "execution_count": 4,
     "metadata": {},
     "output_type": "execute_result"
    }
   ],
   "source": [
    "# data dimension\n",
    "print data.shape\n",
    "# last 5 rows of the data\n",
    "data.tail()"
   ]
  },
  {
   "cell_type": "code",
   "execution_count": 5,
   "metadata": {
    "collapsed": false
   },
   "outputs": [],
   "source": [
    "# extract colum names (all but last one are gene names).\n",
    "colNames = data[0]\n",
    "colNames = list(colNames)"
   ]
  },
  {
   "cell_type": "code",
   "execution_count": 6,
   "metadata": {
    "collapsed": false
   },
   "outputs": [],
   "source": [
    "# housekeepnig genes\n",
    "hkfile = '~/Documents/THESIS/data/HK_exons.csv'\n",
    "\n",
    "hkdata = pd.read_csv(hkfile)\n",
    "\n",
    "hknames = hkdata['Gene Name']"
   ]
  },
  {
   "cell_type": "code",
   "execution_count": 7,
   "metadata": {
    "collapsed": false
   },
   "outputs": [
    {
     "data": {
      "text/plain": [
       "0"
      ]
     },
     "execution_count": 7,
     "metadata": {},
     "output_type": "execute_result"
    }
   ],
   "source": [
    "# Checking to see how many housekeeping genes in the dataset \n",
    "sum(hknames.isin(colNames))"
   ]
  },
  {
   "cell_type": "code",
   "execution_count": 9,
   "metadata": {
    "collapsed": false
   },
   "outputs": [
    {
     "data": {
      "text/html": [
       "<div>\n",
       "<table border=\"1\" class=\"dataframe\">\n",
       "  <thead>\n",
       "    <tr style=\"text-align: right;\">\n",
       "      <th></th>\n",
       "      <th>GI_10047089-S</th>\n",
       "      <th>GI_10047091-S</th>\n",
       "      <th>GI_10047093-S</th>\n",
       "      <th>GI_10047099-S</th>\n",
       "      <th>GI_10047103-S</th>\n",
       "      <th>GI_10047105-S</th>\n",
       "      <th>GI_10047121-S</th>\n",
       "      <th>GI_10047123-S</th>\n",
       "      <th>GI_10047133-A</th>\n",
       "      <th>GI_10047133-I</th>\n",
       "      <th>...</th>\n",
       "      <th>hmm9738-S</th>\n",
       "      <th>hmm974-S</th>\n",
       "      <th>hmm9750-S</th>\n",
       "      <th>hmm9917-S</th>\n",
       "      <th>hmm9988-S</th>\n",
       "      <th>lysA</th>\n",
       "      <th>pheA</th>\n",
       "      <th>thrB</th>\n",
       "      <th>trpF</th>\n",
       "      <th>y</th>\n",
       "    </tr>\n",
       "  </thead>\n",
       "  <tbody>\n",
       "    <tr>\n",
       "      <th>0</th>\n",
       "      <td>5.3416</td>\n",
       "      <td>5.846</td>\n",
       "      <td>6.7052</td>\n",
       "      <td>6.4184</td>\n",
       "      <td>8.6651</td>\n",
       "      <td>5.7238</td>\n",
       "      <td>5.7566</td>\n",
       "      <td>6.8052</td>\n",
       "      <td>5.6885</td>\n",
       "      <td>5.8921</td>\n",
       "      <td>...</td>\n",
       "      <td>5.5959</td>\n",
       "      <td>5.8873</td>\n",
       "      <td>5.8005</td>\n",
       "      <td>5.5931</td>\n",
       "      <td>5.746</td>\n",
       "      <td>5.68</td>\n",
       "      <td>5.705</td>\n",
       "      <td>5.7077</td>\n",
       "      <td>5.6684</td>\n",
       "      <td>luminal</td>\n",
       "    </tr>\n",
       "    <tr>\n",
       "      <th>1</th>\n",
       "      <td>5.6259</td>\n",
       "      <td>5.8742</td>\n",
       "      <td>6.8089</td>\n",
       "      <td>6.6955</td>\n",
       "      <td>8.6113</td>\n",
       "      <td>5.8368</td>\n",
       "      <td>5.6288</td>\n",
       "      <td>7.7121</td>\n",
       "      <td>5.6911</td>\n",
       "      <td>6.0818</td>\n",
       "      <td>...</td>\n",
       "      <td>5.5832</td>\n",
       "      <td>5.7613</td>\n",
       "      <td>5.6705</td>\n",
       "      <td>5.7903</td>\n",
       "      <td>5.6111</td>\n",
       "      <td>5.7194</td>\n",
       "      <td>5.6142</td>\n",
       "      <td>5.7586</td>\n",
       "      <td>5.6585</td>\n",
       "      <td>luminal</td>\n",
       "    </tr>\n",
       "    <tr>\n",
       "      <th>2</th>\n",
       "      <td>5.6181</td>\n",
       "      <td>5.8026</td>\n",
       "      <td>6.6975</td>\n",
       "      <td>6.5851</td>\n",
       "      <td>8.3808</td>\n",
       "      <td>5.7835</td>\n",
       "      <td>5.8264</td>\n",
       "      <td>7.1011</td>\n",
       "      <td>5.6057</td>\n",
       "      <td>5.4915</td>\n",
       "      <td>...</td>\n",
       "      <td>5.5109</td>\n",
       "      <td>5.6742</td>\n",
       "      <td>5.7253</td>\n",
       "      <td>5.6365</td>\n",
       "      <td>5.4889</td>\n",
       "      <td>5.7592</td>\n",
       "      <td>5.6955</td>\n",
       "      <td>5.7279</td>\n",
       "      <td>5.6337</td>\n",
       "      <td>luminal</td>\n",
       "    </tr>\n",
       "    <tr>\n",
       "      <th>3</th>\n",
       "      <td>5.5602</td>\n",
       "      <td>5.8394</td>\n",
       "      <td>6.8386</td>\n",
       "      <td>6.7055</td>\n",
       "      <td>8.4486</td>\n",
       "      <td>5.5497</td>\n",
       "      <td>5.8045</td>\n",
       "      <td>7.6032</td>\n",
       "      <td>5.5867</td>\n",
       "      <td>5.7122</td>\n",
       "      <td>...</td>\n",
       "      <td>5.6254</td>\n",
       "      <td>5.8001</td>\n",
       "      <td>5.7344</td>\n",
       "      <td>5.6971</td>\n",
       "      <td>5.4883</td>\n",
       "      <td>5.6898</td>\n",
       "      <td>5.6227</td>\n",
       "      <td>5.6777</td>\n",
       "      <td>5.6427</td>\n",
       "      <td>luminal</td>\n",
       "    </tr>\n",
       "    <tr>\n",
       "      <th>4</th>\n",
       "      <td>5.5385</td>\n",
       "      <td>5.8876</td>\n",
       "      <td>6.572</td>\n",
       "      <td>6.1651</td>\n",
       "      <td>8.8246</td>\n",
       "      <td>5.7474</td>\n",
       "      <td>5.821</td>\n",
       "      <td>7.4015</td>\n",
       "      <td>5.6479</td>\n",
       "      <td>5.8412</td>\n",
       "      <td>...</td>\n",
       "      <td>5.7101</td>\n",
       "      <td>5.8066</td>\n",
       "      <td>5.6583</td>\n",
       "      <td>5.7032</td>\n",
       "      <td>5.58</td>\n",
       "      <td>5.7236</td>\n",
       "      <td>5.6727</td>\n",
       "      <td>5.6761</td>\n",
       "      <td>5.6371</td>\n",
       "      <td>luminal</td>\n",
       "    </tr>\n",
       "  </tbody>\n",
       "</table>\n",
       "<p>5 rows × 47294 columns</p>\n",
       "</div>"
      ],
      "text/plain": [
       "  GI_10047089-S GI_10047091-S GI_10047093-S GI_10047099-S GI_10047103-S  \\\n",
       "0        5.3416         5.846        6.7052        6.4184        8.6651   \n",
       "1        5.6259        5.8742        6.8089        6.6955        8.6113   \n",
       "2        5.6181        5.8026        6.6975        6.5851        8.3808   \n",
       "3        5.5602        5.8394        6.8386        6.7055        8.4486   \n",
       "4        5.5385        5.8876         6.572        6.1651        8.8246   \n",
       "\n",
       "  GI_10047105-S GI_10047121-S GI_10047123-S GI_10047133-A GI_10047133-I  \\\n",
       "0        5.7238        5.7566        6.8052        5.6885        5.8921   \n",
       "1        5.8368        5.6288        7.7121        5.6911        6.0818   \n",
       "2        5.7835        5.8264        7.1011        5.6057        5.4915   \n",
       "3        5.5497        5.8045        7.6032        5.5867        5.7122   \n",
       "4        5.7474         5.821        7.4015        5.6479        5.8412   \n",
       "\n",
       "    ...    hmm9738-S hmm974-S hmm9750-S hmm9917-S hmm9988-S    lysA    pheA  \\\n",
       "0   ...       5.5959   5.8873    5.8005    5.5931     5.746    5.68   5.705   \n",
       "1   ...       5.5832   5.7613    5.6705    5.7903    5.6111  5.7194  5.6142   \n",
       "2   ...       5.5109   5.6742    5.7253    5.6365    5.4889  5.7592  5.6955   \n",
       "3   ...       5.6254   5.8001    5.7344    5.6971    5.4883  5.6898  5.6227   \n",
       "4   ...       5.7101   5.8066    5.6583    5.7032      5.58  5.7236  5.6727   \n",
       "\n",
       "     thrB    trpF        y  \n",
       "0  5.7077  5.6684  luminal  \n",
       "1  5.7586  5.6585  luminal  \n",
       "2  5.7279  5.6337  luminal  \n",
       "3  5.6777  5.6427  luminal  \n",
       "4  5.6761  5.6371  luminal  \n",
       "\n",
       "[5 rows x 47294 columns]"
      ]
     },
     "execution_count": 9,
     "metadata": {},
     "output_type": "execute_result"
    }
   ],
   "source": [
    "# tranpose the data to have genes as columns and microarray experiment as rows\n",
    "data2 = data.T.ix[1:]\n",
    "\n",
    "# reset the index to satrt at 0\n",
    "data2 = data2.reset_index(drop=True)\n",
    "\n",
    "# add colum labels\n",
    "data2.columns=colNames\n",
    "data2.head()"
   ]
  },
  {
   "cell_type": "code",
   "execution_count": 10,
   "metadata": {
    "collapsed": false
   },
   "outputs": [
    {
     "name": "stdout",
     "output_type": "stream",
     "text": [
      "(128, 47293)\n"
     ]
    }
   ],
   "source": [
    "# create date set with genes only. This is the features matrix\n",
    "X = data2[range(data.shape[0]-1)]\n",
    "print X.shape\n",
    "\n",
    "# make sure data type is float and not string.\n",
    "X = X.astype(float)"
   ]
  },
  {
   "cell_type": "code",
   "execution_count": 11,
   "metadata": {
    "collapsed": true
   },
   "outputs": [],
   "source": [
    "# store the gene names/ids\n",
    "geneNames = X.columns"
   ]
  },
  {
   "cell_type": "code",
   "execution_count": 12,
   "metadata": {
    "collapsed": false
   },
   "outputs": [
    {
     "data": {
      "text/plain": [
       "y    object\n",
       "dtype: object"
      ]
     },
     "execution_count": 12,
     "metadata": {},
     "output_type": "execute_result"
    }
   ],
   "source": [
    "# create vector with response variable\n",
    "Y = data2[[-1]]\n",
    "Y.head().dtypes"
   ]
  },
  {
   "cell_type": "code",
   "execution_count": 13,
   "metadata": {
    "collapsed": false
   },
   "outputs": [
    {
     "data": {
      "text/html": [
       "<div>\n",
       "<table border=\"1\" class=\"dataframe\">\n",
       "  <thead>\n",
       "    <tr style=\"text-align: right;\">\n",
       "      <th></th>\n",
       "      <th>y_luminal</th>\n",
       "      <th>y_non-luminal</th>\n",
       "    </tr>\n",
       "  </thead>\n",
       "  <tbody>\n",
       "    <tr>\n",
       "      <th>0</th>\n",
       "      <td>1</td>\n",
       "      <td>0</td>\n",
       "    </tr>\n",
       "    <tr>\n",
       "      <th>1</th>\n",
       "      <td>1</td>\n",
       "      <td>0</td>\n",
       "    </tr>\n",
       "    <tr>\n",
       "      <th>2</th>\n",
       "      <td>1</td>\n",
       "      <td>0</td>\n",
       "    </tr>\n",
       "    <tr>\n",
       "      <th>3</th>\n",
       "      <td>1</td>\n",
       "      <td>0</td>\n",
       "    </tr>\n",
       "    <tr>\n",
       "      <th>4</th>\n",
       "      <td>1</td>\n",
       "      <td>0</td>\n",
       "    </tr>\n",
       "    <tr>\n",
       "      <th>5</th>\n",
       "      <td>0</td>\n",
       "      <td>1</td>\n",
       "    </tr>\n",
       "  </tbody>\n",
       "</table>\n",
       "</div>"
      ],
      "text/plain": [
       "   y_luminal  y_non-luminal\n",
       "0          1              0\n",
       "1          1              0\n",
       "2          1              0\n",
       "3          1              0\n",
       "4          1              0\n",
       "5          0              1"
      ]
     },
     "execution_count": 13,
     "metadata": {},
     "output_type": "execute_result"
    }
   ],
   "source": [
    "# make sure response vector is binary 0, 1.\n",
    "Y = pd.get_dummies(Y)\n",
    "Y.head(6)"
   ]
  },
  {
   "cell_type": "code",
   "execution_count": 14,
   "metadata": {
    "collapsed": false
   },
   "outputs": [],
   "source": [
    "# choose one of the equivalent response vectors.\n",
    "Y = Y.ix[:,0]"
   ]
  },
  {
   "cell_type": "code",
   "execution_count": 15,
   "metadata": {
    "collapsed": false
   },
   "outputs": [
    {
     "data": {
      "text/plain": [
       "0.65625"
      ]
     },
     "execution_count": 15,
     "metadata": {},
     "output_type": "execute_result"
    }
   ],
   "source": [
    "#Percent of cancer positive\n",
    "np.mean(Y)"
   ]
  },
  {
   "cell_type": "code",
   "execution_count": 16,
   "metadata": {
    "collapsed": true
   },
   "outputs": [],
   "source": [
    "#Y = np.ravel(Y)"
   ]
  },
  {
   "cell_type": "markdown",
   "metadata": {
    "collapsed": true
   },
   "source": [
    "##Classification with Penalized Logistic Model"
   ]
  },
  {
   "cell_type": "code",
   "execution_count": 17,
   "metadata": {
    "collapsed": false
   },
   "outputs": [],
   "source": [
    "# model definition\n",
    "# logistic regression with elasticnet regularization\n",
    "# l1_ratio refers to alpha and alpha refers to lamba in Hastie\n",
    "log_model = SGDClassifier(loss = 'log', penalty = 'elasticnet', alpha = 0.175, \n",
    "                                l1_ratio = 0.5, fit_intercept = True)"
   ]
  },
  {
   "cell_type": "markdown",
   "metadata": {},
   "source": [
    "###Significant Gene Selection Cross-Validation"
   ]
  },
  {
   "cell_type": "code",
   "execution_count": 18,
   "metadata": {
    "collapsed": false
   },
   "outputs": [],
   "source": [
    "#initialize the dataframes for ranking genes\n",
    "selected_genes = {'col1':'gene1'}\n",
    "gene_names = DataFrame(geneNames)\n",
    "gene_names.columns = ['trial0']\n",
    "\n",
    "# Initial trial column \n",
    "gene_select_count = gene_names.isin(selected_genes)\n",
    "gene_coeff = DataFrame()\n",
    "\n",
    "# Number of trials\n",
    "M = 500\n",
    "\n",
    "# IN THE LOOP\n",
    "for i in range(M):\n",
    "    # Split the data\n",
    "\n",
    "    X_train, X_test, Y_train, Y_test = train_test_split(X, Y)\n",
    "\n",
    "\n",
    "    # Fit model and select significant genes\n",
    "\n",
    "    fit_log_model = log_model.fit(X_train, Y_train)\n",
    "    X_selected = fit_log_model.transform(X_test)\n",
    "\n",
    "\n",
    "    # Find the indexes of significant genes\n",
    "\n",
    "    # these are the index of the features selected by the l1 regularized logistic model\n",
    "    selected_index = np.where(log_model.coef_!=0)[-1]\n",
    "    # Selected genes in ith trial\n",
    "    selected_genes = gene_names.loc[selected_index]\n",
    "\n",
    "    gene_select_count['trial' + str(i)] = gene_names.isin(selected_genes)\n",
    "    gene_coeff['trial' + str(i)] = Series(log_model.coef_[0])\n",
    "    "
   ]
  },
  {
   "cell_type": "code",
   "execution_count": 19,
   "metadata": {
    "collapsed": false
   },
   "outputs": [],
   "source": [
    "beta_coeff = gene_coeff.mean(axis = 1)\n",
    "beta_sterror = gene_coeff.std(axis = 1)\n",
    "gene_imp_score = gene_coeff.mean(axis = 1).abs()\n",
    "pvalue = 1-norm.cdf(np.abs(beta_coeff/beta_sterror))"
   ]
  },
  {
   "cell_type": "code",
   "execution_count": 20,
   "metadata": {
    "collapsed": false
   },
   "outputs": [],
   "source": [
    "# this creates a pandas Series with the sum of how many times a gene was selected\n",
    "gene_select_summary = gene_select_count.sum(axis = 1)"
   ]
  },
  {
   "cell_type": "code",
   "execution_count": 21,
   "metadata": {
    "collapsed": true
   },
   "outputs": [],
   "source": [
    "# this data frame has the values for all genes\n",
    "result = DataFrame([geneNames, gene_select_summary, gene_imp_score, beta_coeff, beta_sterror, pvalue], index = \n",
    "          ['Gene', 'Frequency', 'Score', 'Coefficient', 'Std Error', 'pvalue']).T.sort(['Frequency', 'Score'], \n",
    "                                                            ascending = False)"
   ]
  },
  {
   "cell_type": "code",
   "execution_count": 22,
   "metadata": {
    "collapsed": false
   },
   "outputs": [
    {
     "data": {
      "text/html": [
       "<div>\n",
       "<table border=\"1\" class=\"dataframe\">\n",
       "  <thead>\n",
       "    <tr style=\"text-align: right;\">\n",
       "      <th></th>\n",
       "      <th>Gene</th>\n",
       "      <th>Frequency</th>\n",
       "      <th>Coefficient</th>\n",
       "      <th>Std Error</th>\n",
       "      <th>pvalue</th>\n",
       "    </tr>\n",
       "  </thead>\n",
       "  <tbody>\n",
       "    <tr>\n",
       "      <th>22089</th>\n",
       "      <td>GI_4503602-S</td>\n",
       "      <td>500</td>\n",
       "      <td>3.005879</td>\n",
       "      <td>0.762559</td>\n",
       "      <td>4.043104e-05</td>\n",
       "    </tr>\n",
       "    <tr>\n",
       "      <th>5644</th>\n",
       "      <td>GI_21614543-S</td>\n",
       "      <td>500</td>\n",
       "      <td>-1.979327</td>\n",
       "      <td>0.5884984</td>\n",
       "      <td>0.0003850117</td>\n",
       "    </tr>\n",
       "    <tr>\n",
       "      <th>17275</th>\n",
       "      <td>GI_38455428-S</td>\n",
       "      <td>500</td>\n",
       "      <td>1.935199</td>\n",
       "      <td>0.7161242</td>\n",
       "      <td>0.003442839</td>\n",
       "    </tr>\n",
       "    <tr>\n",
       "      <th>26033</th>\n",
       "      <td>GI_9951924-S</td>\n",
       "      <td>500</td>\n",
       "      <td>1.576836</td>\n",
       "      <td>0.5958833</td>\n",
       "      <td>0.004069894</td>\n",
       "    </tr>\n",
       "    <tr>\n",
       "      <th>10064</th>\n",
       "      <td>GI_29738585-S</td>\n",
       "      <td>500</td>\n",
       "      <td>1.439875</td>\n",
       "      <td>0.5185348</td>\n",
       "      <td>0.00274472</td>\n",
       "    </tr>\n",
       "  </tbody>\n",
       "</table>\n",
       "</div>"
      ],
      "text/plain": [
       "                Gene Frequency Coefficient  Std Error        pvalue\n",
       "22089   GI_4503602-S       500    3.005879   0.762559  4.043104e-05\n",
       "5644   GI_21614543-S       500   -1.979327  0.5884984  0.0003850117\n",
       "17275  GI_38455428-S       500    1.935199  0.7161242   0.003442839\n",
       "26033   GI_9951924-S       500    1.576836  0.5958833   0.004069894\n",
       "10064  GI_29738585-S       500    1.439875  0.5185348    0.00274472"
      ]
     },
     "execution_count": 22,
     "metadata": {},
     "output_type": "execute_result"
    }
   ],
   "source": [
    "result[['Gene', 'Frequency', 'Coefficient', 'Std Error', 'pvalue']].head()"
   ]
  },
  {
   "cell_type": "code",
   "execution_count": 23,
   "metadata": {
    "collapsed": true
   },
   "outputs": [],
   "source": [
    "GI_4503602_S = X['GI_4503602-S']\n",
    "GI_21614543_S = X['GI_21614543-S']"
   ]
  },
  {
   "cell_type": "code",
   "execution_count": 24,
   "metadata": {
    "collapsed": false
   },
   "outputs": [
    {
     "data": {
      "image/png": "[encoded data removed]",
      "text/plain": [
       "<matplotlib.figure.Figure at 0x7fbcffdbec50>"
      ]
     },
     "metadata": {},
     "output_type": "display_data"
    }
   ],
   "source": [
    "#plt.scatter(range(128),GI_4503602_S)\n",
    "plt.scatter(GI_21614543_S,GI_4503602_S)\n",
    "plt.show()"
   ]
  },
  {
   "cell_type": "code",
   "execution_count": 25,
   "metadata": {
    "collapsed": true
   },
   "outputs": [],
   "source": [
    "# this gives the indices of selected genes according to some threshold. can use the importance score\n",
    "# or the number of times selected.\n",
    "selected_genes_index = gene_select_summary[gene_imp_score >= 1.5].index"
   ]
  },
  {
   "cell_type": "code",
   "execution_count": 26,
   "metadata": {
    "collapsed": true
   },
   "outputs": [],
   "source": [
    "result = DataFrame([geneNames[selected_genes_index], gene_select_summary[selected_genes_index], \n",
    "           gene_imp_score[selected_genes_index], beta_coeff[selected_genes_index], beta_sterror[selected_genes_index],\n",
    "           pvalue[selected_genes_index]], index = ['Gene', 'Frequency', 'Score','Coefficient', 'Std Error', \n",
    "                                                   'pvalue']).T.sort(['Frequency', 'Score'], \n",
    "                                                                     ascending = False).head()"
   ]
  },
  {
   "cell_type": "code",
   "execution_count": 27,
   "metadata": {
    "collapsed": false
   },
   "outputs": [
    {
     "name": "stdout",
     "output_type": "stream",
     "text": [
      "6\n"
     ]
    },
    {
     "data": {
      "text/html": [
       "<div>\n",
       "<table border=\"1\" class=\"dataframe\">\n",
       "  <thead>\n",
       "    <tr style=\"text-align: right;\">\n",
       "      <th></th>\n",
       "      <th>Gene</th>\n",
       "      <th>Frequency</th>\n",
       "      <th>Coefficient</th>\n",
       "      <th>Std Error</th>\n",
       "      <th>pvalue</th>\n",
       "    </tr>\n",
       "  </thead>\n",
       "  <tbody>\n",
       "    <tr>\n",
       "      <th>2</th>\n",
       "      <td>GI_4503602-S</td>\n",
       "      <td>500</td>\n",
       "      <td>3.005879</td>\n",
       "      <td>0.762559</td>\n",
       "      <td>4.043104e-05</td>\n",
       "    </tr>\n",
       "    <tr>\n",
       "      <th>0</th>\n",
       "      <td>GI_21614543-S</td>\n",
       "      <td>500</td>\n",
       "      <td>-1.979327</td>\n",
       "      <td>0.5884984</td>\n",
       "      <td>0.0003850117</td>\n",
       "    </tr>\n",
       "    <tr>\n",
       "      <th>1</th>\n",
       "      <td>GI_38455428-S</td>\n",
       "      <td>500</td>\n",
       "      <td>1.935199</td>\n",
       "      <td>0.7161242</td>\n",
       "      <td>0.003442839</td>\n",
       "    </tr>\n",
       "    <tr>\n",
       "      <th>5</th>\n",
       "      <td>GI_9951924-S</td>\n",
       "      <td>500</td>\n",
       "      <td>1.576836</td>\n",
       "      <td>0.5958833</td>\n",
       "      <td>0.004069894</td>\n",
       "    </tr>\n",
       "    <tr>\n",
       "      <th>3</th>\n",
       "      <td>GI_4503928-S</td>\n",
       "      <td>499</td>\n",
       "      <td>1.53295</td>\n",
       "      <td>0.614473</td>\n",
       "      <td>0.006302485</td>\n",
       "    </tr>\n",
       "  </tbody>\n",
       "</table>\n",
       "</div>"
      ],
      "text/plain": [
       "            Gene Frequency Coefficient  Std Error        pvalue\n",
       "2   GI_4503602-S       500    3.005879   0.762559  4.043104e-05\n",
       "0  GI_21614543-S       500   -1.979327  0.5884984  0.0003850117\n",
       "1  GI_38455428-S       500    1.935199  0.7161242   0.003442839\n",
       "5   GI_9951924-S       500    1.576836  0.5958833   0.004069894\n",
       "3   GI_4503928-S       499     1.53295   0.614473   0.006302485"
      ]
     },
     "execution_count": 27,
     "metadata": {},
     "output_type": "execute_result"
    }
   ],
   "source": [
    "print len(selected_genes_index)\n",
    "result[['Gene', 'Frequency', 'Coefficient', 'Std Error', 'pvalue']].head(10)"
   ]
  },
  {
   "cell_type": "code",
   "execution_count": 28,
   "metadata": {
    "collapsed": false
   },
   "outputs": [
    {
     "data": {
      "text/plain": [
       "6"
      ]
     },
     "execution_count": 28,
     "metadata": {},
     "output_type": "execute_result"
    }
   ],
   "source": [
    "# these are the names of the selected genes\n",
    "DataFrame(geneNames[selected_genes_index], columns = ['Selected Genes'], index = selected_genes_index).head()\n",
    "len(DataFrame(geneNames[selected_genes_index], columns = ['Selected Genes'], index = selected_genes_index))"
   ]
  },
  {
   "cell_type": "code",
   "execution_count": 29,
   "metadata": {
    "collapsed": false
   },
   "outputs": [
    {
     "data": {
      "text/plain": [
       "(128, 6)"
      ]
     },
     "execution_count": 29,
     "metadata": {},
     "output_type": "execute_result"
    }
   ],
   "source": [
    "#Need to create X_sel\n",
    "\n",
    "X_sel = X[selected_genes_index]\n",
    "\n",
    "X_sel.shape"
   ]
  },
  {
   "cell_type": "code",
   "execution_count": 30,
   "metadata": {
    "collapsed": false
   },
   "outputs": [
    {
     "name": "stdout",
     "output_type": "stream",
     "text": [
      "0.8359375\n"
     ]
    }
   ],
   "source": [
    "# this gives the model's score\n",
    "log_model.fit(X_sel,Y)\n",
    "print log_model.score(X_sel,Y)"
   ]
  },
  {
   "cell_type": "code",
   "execution_count": 31,
   "metadata": {
    "collapsed": false
   },
   "outputs": [],
   "source": [
    "class_prob = log_model.predict_proba(X_sel)"
   ]
  },
  {
   "cell_type": "code",
   "execution_count": 32,
   "metadata": {
    "collapsed": false
   },
   "outputs": [
    {
     "data": {
      "text/plain": [
       "(128, 2)"
      ]
     },
     "execution_count": 32,
     "metadata": {},
     "output_type": "execute_result"
    }
   ],
   "source": [
    "class_prob.shape"
   ]
  },
  {
   "cell_type": "code",
   "execution_count": 33,
   "metadata": {
    "collapsed": false
   },
   "outputs": [
    {
     "name": "stdout",
     "output_type": "stream",
     "text": [
      "0    0.260124\n",
      "1    0.739876\n",
      "dtype: float64\n"
     ]
    }
   ],
   "source": [
    "dfprob = DataFrame(class_prob)\n",
    "print dfprob.mean()"
   ]
  },
  {
   "cell_type": "markdown",
   "metadata": {},
   "source": [
    "###Cross Validation"
   ]
  },
  {
   "cell_type": "code",
   "execution_count": 34,
   "metadata": {
    "collapsed": false
   },
   "outputs": [],
   "source": [
    "# Make a new log_model\n",
    "#log_model2 = LogisticRegression()\n",
    "log_model2 = LogisticRegression(dual = False, fit_intercept = True)\n",
    "\n",
    "xvalacc = []\n",
    "xvalROC = []\n",
    "M = 1000\n",
    "\n",
    "for i in range(M):\n",
    "\n",
    "    # Split the data\n",
    "    X_train, X_test, Y_train, Y_test = train_test_split(X_sel, Y)\n",
    "\n",
    "    # Now fit the new model\n",
    "    log_model2.fit(X_train, Y_train)\n",
    "\n",
    "    # Predict the classes of the testing data set\n",
    "    class_predict = log_model2.predict(X_test)\n",
    "\n",
    "    # Compare the predicted classes to the actual test classes\n",
    "    xvalacc.append(metrics.accuracy_score(Y_test,class_predict))\n",
    "    try:\n",
    "        xvalROC.append(roc_auc_score(Y_test,class_predict))\n",
    "    except ValueError:\n",
    "        pass"
   ]
  },
  {
   "cell_type": "code",
   "execution_count": 35,
   "metadata": {
    "collapsed": false
   },
   "outputs": [
    {
     "data": {
      "text/plain": [
       "0.056022979381232484"
      ]
     },
     "execution_count": 35,
     "metadata": {},
     "output_type": "execute_result"
    }
   ],
   "source": [
    "np.std(xvalacc)"
   ]
  },
  {
   "cell_type": "code",
   "execution_count": 36,
   "metadata": {
    "collapsed": false
   },
   "outputs": [
    {
     "data": {
      "text/plain": [
       "0.86906249999999996"
      ]
     },
     "execution_count": 36,
     "metadata": {},
     "output_type": "execute_result"
    }
   ],
   "source": [
    "np.mean(xvalacc)"
   ]
  },
  {
   "cell_type": "code",
   "execution_count": 37,
   "metadata": {
    "collapsed": false
   },
   "outputs": [
    {
     "data": {
      "text/plain": [
       "0.067859899341781965"
      ]
     },
     "execution_count": 37,
     "metadata": {},
     "output_type": "execute_result"
    }
   ],
   "source": [
    "np.std(xvalROC)"
   ]
  },
  {
   "cell_type": "code",
   "execution_count": 38,
   "metadata": {
    "collapsed": false
   },
   "outputs": [
    {
     "data": {
      "text/plain": [
       "0.84429004932331797"
      ]
     },
     "execution_count": 38,
     "metadata": {},
     "output_type": "execute_result"
    }
   ],
   "source": [
    "np.mean(xvalROC)"
   ]
  },
  {
   "cell_type": "code",
   "execution_count": 39,
   "metadata": {
    "collapsed": false
   },
   "outputs": [
    {
     "data": {
      "text/plain": [
       "array([ 1.,  0.,  1.,  1.,  1.,  1.,  1.,  1.,  1.,  1.,  1.,  0.,  1.,\n",
       "        1.,  1.,  1.,  0.,  0.,  1.,  1.,  1.,  1.,  0.,  0.,  1.,  0.,\n",
       "        1.,  1.,  1.,  1.,  0.,  1.])"
      ]
     },
     "execution_count": 39,
     "metadata": {},
     "output_type": "execute_result"
    }
   ],
   "source": [
    "class_predict"
   ]
  },
  {
   "cell_type": "code",
   "execution_count": 40,
   "metadata": {
    "collapsed": false
   },
   "outputs": [
    {
     "data": {
      "text/plain": [
       "0.97999999999999998"
      ]
     },
     "execution_count": 40,
     "metadata": {},
     "output_type": "execute_result"
    }
   ],
   "source": [
    "roc_auc_score(Y_test,class_predict)"
   ]
  },
  {
   "cell_type": "code",
   "execution_count": 41,
   "metadata": {
    "collapsed": false
   },
   "outputs": [
    {
     "data": {
      "text/plain": [
       "array([[ 7,  0],\n",
       "       [ 1, 24]])"
      ]
     },
     "execution_count": 41,
     "metadata": {},
     "output_type": "execute_result"
    }
   ],
   "source": [
    "confusion_matrix(Y_test,class_predict)"
   ]
  },
  {
   "cell_type": "code",
   "execution_count": 42,
   "metadata": {
    "collapsed": false
   },
   "outputs": [
    {
     "data": {
      "text/plain": [
       "array([[ 1.        ,  0.98003971,  0.92358007, ...,  0.94872624,\n",
       "        -0.16076295,  0.90001349],\n",
       "       [ 0.98003971,  1.        ,  0.96296069, ...,  0.98372621,\n",
       "        -0.26359964,  0.95448512],\n",
       "       [ 0.92358007,  0.96296069,  1.        , ...,  0.94196332,\n",
       "        -0.41897343,  0.97977432],\n",
       "       ..., \n",
       "       [ 0.94872624,  0.98372621,  0.94196332, ...,  1.        ,\n",
       "        -0.35026681,  0.94084915],\n",
       "       [-0.16076295, -0.26359964, -0.41897343, ..., -0.35026681,\n",
       "         1.        , -0.48683735],\n",
       "       [ 0.90001349,  0.95448512,  0.97977432, ...,  0.94084915,\n",
       "        -0.48683735,  1.        ]])"
      ]
     },
     "execution_count": 42,
     "metadata": {},
     "output_type": "execute_result"
    }
   ],
   "source": [
    "np.corrcoef(X_sel)"
   ]
  },
  {
   "cell_type": "code",
   "execution_count": null,
   "metadata": {
    "collapsed": true
   },
   "outputs": [],
   "source": []
  },
  {
   "cell_type": "code",
   "execution_count": null,
   "metadata": {
    "collapsed": true
   },
   "outputs": [],
   "source": []
  }
 ],
 "metadata": {
  "kernelspec": {
   "display_name": "Python 2",
   "language": "python",
   "name": "python2"
  },
  "language_info": {
   "codemirror_mode": {
    "name": "ipython",
    "version": 2
   },
   "file_extension": ".py",
   "mimetype": "text/x-python",
   "name": "python",
   "nbconvert_exporter": "python",
   "pygments_lexer": "ipython2",
   "version": "2.7.10"
  }
 },
 "nbformat": 4,
 "nbformat_minor": 0
}

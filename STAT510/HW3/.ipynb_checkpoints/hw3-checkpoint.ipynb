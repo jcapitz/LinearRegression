{
 "cells": [
  {
   "cell_type": "markdown",
   "metadata": {},
   "source": [
    "#Juan Carlos Apitz\n",
    "#STAT510 Homework 3\n",
    "\n",
    "##Part 1"
   ]
  },
  {
   "cell_type": "markdown",
   "metadata": {},
   "source": [
    "###a.\n",
    "\n",
    "This is a model without intercept, i.e. $\\hat{Y} = b_1 X$. To find the least squares solution $b_1$, we solve the minimization:\n",
    "\n",
    "$$\\underset{b_1}{min} \\|y - b_1 x\\|^2$$\n",
    "\n",
    "$$ = \\underset{b_1}{min} \\left\\{ \\|y\\|^2 - 2b_1 \\left< x,y \\right> + b_1^2 \\|x\\|^2 \\right\\}$$\n",
    "\n",
    "Here $x$ and $y$ are $n$ by 1 vectors, $\\|.\\|$ the $L_2$ norm, and $\\left<.,.\\right>$ the dot product.\n",
    "\n",
    "We use the first and second derivative tests with respect to $b_1$ to find the minimum:\n",
    "\n",
    "$$-2 \\left< x,y \\right> + 2b_1\\|x\\|^2 \\overset{set}{=} 0$$\n",
    "\n",
    "$$b_1 = \\frac{\\left< x,y \\right>}{\\|x\\|^2}$$\n",
    "\n",
    "The second derivative test tells us that $b_1$ is indeed a minimum:\n",
    "\n",
    "$$2\\|x\\|^2 > 0$$"
   ]
  },
  {
   "cell_type": "markdown",
   "metadata": {},
   "source": [
    "###b.\n",
    "\n",
    "For the variance we take advantage of the fact the $\\left< x,x \\right> = \\|x\\|^2$ and simply take the variance of $b_1$:\n",
    "\n",
    "$$V\\left(b_1\\right) = V\\left(\\frac{\\left< x,y \\right>}{\\|x\\|^2}\\right)$$\n",
    "\n",
    "$$ = V\\left(y\\right) \\frac{\\left< x,x \\right>}{\\left(\\|x\\|^2\\right)^2}$$\n",
    "\n",
    "$$ = \\frac{\\sigma^2}{\\|x\\|^2}$$\n",
    "\n",
    "since $V\\left(y\\right) = \\sigma^2$."
   ]
  },
  {
   "cell_type": "markdown",
   "metadata": {
    "collapsed": true
   },
   "source": [
    "###c."
   ]
  },
  {
   "cell_type": "code",
   "execution_count": 1,
   "metadata": {
    "collapsed": false
   },
   "outputs": [
    {
     "name": "stdout",
     "output_type": "stream",
     "text": [
      "the estimate for beta 1 is b1 = 1.286.\n"
     ]
    }
   ],
   "source": [
    "import numpy as np\n",
    "\n",
    "x = np.array([1.,2.,3.])\n",
    "y = np.array([1.,4.,3.])\n",
    "\n",
    "b1 = np.sum(x*y)/np.sum(x**2)\n",
    "\n",
    "print 'the estimate for beta 1 is b1 = %.3f.' %b1"
   ]
  },
  {
   "cell_type": "code",
   "execution_count": 2,
   "metadata": {
    "collapsed": false
   },
   "outputs": [
    {
     "name": "stdout",
     "output_type": "stream",
     "text": [
      "the standard error for b1 is 0.319.\n"
     ]
    }
   ],
   "source": [
    "yhat = b1*x\n",
    "\n",
    "n = len(y)\n",
    "\n",
    "MSE = np.sum((y-yhat)**2)/(n-1)\n",
    "\n",
    "std_err_b1 = np.sqrt(MSE/np.sum(x**2))\n",
    "\n",
    "print 'the standard error for b1 is %.3f.' %std_err_b1"
   ]
  },
  {
   "cell_type": "code",
   "execution_count": 3,
   "metadata": {
    "collapsed": false
   },
   "outputs": [
    {
     "name": "stdout",
     "output_type": "stream",
     "text": [
      "the critical t-value for the 95 percent confidence interval is 4.303.\n"
     ]
    }
   ],
   "source": [
    "from scipy.stats import t\n",
    "\n",
    "tcrit = abs(t.ppf(0.025, n-1, loc=0, scale=1))\n",
    "\n",
    "print 'the critical t-value for the 95 percent confidence interval is %.3f.' %tcrit"
   ]
  },
  {
   "cell_type": "code",
   "execution_count": 4,
   "metadata": {
    "collapsed": false
   },
   "outputs": [
    {
     "name": "stdout",
     "output_type": "stream",
     "text": [
      "the 95 percent confidence interval for b1 is (-0.089, 2.660).\n"
     ]
    }
   ],
   "source": [
    "low_val = b1-tcrit*std_err_b1\n",
    "\n",
    "high_val = b1+tcrit*std_err_b1\n",
    "\n",
    "print 'the 95 percent confidence interval for b1 is (%.3f, %.3f).' %(low_val, high_val)"
   ]
  },
  {
   "cell_type": "markdown",
   "metadata": {},
   "source": [
    "##Part 2.\n",
    "\n",
    "###Problem 5.3"
   ]
  },
  {
   "cell_type": "markdown",
   "metadata": {
    "collapsed": true
   },
   "source": [
    "#####(1)\n",
    "in matrix notation $\\hat{Y}=Xb$, which represents the equation: \n",
    "\n",
    "$$\n",
    "\\hat{Y} = \\begin{pmatrix}\n",
    "\\hat{Y}_1\\\\\n",
    "\\hat{Y}_2\\\\\n",
    "\\hat{Y}_3\\\\\n",
    "\\hat{Y}_4\\\\\n",
    "\\end{pmatrix}\n",
    "= \\begin{pmatrix}\n",
    "1 & X_1\\\\\n",
    "1 & X_2\\\\\n",
    "1 & X_3\\\\\n",
    "1 & X_4\\\\\n",
    "\\end{pmatrix}\n",
    "\\begin{pmatrix}\n",
    "b_0\\\\\n",
    "b_1\n",
    "\\end{pmatrix}\n",
    "$$\n",
    "\n",
    "Additionally, \n",
    "$$\n",
    "Y = \\begin{pmatrix}\n",
    "Y_1\\\\\n",
    "Y_2\\\\\n",
    "Y_3\\\\\n",
    "Y_4\n",
    "\\end{pmatrix}\n",
    "$$\n",
    "\n",
    "then:\n",
    "$$e = Y-Xb = \n",
    "\\begin{pmatrix}\n",
    "Y_1 - b_0 - b_1 X_1\\\\\n",
    "Y_2 - b_0 - b_1 X_2\\\\\n",
    "Y_3 - b_0 - b_1 X_3\\\\\n",
    "Y_4 - b_0 - b_1 X_4\n",
    "\\end{pmatrix} = \n",
    "\\begin{pmatrix}\n",
    "Y_1\\\\\n",
    "Y_2\\\\\n",
    "Y_3\\\\\n",
    "Y_4\n",
    "\\end{pmatrix} - \n",
    "\\begin{pmatrix}\n",
    "1 & X_1\\\\\n",
    "1 & X_2\\\\\n",
    "1 & X_3\\\\\n",
    "1 & X_4\n",
    "\\end{pmatrix}\n",
    "\\begin{pmatrix}\n",
    "b_0\\\\\n",
    "b_1\n",
    "\\end{pmatrix}\n",
    "$$\n",
    "\n",
    "Furthermore, we know that $b$ is the solution to the normal equations given by: \n",
    "$$b = \\left(X^T X\\right)^{-1}X^T Y$$ \n",
    "\n",
    "Then:\n",
    "\n",
    "$$\\hat{Y} = X \\left(X^T X\\right)^{-1}X^T Y$$\n",
    "\n",
    "Define the hat matrix:\n",
    "\n",
    "$$H = X \\left(X^T X\\right)^{-1}X^T$$\n",
    "\n",
    "Then we can write the residuals as:\n",
    "\n",
    "$$e = Y - HY = \\left(I - H\\right) Y$$"
   ]
  },
  {
   "cell_type": "markdown",
   "metadata": {},
   "source": [
    "#####(2)\n",
    "\n",
    "The sum \n",
    "$$\\sum_{i=1}^4 X_i e_i = 0$$ \n",
    "\n",
    "can be found by finding the product $X^T e$:\n",
    "\n",
    "$$\\begin{pmatrix}\n",
    "1 & 1 & 1 & 1\\\\\n",
    "X_1 & X_2 & X_3 & X_4\n",
    "\\end{pmatrix}\n",
    "\\begin{pmatrix}\n",
    "e_1\\\\\n",
    "e_2\\\\ \n",
    "e_3\\\\\n",
    "e_4\n",
    "\\end{pmatrix} \n",
    "= \\begin{pmatrix}\n",
    "\\sum_{i=1}^4 e_i\\\\\n",
    "\\sum_{i=1}^4 X_i e_i\n",
    "\\end{pmatrix}\n",
    "= \\begin{pmatrix}\n",
    "0\\\\\n",
    "0\n",
    "\\end{pmatrix}$$\n",
    "    \n",
    "Hence in matrix form: \n",
    "\n",
    "$$X^T e = 0$$"
   ]
  },
  {
   "cell_type": "markdown",
   "metadata": {},
   "source": [
    "##Problem 5.14"
   ]
  },
  {
   "cell_type": "markdown",
   "metadata": {},
   "source": [
    "###a.\n",
    "\n",
    "Let:\n",
    "\n",
    "$$A = \\begin{pmatrix}\n",
    "4 & 7\\\\\n",
    "2 & 3\n",
    "\\end{pmatrix}\\text{, }\n",
    "y = \\begin{pmatrix}\n",
    "y_1\\\\\n",
    "y_2\n",
    "\\end{pmatrix}\\text{ and }\n",
    "b = \\begin{pmatrix}\n",
    "25\\\\\n",
    "12\n",
    "\\end{pmatrix}$$\n",
    "\n",
    "Then in matrix form the system is:\n",
    "\n",
    "$$Ay = b$$"
   ]
  },
  {
   "cell_type": "markdown",
   "metadata": {},
   "source": [
    "###b.\n",
    "\n",
    "To solve the system, we use the standard method of Gaussian elimination and reduce the augmented matrix to row-echelon form:\n",
    "\n",
    "$$\\begin{pmatrix}\n",
    "4 & 7 & 25\\\\\n",
    "2 & 3 & 12\n",
    "\\end {pmatrix}$$\n",
    "\n",
    "$$\\sim \\begin{pmatrix}\n",
    "1 & \\frac{3}{2} & 6\\\\\n",
    "4 & 7 & 25\n",
    "\\end{pmatrix}$$\n",
    "\n",
    "$$\\sim \\begin{pmatrix}\n",
    "1 & \\frac{3}{2} & 6\\\\\n",
    "0 & 1 & 1\n",
    "\\end{pmatrix}$$\n",
    "\n",
    "After back substitution the solution is:\n",
    "$$y = \\begin{pmatrix}\n",
    "\\frac{9}{2}\\\\\n",
    "1\n",
    "\\end{pmatrix}$$"
   ]
  },
  {
   "cell_type": "markdown",
   "metadata": {
    "collapsed": true
   },
   "source": [
    "##Problem 5.17\n",
    "\n",
    "###a.\n",
    "\n",
    "In matrix form:\n",
    "\n",
    "$$W = AY$$\n",
    "\n",
    "or:\n",
    "\n",
    "$$\\begin{pmatrix}\n",
    "W_1\\\\\n",
    "W_2\\\\\n",
    "W_3\n",
    "\\end{pmatrix} = \n",
    "\\begin{pmatrix}\n",
    "1 & 1 & 1\\\\\n",
    "1 & -1 & 0\\\\\n",
    "1 & -1 & -1\n",
    "\\end{pmatrix}\n",
    "\\begin{pmatrix}\n",
    "Y_1\\\\\n",
    "Y_2\\\\\n",
    "Y_3\n",
    "\\end{pmatrix} = \n",
    "\\begin{pmatrix}\n",
    "Y_1 + Y_2 + Y_3\\\\\n",
    "Y_1 - Y_2\\\\\n",
    "Y_1 - Y_2 - Y_3\n",
    "\\end{pmatrix}$$"
   ]
  },
  {
   "cell_type": "markdown",
   "metadata": {},
   "source": [
    "###b.\n",
    "\n",
    "In matrix form:\n",
    "\n",
    "$$E\\left(W\\right) = AE\\left(Y\\right) = A\\mu $$\n",
    "\n",
    "Where:\n",
    "\n",
    "$$\\mu =\n",
    "\\begin{pmatrix}\n",
    "\\mu_1\\\\\n",
    "\\mu_2\\\\\n",
    "\\mu_3\n",
    "\\end{pmatrix}$$\n",
    "\n",
    "So $\\mu_i$ is the expected value $Y_i$.\n",
    "\n",
    "Then we can also write:\n",
    "\n",
    "$$\\begin{pmatrix}\n",
    "E\\left(W_1\\right)\\\\\n",
    "E\\left(W_2\\right)\\\\\n",
    "E\\left(W_3\\right)\n",
    "\\end{pmatrix} = \n",
    "\\begin{pmatrix}\n",
    "1 & 1 & 1\\\\\n",
    "1 & -1 & 0\\\\\n",
    "1 & -1 & -1\n",
    "\\end{pmatrix}\n",
    "\\begin{pmatrix}\n",
    "\\mu_1\\\\\n",
    "\\mu_2\\\\\n",
    "\\mu_3\n",
    "\\end{pmatrix} = \n",
    "\\begin{pmatrix}\n",
    "\\mu_1 + \\mu_2 + \\mu_3\\\\\n",
    "\\mu_1 - \\mu_2\\\\\n",
    "\\mu_1 - \\mu_2 - \\mu_3\n",
    "\\end{pmatrix}$$"
   ]
  },
  {
   "cell_type": "markdown",
   "metadata": {},
   "source": [
    "###c.\n",
    "\n",
    "In matrix form:\n",
    "\n",
    "$$Cov\\left(W\\right) = Cov\\left(AY\\right) = A Cov \\left(Y\\right)A^{T}$$\n",
    "\n",
    "Variance-covarince matrix of $Y$ is:\n",
    "\n",
    "$$Cov\\left(Y\\right) = \\begin{pmatrix}\n",
    "\\sigma_{11} & \\sigma_{12} & \\sigma_{13}\\\\\n",
    "\\sigma_{21} & \\sigma_{22} & \\sigma_{23}\\\\\n",
    "\\sigma_{31} & \\sigma_{32} & \\sigma_{33}\\\\\n",
    "\\end{pmatrix}$$\n",
    "\n",
    "Then the variance-covariance matrix of $W$ is:\n",
    "\n",
    "$$\\begin{pmatrix}\n",
    "1 & 1 & 1\\\\\n",
    "1 & -1 & 0\\\\\n",
    "1 & -1 & -1\n",
    "\\end{pmatrix}\n",
    "\\begin{pmatrix}\n",
    "\\sigma_{11} & \\sigma_{12} & \\sigma_{13}\\\\\n",
    "\\sigma_{21} & \\sigma_{22} & \\sigma_{23}\\\\\n",
    "\\sigma_{31} & \\sigma_{32} & \\sigma_{33}\\\\\n",
    "\\end{pmatrix}\n",
    "\\begin{pmatrix}\n",
    "1 & 1 & 1\\\\\n",
    "1 & -1 & -1\\\\\n",
    "1 & 0 & -1\n",
    "\\end{pmatrix}$$\n",
    "\n",
    "Where $\\sigma_{ii}$ is the variance of $Y_i$."
   ]
  },
  {
   "cell_type": "markdown",
   "metadata": {},
   "source": [
    "##Problem 5.28\n",
    "\n",
    "Equation 5.60 is:\n",
    "\n",
    "$$b = \\left(X^T X\\right)^{-1}X^T Y$$\n",
    "\n",
    "Equation 4.14 is:\n",
    "\n",
    "\n",
    "$$b_1 = \\frac{\\sum X_i Y_i}{\\sum X_i^2}$$\n",
    "\n",
    "For regression through the origin we define:\n",
    "$$X = \n",
    "\\begin{pmatrix}\n",
    "X_1\\\\\n",
    "X_2\\\\\n",
    "\\vdots\\\\\n",
    "X_n\n",
    "\\end{pmatrix}$$\n",
    "\n",
    "Therefore:\n",
    "$$X^T Y = \\sum X_i Y_i$$\n",
    "\n",
    "and \n",
    "\n",
    "$$\\left(X^T X\\right)^{-1} = \\left(\\sum X_i^2\\right)^{-1}$$\n",
    "\n",
    "Hence:\n",
    "\n",
    "$$b = \\left(X^T X\\right)^{-1}X^T Y = \\frac{\\sum X_i Y_i}{\\sum X_i^2}$$\n",
    "\n"
   ]
  },
  {
   "cell_type": "markdown",
   "metadata": {},
   "source": [
    "##Problem 5.31\n",
    "\n",
    "The variance-covariance of the fitted values is given by:\n",
    "\n",
    "$$Cov\\left(\\hat{Y}\\right) = Cov\\left(HY\\right) = Cov\\left(X\\left(X^T X\\right)^{-1} X^T Y\\right)$$\n",
    "\n",
    "$$ = \\left[X\\left(X^T X\\right)^{-1}X^T\\right]Cov\\left(Y\\right)\\left[X\\left(X^T X\\right)^{-1}X^T\\right]^T$$\n",
    "\n",
    "Given that the $Y_i$s are uncorrelated and the hat matrix is symmetric and idempotent:\n",
    "\n",
    "$$ = \\left[X\\left(X^T X\\right)^{-1}X^T\\right]\\sigma^2I\\left[X\\left(X^T X\\right)^{-1}X^T\\right]$$\n",
    "\n",
    "$$ = \\sigma^2 \\left[X\\left(X^T X\\right)^{-1}X^T X\\left(X^T X\\right)^{-1}X^T\\right]$$\n",
    "\n",
    "$$ = \\sigma^2 X\\left(X^T X\\right)^{-1}X^T$$\n",
    "\n",
    "$$ = \\sigma^2 H$$"
   ]
  },
  {
   "cell_type": "markdown",
   "metadata": {
    "collapsed": true
   },
   "source": [
    "##Problem 6.5 (b)"
   ]
  },
  {
   "cell_type": "code",
   "execution_count": 5,
   "metadata": {
    "collapsed": true
   },
   "outputs": [],
   "source": [
    "#PANDAS\n",
    "import pandas as pd\n",
    "from pandas import DataFrame, Series\n",
    "\n",
    "#NUMPY\n",
    "import numpy as np\n",
    "\n",
    "#SCIPY t and F distributions\n",
    "from scipy.stats import t\n",
    "from scipy.stats import f\n",
    "\n",
    "#STATMODELS\n",
    "import statsmodels.formula.api as sm\n",
    "#import statsmodels.api as sm\n",
    "\n",
    "#SEABORN plotting\n",
    "import seaborn as sns\n",
    "\n",
    "#MATPLOTLIB plotting\n",
    "import matplotlib.pyplot as plt\n",
    "%matplotlib inline"
   ]
  },
  {
   "cell_type": "code",
   "execution_count": 6,
   "metadata": {
    "collapsed": false
   },
   "outputs": [],
   "source": [
    "filename = '~/Documents/LinearRegression/STAT510/Kutner/CH6DS/CH06PR05.txt'\n",
    "\n",
    "df = pd.read_table(filename, delim_whitespace=True, names=['brand_liking','moisture','sweetness'])"
   ]
  },
  {
   "cell_type": "code",
   "execution_count": 7,
   "metadata": {
    "collapsed": false
   },
   "outputs": [
    {
     "data": {
      "text/html": [
       "<div>\n",
       "<table border=\"1\" class=\"dataframe\">\n",
       "  <thead>\n",
       "    <tr style=\"text-align: right;\">\n",
       "      <th></th>\n",
       "      <th>brand_liking</th>\n",
       "      <th>moisture</th>\n",
       "      <th>sweetness</th>\n",
       "    </tr>\n",
       "  </thead>\n",
       "  <tbody>\n",
       "    <tr>\n",
       "      <th>0</th>\n",
       "      <td>64</td>\n",
       "      <td>4</td>\n",
       "      <td>2</td>\n",
       "    </tr>\n",
       "    <tr>\n",
       "      <th>1</th>\n",
       "      <td>73</td>\n",
       "      <td>4</td>\n",
       "      <td>4</td>\n",
       "    </tr>\n",
       "    <tr>\n",
       "      <th>2</th>\n",
       "      <td>61</td>\n",
       "      <td>4</td>\n",
       "      <td>2</td>\n",
       "    </tr>\n",
       "    <tr>\n",
       "      <th>3</th>\n",
       "      <td>76</td>\n",
       "      <td>4</td>\n",
       "      <td>4</td>\n",
       "    </tr>\n",
       "    <tr>\n",
       "      <th>4</th>\n",
       "      <td>72</td>\n",
       "      <td>6</td>\n",
       "      <td>2</td>\n",
       "    </tr>\n",
       "  </tbody>\n",
       "</table>\n",
       "</div>"
      ],
      "text/plain": [
       "   brand_liking  moisture  sweetness\n",
       "0            64         4          2\n",
       "1            73         4          4\n",
       "2            61         4          2\n",
       "3            76         4          4\n",
       "4            72         6          2"
      ]
     },
     "execution_count": 7,
     "metadata": {},
     "output_type": "execute_result"
    }
   ],
   "source": [
    "df.head()"
   ]
  },
  {
   "cell_type": "code",
   "execution_count": 8,
   "metadata": {
    "collapsed": true
   },
   "outputs": [],
   "source": [
    "model = sm.ols(formula=\"brand_liking ~ moisture + sweetness\", data=df).fit()\n",
    "\n",
    "b0 = model.params[0]\n",
    "b1 = model.params[1]\n",
    "b2 = model.params[2]\n",
    "n = len(df)"
   ]
  },
  {
   "cell_type": "code",
   "execution_count": 9,
   "metadata": {
    "collapsed": false
   },
   "outputs": [
    {
     "name": "stdout",
     "output_type": "stream",
     "text": [
      "                            OLS Regression Results                            \n",
      "==============================================================================\n",
      "Dep. Variable:           brand_liking   R-squared:                       0.952\n",
      "Model:                            OLS   Adj. R-squared:                  0.945\n",
      "Method:                 Least Squares   F-statistic:                     129.1\n",
      "Date:                Mon, 05 Oct 2015   Prob (F-statistic):           2.66e-09\n",
      "Time:                        18:11:26   Log-Likelihood:                -36.894\n",
      "No. Observations:                  16   AIC:                             79.79\n",
      "Df Residuals:                      13   BIC:                             82.11\n",
      "Df Model:                           2                                         \n",
      "Covariance Type:            nonrobust                                         \n",
      "==============================================================================\n",
      "                 coef    std err          t      P>|t|      [95.0% Conf. Int.]\n",
      "------------------------------------------------------------------------------\n",
      "Intercept     37.6500      2.996     12.566      0.000        31.177    44.123\n",
      "moisture       4.4250      0.301     14.695      0.000         3.774     5.076\n",
      "sweetness      4.3750      0.673      6.498      0.000         2.920     5.830\n",
      "==============================================================================\n",
      "Omnibus:                        0.766   Durbin-Watson:                   2.313\n",
      "Prob(Omnibus):                  0.682   Jarque-Bera (JB):                0.647\n",
      "Skew:                           0.049   Prob(JB):                        0.724\n",
      "Kurtosis:                       2.020   Cond. No.                         35.9\n",
      "==============================================================================\n",
      "\n",
      "Warnings:\n",
      "[1] Standard Errors assume that the covariance matrix of the errors is correctly specified.\n"
     ]
    },
    {
     "name": "stderr",
     "output_type": "stream",
     "text": [
      "/home/jcapitz/anaconda/lib/python2.7/site-packages/scipy/stats/stats.py:1277: UserWarning: kurtosistest only valid for n>=20 ... continuing anyway, n=16\n",
      "  \"anyway, n=%i\" % int(n))\n"
     ]
    }
   ],
   "source": [
    "print model.summary()"
   ]
  },
  {
   "cell_type": "markdown",
   "metadata": {},
   "source": [
    "#####The estimated regression function is:\n",
    "\n",
    "$\\hat{Y} = 37.650 + 4.425X_1 + 4.375X_2$\n",
    "\n",
    "Where $\\hat{Y}$ represents the estimated degree of brand liking, $X_1$ represents moisture content, and $X_2$ represents the sweetness level.\n",
    "\n",
    "In this case $b_1 = 4.425$ can be interpreted as the change in the estimated degree brand liking per unit change in moisture content. In other words, if moisture content changes by one unit, we should expect that brand liking will change by $4.425$ units in the same direction."
   ]
  },
  {
   "cell_type": "markdown",
   "metadata": {
    "collapsed": true
   },
   "source": [
    "##Problem 6.15 (c)"
   ]
  },
  {
   "cell_type": "code",
   "execution_count": 10,
   "metadata": {
    "collapsed": true
   },
   "outputs": [],
   "source": [
    "filename = '~/Documents/LinearRegression/STAT510/Kutner/CH6DS/CH06PR15.txt'\n",
    "\n",
    "df = pd.read_table(filename, delim_whitespace=True, names=['satisfaction','age','severity','anxiety'])"
   ]
  },
  {
   "cell_type": "code",
   "execution_count": 11,
   "metadata": {
    "collapsed": false
   },
   "outputs": [
    {
     "data": {
      "text/html": [
       "<div>\n",
       "<table border=\"1\" class=\"dataframe\">\n",
       "  <thead>\n",
       "    <tr style=\"text-align: right;\">\n",
       "      <th></th>\n",
       "      <th>satisfaction</th>\n",
       "      <th>age</th>\n",
       "      <th>severity</th>\n",
       "      <th>anxiety</th>\n",
       "    </tr>\n",
       "  </thead>\n",
       "  <tbody>\n",
       "    <tr>\n",
       "      <th>0</th>\n",
       "      <td>48</td>\n",
       "      <td>50</td>\n",
       "      <td>51</td>\n",
       "      <td>2.3</td>\n",
       "    </tr>\n",
       "    <tr>\n",
       "      <th>1</th>\n",
       "      <td>57</td>\n",
       "      <td>36</td>\n",
       "      <td>46</td>\n",
       "      <td>2.3</td>\n",
       "    </tr>\n",
       "    <tr>\n",
       "      <th>2</th>\n",
       "      <td>66</td>\n",
       "      <td>40</td>\n",
       "      <td>48</td>\n",
       "      <td>2.2</td>\n",
       "    </tr>\n",
       "    <tr>\n",
       "      <th>3</th>\n",
       "      <td>70</td>\n",
       "      <td>41</td>\n",
       "      <td>44</td>\n",
       "      <td>1.8</td>\n",
       "    </tr>\n",
       "    <tr>\n",
       "      <th>4</th>\n",
       "      <td>89</td>\n",
       "      <td>28</td>\n",
       "      <td>43</td>\n",
       "      <td>1.8</td>\n",
       "    </tr>\n",
       "  </tbody>\n",
       "</table>\n",
       "</div>"
      ],
      "text/plain": [
       "   satisfaction  age  severity  anxiety\n",
       "0            48   50        51      2.3\n",
       "1            57   36        46      2.3\n",
       "2            66   40        48      2.2\n",
       "3            70   41        44      1.8\n",
       "4            89   28        43      1.8"
      ]
     },
     "execution_count": 11,
     "metadata": {},
     "output_type": "execute_result"
    }
   ],
   "source": [
    "df.head()"
   ]
  },
  {
   "cell_type": "code",
   "execution_count": 12,
   "metadata": {
    "collapsed": true
   },
   "outputs": [],
   "source": [
    "model = sm.ols(formula=\"satisfaction ~ age + severity + anxiety\", data=df).fit()\n",
    "\n",
    "b0 = model.params[0]\n",
    "b1 = model.params[1]\n",
    "b2 = model.params[2]\n",
    "b3 = model.params[3]\n",
    "n = len(df)"
   ]
  },
  {
   "cell_type": "code",
   "execution_count": 13,
   "metadata": {
    "collapsed": false
   },
   "outputs": [
    {
     "name": "stdout",
     "output_type": "stream",
     "text": [
      "                            OLS Regression Results                            \n",
      "==============================================================================\n",
      "Dep. Variable:           satisfaction   R-squared:                       0.682\n",
      "Model:                            OLS   Adj. R-squared:                  0.659\n",
      "Method:                 Least Squares   F-statistic:                     30.05\n",
      "Date:                Mon, 05 Oct 2015   Prob (F-statistic):           1.54e-10\n",
      "Time:                        18:11:26   Log-Likelihood:                -169.36\n",
      "No. Observations:                  46   AIC:                             346.7\n",
      "Df Residuals:                      42   BIC:                             354.0\n",
      "Df Model:                           3                                         \n",
      "Covariance Type:            nonrobust                                         \n",
      "==============================================================================\n",
      "                 coef    std err          t      P>|t|      [95.0% Conf. Int.]\n",
      "------------------------------------------------------------------------------\n",
      "Intercept    158.4913     18.126      8.744      0.000       121.912   195.071\n",
      "age           -1.1416      0.215     -5.315      0.000        -1.575    -0.708\n",
      "severity      -0.4420      0.492     -0.898      0.374        -1.435     0.551\n",
      "anxiety      -13.4702      7.100     -1.897      0.065       -27.798     0.858\n",
      "==============================================================================\n",
      "Omnibus:                        5.219   Durbin-Watson:                   2.183\n",
      "Prob(Omnibus):                  0.074   Jarque-Bera (JB):                2.074\n",
      "Skew:                          -0.098   Prob(JB):                        0.354\n",
      "Kurtosis:                       1.978   Cond. No.                         782.\n",
      "==============================================================================\n",
      "\n",
      "Warnings:\n",
      "[1] Standard Errors assume that the covariance matrix of the errors is correctly specified.\n"
     ]
    }
   ],
   "source": [
    "print model.summary()"
   ]
  },
  {
   "cell_type": "markdown",
   "metadata": {},
   "source": [
    "#####The estimated regression function is:\n",
    "\n",
    "$\\hat{Y} = 158.4913 - 1.1416X_1 - 0.4420x_2 - 13.4702X_3$\n",
    "\n",
    "Where $\\hat{Y}$ represents the estimated patients' satisfaction, $X_1$ represents the patients' age in years, $X_2$ represents the severity of illnes index, and $X_3$ represents the anxiety level.\n",
    "\n",
    "In this case $b_2 = -0.442$ can be interpreted as the change in the estimated degree of patients' satisfaction per unit change in the index of severity of illness. In other words, if the index of severity of ilness changes by one unit, we should expect that the degree of patients' satisfaction will change by $0.4420$ units in the opposite direction."
   ]
  }
 ],
 "metadata": {
  "kernelspec": {
   "display_name": "Python 2",
   "language": "python",
   "name": "python2"
  },
  "language_info": {
   "codemirror_mode": {
    "name": "ipython",
    "version": 2
   },
   "file_extension": ".py",
   "mimetype": "text/x-python",
   "name": "python",
   "nbconvert_exporter": "python",
   "pygments_lexer": "ipython2",
   "version": "2.7.10"
  }
 },
 "nbformat": 4,
 "nbformat_minor": 0
}

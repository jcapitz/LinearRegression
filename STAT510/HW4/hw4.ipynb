{
 "cells": [
  {
   "cell_type": "markdown",
   "metadata": {},
   "source": [
    "#Juan Carlos Apitz\n",
    "#STAT510 Homework 4"
   ]
  },
  {
   "cell_type": "markdown",
   "metadata": {},
   "source": [
    "##Problem 6.16"
   ]
  },
  {
   "cell_type": "code",
   "execution_count": 1,
   "metadata": {
    "collapsed": true
   },
   "outputs": [],
   "source": [
    "#PANDAS\n",
    "import pandas as pd\n",
    "from pandas import DataFrame, Series\n",
    "\n",
    "#NUMPY\n",
    "import numpy as np\n",
    "\n",
    "#SCIPY t and F distributions\n",
    "from scipy.stats import t\n",
    "from scipy.stats import f\n",
    "\n",
    "#STATMODELS\n",
    "import statsmodels.api as sm\n",
    "from statsmodels.formula.api import ols\n",
    "#import statsmodels.api as sm\n",
    "\n",
    "#SEABORN plotting\n",
    "import seaborn as sns\n",
    "\n",
    "#MATPLOTLIB plotting\n",
    "import matplotlib.pyplot as plt\n",
    "%matplotlib inline"
   ]
  },
  {
   "cell_type": "code",
   "execution_count": 2,
   "metadata": {
    "collapsed": false
   },
   "outputs": [
    {
     "data": {
      "text/html": [
       "<div>\n",
       "<table border=\"1\" class=\"dataframe\">\n",
       "  <thead>\n",
       "    <tr style=\"text-align: right;\">\n",
       "      <th></th>\n",
       "      <th>satisfaction</th>\n",
       "      <th>age</th>\n",
       "      <th>severity</th>\n",
       "      <th>anxiety</th>\n",
       "    </tr>\n",
       "  </thead>\n",
       "  <tbody>\n",
       "    <tr>\n",
       "      <th>0</th>\n",
       "      <td>48</td>\n",
       "      <td>50</td>\n",
       "      <td>51</td>\n",
       "      <td>2.3</td>\n",
       "    </tr>\n",
       "    <tr>\n",
       "      <th>1</th>\n",
       "      <td>57</td>\n",
       "      <td>36</td>\n",
       "      <td>46</td>\n",
       "      <td>2.3</td>\n",
       "    </tr>\n",
       "    <tr>\n",
       "      <th>2</th>\n",
       "      <td>66</td>\n",
       "      <td>40</td>\n",
       "      <td>48</td>\n",
       "      <td>2.2</td>\n",
       "    </tr>\n",
       "    <tr>\n",
       "      <th>3</th>\n",
       "      <td>70</td>\n",
       "      <td>41</td>\n",
       "      <td>44</td>\n",
       "      <td>1.8</td>\n",
       "    </tr>\n",
       "    <tr>\n",
       "      <th>4</th>\n",
       "      <td>89</td>\n",
       "      <td>28</td>\n",
       "      <td>43</td>\n",
       "      <td>1.8</td>\n",
       "    </tr>\n",
       "  </tbody>\n",
       "</table>\n",
       "</div>"
      ],
      "text/plain": [
       "   satisfaction  age  severity  anxiety\n",
       "0            48   50        51      2.3\n",
       "1            57   36        46      2.3\n",
       "2            66   40        48      2.2\n",
       "3            70   41        44      1.8\n",
       "4            89   28        43      1.8"
      ]
     },
     "execution_count": 2,
     "metadata": {},
     "output_type": "execute_result"
    }
   ],
   "source": [
    "filename = '~/Documents/LinearRegression/STAT510/Kutner/CH6DS/CH06PR15.txt'\n",
    "\n",
    "patient = pd.read_table(filename, delim_whitespace=True, names=['satisfaction','age','severity', 'anxiety'])\n",
    "patient.head()"
   ]
  },
  {
   "cell_type": "markdown",
   "metadata": {},
   "source": [
    "##a.\n",
    "\n",
    "Test the following hypothesis:\n",
    "$$H_o: \\beta_1 = \\beta_2 = \\beta_3 = 0$$\n",
    "$$H_a: \\text{at least one } \\beta_i = 0$$\n",
    "\n",
    "To test the above hypothesis we fit the model and conduct an F test."
   ]
  },
  {
   "cell_type": "code",
   "execution_count": 3,
   "metadata": {
    "collapsed": false
   },
   "outputs": [],
   "source": [
    "model = ols(formula=\"satisfaction ~ age + severity + anxiety\", data=patient).fit()"
   ]
  },
  {
   "cell_type": "code",
   "execution_count": 4,
   "metadata": {
    "collapsed": false
   },
   "outputs": [
    {
     "name": "stdout",
     "output_type": "stream",
     "text": [
      "The 10 percent critical F-value with 3 and 42 degrees of freedom is 0.19 and the model F-statistic is 30.05\n",
      "Therefore since the F-statistic is greater than the critical F-value we reject the null hypothesis at the 10 percent level. We can conclude that there exist a regression relation.\n",
      "The p-value of the test is 0.00000000015.\n"
     ]
    }
   ],
   "source": [
    "dfn = model.df_model\n",
    "dfd = model.df_resid\n",
    "fcrit = f.ppf(0.1, dfn, dfd)\n",
    "print 'The 10 percent critical F-value with 3 and 42 degrees of freedom is %.2f and the model F-statistic is %.2f' %(fcrit,model.fvalue)\n",
    "print 'Therefore since the F-statistic is greater than the critical F-value we reject the null hypothesis at the 10 percent level. We can conclude that there exist a regression relation.' \n",
    "print 'The p-value of the test is %.11f.' %model.f_pvalue"
   ]
  },
  {
   "cell_type": "code",
   "execution_count": 5,
   "metadata": {
    "collapsed": false
   },
   "outputs": [
    {
     "data": {
      "text/html": [
       "<table class=\"simpletable\">\n",
       "<caption>OLS Regression Results</caption>\n",
       "<tr>\n",
       "  <th>Dep. Variable:</th>      <td>satisfaction</td>   <th>  R-squared:         </th> <td>   0.682</td>\n",
       "</tr>\n",
       "<tr>\n",
       "  <th>Model:</th>                   <td>OLS</td>       <th>  Adj. R-squared:    </th> <td>   0.659</td>\n",
       "</tr>\n",
       "<tr>\n",
       "  <th>Method:</th>             <td>Least Squares</td>  <th>  F-statistic:       </th> <td>   30.05</td>\n",
       "</tr>\n",
       "<tr>\n",
       "  <th>Date:</th>             <td>Sat, 24 Oct 2015</td> <th>  Prob (F-statistic):</th> <td>1.54e-10</td>\n",
       "</tr>\n",
       "<tr>\n",
       "  <th>Time:</th>                 <td>22:02:08</td>     <th>  Log-Likelihood:    </th> <td> -169.36</td>\n",
       "</tr>\n",
       "<tr>\n",
       "  <th>No. Observations:</th>      <td>    46</td>      <th>  AIC:               </th> <td>   346.7</td>\n",
       "</tr>\n",
       "<tr>\n",
       "  <th>Df Residuals:</th>          <td>    42</td>      <th>  BIC:               </th> <td>   354.0</td>\n",
       "</tr>\n",
       "<tr>\n",
       "  <th>Df Model:</th>              <td>     3</td>      <th>                     </th>     <td> </td>   \n",
       "</tr>\n",
       "<tr>\n",
       "  <th>Covariance Type:</th>      <td>nonrobust</td>    <th>                     </th>     <td> </td>   \n",
       "</tr>\n",
       "</table>\n",
       "<table class=\"simpletable\">\n",
       "<tr>\n",
       "      <td></td>         <th>coef</th>     <th>std err</th>      <th>t</th>      <th>P>|t|</th> <th>[95.0% Conf. Int.]</th> \n",
       "</tr>\n",
       "<tr>\n",
       "  <th>Intercept</th> <td>  158.4913</td> <td>   18.126</td> <td>    8.744</td> <td> 0.000</td> <td>  121.912   195.071</td>\n",
       "</tr>\n",
       "<tr>\n",
       "  <th>age</th>       <td>   -1.1416</td> <td>    0.215</td> <td>   -5.315</td> <td> 0.000</td> <td>   -1.575    -0.708</td>\n",
       "</tr>\n",
       "<tr>\n",
       "  <th>severity</th>  <td>   -0.4420</td> <td>    0.492</td> <td>   -0.898</td> <td> 0.374</td> <td>   -1.435     0.551</td>\n",
       "</tr>\n",
       "<tr>\n",
       "  <th>anxiety</th>   <td>  -13.4702</td> <td>    7.100</td> <td>   -1.897</td> <td> 0.065</td> <td>  -27.798     0.858</td>\n",
       "</tr>\n",
       "</table>\n",
       "<table class=\"simpletable\">\n",
       "<tr>\n",
       "  <th>Omnibus:</th>       <td> 5.219</td> <th>  Durbin-Watson:     </th> <td>   2.183</td>\n",
       "</tr>\n",
       "<tr>\n",
       "  <th>Prob(Omnibus):</th> <td> 0.074</td> <th>  Jarque-Bera (JB):  </th> <td>   2.074</td>\n",
       "</tr>\n",
       "<tr>\n",
       "  <th>Skew:</th>          <td>-0.098</td> <th>  Prob(JB):          </th> <td>   0.354</td>\n",
       "</tr>\n",
       "<tr>\n",
       "  <th>Kurtosis:</th>      <td> 1.978</td> <th>  Cond. No.          </th> <td>    782.</td>\n",
       "</tr>\n",
       "</table>"
      ],
      "text/plain": [
       "<class 'statsmodels.iolib.summary.Summary'>\n",
       "\"\"\"\n",
       "                            OLS Regression Results                            \n",
       "==============================================================================\n",
       "Dep. Variable:           satisfaction   R-squared:                       0.682\n",
       "Model:                            OLS   Adj. R-squared:                  0.659\n",
       "Method:                 Least Squares   F-statistic:                     30.05\n",
       "Date:                Sat, 24 Oct 2015   Prob (F-statistic):           1.54e-10\n",
       "Time:                        22:02:08   Log-Likelihood:                -169.36\n",
       "No. Observations:                  46   AIC:                             346.7\n",
       "Df Residuals:                      42   BIC:                             354.0\n",
       "Df Model:                           3                                         \n",
       "Covariance Type:            nonrobust                                         \n",
       "==============================================================================\n",
       "                 coef    std err          t      P>|t|      [95.0% Conf. Int.]\n",
       "------------------------------------------------------------------------------\n",
       "Intercept    158.4913     18.126      8.744      0.000       121.912   195.071\n",
       "age           -1.1416      0.215     -5.315      0.000        -1.575    -0.708\n",
       "severity      -0.4420      0.492     -0.898      0.374        -1.435     0.551\n",
       "anxiety      -13.4702      7.100     -1.897      0.065       -27.798     0.858\n",
       "==============================================================================\n",
       "Omnibus:                        5.219   Durbin-Watson:                   2.183\n",
       "Prob(Omnibus):                  0.074   Jarque-Bera (JB):                2.074\n",
       "Skew:                          -0.098   Prob(JB):                        0.354\n",
       "Kurtosis:                       1.978   Cond. No.                         782.\n",
       "==============================================================================\n",
       "\n",
       "Warnings:\n",
       "[1] Standard Errors assume that the covariance matrix of the errors is correctly specified.\n",
       "\"\"\""
      ]
     },
     "execution_count": 5,
     "metadata": {},
     "output_type": "execute_result"
    }
   ],
   "source": [
    "model.summary()"
   ]
  },
  {
   "cell_type": "markdown",
   "metadata": {},
   "source": [
    "##b."
   ]
  },
  {
   "cell_type": "code",
   "execution_count": 6,
   "metadata": {
    "collapsed": false
   },
   "outputs": [
    {
     "name": "stdout",
     "output_type": "stream",
     "text": [
      "The 90 percent joint CI for beta 1 is: (-1.61, -0.67)\n",
      "The 90 percent joint CI for beta 2 is: (-1.52, 0.64)\n",
      "The 90 percent joint CI for beta 3 is: (-29.09, 2.15)\n"
     ]
    }
   ],
   "source": [
    "g = 3; p = len(model.params); n = model.nobs; adj_alpha = 1-0.1/(2*g)\n",
    "tcrit = t.ppf(adj_alpha, n-p)\n",
    "\n",
    "b1 = model.params[1]; b1low = b1 - tcrit * model.bse[1]; b1high = b1 + tcrit * model.bse[1]\n",
    "b2 = model.params[2]; b2low = b2 - tcrit * model.bse[2]; b2high = b2 + tcrit * model.bse[2]\n",
    "b3 = model.params[3]; b3low = b3 - tcrit * model.bse[3]; b3high = b3 + tcrit * model.bse[3]\n",
    "\n",
    "print 'The 90 percent joint CI for beta 1 is: (%.2f, %.2f)' %(b1low, b1high)\n",
    "print 'The 90 percent joint CI for beta 2 is: (%.2f, %.2f)' %(b2low, b2high)\n",
    "print 'The 90 percent joint CI for beta 3 is: (%.2f, %.2f)' %(b3low, b3high)"
   ]
  },
  {
   "cell_type": "markdown",
   "metadata": {},
   "source": [
    "##c."
   ]
  },
  {
   "cell_type": "code",
   "execution_count": 7,
   "metadata": {
    "collapsed": false
   },
   "outputs": [
    {
     "name": "stdout",
     "output_type": "stream",
     "text": [
      "The coefficient of multiple determination is: 0.68\n",
      "This coefficient measures the proportinate reduction of total variation associated with the model.\n"
     ]
    }
   ],
   "source": [
    "print 'The coefficient of multiple determination is: %.2f' %model.rsquared\n",
    "print 'This coefficient measures the proportinate reduction of total variation associated with the model.'"
   ]
  },
  {
   "cell_type": "markdown",
   "metadata": {},
   "source": [
    "##Problem 6.19"
   ]
  },
  {
   "cell_type": "code",
   "execution_count": 8,
   "metadata": {
    "collapsed": false
   },
   "outputs": [
    {
     "data": {
      "text/html": [
       "<div>\n",
       "<table border=\"1\" class=\"dataframe\">\n",
       "  <thead>\n",
       "    <tr style=\"text-align: right;\">\n",
       "      <th></th>\n",
       "      <th>rate</th>\n",
       "      <th>age</th>\n",
       "      <th>opex</th>\n",
       "      <th>vacancy</th>\n",
       "      <th>sqf</th>\n",
       "    </tr>\n",
       "  </thead>\n",
       "  <tbody>\n",
       "    <tr>\n",
       "      <th>0</th>\n",
       "      <td>13.5</td>\n",
       "      <td>1</td>\n",
       "      <td>5.02</td>\n",
       "      <td>0.14</td>\n",
       "      <td>123000</td>\n",
       "    </tr>\n",
       "    <tr>\n",
       "      <th>1</th>\n",
       "      <td>12.0</td>\n",
       "      <td>14</td>\n",
       "      <td>8.19</td>\n",
       "      <td>0.27</td>\n",
       "      <td>104079</td>\n",
       "    </tr>\n",
       "    <tr>\n",
       "      <th>2</th>\n",
       "      <td>10.5</td>\n",
       "      <td>16</td>\n",
       "      <td>3.00</td>\n",
       "      <td>0.00</td>\n",
       "      <td>39998</td>\n",
       "    </tr>\n",
       "    <tr>\n",
       "      <th>3</th>\n",
       "      <td>15.0</td>\n",
       "      <td>4</td>\n",
       "      <td>10.70</td>\n",
       "      <td>0.05</td>\n",
       "      <td>57112</td>\n",
       "    </tr>\n",
       "    <tr>\n",
       "      <th>4</th>\n",
       "      <td>14.0</td>\n",
       "      <td>11</td>\n",
       "      <td>8.97</td>\n",
       "      <td>0.07</td>\n",
       "      <td>60000</td>\n",
       "    </tr>\n",
       "  </tbody>\n",
       "</table>\n",
       "</div>"
      ],
      "text/plain": [
       "   rate  age   opex  vacancy     sqf\n",
       "0  13.5    1   5.02     0.14  123000\n",
       "1  12.0   14   8.19     0.27  104079\n",
       "2  10.5   16   3.00     0.00   39998\n",
       "3  15.0    4  10.70     0.05   57112\n",
       "4  14.0   11   8.97     0.07   60000"
      ]
     },
     "execution_count": 8,
     "metadata": {},
     "output_type": "execute_result"
    }
   ],
   "source": [
    "filename = '~/Documents/LinearRegression/STAT510/Kutner/CH6DS/CH06PR18.txt'\n",
    "\n",
    "rental = pd.read_table(filename, delim_whitespace=True, names=['rate','age','opex', 'vacancy', 'sqf',])\n",
    "rental.head()"
   ]
  },
  {
   "cell_type": "markdown",
   "metadata": {},
   "source": [
    "##a.\n",
    "\n",
    "Test the following hypothesis:\n",
    "$$H_o: \\beta_1 = \\beta_2 = \\beta_3 = 0$$\n",
    "$$H_a: \\text{at least one } \\beta_i = 0$$\n",
    "\n",
    "To test the above hypothesis we fit the model and conduct an F test."
   ]
  },
  {
   "cell_type": "code",
   "execution_count": 9,
   "metadata": {
    "collapsed": true
   },
   "outputs": [],
   "source": [
    "model = ols(formula=\"rate ~ age + opex + vacancy + sqf\", data=rental).fit()"
   ]
  },
  {
   "cell_type": "code",
   "execution_count": 10,
   "metadata": {
    "collapsed": false
   },
   "outputs": [
    {
     "name": "stdout",
     "output_type": "stream",
     "text": [
      "The 5 percent critical F-value with 4 and 76 degrees of freedom is 0.18 and the model F-statistic is 26.76\n",
      "Therefore since the F-statistic is greater than the critical F-value we reject the null hypothesis at the 5  percent level. We can conclude that there exist a regression relation.\n",
      "The p-value of the test is 0.00000000000.\n",
      "\n",
      "The results of the test imply that at least one of the beta parameters is non-zero, which is an indication that at   least one of the explanatory variables influences the rental rate.\n"
     ]
    }
   ],
   "source": [
    "dfn = model.df_model\n",
    "dfd = model.df_resid\n",
    "fcrit = f.ppf(0.05, dfn, dfd)\n",
    "print 'The 5 percent critical F-value with 4 and 76 degrees of freedom is %.2f and the model F-statistic is %.2f' %(fcrit,model.fvalue)\n",
    "print 'Therefore since the F-statistic is greater than the critical F-value we reject the null hypothesis at the 5  percent level. We can conclude that there exist a regression relation.' \n",
    "print 'The p-value of the test is %.11f.' %model.f_pvalue\n",
    "print ''\n",
    "print 'The results of the test imply that at least one of the beta parameters is non-zero, which is an indication that at   least one of the explanatory variables influences the rental rate.'"
   ]
  },
  {
   "cell_type": "code",
   "execution_count": 11,
   "metadata": {
    "collapsed": false
   },
   "outputs": [
    {
     "data": {
      "text/html": [
       "<table class=\"simpletable\">\n",
       "<caption>OLS Regression Results</caption>\n",
       "<tr>\n",
       "  <th>Dep. Variable:</th>          <td>rate</td>       <th>  R-squared:         </th> <td>   0.585</td>\n",
       "</tr>\n",
       "<tr>\n",
       "  <th>Model:</th>                   <td>OLS</td>       <th>  Adj. R-squared:    </th> <td>   0.563</td>\n",
       "</tr>\n",
       "<tr>\n",
       "  <th>Method:</th>             <td>Least Squares</td>  <th>  F-statistic:       </th> <td>   26.76</td>\n",
       "</tr>\n",
       "<tr>\n",
       "  <th>Date:</th>             <td>Sat, 24 Oct 2015</td> <th>  Prob (F-statistic):</th> <td>7.27e-14</td>\n",
       "</tr>\n",
       "<tr>\n",
       "  <th>Time:</th>                 <td>22:02:09</td>     <th>  Log-Likelihood:    </th> <td> -122.75</td>\n",
       "</tr>\n",
       "<tr>\n",
       "  <th>No. Observations:</th>      <td>    81</td>      <th>  AIC:               </th> <td>   255.5</td>\n",
       "</tr>\n",
       "<tr>\n",
       "  <th>Df Residuals:</th>          <td>    76</td>      <th>  BIC:               </th> <td>   267.5</td>\n",
       "</tr>\n",
       "<tr>\n",
       "  <th>Df Model:</th>              <td>     4</td>      <th>                     </th>     <td> </td>   \n",
       "</tr>\n",
       "<tr>\n",
       "  <th>Covariance Type:</th>      <td>nonrobust</td>    <th>                     </th>     <td> </td>   \n",
       "</tr>\n",
       "</table>\n",
       "<table class=\"simpletable\">\n",
       "<tr>\n",
       "      <td></td>         <th>coef</th>     <th>std err</th>      <th>t</th>      <th>P>|t|</th> <th>[95.0% Conf. Int.]</th> \n",
       "</tr>\n",
       "<tr>\n",
       "  <th>Intercept</th> <td>   12.2006</td> <td>    0.578</td> <td>   21.110</td> <td> 0.000</td> <td>   11.049    13.352</td>\n",
       "</tr>\n",
       "<tr>\n",
       "  <th>age</th>       <td>   -0.1420</td> <td>    0.021</td> <td>   -6.655</td> <td> 0.000</td> <td>   -0.185    -0.100</td>\n",
       "</tr>\n",
       "<tr>\n",
       "  <th>opex</th>      <td>    0.2820</td> <td>    0.063</td> <td>    4.464</td> <td> 0.000</td> <td>    0.156     0.408</td>\n",
       "</tr>\n",
       "<tr>\n",
       "  <th>vacancy</th>   <td>    0.6193</td> <td>    1.087</td> <td>    0.570</td> <td> 0.570</td> <td>   -1.545     2.784</td>\n",
       "</tr>\n",
       "<tr>\n",
       "  <th>sqf</th>       <td> 7.924e-06</td> <td> 1.38e-06</td> <td>    5.722</td> <td> 0.000</td> <td> 5.17e-06  1.07e-05</td>\n",
       "</tr>\n",
       "</table>\n",
       "<table class=\"simpletable\">\n",
       "<tr>\n",
       "  <th>Omnibus:</th>       <td> 1.922</td> <th>  Durbin-Watson:     </th> <td>   1.580</td>\n",
       "</tr>\n",
       "<tr>\n",
       "  <th>Prob(Omnibus):</th> <td> 0.383</td> <th>  Jarque-Bera (JB):  </th> <td>   1.301</td>\n",
       "</tr>\n",
       "<tr>\n",
       "  <th>Skew:</th>          <td> 0.148</td> <th>  Prob(JB):          </th> <td>   0.522</td>\n",
       "</tr>\n",
       "<tr>\n",
       "  <th>Kurtosis:</th>      <td> 3.545</td> <th>  Cond. No.          </th> <td>1.74e+06</td>\n",
       "</tr>\n",
       "</table>"
      ],
      "text/plain": [
       "<class 'statsmodels.iolib.summary.Summary'>\n",
       "\"\"\"\n",
       "                            OLS Regression Results                            \n",
       "==============================================================================\n",
       "Dep. Variable:                   rate   R-squared:                       0.585\n",
       "Model:                            OLS   Adj. R-squared:                  0.563\n",
       "Method:                 Least Squares   F-statistic:                     26.76\n",
       "Date:                Sat, 24 Oct 2015   Prob (F-statistic):           7.27e-14\n",
       "Time:                        22:02:09   Log-Likelihood:                -122.75\n",
       "No. Observations:                  81   AIC:                             255.5\n",
       "Df Residuals:                      76   BIC:                             267.5\n",
       "Df Model:                           4                                         \n",
       "Covariance Type:            nonrobust                                         \n",
       "==============================================================================\n",
       "                 coef    std err          t      P>|t|      [95.0% Conf. Int.]\n",
       "------------------------------------------------------------------------------\n",
       "Intercept     12.2006      0.578     21.110      0.000        11.049    13.352\n",
       "age           -0.1420      0.021     -6.655      0.000        -0.185    -0.100\n",
       "opex           0.2820      0.063      4.464      0.000         0.156     0.408\n",
       "vacancy        0.6193      1.087      0.570      0.570        -1.545     2.784\n",
       "sqf         7.924e-06   1.38e-06      5.722      0.000      5.17e-06  1.07e-05\n",
       "==============================================================================\n",
       "Omnibus:                        1.922   Durbin-Watson:                   1.580\n",
       "Prob(Omnibus):                  0.383   Jarque-Bera (JB):                1.301\n",
       "Skew:                           0.148   Prob(JB):                        0.522\n",
       "Kurtosis:                       3.545   Cond. No.                     1.74e+06\n",
       "==============================================================================\n",
       "\n",
       "Warnings:\n",
       "[1] Standard Errors assume that the covariance matrix of the errors is correctly specified.\n",
       "[2] The condition number is large, 1.74e+06. This might indicate that there are\n",
       "strong multicollinearity or other numerical problems.\n",
       "\"\"\""
      ]
     },
     "execution_count": 11,
     "metadata": {},
     "output_type": "execute_result"
    }
   ],
   "source": [
    "model.summary()"
   ]
  },
  {
   "cell_type": "markdown",
   "metadata": {},
   "source": [
    "##b."
   ]
  },
  {
   "cell_type": "code",
   "execution_count": 12,
   "metadata": {
    "collapsed": false
   },
   "outputs": [
    {
     "name": "stdout",
     "output_type": "stream",
     "text": [
      "The 90 percent joint CI for beta 1 is: (-0.20, -0.09)\n",
      "The 90 percent joint CI for beta 2 is: (0.12, 0.44)\n",
      "The 90 percent joint CI for beta 3 is: (-2.16, 3.40)\n",
      "The 90 percent joint CI for beta 4 is: (0.0000044, 0.0000115)\n",
      "\n",
      "The above results indicate that with the exception of beta 3 (since its confidence interval contains 0), all the coefficients are significant. This means that there exist a linear relation between rental rates and the variables age, operating expense, and square footage.\n"
     ]
    }
   ],
   "source": [
    "g = 4; p = len(model.params); n = model.nobs; adj_alpha = 1-0.05/(2*g)\n",
    "tcrit = t.ppf(adj_alpha, n-p)\n",
    "\n",
    "b1 = model.params[1]; b1low = b1 - tcrit * model.bse[1]; b1high = b1 + tcrit * model.bse[1]\n",
    "b2 = model.params[2]; b2low = b2 - tcrit * model.bse[2]; b2high = b2 + tcrit * model.bse[2]\n",
    "b3 = model.params[3]; b3low = b3 - tcrit * model.bse[3]; b3high = b3 + tcrit * model.bse[3]\n",
    "b4 = model.params[4]; b4low = b4 - tcrit * model.bse[4]; b4high = b4 + tcrit * model.bse[4]\n",
    "\n",
    "print 'The 90 percent joint CI for beta 1 is: (%.2f, %.2f)' %(b1low, b1high)\n",
    "print 'The 90 percent joint CI for beta 2 is: (%.2f, %.2f)' %(b2low, b2high)\n",
    "print 'The 90 percent joint CI for beta 3 is: (%.2f, %.2f)' %(b3low, b3high)\n",
    "print 'The 90 percent joint CI for beta 4 is: (%.7f, %.7f)' %(b4low, b4high)\n",
    "print ''\n",
    "print 'The above results indicate that with the exception of beta 3 (since its confidence interval contains 0), all the coefficients are significant. This means that there exist a linear relation between rental rates and the variables age, operating expense, and square footage.'"
   ]
  },
  {
   "cell_type": "markdown",
   "metadata": {},
   "source": [
    "##c."
   ]
  },
  {
   "cell_type": "code",
   "execution_count": 13,
   "metadata": {
    "collapsed": false
   },
   "outputs": [
    {
     "name": "stdout",
     "output_type": "stream",
     "text": [
      "The R-squared of the model is: 0.58\n",
      "This coefficient measures the proportinate reduction of total variation associated with the model. Therefore, our model \"explains\" approximatle 58 percent of the variation in the data.\n"
     ]
    }
   ],
   "source": [
    "print 'The R-squared of the model is: %.2f' %model.rsquared\n",
    "print 'This coefficient measures the proportinate reduction of total variation associated with the model. Therefore, our model \"explains\" approximatle 58 percent of the variation in the data.'"
   ]
  },
  {
   "cell_type": "markdown",
   "metadata": {},
   "source": [
    "##Problem 7.5\n",
    "\n",
    "##a."
   ]
  },
  {
   "cell_type": "markdown",
   "metadata": {},
   "source": [
    "###Fit the full and partial models:"
   ]
  },
  {
   "cell_type": "code",
   "execution_count": 14,
   "metadata": {
    "collapsed": true
   },
   "outputs": [],
   "source": [
    "model1 = ols(formula=\"satisfaction ~ age \", data=patient).fit()\n",
    "model2 = ols(formula=\"satisfaction ~ age + severity\", data=patient).fit()\n",
    "modelf = ols(formula=\"satisfaction ~ age + severity + anxiety\", data=patient).fit()"
   ]
  },
  {
   "cell_type": "markdown",
   "metadata": {},
   "source": [
    "###Calculate the appropriate sum of squares:"
   ]
  },
  {
   "cell_type": "code",
   "execution_count": 15,
   "metadata": {
    "collapsed": false
   },
   "outputs": [],
   "source": [
    "SSRF = modelf.ess\n",
    "SSRX1 = model1.ess\n",
    "SSRX2GX1 = model2.ess - model1.ess\n",
    "SSRX3GX1X2 = modelf.ess - model2.ess\n",
    "SSE = modelf.ssr\n",
    "SST = modelf.centered_tss"
   ]
  },
  {
   "cell_type": "markdown",
   "metadata": {},
   "source": [
    "###Create the ANOVA table dataframe:"
   ]
  },
  {
   "cell_type": "code",
   "execution_count": 16,
   "metadata": {
    "collapsed": true
   },
   "outputs": [],
   "source": [
    "SS = Series([SSRF, SSRX1, SSRX2GX1, SSRX3GX1X2, SSE, SST])\n",
    "DF = Series([modelf.df_model, 1, 1, 1, modelf.df_resid, modelf.df_model + modelf.df_resid ])\n",
    "\n",
    "aovtbl = DataFrame()\n",
    "aovtbl['SS'] = SS\n",
    "aovtbl['df'] = DF\n",
    "aovtbl['MS'] = SS/DF\n",
    "\n",
    "aovtbl.index = ['Full Model', 'X1', 'X2 given X1', 'X3 given X2, X1', 'Error', 'Total']\n",
    "\n",
    "aovtbl.loc['Total','MS'] = 'NA'"
   ]
  },
  {
   "cell_type": "markdown",
   "metadata": {},
   "source": [
    "###The ANOVA table that decomposes the regression sum of squares:"
   ]
  },
  {
   "cell_type": "code",
   "execution_count": 17,
   "metadata": {
    "collapsed": false
   },
   "outputs": [
    {
     "data": {
      "text/html": [
       "<div>\n",
       "<table border=\"1\" class=\"dataframe\">\n",
       "  <thead>\n",
       "    <tr style=\"text-align: right;\">\n",
       "      <th></th>\n",
       "      <th>SS</th>\n",
       "      <th>df</th>\n",
       "      <th>MS</th>\n",
       "    </tr>\n",
       "  </thead>\n",
       "  <tbody>\n",
       "    <tr>\n",
       "      <th>Full Model</th>\n",
       "      <td>9120.463666</td>\n",
       "      <td>3</td>\n",
       "      <td>3040.155</td>\n",
       "    </tr>\n",
       "    <tr>\n",
       "      <th>X1</th>\n",
       "      <td>8275.388851</td>\n",
       "      <td>1</td>\n",
       "      <td>8275.389</td>\n",
       "    </tr>\n",
       "    <tr>\n",
       "      <th>X2 given X1</th>\n",
       "      <td>480.915294</td>\n",
       "      <td>1</td>\n",
       "      <td>480.9153</td>\n",
       "    </tr>\n",
       "    <tr>\n",
       "      <th>X3 given X2, X1</th>\n",
       "      <td>364.159521</td>\n",
       "      <td>1</td>\n",
       "      <td>364.1595</td>\n",
       "    </tr>\n",
       "    <tr>\n",
       "      <th>Error</th>\n",
       "      <td>4248.840682</td>\n",
       "      <td>42</td>\n",
       "      <td>101.1629</td>\n",
       "    </tr>\n",
       "    <tr>\n",
       "      <th>Total</th>\n",
       "      <td>13369.304348</td>\n",
       "      <td>45</td>\n",
       "      <td>NA</td>\n",
       "    </tr>\n",
       "  </tbody>\n",
       "</table>\n",
       "</div>"
      ],
      "text/plain": [
       "                           SS  df        MS\n",
       "Full Model        9120.463666   3  3040.155\n",
       "X1                8275.388851   1  8275.389\n",
       "X2 given X1        480.915294   1  480.9153\n",
       "X3 given X2, X1    364.159521   1  364.1595\n",
       "Error             4248.840682  42  101.1629\n",
       "Total            13369.304348  45        NA"
      ]
     },
     "execution_count": 17,
     "metadata": {},
     "output_type": "execute_result"
    }
   ],
   "source": [
    "aovtbl"
   ]
  },
  {
   "cell_type": "markdown",
   "metadata": {},
   "source": [
    "##b.\n",
    "\n",
    "Test the following hypothesis:\n",
    "$$H_o: \\beta_3 = 0$$\n",
    "$$H_a: \\beta_3 \\neq 0$$\n",
    "\n",
    "To test the above hypothesis we calculate the F-value and compare it with $F_{0.975,1,42}$"
   ]
  },
  {
   "cell_type": "code",
   "execution_count": 18,
   "metadata": {
    "collapsed": false
   },
   "outputs": [
    {
     "name": "stdout",
     "output_type": "stream",
     "text": [
      "The F-critical value is: 5.40\n"
     ]
    }
   ],
   "source": [
    "fcrit = f.ppf(0.975,aovtbl.loc['X3 given X2, X1','df'],aovtbl.loc['Error','df'])\n",
    "print 'The F-critical value is: %.2f' %fcrit"
   ]
  },
  {
   "cell_type": "code",
   "execution_count": 19,
   "metadata": {
    "collapsed": false
   },
   "outputs": [
    {
     "name": "stdout",
     "output_type": "stream",
     "text": [
      "The calculated F-value for the test is: 3.60.\n",
      "\n",
      "Since the F-value is smaller than the F-critical value we fail to reject the null hypothesis. We conclude that the   variable anxiety can be dropped from the model\n",
      "\n",
      "The pvalue of the test is: 0.0647\n"
     ]
    }
   ],
   "source": [
    "fvalue = aovtbl.loc['X3 given X2, X1','MS']/aovtbl.loc['Error','MS']\n",
    "pvalue = 1 - f.cdf(fvalue,aovtbl.loc['X3 given X2, X1','df'],aovtbl.loc['Error','df'])\n",
    "\n",
    "print 'The calculated F-value for the test is: %.2f.' %fvalue\n",
    "print ''\n",
    "print 'Since the F-value is smaller than the F-critical value we fail to reject the null hypothesis. We conclude that the   variable anxiety can be dropped from the model'\n",
    "print ''\n",
    "print 'The pvalue of the test is: %.4f' %pvalue"
   ]
  },
  {
   "cell_type": "markdown",
   "metadata": {},
   "source": [
    "##Problem 7.6\n",
    "\n",
    "Test the following hypothesis:\n",
    "$$H_o: \\beta_2 = \\beta_3 = 0$$\n",
    "$$H_a: \\beta_2 \\neq 0 \\text{ or }\\beta_3 \\neq 0 \\text{ or both.}$$\n",
    "\n",
    "To test the above hypothesis we calculate the F-value and compare it with $F_{0.975,2,42}$"
   ]
  },
  {
   "cell_type": "code",
   "execution_count": 20,
   "metadata": {
    "collapsed": false
   },
   "outputs": [
    {
     "name": "stdout",
     "output_type": "stream",
     "text": [
      "The F-critical value is: 4.03\n"
     ]
    }
   ],
   "source": [
    "fcrit = f.ppf(0.975,aovtbl.loc['X3 given X2, X1','df'] + aovtbl.loc['X2 given X1','df'], aovtbl.loc['Error','df'])\n",
    "print 'The F-critical value is: %.2f' %fcrit"
   ]
  },
  {
   "cell_type": "code",
   "execution_count": 21,
   "metadata": {
    "collapsed": false
   },
   "outputs": [
    {
     "name": "stdout",
     "output_type": "stream",
     "text": [
      "The calculated F-value for the test is: 4.18.\n",
      "\n",
      "Since the F-value is greater than the F-critical value we reject the null hypothesis. We conclude that one or both of the variables anxiety or severity cannot be dropped from the model\n",
      "\n",
      "The pvalue of the test is: 0.0222\n"
     ]
    }
   ],
   "source": [
    "fvalue = ((aovtbl.loc['X3 given X2, X1','SS'] + aovtbl.loc['X2 given X1','SS'])/2)/aovtbl.loc['Error','MS']\n",
    "pvalue = 1 - f.cdf(fvalue,aovtbl.loc['X3 given X2, X1','df'] + aovtbl.loc['X2 given X1','df'],aovtbl.loc['Error','df'])\n",
    "\n",
    "print 'The calculated F-value for the test is: %.2f.' %fvalue\n",
    "print ''\n",
    "print 'Since the F-value is greater than the F-critical value we reject the null hypothesis. We conclude that one or both of the variables anxiety or severity cannot be dropped from the model'\n",
    "print ''\n",
    "print 'The pvalue of the test is: %.4f' %pvalue"
   ]
  },
  {
   "cell_type": "markdown",
   "metadata": {},
   "source": [
    "##Problem 7.10\n",
    "\n",
    "Test the following hypothesis:\n",
    "$$H_o: \\beta_1 = -0.1, \\ \\ \\beta_2 = 0.4$$\n",
    "$$H_a: \\text{not both equalities in } H_o \\text{ hold}$$\n",
    "\n",
    "To test the above hypothesis we calculate the F-value and compare it with $F_{0.99,2,76}$"
   ]
  },
  {
   "cell_type": "code",
   "execution_count": 22,
   "metadata": {
    "collapsed": false
   },
   "outputs": [
    {
     "data": {
      "text/html": [
       "<div>\n",
       "<table border=\"1\" class=\"dataframe\">\n",
       "  <thead>\n",
       "    <tr style=\"text-align: right;\">\n",
       "      <th></th>\n",
       "      <th>rate</th>\n",
       "      <th>age</th>\n",
       "      <th>opex</th>\n",
       "      <th>vacancy</th>\n",
       "      <th>sqf</th>\n",
       "      <th>mod_dep</th>\n",
       "    </tr>\n",
       "  </thead>\n",
       "  <tbody>\n",
       "    <tr>\n",
       "      <th>0</th>\n",
       "      <td>13.5</td>\n",
       "      <td>1</td>\n",
       "      <td>5.02</td>\n",
       "      <td>0.14</td>\n",
       "      <td>123000</td>\n",
       "      <td>11.592</td>\n",
       "    </tr>\n",
       "    <tr>\n",
       "      <th>1</th>\n",
       "      <td>12.0</td>\n",
       "      <td>14</td>\n",
       "      <td>8.19</td>\n",
       "      <td>0.27</td>\n",
       "      <td>104079</td>\n",
       "      <td>10.124</td>\n",
       "    </tr>\n",
       "    <tr>\n",
       "      <th>2</th>\n",
       "      <td>10.5</td>\n",
       "      <td>16</td>\n",
       "      <td>3.00</td>\n",
       "      <td>0.00</td>\n",
       "      <td>39998</td>\n",
       "      <td>10.900</td>\n",
       "    </tr>\n",
       "    <tr>\n",
       "      <th>3</th>\n",
       "      <td>15.0</td>\n",
       "      <td>4</td>\n",
       "      <td>10.70</td>\n",
       "      <td>0.05</td>\n",
       "      <td>57112</td>\n",
       "      <td>11.120</td>\n",
       "    </tr>\n",
       "    <tr>\n",
       "      <th>4</th>\n",
       "      <td>14.0</td>\n",
       "      <td>11</td>\n",
       "      <td>8.97</td>\n",
       "      <td>0.07</td>\n",
       "      <td>60000</td>\n",
       "      <td>11.512</td>\n",
       "    </tr>\n",
       "  </tbody>\n",
       "</table>\n",
       "</div>"
      ],
      "text/plain": [
       "   rate  age   opex  vacancy     sqf  mod_dep\n",
       "0  13.5    1   5.02     0.14  123000   11.592\n",
       "1  12.0   14   8.19     0.27  104079   10.124\n",
       "2  10.5   16   3.00     0.00   39998   10.900\n",
       "3  15.0    4  10.70     0.05   57112   11.120\n",
       "4  14.0   11   8.97     0.07   60000   11.512"
      ]
     },
     "execution_count": 22,
     "metadata": {},
     "output_type": "execute_result"
    }
   ],
   "source": [
    "rental['mod_dep'] = rental['rate'] + 0.1*rental['age'] - 0.4*rental['opex']\n",
    "rental.head()"
   ]
  },
  {
   "cell_type": "markdown",
   "metadata": {},
   "source": [
    "###Fit the full and reduced model"
   ]
  },
  {
   "cell_type": "code",
   "execution_count": 23,
   "metadata": {
    "collapsed": true
   },
   "outputs": [],
   "source": [
    "modelf = ols(formula=\"rate ~ age + opex + vacancy + sqf\", data=rental).fit()\n",
    "modelr = ols(formula=\"mod_dep ~ vacancy + sqf \", data=rental).fit()"
   ]
  },
  {
   "cell_type": "code",
   "execution_count": 24,
   "metadata": {
    "collapsed": false
   },
   "outputs": [
    {
     "name": "stdout",
     "output_type": "stream",
     "text": [
      "The F-critical value is: 4.90\n"
     ]
    }
   ],
   "source": [
    "fcrit = f.ppf(0.99, modelr.df_resid - modelf.df_resid, modelf.df_resid)\n",
    "print 'The F-critical value is: %.2f' %fcrit"
   ]
  },
  {
   "cell_type": "code",
   "execution_count": 25,
   "metadata": {
    "collapsed": false
   },
   "outputs": [
    {
     "name": "stdout",
     "output_type": "stream",
     "text": [
      "The calculated F-value for the test is: 4.61.\n",
      "\n",
      "Since the F-value is smaller than the F-critical value we fail to reject the null hypothesis. We conclude that one or both of the equalities in the null hypothesis do not hold.\n",
      "\n",
      "The pvalue of the test is: 0.0129\n"
     ]
    }
   ],
   "source": [
    "fvalue = ((modelr.ssr - modelf.ssr)/(modelr.df_resid - modelf.df_resid))/modelf.mse_resid\n",
    "pvalue = 1 - f.cdf(fvalue, modelr.df_resid - modelf.df_resid, modelf.df_resid)\n",
    "\n",
    "print 'The calculated F-value for the test is: %.2f.' %fvalue\n",
    "print ''\n",
    "print 'Since the F-value is smaller than the F-critical value we fail to reject the null hypothesis. We conclude that one or both of the equalities in the null hypothesis do not hold.'\n",
    "print ''\n",
    "print 'The pvalue of the test is: %.4f' %pvalue"
   ]
  },
  {
   "cell_type": "markdown",
   "metadata": {},
   "source": [
    "##Problem 14.4"
   ]
  },
  {
   "cell_type": "markdown",
   "metadata": {},
   "source": [
    "##a.\n",
    "\n",
    "###Create the mean response function:"
   ]
  },
  {
   "cell_type": "code",
   "execution_count": 26,
   "metadata": {
    "collapsed": true
   },
   "outputs": [],
   "source": [
    "def mrf(beta, X):\n",
    "    prob = np.exp(np.dot(X,beta))/(1 + np.exp(np.dot(X,beta)))\n",
    "    return prob"
   ]
  },
  {
   "cell_type": "markdown",
   "metadata": {},
   "source": [
    "###Set up the design matrix and the coefficients vector:"
   ]
  },
  {
   "cell_type": "code",
   "execution_count": 27,
   "metadata": {
    "collapsed": false
   },
   "outputs": [],
   "source": [
    "X = np.hstack((np.ones(1000).reshape(1000,1),np.linspace(90,160,1000).reshape(1000,1)))\n",
    "\n",
    "beta = np.array([[-25],[0.2]])"
   ]
  },
  {
   "cell_type": "markdown",
   "metadata": {},
   "source": [
    "###Calculate the values for the mean response function:"
   ]
  },
  {
   "cell_type": "code",
   "execution_count": 28,
   "metadata": {
    "collapsed": false
   },
   "outputs": [],
   "source": [
    "Y = mrf(beta,X)"
   ]
  },
  {
   "cell_type": "markdown",
   "metadata": {},
   "source": [
    "###Plot the function:"
   ]
  },
  {
   "cell_type": "code",
   "execution_count": 29,
   "metadata": {
    "collapsed": false
   },
   "outputs": [
    {
     "data": {
      "text/plain": [
       "[<matplotlib.lines.Line2D at 0x7f7cdcf35bd0>]"
      ]
     },
     "execution_count": 29,
     "metadata": {},
     "output_type": "execute_result"
    },
    {
     "data": {
      "image/png": "[encoded data removed]",
      "text/plain": [
       "<matplotlib.figure.Figure at 0x7f7cdcf9bb10>"
      ]
     },
     "metadata": {},
     "output_type": "display_data"
    }
   ],
   "source": [
    "plt.plot(X[:,1],Y)"
   ]
  },
  {
   "cell_type": "markdown",
   "metadata": {},
   "source": [
    "##b."
   ]
  },
  {
   "cell_type": "markdown",
   "metadata": {},
   "source": [
    "Solving the equation below for $X_i$:\n",
    "\n",
    "$$\\frac{e^{-25 + 0.2X_i}}{1+e^{-25 + 0.2X_i}}=0.5$$\n",
    "\n",
    "We obtain the solution $X_i = 125$"
   ]
  },
  {
   "cell_type": "markdown",
   "metadata": {},
   "source": [
    "##c."
   ]
  },
  {
   "cell_type": "markdown",
   "metadata": {},
   "source": [
    "####Odds when X = 150:"
   ]
  },
  {
   "cell_type": "code",
   "execution_count": 30,
   "metadata": {
    "collapsed": false
   },
   "outputs": [
    {
     "name": "stdout",
     "output_type": "stream",
     "text": [
      "The odds when X = 150 are: 148.41\n"
     ]
    }
   ],
   "source": [
    "odds1 = mrf(beta,np.array([[1,150]]))[0][0]/(1-mrf(beta,np.array([[1,150]]))[0][0])\n",
    "\n",
    "print 'The odds when X = 150 are: %.2f' %odds1"
   ]
  },
  {
   "cell_type": "markdown",
   "metadata": {},
   "source": [
    "####Odds when X = 151"
   ]
  },
  {
   "cell_type": "code",
   "execution_count": 31,
   "metadata": {
    "collapsed": false
   },
   "outputs": [
    {
     "name": "stdout",
     "output_type": "stream",
     "text": [
      "The odds when X = 151 are: 181.27\n"
     ]
    }
   ],
   "source": [
    "odds2 = mrf(beta,np.array([[1,151]]))[0][0]/(1-mrf(beta,np.array([[1,151]]))[0][0])\n",
    "\n",
    "print 'The odds when X = 151 are: %.2f' %odds2"
   ]
  },
  {
   "cell_type": "markdown",
   "metadata": {},
   "source": [
    "####Ratio of the odds:"
   ]
  },
  {
   "cell_type": "code",
   "execution_count": 32,
   "metadata": {
    "collapsed": false
   },
   "outputs": [
    {
     "name": "stdout",
     "output_type": "stream",
     "text": [
      "The ratio of the odds is: 1.221\n"
     ]
    }
   ],
   "source": [
    "oddsratio = odds2/odds1\n",
    "\n",
    "print 'The ratio of the odds is: %.3f' %oddsratio"
   ]
  },
  {
   "cell_type": "markdown",
   "metadata": {},
   "source": [
    "####Calculate:\n",
    "\n",
    "$e^{0.2}$"
   ]
  },
  {
   "cell_type": "code",
   "execution_count": 33,
   "metadata": {
    "collapsed": false
   },
   "outputs": [
    {
     "name": "stdout",
     "output_type": "stream",
     "text": [
      "The result is 1.221, which means the two quantities match as they should.\n"
     ]
    }
   ],
   "source": [
    "print 'The result is %.3f, which means the two quantities match as they should.' %np.exp(beta[1])[0]"
   ]
  },
  {
   "cell_type": "markdown",
   "metadata": {},
   "source": [
    "##Problem 14.9"
   ]
  },
  {
   "cell_type": "code",
   "execution_count": 34,
   "metadata": {
    "collapsed": false
   },
   "outputs": [
    {
     "data": {
      "text/html": [
       "<div>\n",
       "<table border=\"1\" class=\"dataframe\">\n",
       "  <thead>\n",
       "    <tr style=\"text-align: right;\">\n",
       "      <th></th>\n",
       "      <th>perform</th>\n",
       "      <th>intercept</th>\n",
       "      <th>stability</th>\n",
       "    </tr>\n",
       "  </thead>\n",
       "  <tbody>\n",
       "    <tr>\n",
       "      <th>0</th>\n",
       "      <td>0</td>\n",
       "      <td>1</td>\n",
       "      <td>474</td>\n",
       "    </tr>\n",
       "    <tr>\n",
       "      <th>1</th>\n",
       "      <td>0</td>\n",
       "      <td>1</td>\n",
       "      <td>432</td>\n",
       "    </tr>\n",
       "    <tr>\n",
       "      <th>2</th>\n",
       "      <td>0</td>\n",
       "      <td>1</td>\n",
       "      <td>453</td>\n",
       "    </tr>\n",
       "    <tr>\n",
       "      <th>3</th>\n",
       "      <td>1</td>\n",
       "      <td>1</td>\n",
       "      <td>481</td>\n",
       "    </tr>\n",
       "    <tr>\n",
       "      <th>4</th>\n",
       "      <td>1</td>\n",
       "      <td>1</td>\n",
       "      <td>619</td>\n",
       "    </tr>\n",
       "  </tbody>\n",
       "</table>\n",
       "</div>"
      ],
      "text/plain": [
       "   perform  intercept  stability\n",
       "0        0          1        474\n",
       "1        0          1        432\n",
       "2        0          1        453\n",
       "3        1          1        481\n",
       "4        1          1        619"
      ]
     },
     "execution_count": 34,
     "metadata": {},
     "output_type": "execute_result"
    }
   ],
   "source": [
    "filename = '~/Documents/LinearRegression/STAT510/Kutner/CH14DS/CH14PR09.txt'\n",
    "\n",
    "performance = pd.read_table(filename, delim_whitespace=True, names=['perform','stability',])\n",
    "performance.insert(1,'intercept',1)\n",
    "performance.head()"
   ]
  },
  {
   "cell_type": "markdown",
   "metadata": {},
   "source": [
    "##a.\n",
    "\n",
    "####Fit the model to obtain MLEs for $\\beta_0$ and $\\beta_1$."
   ]
  },
  {
   "cell_type": "code",
   "execution_count": 35,
   "metadata": {
    "collapsed": false
   },
   "outputs": [
    {
     "name": "stdout",
     "output_type": "stream",
     "text": [
      "Optimization terminated successfully.\n",
      "         Current function value: 0.541514\n",
      "         Iterations 6\n"
     ]
    }
   ],
   "source": [
    "model = sm.Logit(performance['perform'], performance[['intercept','stability']]).fit()"
   ]
  },
  {
   "cell_type": "markdown",
   "metadata": {},
   "source": [
    "####The MLEs are given below:"
   ]
  },
  {
   "cell_type": "code",
   "execution_count": 36,
   "metadata": {
    "collapsed": false
   },
   "outputs": [
    {
     "data": {
      "text/html": [
       "<div>\n",
       "<table border=\"1\" class=\"dataframe\">\n",
       "  <thead>\n",
       "    <tr style=\"text-align: right;\">\n",
       "      <th></th>\n",
       "      <th>MLEs</th>\n",
       "    </tr>\n",
       "  </thead>\n",
       "  <tbody>\n",
       "    <tr>\n",
       "      <th>intercept</th>\n",
       "      <td>-10.308925</td>\n",
       "    </tr>\n",
       "    <tr>\n",
       "      <th>stability</th>\n",
       "      <td>0.018920</td>\n",
       "    </tr>\n",
       "  </tbody>\n",
       "</table>\n",
       "</div>"
      ],
      "text/plain": [
       "                MLEs\n",
       "intercept -10.308925\n",
       "stability   0.018920"
      ]
     },
     "execution_count": 36,
     "metadata": {},
     "output_type": "execute_result"
    }
   ],
   "source": [
    "DataFrame(model.params, columns = ['MLEs'])"
   ]
  },
  {
   "cell_type": "markdown",
   "metadata": {},
   "source": [
    "####The response function is given by:\n",
    "\n",
    "$$\\pi_i = \\frac{e^{-10.309+0.019X_i}}{1 + e^{-10.309+0.019X_i}}$$"
   ]
  },
  {
   "cell_type": "markdown",
   "metadata": {},
   "source": [
    "##c."
   ]
  },
  {
   "cell_type": "code",
   "execution_count": 37,
   "metadata": {
    "collapsed": false
   },
   "outputs": [
    {
     "name": "stdout",
     "output_type": "stream",
     "text": [
      "The value of exp(b1) is 1.019.\n",
      "\n",
      "This value means that the chance of performance increases by about 1.9 percent given a unit change in the stability  score.\n"
     ]
    }
   ],
   "source": [
    "ans1 = np.exp(model.params[1])\n",
    "\n",
    "print 'The value of exp(b1) is %.3f.' %ans1\n",
    "print ''\n",
    "print 'This value means that the chance of performance increases by about 1.9 percent given a unit change in the stability  score.'"
   ]
  },
  {
   "cell_type": "markdown",
   "metadata": {},
   "source": [
    "##d."
   ]
  },
  {
   "cell_type": "code",
   "execution_count": 38,
   "metadata": {
    "collapsed": false
   },
   "outputs": [
    {
     "name": "stdout",
     "output_type": "stream",
     "text": [
      "The estimated probability of performance given a stability score of 550 is 0.524.\n"
     ]
    }
   ],
   "source": [
    "ans2 = model.predict(exog=np.array([1,550]))[0]\n",
    "\n",
    "print 'The estimated probability of performance given a stability score of 550 is %.3f.' %ans2"
   ]
  },
  {
   "cell_type": "markdown",
   "metadata": {},
   "source": [
    "##e."
   ]
  },
  {
   "cell_type": "markdown",
   "metadata": {},
   "source": [
    "Solving the equation below for $X_i$:\n",
    "\n",
    "$$\\frac{e^{-10.309 + 0.019X_i}}{1+e^{-10.309 + 0.019X_i}}=0.7$$\n",
    "\n",
    "We obtain the solution $X_i = \\frac{\\ln \\left(\\frac{7}{3} \\right) - b_0}{b_1}\\biggr{|}_{b_0=-10.309, b_1=0.019} = 582$"
   ]
  },
  {
   "cell_type": "code",
   "execution_count": 39,
   "metadata": {
    "collapsed": false
   },
   "outputs": [
    {
     "name": "stdout",
     "output_type": "stream",
     "text": [
      "We verify this numerically and obtain 581.51.\n"
     ]
    }
   ],
   "source": [
    "ans3 = (np.log(7/3)-model.params[0])/model.params[1]\n",
    "\n",
    "print 'We verify this numerically and obtain %.2f.' %ans3"
   ]
  },
  {
   "cell_type": "markdown",
   "metadata": {},
   "source": [
    "##Problem 14.20\n",
    "\n",
    "##b."
   ]
  },
  {
   "cell_type": "code",
   "execution_count": null,
   "metadata": {
    "collapsed": true
   },
   "outputs": [],
   "source": []
  },
  {
   "cell_type": "markdown",
   "metadata": {},
   "source": [
    "##c."
   ]
  },
  {
   "cell_type": "code",
   "execution_count": null,
   "metadata": {
    "collapsed": true
   },
   "outputs": [],
   "source": []
  }
 ],
 "metadata": {
  "kernelspec": {
   "display_name": "Python 2",
   "language": "python",
   "name": "python2"
  },
  "language_info": {
   "codemirror_mode": {
    "name": "ipython",
    "version": 2
   },
   "file_extension": ".py",
   "mimetype": "text/x-python",
   "name": "python",
   "nbconvert_exporter": "python",
   "pygments_lexer": "ipython2",
   "version": "2.7.10"
  }
 },
 "nbformat": 4,
 "nbformat_minor": 0
}

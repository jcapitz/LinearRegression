{
 "cells": [
  {
   "cell_type": "markdown",
   "metadata": {},
   "source": [
    "#Juan Carlos Apitz\n",
    "#STAT510 Homework 2\n",
    "\n",
    "####Required Python Modules:"
   ]
  },
  {
   "cell_type": "code",
   "execution_count": 1,
   "metadata": {
    "collapsed": false
   },
   "outputs": [],
   "source": [
    "#PANDAS\n",
    "import pandas as pd\n",
    "from pandas import DataFrame, Series\n",
    "\n",
    "#NUMPY\n",
    "import numpy as np\n",
    "\n",
    "#SCIPY t and F distributions\n",
    "from scipy.stats import t\n",
    "from scipy.stats import f\n",
    "\n",
    "#STATMODELS\n",
    "import statsmodels.formula.api as sm\n",
    "#import statsmodels.api as sm\n",
    "\n",
    "#SEABORN plotting\n",
    "import seaborn as sns\n",
    "\n",
    "#MATPLOTLIB plotting\n",
    "import matplotlib.pyplot as plt\n",
    "%matplotlib inline"
   ]
  },
  {
   "cell_type": "markdown",
   "metadata": {
    "collapsed": false
   },
   "source": [
    "##Problem 1.3\n",
    "\n",
    "Although the statement of the participant if there is a precise deterministic relation between plastic hardnes and elapsed time is technically correct, the veracity of the claim is highly unlikely. The participant's claim implies that there is an invariant relationship between the variables. In reality, the more plausible scenario is that the resulting plastic hardness varies for a given measure of elapsed time. If plastic hardness exhibits variability at each level of elapsed time, then regression analysis is precisely the appropriate approach for the analysis.\n",
    "\n",
    "Furthermore, the participant's claim also implies that plastic hardness can be measured with infinite precission. At some small scale variability in measurement is bound to be present."
   ]
  },
  {
   "cell_type": "markdown",
   "metadata": {},
   "source": [
    "##Problem 1.22\n",
    "\n",
    "First load the data set for the plastic hardness data"
   ]
  },
  {
   "cell_type": "code",
   "execution_count": 2,
   "metadata": {
    "collapsed": false
   },
   "outputs": [],
   "source": [
    "filename = '~/Documents/LinearRegression/STAT510/Kutner/CH1DS/CH01PR22.txt'\n",
    "\n",
    "df = pd.read_table(filename, delim_whitespace=True, names=['hardness','hours'])"
   ]
  },
  {
   "cell_type": "code",
   "execution_count": 3,
   "metadata": {
    "collapsed": false
   },
   "outputs": [
    {
     "data": {
      "text/html": [
       "<div>\n",
       "<table border=\"1\" class=\"dataframe\">\n",
       "  <thead>\n",
       "    <tr style=\"text-align: right;\">\n",
       "      <th></th>\n",
       "      <th>hardness</th>\n",
       "      <th>hours</th>\n",
       "    </tr>\n",
       "  </thead>\n",
       "  <tbody>\n",
       "    <tr>\n",
       "      <th>0</th>\n",
       "      <td>199</td>\n",
       "      <td>16</td>\n",
       "    </tr>\n",
       "    <tr>\n",
       "      <th>1</th>\n",
       "      <td>205</td>\n",
       "      <td>16</td>\n",
       "    </tr>\n",
       "    <tr>\n",
       "      <th>2</th>\n",
       "      <td>196</td>\n",
       "      <td>16</td>\n",
       "    </tr>\n",
       "    <tr>\n",
       "      <th>3</th>\n",
       "      <td>200</td>\n",
       "      <td>16</td>\n",
       "    </tr>\n",
       "    <tr>\n",
       "      <th>4</th>\n",
       "      <td>218</td>\n",
       "      <td>24</td>\n",
       "    </tr>\n",
       "  </tbody>\n",
       "</table>\n",
       "</div>"
      ],
      "text/plain": [
       "   hardness  hours\n",
       "0       199     16\n",
       "1       205     16\n",
       "2       196     16\n",
       "3       200     16\n",
       "4       218     24"
      ]
     },
     "execution_count": 3,
     "metadata": {},
     "output_type": "execute_result"
    }
   ],
   "source": [
    "df.head()"
   ]
  },
  {
   "cell_type": "markdown",
   "metadata": {},
   "source": [
    "Next we fit the model"
   ]
  },
  {
   "cell_type": "code",
   "execution_count": 4,
   "metadata": {
    "collapsed": false
   },
   "outputs": [],
   "source": [
    "model = sm.ols(formula=\"hardness ~ hours\", data=df).fit()\n",
    "\n",
    "b0 = model.params[0]\n",
    "b1 = model.params[1]\n",
    "n = len(df)"
   ]
  },
  {
   "cell_type": "markdown",
   "metadata": {},
   "source": [
    "###Part a.\n",
    "\n",
    "The table below summarizes the results of fitting the model to plastic hardness data:"
   ]
  },
  {
   "cell_type": "code",
   "execution_count": 5,
   "metadata": {
    "collapsed": false
   },
   "outputs": [
    {
     "name": "stdout",
     "output_type": "stream",
     "text": [
      "                            OLS Regression Results                            \n",
      "==============================================================================\n",
      "Dep. Variable:               hardness   R-squared:                       0.973\n",
      "Model:                            OLS   Adj. R-squared:                  0.971\n",
      "Method:                 Least Squares   F-statistic:                     506.5\n",
      "Date:                Sun, 08 Nov 2015   Prob (F-statistic):           2.16e-12\n",
      "Time:                        12:56:16   Log-Likelihood:                -40.414\n",
      "No. Observations:                  16   AIC:                             84.83\n",
      "Df Residuals:                      14   BIC:                             86.37\n",
      "Df Model:                           1                                         \n",
      "Covariance Type:            nonrobust                                         \n",
      "==============================================================================\n",
      "                 coef    std err          t      P>|t|      [95.0% Conf. Int.]\n",
      "------------------------------------------------------------------------------\n",
      "Intercept    168.6000      2.657     63.454      0.000       162.901   174.299\n",
      "hours          2.0344      0.090     22.506      0.000         1.840     2.228\n",
      "==============================================================================\n",
      "Omnibus:                        0.955   Durbin-Watson:                   2.466\n",
      "Prob(Omnibus):                  0.620   Jarque-Bera (JB):                0.711\n",
      "Skew:                           0.068   Prob(JB):                        0.701\n",
      "Kurtosis:                       1.976   Cond. No.                         96.7\n",
      "==============================================================================\n",
      "\n",
      "Warnings:\n",
      "[1] Standard Errors assume that the covariance matrix of the errors is correctly specified.\n"
     ]
    },
    {
     "name": "stderr",
     "output_type": "stream",
     "text": [
      "/home/jcapitz/anaconda/lib/python2.7/site-packages/scipy/stats/stats.py:1277: UserWarning: kurtosistest only valid for n>=20 ... continuing anyway, n=16\n",
      "  \"anyway, n=%i\" % int(n))\n"
     ]
    }
   ],
   "source": [
    "print model.summary()"
   ]
  },
  {
   "cell_type": "markdown",
   "metadata": {},
   "source": [
    "#####The estimated regression function is:\n",
    "\n",
    "$\\hat{y} = 168.6 + 2.0344x$\n",
    "\n",
    "Where $\\hat{y}$ represents the estimated hardness and $x$ represents the elapsed time in hours."
   ]
  },
  {
   "cell_type": "markdown",
   "metadata": {},
   "source": [
    "#####Plot of the estimated regression function and the data:\n",
    "\n",
    "The plot indicates that the data fits reasonably well the linear model represented by the regression function."
   ]
  },
  {
   "cell_type": "code",
   "execution_count": 6,
   "metadata": {
    "collapsed": false
   },
   "outputs": [
    {
     "data": {
      "image/png": "[encoded data removed]",
      "text/plain": [
       "<matplotlib.figure.Figure at 0x7f2f87226390>"
      ]
     },
     "metadata": {},
     "output_type": "display_data"
    }
   ],
   "source": [
    "ax = sns.regplot(x=\"hours\", y=\"hardness\", data=df)"
   ]
  },
  {
   "cell_type": "markdown",
   "metadata": {},
   "source": [
    "###Part b.\n",
    "\n",
    "To obtain a point estimate of the mean hardness when X = 40 hours, we simply let X = 40 be the input into the estimated regression function:"
   ]
  },
  {
   "cell_type": "code",
   "execution_count": 32,
   "metadata": {
    "collapsed": false
   },
   "outputs": [
    {
     "name": "stdout",
     "output_type": "stream",
     "text": [
      "The point estimate of the mean hardness when X = 40 is 249.97 Brinell units\n"
     ]
    }
   ],
   "source": [
    "x = DataFrame({'hours':40}, index = range(1))\n",
    "print 'The point estimate of the mean hardness when X = 40 is %0.2f Brinell units' %model.predict(x)[0]"
   ]
  },
  {
   "cell_type": "markdown",
   "metadata": {},
   "source": [
    "###Part c.\n",
    "\n",
    "The point estimate of the change in mean hadness when X is increased by one hour is simply the estimated coefficient for the X variable (hours) from the estimated regression function:"
   ]
  },
  {
   "cell_type": "code",
   "execution_count": 8,
   "metadata": {
    "collapsed": false
   },
   "outputs": [
    {
     "name": "stdout",
     "output_type": "stream",
     "text": [
      "The point estimate of the change in mean hardness when X is increased by one unit is 2.034 Brinell units per hour.\n",
      "\n"
     ]
    }
   ],
   "source": [
    "print '''The point estimate of the change in mean hardness when X is increased by one unit is %0.3f Brinell units per hour.\n",
    "''' %model.params['hours']"
   ]
  },
  {
   "cell_type": "markdown",
   "metadata": {
    "collapsed": true
   },
   "source": [
    "##Problem 1.26"
   ]
  },
  {
   "cell_type": "markdown",
   "metadata": {},
   "source": [
    "###Part a.\n",
    "\n",
    "Obtain resisuals and check wether the sum adds to 0:"
   ]
  },
  {
   "cell_type": "code",
   "execution_count": 9,
   "metadata": {
    "collapsed": false
   },
   "outputs": [
    {
     "data": {
      "text/plain": [
       "0    -2.150\n",
       "1     3.850\n",
       "2    -5.150\n",
       "3    -1.150\n",
       "4     0.575\n",
       "5     2.575\n",
       "6    -2.425\n",
       "7     5.575\n",
       "8     3.300\n",
       "9     0.300\n",
       "10    1.300\n",
       "11   -3.700\n",
       "12    0.025\n",
       "13   -1.975\n",
       "14    3.025\n",
       "15   -3.975\n",
       "dtype: float64"
      ]
     },
     "execution_count": 9,
     "metadata": {},
     "output_type": "execute_result"
    }
   ],
   "source": [
    "model.resid"
   ]
  },
  {
   "cell_type": "markdown",
   "metadata": {},
   "source": [
    "Below we can see that the sum of the residuals is zero:"
   ]
  },
  {
   "cell_type": "code",
   "execution_count": 10,
   "metadata": {
    "collapsed": false
   },
   "outputs": [
    {
     "name": "stdout",
     "output_type": "stream",
     "text": [
      "The sum of the errors is 0.000\n"
     ]
    }
   ],
   "source": [
    "print 'The sum of the errors is %0.3f' %sum(model.resid)"
   ]
  },
  {
   "cell_type": "markdown",
   "metadata": {},
   "source": [
    "###Part b.\n",
    "\n",
    "A point estimate of the variance is given by:\n",
    "$$\\hat{\\sigma}^2 = \\frac{\\sum \\left( y_i - \\hat{y}_i \\right)^2}{n-2}$$\n",
    "\n",
    "The point estimate of the variance is calculated below:"
   ]
  },
  {
   "cell_type": "code",
   "execution_count": 11,
   "metadata": {
    "collapsed": false
   },
   "outputs": [
    {
     "name": "stdout",
     "output_type": "stream",
     "text": [
      "The variance is 10.46.\n"
     ]
    }
   ],
   "source": [
    "variance = sum(model.resid**2)/(n-2)\n",
    "\n",
    "print 'The variance is %0.2f.' %variance"
   ]
  },
  {
   "cell_type": "markdown",
   "metadata": {},
   "source": [
    "The estimate for sigma is given by:\n",
    "\n",
    "$$\\hat{\\sigma} = \\sqrt{\\frac{\\sum \\left( y_i - \\hat{y}_i \\right)^2}{n-2}}$$\n",
    "\n",
    "Sigma is expressed in Brinell units and is calculated below:"
   ]
  },
  {
   "cell_type": "code",
   "execution_count": 12,
   "metadata": {
    "collapsed": false
   },
   "outputs": [
    {
     "name": "stdout",
     "output_type": "stream",
     "text": [
      "The standard deviation is 3.23\n"
     ]
    }
   ],
   "source": [
    "stdev = np.sqrt(variance)\n",
    "\n",
    "print 'The standard deviation is %.2f' %stdev"
   ]
  },
  {
   "cell_type": "markdown",
   "metadata": {},
   "source": [
    "##Problem 1.31\n",
    "\n",
    "No it would not. The measurements of hardness taken of the same item at different time intervals is a time series and each observation is not necessarily independent of one another. Each succesive measure of hardness will depend on the previous level of hardness. This implies that the error terms will be serially correlated."
   ]
  },
  {
   "cell_type": "markdown",
   "metadata": {},
   "source": [
    "##Question 2\n",
    "\n",
    "To show $\\sum K_i^2 = \\frac{1}{S_{xx}}$ we recognize that:\n",
    "\n",
    "$$K_i^2 = \\frac{\\left(x_i-\\bar{x}\\right)^2}{\\left(S_{xx}\\right)^2}$$\n",
    "\n",
    "then:\n",
    "\n",
    "$$\\sum K_i^2 = \\sum \\frac{\\left(x_i-\\bar{x}\\right)^2}{\\left(S_{xx}\\right)^2}$$\n",
    "\n",
    "$$ = \\frac{1}{\\left(S_{xx}\\right)^2}\\sum \\left(x_i - \\bar{x}\\right)^2$$\n",
    "\n",
    "$$ = \\frac{S_{xx}}{\\left(S_{xx}\\right)^2}$$\n",
    "\n",
    "$$ = \\frac{1}{S_{xx}}$$"
   ]
  },
  {
   "cell_type": "markdown",
   "metadata": {
    "collapsed": true
   },
   "source": [
    "##Question 3\n",
    "\n",
    "To find the variance of $b_0$ we substitute $b_0 = \\bar{Y} - b_1\\bar{X}$ and workout the variance:\n",
    "\n",
    "$$V\\left(b_0\\right) = V\\left(\\bar{Y} - b_1\\bar{X}\\right)$$\n",
    "\n",
    "$$ = V\\left(\\bar{Y}\\right) - 2 \\bar{X}Cov\\left(\\bar{Y},b_1\\right)+ \\bar{X}^2 V\\left(b_1\\right)$$\n",
    "\n",
    "$$ = \\frac{\\sigma^2}{n} - 2 \\bar{X}Cov\\left(\\bar{Y},b_1\\right)+ \\bar{X}^2 \\frac{\\sigma^2}{S_{xx}}$$\n",
    "\n",
    "$$\\text{since }Cov\\left(\\bar{Y},b_1\\right) = 0 \\text{ by independence of the }Y_i \\text{ then:}$$\n",
    "\n",
    "$$ V\\left(b_0\\right) = \\frac{\\sigma^2}{n} + \\bar{X}^2 \\frac{ \\sigma^2}{S_{xx}}$$\n",
    "\n",
    "$$ = \\sigma^2 \\left[\\frac{1}{n} + \\frac{\\bar{X}^2}{S_{xx}}\\right]$$"
   ]
  },
  {
   "cell_type": "markdown",
   "metadata": {},
   "source": [
    "##Problem 2.7"
   ]
  },
  {
   "cell_type": "markdown",
   "metadata": {},
   "source": [
    "We can calculate the standard error of the $b_1$ coefficient or read it of the summary table.\n",
    "\n",
    "$$SE(b_1)=\\frac{\\hat{\\sigma}}{\\sqrt{\\sum\\left(x_i - \\bar{x}\\right)^2}}$$"
   ]
  },
  {
   "cell_type": "code",
   "execution_count": 13,
   "metadata": {
    "collapsed": false
   },
   "outputs": [
    {
     "name": "stdout",
     "output_type": "stream",
     "text": [
      "The standard error is 0.090.\n"
     ]
    }
   ],
   "source": [
    "stderr_b1 = np.sqrt(variance/sum((df['hours']-np.mean(df['hours']))**2))\n",
    "\n",
    "print 'The standard error is %.3f.' %stderr_b1"
   ]
  },
  {
   "cell_type": "markdown",
   "metadata": {},
   "source": [
    "###Part a.\n",
    "\n",
    "Now we obtain the critical value $t_{\\alpha/2,n-2}$ by finding the inverse $\\alpha/2=CDF = 0.005$ value from the t-distribution with $14$ degrees of freedom:"
   ]
  },
  {
   "cell_type": "code",
   "execution_count": 14,
   "metadata": {
    "collapsed": false
   },
   "outputs": [
    {
     "name": "stdout",
     "output_type": "stream",
     "text": [
      "The t critical value is 2.977\n"
     ]
    }
   ],
   "source": [
    "tcrit = abs(t.ppf(0.005, n-2, loc=0, scale=1))\n",
    "\n",
    "print 'The t critical value is %0.3f' %tcrit"
   ]
  },
  {
   "cell_type": "markdown",
   "metadata": {},
   "source": [
    "Now we can construct an 99% interval for $b_1$. This interval is given by:\n",
    "\n",
    "$$b_1 \\pm t_{0.005,14}SE(b_1)$$"
   ]
  },
  {
   "cell_type": "code",
   "execution_count": 15,
   "metadata": {
    "collapsed": false
   },
   "outputs": [
    {
     "name": "stdout",
     "output_type": "stream",
     "text": [
      "The 99 percent confidence interval is (1.765, 2.303)\n"
     ]
    }
   ],
   "source": [
    "CI_99 = [b1-tcrit*stderr_b1, b1+tcrit*stderr_b1]\n",
    "\n",
    "print 'The 99 percent confidence interval is (%.3f, %.3f)' %(CI_99[0],CI_99[1])"
   ]
  },
  {
   "cell_type": "markdown",
   "metadata": {
    "collapsed": true
   },
   "source": [
    "###Part b.\n",
    "\n",
    "The hypothesis test is as follows:\n",
    "\n",
    "$H_o: \\beta_1 = 2$\n",
    "\n",
    "$H_a: \\beta_1 \\neq 2$"
   ]
  },
  {
   "cell_type": "markdown",
   "metadata": {},
   "source": [
    "The decision rule is that if $\\left|t_{stat}\\right|>\\left|t_{0.005,14}\\right|$, we would reject the null hypothesis $H_o$ and fail to reject $H_o$ otherwise. We calculate $t_{stat}$ below:\n",
    "\n",
    "$$t_{stat}=\\frac{b_1-\\beta_1^{null}}{SE(b_1)}\\approx\\frac{2.03-2}{0.09}\\approx 0.38$$\n",
    "\n",
    "A better approximation is computed below:"
   ]
  },
  {
   "cell_type": "code",
   "execution_count": 16,
   "metadata": {
    "collapsed": false
   },
   "outputs": [
    {
     "name": "stdout",
     "output_type": "stream",
     "text": [
      "The t statistic value is 0.380\n"
     ]
    }
   ],
   "source": [
    "beta_null = 2\n",
    "\n",
    "tstat = (b1-beta_null)/stderr_b1\n",
    "\n",
    "print 'The t statistic value is %0.3f' %tstat"
   ]
  },
  {
   "cell_type": "markdown",
   "metadata": {},
   "source": [
    "Since $\\left|t_{stat}\\right|<\\left|t_{0.005,14}\\right| = 2.977$ we fail to reject $H_o$."
   ]
  },
  {
   "cell_type": "markdown",
   "metadata": {},
   "source": [
    "The p-value is given below:"
   ]
  },
  {
   "cell_type": "code",
   "execution_count": 17,
   "metadata": {
    "collapsed": false
   },
   "outputs": [
    {
     "name": "stdout",
     "output_type": "stream",
     "text": [
      "The p-value is 0.709\n"
     ]
    }
   ],
   "source": [
    "pval = 2*(1-t.cdf(tstat,n-2))\n",
    "\n",
    "print 'The p-value is %.3f' %pval"
   ]
  },
  {
   "cell_type": "markdown",
   "metadata": {
    "collapsed": false
   },
   "source": [
    "###Part c.\n",
    "\n",
    "Since the standard is being exceeded by 0.3 Brinell, that means $\\beta_1 - \\beta_1^{null} = 0.3$, then the actual parameter $\\beta_1 = 2.3$. To calculate the power of the test when $\\beta_1 = 2.3$, we need to calculate $1-P\\left(t_{stat} \\not\\in RR\\ |\\  \\beta_1 = 2.3 \\right)$, where $RR$ is the rejection region of the test from part b). This is the power of the test.\n",
    "\n",
    "From part b) we know the rejection region is:\n",
    "\n",
    "$$RR = \\left\\{ \\left|\\frac{b_1-\\beta_1^{null}}{SE\\left(b_1\\right)}\\right| > t_{crit} \\right\\}$$\n",
    "\n",
    "$$ = \\left\\{ b_1 > \\beta_1^{null}+t_{crit}SE\\left(b_1\\right) \\text{ or } b_1 < \\beta_1^{null}-t_{crit}SE\\left(b_1\\right) \\right\\}$$\n",
    "\n",
    "Therefore:\n",
    "\n",
    "$$P\\left(t_{stat} \\not\\in RR\\ |\\  \\beta_1 \\right) = P\\left( \\beta_1^{null}-t_{crit}SE\\left(b_1\\right) < b_1 < \\beta_1^{null}+t_{crit}SE\\left(b_1\\right) \\ \\big|\\  \\beta_1 \\right)$$\n",
    "\n",
    "and:\n",
    "\n",
    "$$Power(\\beta_1) = 1 - P\\left( \\beta_1^{null}-t_{crit}SE\\left(b_1\\right) < b_1 < \\beta_1^{null}+t_{crit}SE\\left(b_1\\right) \\ \\bigr|\\  \\beta_1 \\right)$$\n",
    "\n",
    "$$ = 1 - P\\left( \\frac{\\beta_1^{null}-\\beta_1-t_{crit}SE\\left(b_1\\right)}{\\sigma\\{b_1\\}} < t < \\frac{\\beta_1^{null}-\\beta_1+t_{crit}SE\\left(b_1\\right)}{\\sigma\\{b_1\\}} \\ \\biggr|\\  \\beta_1 \\right)$$\n",
    "\n",
    "Below we perform the power calculations for $\\alpha  = 0.01$ and $t_{crit}=t_{0.005,14}=2.9768427$:"
   ]
  },
  {
   "cell_type": "code",
   "execution_count": 18,
   "metadata": {
    "collapsed": false
   },
   "outputs": [
    {
     "name": "stdout",
     "output_type": "stream",
     "text": [
      "The power of the test is 0.619\n"
     ]
    }
   ],
   "source": [
    "beta1 = 2.3\n",
    "\n",
    "sigma_b1 = 0.1\n",
    "\n",
    "tleft = (beta_null - beta1 - tcrit * stderr_b1)/sigma_b1\n",
    "\n",
    "tright = (beta_null - beta1 + tcrit * stderr_b1)/sigma_b1\n",
    "\n",
    "pType_2err = t.cdf(tright,n-2) - t.cdf(tleft,n-2)\n",
    "\n",
    "power = 1 - pType_2err\n",
    "\n",
    "print 'The power of the test is %.3f' %power"
   ]
  },
  {
   "cell_type": "markdown",
   "metadata": {
    "collapsed": true
   },
   "source": [
    "Hence $Power(\\beta_1=2.3)=0.619$ for $\\alpha = 0.01$."
   ]
  },
  {
   "cell_type": "markdown",
   "metadata": {},
   "source": [
    "##Problem 2.16"
   ]
  },
  {
   "cell_type": "markdown",
   "metadata": {},
   "source": [
    "###Part a.\n",
    "\n",
    "First calculate $\\bar{X}$ and $S_{xx}$:"
   ]
  },
  {
   "cell_type": "code",
   "execution_count": 19,
   "metadata": {
    "collapsed": true
   },
   "outputs": [],
   "source": [
    "X = df.loc[:,'hours']\n",
    "\n",
    "Xh = DataFrame({'hours':30}, index = range(1))\n",
    "\n",
    "Xbar = np.mean(X)\n",
    "\n",
    "Sxx = np.sum((X - Xbar)**2)"
   ]
  },
  {
   "cell_type": "code",
   "execution_count": 20,
   "metadata": {
    "collapsed": false
   },
   "outputs": [
    {
     "name": "stdout",
     "output_type": "stream",
     "text": [
      "28.0\n"
     ]
    }
   ],
   "source": [
    "print Xbar"
   ]
  },
  {
   "cell_type": "code",
   "execution_count": 21,
   "metadata": {
    "collapsed": false
   },
   "outputs": [
    {
     "name": "stdout",
     "output_type": "stream",
     "text": [
      "1280.0\n"
     ]
    }
   ],
   "source": [
    "print Sxx"
   ]
  },
  {
   "cell_type": "markdown",
   "metadata": {},
   "source": [
    "$\\hat{Y}$ is given from the model:"
   ]
  },
  {
   "cell_type": "code",
   "execution_count": 22,
   "metadata": {
    "collapsed": false
   },
   "outputs": [
    {
     "name": "stdout",
     "output_type": "stream",
     "text": [
      "229.63125\n"
     ]
    }
   ],
   "source": [
    "yhat = model.predict(Xh)[0]\n",
    "\n",
    "print yhat"
   ]
  },
  {
   "cell_type": "markdown",
   "metadata": {},
   "source": [
    "Then we find the MSE of the model and calculate the standard error of $\\hat{Y}$:"
   ]
  },
  {
   "cell_type": "code",
   "execution_count": 23,
   "metadata": {
    "collapsed": false
   },
   "outputs": [
    {
     "name": "stdout",
     "output_type": "stream",
     "text": [
      "10.4589285714\n"
     ]
    }
   ],
   "source": [
    "MSE = model.mse_resid\n",
    "\n",
    "print MSE"
   ]
  },
  {
   "cell_type": "markdown",
   "metadata": {},
   "source": [
    "The standard error of $\\hat{Y}$ is approximated by:\n",
    "\n",
    "$$S\\left(\\hat{Y}\\right) = \\sqrt{MSE\\left[\\frac{1}{n} + \\frac{\\left(X_h - \\bar{X}\\right)^2}{S_{xx}}\\right]}$$\n",
    "\n",
    "which we calculate below:"
   ]
  },
  {
   "cell_type": "code",
   "execution_count": 24,
   "metadata": {
    "collapsed": false
   },
   "outputs": [
    {
     "name": "stdout",
     "output_type": "stream",
     "text": [
      "0.180787587477\n"
     ]
    }
   ],
   "source": [
    "var_yhat = MSE * ((1/ n) + ((Xh - Xbar)**2)/Sxx).loc[0,'hours']\n",
    "\n",
    "stderr_yhat = np.sqrt(var_yhat)\n",
    "\n",
    "print stderr_yhat"
   ]
  },
  {
   "cell_type": "markdown",
   "metadata": {
    "collapsed": false
   },
   "source": [
    "The $98\\%$ confidence interval is given by $\\hat{Y}\\pm t_{0.01,14}\\ \\ S\\left(\\hat{Y}\\right)$ and is calculated below:"
   ]
  },
  {
   "cell_type": "code",
   "execution_count": 25,
   "metadata": {
    "collapsed": false
   },
   "outputs": [
    {
     "name": "stdout",
     "output_type": "stream",
     "text": [
      "The 98 percent confidence interval is (229.16, 230.11)\n"
     ]
    }
   ],
   "source": [
    "tcrit = abs(t.ppf(0.01, n-2, loc=0, scale=1))\n",
    "\n",
    "CI_98 = [yhat-tcrit*stderr_yhat, yhat+tcrit*stderr_yhat]\n",
    "\n",
    "print 'The 98 percent confidence interval is (%0.2f, %0.2f)' %(CI_98[0],CI_98[1])"
   ]
  },
  {
   "cell_type": "markdown",
   "metadata": {
    "collapsed": false
   },
   "source": [
    "This interval tells us that the true mean hardness value in Brinell units after 30 hours have elapsed, will be contained in the interval $\\left(229.16,\\ 230.11\\right)$ $98\\%$ of the time."
   ]
  },
  {
   "cell_type": "markdown",
   "metadata": {},
   "source": [
    "###Part b.\n",
    "\n",
    "Here the calculations are similar to part a. above, except that for the prediction interval we use the following standard error:\n",
    "\n",
    "$$S\\left(predict\\right) = \\sqrt{MSE\\left[1+\\frac{1}{n} + \\frac{\\left(X_h - \\bar{X}\\right)^2}{S_{xx}}\\right]}$$\n",
    "\n",
    "which we calculate below:"
   ]
  },
  {
   "cell_type": "code",
   "execution_count": 26,
   "metadata": {
    "collapsed": false
   },
   "outputs": [
    {
     "name": "stdout",
     "output_type": "stream",
     "text": [
      "3.23907590575\n"
     ]
    }
   ],
   "source": [
    "var_pred = MSE * (1 + (1/ n) + ((Xh - Xbar)**2)/Sxx).loc[0,'hours']\n",
    "\n",
    "stderr_pred = np.sqrt(var_pred)\n",
    "\n",
    "print stderr_pred"
   ]
  },
  {
   "cell_type": "markdown",
   "metadata": {},
   "source": [
    "The $98\\%$ confidence interval is given by $\\hat{Y}_{predict}\\pm t_{0.01,14}\\ \\ S\\left(predict\\right)$ and is calculated below:"
   ]
  },
  {
   "cell_type": "code",
   "execution_count": 27,
   "metadata": {
    "collapsed": false
   },
   "outputs": [
    {
     "name": "stdout",
     "output_type": "stream",
     "text": [
      "The 98 percent prediction interval is (221.13, 238.13).\n"
     ]
    }
   ],
   "source": [
    "CI_98_pred = [yhat-tcrit*stderr_pred, yhat+tcrit*stderr_pred]\n",
    "\n",
    "print 'The 98 percent prediction interval is (%0.2f, %0.2f).' %(CI_98_pred[0],CI_98_pred[1])"
   ]
  },
  {
   "cell_type": "markdown",
   "metadata": {
    "collapsed": false
   },
   "source": [
    "This interval tells us that the true hardness value in Brinell units for a new molded test item after 30 hours have elapsed, will be contained in the interval $\\left(221.13,\\ 238.13\\right)$ $98\\%$ of the time. Notice that this is a much wider interval relative to the one in part a., reflecting the greater variability of a prediction which of course deviates from the mean response $\\hat{Y}$."
   ]
  },
  {
   "cell_type": "markdown",
   "metadata": {},
   "source": [
    "##Problem 2.26"
   ]
  },
  {
   "cell_type": "markdown",
   "metadata": {},
   "source": [
    "###Part a.\n",
    "\n",
    "With a few comands we can set up the ANOVA table shown below:"
   ]
  },
  {
   "cell_type": "code",
   "execution_count": 28,
   "metadata": {
    "collapsed": false
   },
   "outputs": [
    {
     "data": {
      "text/html": [
       "<div>\n",
       "<table border=\"1\" class=\"dataframe\">\n",
       "  <thead>\n",
       "    <tr style=\"text-align: right;\">\n",
       "      <th></th>\n",
       "      <th>sum_sq</th>\n",
       "      <th>df</th>\n",
       "      <th>mean_sq</th>\n",
       "      <th>F</th>\n",
       "      <th>PR(&gt;F)</th>\n",
       "    </tr>\n",
       "  </thead>\n",
       "  <tbody>\n",
       "    <tr>\n",
       "      <th>Model</th>\n",
       "      <td>5297.5125</td>\n",
       "      <td>1</td>\n",
       "      <td>5297.512500</td>\n",
       "      <td>506.506232</td>\n",
       "      <td>2.158814e-12</td>\n",
       "    </tr>\n",
       "    <tr>\n",
       "      <th>Residuals</th>\n",
       "      <td>146.4250</td>\n",
       "      <td>14</td>\n",
       "      <td>10.458929</td>\n",
       "      <td>NaN</td>\n",
       "      <td>NaN</td>\n",
       "    </tr>\n",
       "    <tr>\n",
       "      <th>Total</th>\n",
       "      <td>5443.9375</td>\n",
       "      <td>15</td>\n",
       "      <td>NaN</td>\n",
       "      <td>NaN</td>\n",
       "      <td>NaN</td>\n",
       "    </tr>\n",
       "  </tbody>\n",
       "</table>\n",
       "</div>"
      ],
      "text/plain": [
       "              sum_sq  df      mean_sq           F        PR(>F)\n",
       "Model      5297.5125   1  5297.512500  506.506232  2.158814e-12\n",
       "Residuals   146.4250  14    10.458929         NaN           NaN\n",
       "Total      5443.9375  15          NaN         NaN           NaN"
      ]
     },
     "execution_count": 28,
     "metadata": {},
     "output_type": "execute_result"
    }
   ],
   "source": [
    "import statsmodels.api as sms\n",
    "\n",
    "table = sms.stats.anova_lm(model, typ=2)\n",
    "\n",
    "table.insert(2, 'mean_sq', table['sum_sq']/table['df'])\n",
    "\n",
    "table = table.set_value('total', ['sum_sq', 'df'], [np.sum(table['sum_sq']),np.sum(table['df'])])\n",
    "\n",
    "table.index = ['Model', 'Residuals','Total']\n",
    "\n",
    "table"
   ]
  },
  {
   "cell_type": "markdown",
   "metadata": {},
   "source": [
    "###Part b.\n",
    "\n",
    "We can conduct a $F$ test of the following null and alternative hypothesis:\n",
    "\n",
    "$H_0:\\ \\beta_1 = 0$\n",
    "\n",
    "$H_a:\\ \\beta_1 \\neq 0$\n",
    "\n",
    "The decision rule is:\n",
    "\n",
    "If $F \\leq F_{(0.99,\\ 14)}$, then we fail to reject $H_0$.\n",
    "\n",
    "If $F > F_{(0.99,\\ 14)}$, then we reject $H_0$."
   ]
  },
  {
   "cell_type": "code",
   "execution_count": 29,
   "metadata": {
    "collapsed": false
   },
   "outputs": [
    {
     "name": "stdout",
     "output_type": "stream",
     "text": [
      "The F critical value is 8.86\n"
     ]
    }
   ],
   "source": [
    "fcrit = f.ppf(0.99, 1, n-2)\n",
    "\n",
    "print 'The F critical value is %0.2f' %fcrit"
   ]
  },
  {
   "cell_type": "markdown",
   "metadata": {},
   "source": [
    "From the ANOVA table we have $F = 506.51$. Since $F \\gg F_{(0.99,\\ 14)}$, we reject $H_0$ and conclude that there exist a linear association between plastic hardness and the elapsed time."
   ]
  }
 ],
 "metadata": {
  "kernelspec": {
   "display_name": "Python 2",
   "language": "python",
   "name": "python2"
  },
  "language_info": {
   "codemirror_mode": {
    "name": "ipython",
    "version": 2
   },
   "file_extension": ".py",
   "mimetype": "text/x-python",
   "name": "python",
   "nbconvert_exporter": "python",
   "pygments_lexer": "ipython2",
   "version": "2.7.10"
  }
 },
 "nbformat": 4,
 "nbformat_minor": 0
}
